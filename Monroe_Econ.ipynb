{
 "cells": [
  {
   "cell_type": "markdown",
   "metadata": {},
   "source": [
    "# Monroe County Housing Affordability"
   ]
  },
  {
   "cell_type": "markdown",
   "metadata": {},
   "source": [
    "## 1.  Load housing affordability data from HUD Location Affordability dataset."
   ]
  },
  {
   "cell_type": "markdown",
   "metadata": {},
   "source": [
    "In previous housing studies, one of the primary sources for data regarding the cost of housing and the economic situations for individuals in the United States has been the American Community Survey (ACS) which is part of the US Census and is one of the most rigorous and broad based attempt to capture this type of information and make it available to the general public. In this analysis we will examine what data is available pertinent to the question of affordable housing and try to understand what this can tell us about the affordability question for the city of Bloomington and greater Monroe county."
   ]
  },
  {
   "cell_type": "markdown",
   "metadata": {},
   "source": [
    "**About the Data**\n",
    "\t\n",
    "The ACS is updated regularly and the data that was used in this analysis was from 2021. ACS data is aggregated either in 1-year estimates or 5-year estimates. This means that the data used to populate the tables is an average over either a 1-year period or a 5-year period. For this project we felt that going with the 5-year estimates would give a better overall understanding of the housing situation, but in the future, it may be useful to update the data with 1 year estimates as they tend to be more current and would be reflective of potential changes as the city implements policies and seeks to measure change. The dataset that we started with was actually hosted and compiled by the Department of Housing and Urban Development which utilized ACS data to build the dataset. More info on HUD Housing Affordability Index can be found here: https://hudgis-hud.opendata.arcgis.com/datasets/HUD::location-affordability-index-v-3/about.\n"
   ]
  },
  {
   "cell_type": "code",
   "execution_count": 1,
   "metadata": {},
   "outputs": [],
   "source": [
    "# Import modules\n",
    "import matplotlib.pyplot as plt\n",
    "import pandas as pd\n",
    "import geopandas as gpd\n",
    "from census import Census\n",
    "from us import states\n",
    "import os\n",
    "import warnings\n",
    "warnings.filterwarnings('ignore')"
   ]
  },
  {
   "cell_type": "code",
   "execution_count": 2,
   "metadata": {},
   "outputs": [
    {
     "name": "stdout",
     "output_type": "stream",
     "text": [
      "<class 'geopandas.geodataframe.GeoDataFrame'>\n"
     ]
    }
   ],
   "source": [
    "# Dataset downloadable from (filtered for IN only) : https://hudgis-hud.opendata.arcgis.com/datasets/location-affordability-index-v-3/explore?location=14.179009%2C0.315564%2C2.33\n",
    "# for data and methodology info: https://files.hudexchange.info/resources/documents/Location-Affordability-Index-Version-3-Data-and-Methodology.pdf\n",
    "\n",
    "data = gpd.read_file(\"Location_Affordability_Index_v.3.geojson\")  \n",
    "data.crs\n",
    "print(type(data))\n"
   ]
  },
  {
   "cell_type": "code",
   "execution_count": 3,
   "metadata": {},
   "outputs": [
    {
     "name": "stdout",
     "output_type": "stream",
     "text": [
      "(1508, 445)\n"
     ]
    }
   ],
   "source": [
    "# del subdata\n",
    "\n",
    "# Indiana state code: 18, Monroe count: 105\n",
    "subdata = data.loc[data['STATE']== '18']\n",
    "print(subdata.shape)"
   ]
  },
  {
   "cell_type": "markdown",
   "metadata": {},
   "source": [
    "Below we select the columns that are interesting for our purposes. For more information on the columns see the data dictionary below."
   ]
  },
  {
   "cell_type": "code",
   "execution_count": 4,
   "metadata": {},
   "outputs": [],
   "source": [
    "# for FIPS code info: https://en.wikipedia.org/wiki/Federal_Information_Processing_Standard_state_code\n",
    "# Indiana state code: 18, Monroe county: 105\n",
    "def state_data(state_fips):\n",
    "    subdata = data.loc[data['STATE']== state_fips]\n",
    "    subdata = subdata[['OBJECTID','GEOID','STATE','COUNTY','TRACT','owner_occupied_hu' , 'renter_occupied_hu', 'pct_renter_occupied_hu', 'median_smoc_mortgage', 'median_gross_rent','median_hh_income','area_median_hh_income','job_density_simple','job_gravity','SHAPE_Length','SHAPE_Area','geometry']]\n",
    "    return subdata\n",
    "\n",
    "# subdata = state_data('18')\n",
    "\n",
    "#create county df for columns we want\n",
    "def county_data(county_fips):\n",
    "    county_data = data.loc[data['COUNTY']== county_fips]\n",
    "    county_data = county_data[['OBJECTID','GEOID','STATE','COUNTY','TRACT','owner_occupied_hu' , 'renter_occupied_hu', 'pct_renter_occupied_hu', 'median_smoc_mortgage', 'median_gross_rent','median_hh_income','area_median_hh_income','job_density_simple','job_gravity','SHAPE_Length','SHAPE_Area','geometry']]\n",
    "    return county_data\n",
    "\n",
    "monroe_df = county_data('105')"
   ]
  },
  {
   "cell_type": "markdown",
   "metadata": {},
   "source": [
    "Below we create a new column that will subtract the cost of housing estimate for owners and renters from the average income per month in order to calculate an average \"Disposable Income\" per census tract."
   ]
  },
  {
   "cell_type": "code",
   "execution_count": 5,
   "metadata": {},
   "outputs": [],
   "source": [
    "# create a new column for remaining income owners (ri_own) and renters (ri_rent). First creating a variable for median hh income per month.\n",
    "def ri_df(df_input):\n",
    "    df_input['med_inc_month'] = (df_input['median_hh_income']/12).round(2)\n",
    "    df_input['ri_own'] = df_input['med_inc_month'] - df_input['median_smoc_mortgage']\n",
    "    df_input['ri_rent'] = df_input['med_inc_month'] - df_input['median_gross_rent']\n",
    "    df_input['disp_ave']= (df_input['ri_own'] + df_input['ri_rent'])/2\n",
    "    df_input['disp_ave']= df_input['disp_ave'].fillna(df_input['ri_rent'])\n",
    "\n",
    "    return df_input"
   ]
  },
  {
   "cell_type": "code",
   "execution_count": 6,
   "metadata": {},
   "outputs": [],
   "source": [
    "monroe_df = ri_df(monroe_df)"
   ]
  },
  {
   "cell_type": "code",
   "execution_count": 7,
   "metadata": {},
   "outputs": [
    {
     "data": {
      "text/html": [
       "<div>\n",
       "<style scoped>\n",
       "    .dataframe tbody tr th:only-of-type {\n",
       "        vertical-align: middle;\n",
       "    }\n",
       "\n",
       "    .dataframe tbody tr th {\n",
       "        vertical-align: top;\n",
       "    }\n",
       "\n",
       "    .dataframe thead th {\n",
       "        text-align: right;\n",
       "    }\n",
       "</style>\n",
       "<table border=\"1\" class=\"dataframe\">\n",
       "  <thead>\n",
       "    <tr style=\"text-align: right;\">\n",
       "      <th></th>\n",
       "      <th>OBJECTID</th>\n",
       "      <th>GEOID</th>\n",
       "      <th>STATE</th>\n",
       "      <th>COUNTY</th>\n",
       "      <th>TRACT</th>\n",
       "      <th>owner_occupied_hu</th>\n",
       "      <th>renter_occupied_hu</th>\n",
       "      <th>pct_renter_occupied_hu</th>\n",
       "      <th>median_smoc_mortgage</th>\n",
       "      <th>median_gross_rent</th>\n",
       "      <th>...</th>\n",
       "      <th>area_median_hh_income</th>\n",
       "      <th>job_density_simple</th>\n",
       "      <th>job_gravity</th>\n",
       "      <th>SHAPE_Length</th>\n",
       "      <th>SHAPE_Area</th>\n",
       "      <th>geometry</th>\n",
       "      <th>med_inc_month</th>\n",
       "      <th>ri_own</th>\n",
       "      <th>ri_rent</th>\n",
       "      <th>disp_ave</th>\n",
       "    </tr>\n",
       "  </thead>\n",
       "  <tbody>\n",
       "    <tr>\n",
       "      <th>93</th>\n",
       "      <td>23590</td>\n",
       "      <td>18105000602</td>\n",
       "      <td>18</td>\n",
       "      <td>105</td>\n",
       "      <td>000602</td>\n",
       "      <td>314.0</td>\n",
       "      <td>1031.0</td>\n",
       "      <td>76.654275</td>\n",
       "      <td>855.0</td>\n",
       "      <td>769.0</td>\n",
       "      <td>...</td>\n",
       "      <td>43828.0</td>\n",
       "      <td>2.042272</td>\n",
       "      <td>25377.459880</td>\n",
       "      <td>0.124073</td>\n",
       "      <td>0.000286</td>\n",
       "      <td>MULTIPOLYGON (((-86.53451 39.18631, -86.53470 ...</td>\n",
       "      <td>1615.67</td>\n",
       "      <td>760.67</td>\n",
       "      <td>846.67</td>\n",
       "      <td>803.67</td>\n",
       "    </tr>\n",
       "    <tr>\n",
       "      <th>478</th>\n",
       "      <td>24382</td>\n",
       "      <td>18105000100</td>\n",
       "      <td>18</td>\n",
       "      <td>105</td>\n",
       "      <td>000100</td>\n",
       "      <td>100.0</td>\n",
       "      <td>2137.0</td>\n",
       "      <td>95.529727</td>\n",
       "      <td>2420.0</td>\n",
       "      <td>1021.0</td>\n",
       "      <td>...</td>\n",
       "      <td>43828.0</td>\n",
       "      <td>68.793004</td>\n",
       "      <td>37444.922870</td>\n",
       "      <td>0.047203</td>\n",
       "      <td>0.000130</td>\n",
       "      <td>MULTIPOLYGON (((-86.52696 39.16850, -86.52690 ...</td>\n",
       "      <td>945.92</td>\n",
       "      <td>-1474.08</td>\n",
       "      <td>-75.08</td>\n",
       "      <td>-774.58</td>\n",
       "    </tr>\n",
       "    <tr>\n",
       "      <th>479</th>\n",
       "      <td>24383</td>\n",
       "      <td>18105000201</td>\n",
       "      <td>18</td>\n",
       "      <td>105</td>\n",
       "      <td>000201</td>\n",
       "      <td>0.0</td>\n",
       "      <td>165.0</td>\n",
       "      <td>100.000000</td>\n",
       "      <td>NaN</td>\n",
       "      <td>684.0</td>\n",
       "      <td>...</td>\n",
       "      <td>43828.0</td>\n",
       "      <td>1.349722</td>\n",
       "      <td>24383.906770</td>\n",
       "      <td>0.072559</td>\n",
       "      <td>0.000229</td>\n",
       "      <td>MULTIPOLYGON (((-86.50224 39.17155, -86.50175 ...</td>\n",
       "      <td>1495.50</td>\n",
       "      <td>NaN</td>\n",
       "      <td>811.50</td>\n",
       "      <td>811.50</td>\n",
       "    </tr>\n",
       "    <tr>\n",
       "      <th>480</th>\n",
       "      <td>24384</td>\n",
       "      <td>18105000901</td>\n",
       "      <td>18</td>\n",
       "      <td>105</td>\n",
       "      <td>000901</td>\n",
       "      <td>444.0</td>\n",
       "      <td>663.0</td>\n",
       "      <td>59.891599</td>\n",
       "      <td>1327.0</td>\n",
       "      <td>946.0</td>\n",
       "      <td>...</td>\n",
       "      <td>43828.0</td>\n",
       "      <td>1.693113</td>\n",
       "      <td>19795.311140</td>\n",
       "      <td>0.061176</td>\n",
       "      <td>0.000204</td>\n",
       "      <td>MULTIPOLYGON (((-86.50175 39.17066, -86.49830 ...</td>\n",
       "      <td>3338.75</td>\n",
       "      <td>2011.75</td>\n",
       "      <td>2392.75</td>\n",
       "      <td>2202.25</td>\n",
       "    </tr>\n",
       "    <tr>\n",
       "      <th>482</th>\n",
       "      <td>24386</td>\n",
       "      <td>18105000502</td>\n",
       "      <td>18</td>\n",
       "      <td>105</td>\n",
       "      <td>000502</td>\n",
       "      <td>996.0</td>\n",
       "      <td>411.0</td>\n",
       "      <td>29.211087</td>\n",
       "      <td>866.0</td>\n",
       "      <td>762.0</td>\n",
       "      <td>...</td>\n",
       "      <td>43828.0</td>\n",
       "      <td>0.130767</td>\n",
       "      <td>6860.450789</td>\n",
       "      <td>0.105749</td>\n",
       "      <td>0.000501</td>\n",
       "      <td>MULTIPOLYGON (((-86.57318 39.13679, -86.57307 ...</td>\n",
       "      <td>3693.58</td>\n",
       "      <td>2827.58</td>\n",
       "      <td>2931.58</td>\n",
       "      <td>2879.58</td>\n",
       "    </tr>\n",
       "  </tbody>\n",
       "</table>\n",
       "<p>5 rows × 21 columns</p>\n",
       "</div>"
      ],
      "text/plain": [
       "     OBJECTID        GEOID STATE COUNTY   TRACT  owner_occupied_hu  \\\n",
       "93      23590  18105000602    18    105  000602              314.0   \n",
       "478     24382  18105000100    18    105  000100              100.0   \n",
       "479     24383  18105000201    18    105  000201                0.0   \n",
       "480     24384  18105000901    18    105  000901              444.0   \n",
       "482     24386  18105000502    18    105  000502              996.0   \n",
       "\n",
       "     renter_occupied_hu  pct_renter_occupied_hu  median_smoc_mortgage  \\\n",
       "93               1031.0               76.654275                 855.0   \n",
       "478              2137.0               95.529727                2420.0   \n",
       "479               165.0              100.000000                   NaN   \n",
       "480               663.0               59.891599                1327.0   \n",
       "482               411.0               29.211087                 866.0   \n",
       "\n",
       "     median_gross_rent  ...  area_median_hh_income  job_density_simple  \\\n",
       "93               769.0  ...                43828.0            2.042272   \n",
       "478             1021.0  ...                43828.0           68.793004   \n",
       "479              684.0  ...                43828.0            1.349722   \n",
       "480              946.0  ...                43828.0            1.693113   \n",
       "482              762.0  ...                43828.0            0.130767   \n",
       "\n",
       "      job_gravity  SHAPE_Length  SHAPE_Area  \\\n",
       "93   25377.459880      0.124073    0.000286   \n",
       "478  37444.922870      0.047203    0.000130   \n",
       "479  24383.906770      0.072559    0.000229   \n",
       "480  19795.311140      0.061176    0.000204   \n",
       "482   6860.450789      0.105749    0.000501   \n",
       "\n",
       "                                              geometry med_inc_month   ri_own  \\\n",
       "93   MULTIPOLYGON (((-86.53451 39.18631, -86.53470 ...       1615.67   760.67   \n",
       "478  MULTIPOLYGON (((-86.52696 39.16850, -86.52690 ...        945.92 -1474.08   \n",
       "479  MULTIPOLYGON (((-86.50224 39.17155, -86.50175 ...       1495.50      NaN   \n",
       "480  MULTIPOLYGON (((-86.50175 39.17066, -86.49830 ...       3338.75  2011.75   \n",
       "482  MULTIPOLYGON (((-86.57318 39.13679, -86.57307 ...       3693.58  2827.58   \n",
       "\n",
       "     ri_rent  disp_ave  \n",
       "93    846.67    803.67  \n",
       "478   -75.08   -774.58  \n",
       "479   811.50    811.50  \n",
       "480  2392.75   2202.25  \n",
       "482  2931.58   2879.58  \n",
       "\n",
       "[5 rows x 21 columns]"
      ]
     },
     "execution_count": 7,
     "metadata": {},
     "output_type": "execute_result"
    }
   ],
   "source": [
    "# add geoid to df\n",
    "monroe_df[\"GEOID\"] = monroe_df[\"STATE\"] + monroe_df[\"COUNTY\"] + monroe_df[\"TRACT\"]\n",
    "monroe_df.head()"
   ]
  },
  {
   "cell_type": "code",
   "execution_count": 8,
   "metadata": {},
   "outputs": [],
   "source": [
    "#remove unneeded columns\n",
    "monroe_df = monroe_df.drop(columns = [\"OBJECTID\", \"STATE\", \"COUNTY\",\"TRACT\"])"
   ]
  },
  {
   "cell_type": "code",
   "execution_count": 9,
   "metadata": {},
   "outputs": [
    {
     "data": {
      "text/plain": [
       "(31, 17)"
      ]
     },
     "execution_count": 9,
     "metadata": {},
     "output_type": "execute_result"
    }
   ],
   "source": [
    "monroe_df.shape"
   ]
  },
  {
   "cell_type": "markdown",
   "metadata": {},
   "source": [
    "## 2. Pull Poverty Tracking data from American Community Survey (US Census)"
   ]
  },
  {
   "cell_type": "markdown",
   "metadata": {},
   "source": [
    "Our second data source was directly from the ACS 5 year estimate and included data on poverty and population levels in Monroe County. The overall dataset we compiled included information about basic costs of living, housing costs, income, poverty level and population count. The data was aggregated by census tract so this offers a degree of granularity allowing us to focus on relatively small geographic areas but also could be aggregated by County which allows us to focus on Monroe County as a whole. The Census tracts do not necessarily translate to recognizable neighborhoods or parts of town that are easily recognizable so we will bring in mapping in the analysis to help identify geographic areas of focus. The goal of the analysis is to illuminate the parts of Monroe County where the largest number of people is on average the most challenged to find affordable housing based on this data."
   ]
  },
  {
   "cell_type": "markdown",
   "metadata": {},
   "source": [
    "For our data source we will us the pythong library \"Census\" which is an opensource implimentation of the US Census API which simplifies the process on creating API data requests. We need a Census API token which can be obtained at no charge from the Cencus website."
   ]
  },
  {
   "cell_type": "code",
   "execution_count": 10,
   "metadata": {},
   "outputs": [],
   "source": [
    "# Use census api token\n",
    "c = Census(\"8526db1553e33e1c7296bf58816d7179f90e7574\")"
   ]
  },
  {
   "cell_type": "code",
   "execution_count": 11,
   "metadata": {},
   "outputs": [],
   "source": [
    "# Obtain Census variables from the 2021 ACS at the tract level for the State of Indiana (FIPS code: 18) \n",
    "# #more info on FIPS codes: https://en.wikipedia.org/wiki/Federal_Information_Processing_Standard_state_code\n",
    "# C17002_001E: count of ratio of income to poverty in the past 12 months (total)\n",
    "# C17002_002E: count of ratio of income to poverty in the past 12 months (< 0.50)\n",
    "# C17002_003E: count of ratio of income to poverty in the past 12 months (0.50 - 0.99)\n",
    "# B01003_001E: total population\n",
    "# Sources: https://api.census.gov/data/2019/acs/acs5/variables.html; https://pypi.org/project/census/\n",
    "IN_census = c.acs5.state_county_tract(fields = ('NAME', 'C17002_001E', 'C17002_002E', 'C17002_003E', 'B01003_001E'),\n",
    "                                      state_fips = states.IN.fips,\n",
    "                                      county_fips = \"*\",\n",
    "                                      tract = \"*\",\n",
    "                                      year = 2021)"
   ]
  },
  {
   "cell_type": "code",
   "execution_count": 12,
   "metadata": {},
   "outputs": [
    {
     "name": "stdout",
     "output_type": "stream",
     "text": [
      "                                      NAME  C17002_001E  C17002_002E  \\\n",
      "0  Census Tract 301, Adams County, Indiana       4826.0        117.0   \n",
      "1  Census Tract 302, Adams County, Indiana       4438.0        379.0   \n",
      "\n",
      "   C17002_003E  B01003_001E state county   tract  \n",
      "0         85.0       4826.0    18    001  030100  \n",
      "1        585.0       4652.0    18    001  030200  \n",
      "Shape:  (1696, 8)\n"
     ]
    }
   ],
   "source": [
    "# Create a dataframe from the census data\n",
    "IN_df = pd.DataFrame(IN_census)\n",
    "\n",
    "# Show the dataframe\n",
    "print(IN_df.head(2))\n",
    "print('Shape: ', IN_df.shape)"
   ]
  },
  {
   "cell_type": "markdown",
   "metadata": {},
   "source": [
    "Below we will combine the FIPS codes for State, County and Tract to create a uniue ID for each tract as we did above."
   ]
  },
  {
   "cell_type": "code",
   "execution_count": 13,
   "metadata": {},
   "outputs": [
    {
     "data": {
      "text/html": [
       "<div>\n",
       "<style scoped>\n",
       "    .dataframe tbody tr th:only-of-type {\n",
       "        vertical-align: middle;\n",
       "    }\n",
       "\n",
       "    .dataframe tbody tr th {\n",
       "        vertical-align: top;\n",
       "    }\n",
       "\n",
       "    .dataframe thead th {\n",
       "        text-align: right;\n",
       "    }\n",
       "</style>\n",
       "<table border=\"1\" class=\"dataframe\">\n",
       "  <thead>\n",
       "    <tr style=\"text-align: right;\">\n",
       "      <th></th>\n",
       "      <th>NAME</th>\n",
       "      <th>C17002_001E</th>\n",
       "      <th>C17002_002E</th>\n",
       "      <th>C17002_003E</th>\n",
       "      <th>B01003_001E</th>\n",
       "      <th>state</th>\n",
       "      <th>county</th>\n",
       "      <th>tract</th>\n",
       "      <th>GEOID</th>\n",
       "    </tr>\n",
       "  </thead>\n",
       "  <tbody>\n",
       "    <tr>\n",
       "      <th>0</th>\n",
       "      <td>Census Tract 301, Adams County, Indiana</td>\n",
       "      <td>4826.0</td>\n",
       "      <td>117.0</td>\n",
       "      <td>85.0</td>\n",
       "      <td>4826.0</td>\n",
       "      <td>18</td>\n",
       "      <td>001</td>\n",
       "      <td>030100</td>\n",
       "      <td>18001030100</td>\n",
       "    </tr>\n",
       "    <tr>\n",
       "      <th>1</th>\n",
       "      <td>Census Tract 302, Adams County, Indiana</td>\n",
       "      <td>4438.0</td>\n",
       "      <td>379.0</td>\n",
       "      <td>585.0</td>\n",
       "      <td>4652.0</td>\n",
       "      <td>18</td>\n",
       "      <td>001</td>\n",
       "      <td>030200</td>\n",
       "      <td>18001030200</td>\n",
       "    </tr>\n",
       "    <tr>\n",
       "      <th>2</th>\n",
       "      <td>Census Tract 303, Adams County, Indiana</td>\n",
       "      <td>5117.0</td>\n",
       "      <td>161.0</td>\n",
       "      <td>481.0</td>\n",
       "      <td>5408.0</td>\n",
       "      <td>18</td>\n",
       "      <td>001</td>\n",
       "      <td>030300</td>\n",
       "      <td>18001030300</td>\n",
       "    </tr>\n",
       "    <tr>\n",
       "      <th>3</th>\n",
       "      <td>Census Tract 304, Adams County, Indiana</td>\n",
       "      <td>4063.0</td>\n",
       "      <td>61.0</td>\n",
       "      <td>295.0</td>\n",
       "      <td>4063.0</td>\n",
       "      <td>18</td>\n",
       "      <td>001</td>\n",
       "      <td>030400</td>\n",
       "      <td>18001030400</td>\n",
       "    </tr>\n",
       "    <tr>\n",
       "      <th>4</th>\n",
       "      <td>Census Tract 305, Adams County, Indiana</td>\n",
       "      <td>6783.0</td>\n",
       "      <td>311.0</td>\n",
       "      <td>810.0</td>\n",
       "      <td>6789.0</td>\n",
       "      <td>18</td>\n",
       "      <td>001</td>\n",
       "      <td>030500</td>\n",
       "      <td>18001030500</td>\n",
       "    </tr>\n",
       "  </tbody>\n",
       "</table>\n",
       "</div>"
      ],
      "text/plain": [
       "                                      NAME  C17002_001E  C17002_002E  \\\n",
       "0  Census Tract 301, Adams County, Indiana       4826.0        117.0   \n",
       "1  Census Tract 302, Adams County, Indiana       4438.0        379.0   \n",
       "2  Census Tract 303, Adams County, Indiana       5117.0        161.0   \n",
       "3  Census Tract 304, Adams County, Indiana       4063.0         61.0   \n",
       "4  Census Tract 305, Adams County, Indiana       6783.0        311.0   \n",
       "\n",
       "   C17002_003E  B01003_001E state county   tract        GEOID  \n",
       "0         85.0       4826.0    18    001  030100  18001030100  \n",
       "1        585.0       4652.0    18    001  030200  18001030200  \n",
       "2        481.0       5408.0    18    001  030300  18001030300  \n",
       "3        295.0       4063.0    18    001  030400  18001030400  \n",
       "4        810.0       6789.0    18    001  030500  18001030500  "
      ]
     },
     "execution_count": 13,
     "metadata": {},
     "output_type": "execute_result"
    }
   ],
   "source": [
    "# Combine state, county, and tract columns together to create a new string and assign to new column\n",
    "IN_df[\"GEOID\"] = IN_df[\"state\"] + IN_df[\"county\"] + IN_df[\"tract\"]\n",
    "IN_df.head()"
   ]
  },
  {
   "cell_type": "markdown",
   "metadata": {},
   "source": [
    "We can estimate the poverty rate by dividing the sum of C17002_002E (ratio of income to poverty in the past 12 months, < 0.50) and C17002_003E (ratio of income to poverty in the past 12 months, 0.50 - 0.99) by B01003_001E (total population).\n",
    "\n",
    "source:  https://pygis.io/docs/d_access_census.html"
   ]
  },
  {
   "cell_type": "code",
   "execution_count": 14,
   "metadata": {},
   "outputs": [
    {
     "data": {
      "text/html": [
       "<div>\n",
       "<style scoped>\n",
       "    .dataframe tbody tr th:only-of-type {\n",
       "        vertical-align: middle;\n",
       "    }\n",
       "\n",
       "    .dataframe tbody tr th {\n",
       "        vertical-align: top;\n",
       "    }\n",
       "\n",
       "    .dataframe thead th {\n",
       "        text-align: right;\n",
       "    }\n",
       "</style>\n",
       "<table border=\"1\" class=\"dataframe\">\n",
       "  <thead>\n",
       "    <tr style=\"text-align: right;\">\n",
       "      <th></th>\n",
       "      <th>NAME</th>\n",
       "      <th>C17002_001E</th>\n",
       "      <th>C17002_002E</th>\n",
       "      <th>C17002_003E</th>\n",
       "      <th>B01003_001E</th>\n",
       "      <th>state</th>\n",
       "      <th>county</th>\n",
       "      <th>tract</th>\n",
       "      <th>GEOID</th>\n",
       "      <th>Poverty_Rate</th>\n",
       "    </tr>\n",
       "  </thead>\n",
       "  <tbody>\n",
       "    <tr>\n",
       "      <th>0</th>\n",
       "      <td>Census Tract 301, Adams County, Indiana</td>\n",
       "      <td>4826.0</td>\n",
       "      <td>117.0</td>\n",
       "      <td>85.0</td>\n",
       "      <td>4826.0</td>\n",
       "      <td>18</td>\n",
       "      <td>001</td>\n",
       "      <td>030100</td>\n",
       "      <td>18001030100</td>\n",
       "      <td>4.185661</td>\n",
       "    </tr>\n",
       "    <tr>\n",
       "      <th>1</th>\n",
       "      <td>Census Tract 302, Adams County, Indiana</td>\n",
       "      <td>4438.0</td>\n",
       "      <td>379.0</td>\n",
       "      <td>585.0</td>\n",
       "      <td>4652.0</td>\n",
       "      <td>18</td>\n",
       "      <td>001</td>\n",
       "      <td>030200</td>\n",
       "      <td>18001030200</td>\n",
       "      <td>20.722270</td>\n",
       "    </tr>\n",
       "  </tbody>\n",
       "</table>\n",
       "</div>"
      ],
      "text/plain": [
       "                                      NAME  C17002_001E  C17002_002E  \\\n",
       "0  Census Tract 301, Adams County, Indiana       4826.0        117.0   \n",
       "1  Census Tract 302, Adams County, Indiana       4438.0        379.0   \n",
       "\n",
       "   C17002_003E  B01003_001E state county   tract        GEOID  Poverty_Rate  \n",
       "0         85.0       4826.0    18    001  030100  18001030100      4.185661  \n",
       "1        585.0       4652.0    18    001  030200  18001030200     20.722270  "
      ]
     },
     "execution_count": 14,
     "metadata": {},
     "output_type": "execute_result"
    }
   ],
   "source": [
    "# Get poverty rate and store values in new column\n",
    "IN_df[\"Poverty_Rate\"] = (IN_df[\"C17002_002E\"] + IN_df[\"C17002_003E\"]) / IN_df[\"B01003_001E\"] * 100\n",
    "\n",
    "IN_df.head(2)"
   ]
  },
  {
   "cell_type": "code",
   "execution_count": 15,
   "metadata": {},
   "outputs": [
    {
     "name": "stdout",
     "output_type": "stream",
     "text": [
      "(1696, 10)\n",
      "(33, 10)\n"
     ]
    }
   ],
   "source": [
    "#subset data for Monroe county\n",
    "mon_acs_df = IN_df.loc[IN_df['county']=='105']\n",
    "print(IN_df.shape)\n",
    "print(mon_acs_df.shape)"
   ]
  },
  {
   "cell_type": "markdown",
   "metadata": {},
   "source": [
    "## 3. Merge the Datasets"
   ]
  },
  {
   "cell_type": "code",
   "execution_count": 16,
   "metadata": {},
   "outputs": [
    {
     "name": "stdout",
     "output_type": "stream",
     "text": [
      "Shape:  (31, 26)\n"
     ]
    },
    {
     "data": {
      "text/html": [
       "<div>\n",
       "<style scoped>\n",
       "    .dataframe tbody tr th:only-of-type {\n",
       "        vertical-align: middle;\n",
       "    }\n",
       "\n",
       "    .dataframe tbody tr th {\n",
       "        vertical-align: top;\n",
       "    }\n",
       "\n",
       "    .dataframe thead th {\n",
       "        text-align: right;\n",
       "    }\n",
       "</style>\n",
       "<table border=\"1\" class=\"dataframe\">\n",
       "  <thead>\n",
       "    <tr style=\"text-align: right;\">\n",
       "      <th></th>\n",
       "      <th>GEOID</th>\n",
       "      <th>owner_occupied_hu</th>\n",
       "      <th>renter_occupied_hu</th>\n",
       "      <th>pct_renter_occupied_hu</th>\n",
       "      <th>median_smoc_mortgage</th>\n",
       "      <th>median_gross_rent</th>\n",
       "      <th>median_hh_income</th>\n",
       "      <th>area_median_hh_income</th>\n",
       "      <th>job_density_simple</th>\n",
       "      <th>job_gravity</th>\n",
       "      <th>...</th>\n",
       "      <th>disp_ave</th>\n",
       "      <th>NAME</th>\n",
       "      <th>C17002_001E</th>\n",
       "      <th>C17002_002E</th>\n",
       "      <th>C17002_003E</th>\n",
       "      <th>B01003_001E</th>\n",
       "      <th>state</th>\n",
       "      <th>county</th>\n",
       "      <th>tract</th>\n",
       "      <th>Poverty_Rate</th>\n",
       "    </tr>\n",
       "  </thead>\n",
       "  <tbody>\n",
       "    <tr>\n",
       "      <th>0</th>\n",
       "      <td>18105000602</td>\n",
       "      <td>314.0</td>\n",
       "      <td>1031.0</td>\n",
       "      <td>76.654275</td>\n",
       "      <td>855.0</td>\n",
       "      <td>769.0</td>\n",
       "      <td>19388.0</td>\n",
       "      <td>43828.0</td>\n",
       "      <td>2.042272</td>\n",
       "      <td>25377.45988</td>\n",
       "      <td>...</td>\n",
       "      <td>803.67</td>\n",
       "      <td>Census Tract 6.02, Monroe County, Indiana</td>\n",
       "      <td>3334.0</td>\n",
       "      <td>681.0</td>\n",
       "      <td>453.0</td>\n",
       "      <td>3336.0</td>\n",
       "      <td>18</td>\n",
       "      <td>105</td>\n",
       "      <td>000602</td>\n",
       "      <td>33.992806</td>\n",
       "    </tr>\n",
       "    <tr>\n",
       "      <th>1</th>\n",
       "      <td>18105000100</td>\n",
       "      <td>100.0</td>\n",
       "      <td>2137.0</td>\n",
       "      <td>95.529727</td>\n",
       "      <td>2420.0</td>\n",
       "      <td>1021.0</td>\n",
       "      <td>11351.0</td>\n",
       "      <td>43828.0</td>\n",
       "      <td>68.793004</td>\n",
       "      <td>37444.92287</td>\n",
       "      <td>...</td>\n",
       "      <td>-774.58</td>\n",
       "      <td>Census Tract 1, Monroe County, Indiana</td>\n",
       "      <td>3476.0</td>\n",
       "      <td>1621.0</td>\n",
       "      <td>920.0</td>\n",
       "      <td>3773.0</td>\n",
       "      <td>18</td>\n",
       "      <td>105</td>\n",
       "      <td>000100</td>\n",
       "      <td>67.346939</td>\n",
       "    </tr>\n",
       "  </tbody>\n",
       "</table>\n",
       "<p>2 rows × 26 columns</p>\n",
       "</div>"
      ],
      "text/plain": [
       "         GEOID  owner_occupied_hu  renter_occupied_hu  pct_renter_occupied_hu  \\\n",
       "0  18105000602              314.0              1031.0               76.654275   \n",
       "1  18105000100              100.0              2137.0               95.529727   \n",
       "\n",
       "   median_smoc_mortgage  median_gross_rent  median_hh_income  \\\n",
       "0                 855.0              769.0           19388.0   \n",
       "1                2420.0             1021.0           11351.0   \n",
       "\n",
       "   area_median_hh_income  job_density_simple  job_gravity  ...  disp_ave  \\\n",
       "0                43828.0            2.042272  25377.45988  ...    803.67   \n",
       "1                43828.0           68.793004  37444.92287  ...   -774.58   \n",
       "\n",
       "                                        NAME C17002_001E  C17002_002E  \\\n",
       "0  Census Tract 6.02, Monroe County, Indiana      3334.0        681.0   \n",
       "1     Census Tract 1, Monroe County, Indiana      3476.0       1621.0   \n",
       "\n",
       "   C17002_003E  B01003_001E  state county   tract  Poverty_Rate  \n",
       "0        453.0       3336.0     18    105  000602     33.992806  \n",
       "1        920.0       3773.0     18    105  000100     67.346939  \n",
       "\n",
       "[2 rows x 26 columns]"
      ]
     },
     "execution_count": 16,
     "metadata": {},
     "output_type": "execute_result"
    }
   ],
   "source": [
    "mon_merge = monroe_df.merge(mon_acs_df, how = \"left\", on = \"GEOID\")\n",
    "\n",
    "# Show result\n",
    "print('Shape: ', mon_merge.shape)\n",
    "mon_merge.head(2)"
   ]
  },
  {
   "cell_type": "markdown",
   "metadata": {},
   "source": [
    "To try to capture the idea of housing affordability within each census tract, we created a feature called ‘ri_rent’ and ‘ri_own’ which are simply the average cost of housing for renters and home owners subtracted from the average monthly income of residents. We will refer to this as “disposable income” for simplicity but obviously this measure does not capture all necessary costs individual residents face, the cost of housing for renters and homeowners does include utilities and taxes so it covers most of the essential costs involved with housing.  One common benchmark for individual expenditure on housing is that it should be roughly 30% of one’s income so we will look at how the census tract averages compare to that benchmark as well. "
   ]
  },
  {
   "cell_type": "markdown",
   "metadata": {},
   "source": [
    "Below is a rundown of all the data features in this dataset:"
   ]
  },
  {
   "cell_type": "code",
   "execution_count": 17,
   "metadata": {},
   "outputs": [
    {
     "name": "stdout",
     "output_type": "stream",
     "text": [
      "GEOID\n",
      "owner_occupied_hu\n",
      "renter_occupied_hu\n",
      "pct_renter_occupied_hu\n",
      "median_smoc_mortgage\n",
      "median_gross_rent\n",
      "median_hh_income\n",
      "area_median_hh_income\n",
      "job_density_simple\n",
      "job_gravity\n",
      "SHAPE_Length\n",
      "SHAPE_Area\n",
      "geometry\n",
      "med_inc_month\n",
      "ri_own\n",
      "ri_rent\n",
      "disp_ave\n",
      "NAME\n",
      "C17002_001E\n",
      "C17002_002E\n",
      "C17002_003E\n",
      "B01003_001E\n",
      "state\n",
      "county\n",
      "tract\n",
      "Poverty_Rate\n"
     ]
    }
   ],
   "source": [
    "for column in mon_merge:\n",
    "    print(column)"
   ]
  },
  {
   "cell_type": "markdown",
   "metadata": {},
   "source": [
    "## EDA for Merged Dataset"
   ]
  },
  {
   "cell_type": "markdown",
   "metadata": {},
   "source": [
    "Below we will examine the dataset and try to achieve our goal of recognizing the number of Monroe County residents who reside in at risk areas for unaffordable housing and to identify the areas where most of these individuals live."
   ]
  },
  {
   "cell_type": "code",
   "execution_count": 18,
   "metadata": {},
   "outputs": [
    {
     "data": {
      "image/png": "[encoded data removed]",
      "text/plain": [
       "<Figure size 640x480 with 1 Axes>"
      ]
     },
     "metadata": {},
     "output_type": "display_data"
    }
   ],
   "source": [
    "import matplotlib.pyplot as plt\n",
    "import seaborn as sns\n",
    "\n",
    "#Create histogram of census tracts by disposable income\n",
    "sns.histplot(monroe_df['ri_own'], kde=True)\n",
    "sns.histplot(monroe_df['ri_rent'], kde=True)\n",
    "plt.title('Distribution of disposable income')\n",
    "plt.legend(title='Metrics', loc='upper left', labels=['Disp Inc for h-owner', 'Disp Inc for Renters'])\n",
    "plt.show()"
   ]
  },
  {
   "cell_type": "markdown",
   "metadata": {},
   "source": [
    "This shows that the rough median point of census tracts is around $3000 in disposable income each month. There are 4 census tracts in the under $1000 bucket for renters and about 3 for homeowners. We also see that there are more tracts in the sub $1000 bucket among renters than among homeowners (4 for renters 3 for homeowners.) "
   ]
  },
  {
   "cell_type": "code",
   "execution_count": 19,
   "metadata": {},
   "outputs": [
    {
     "data": {
      "image/png": "[encoded data removed]",
      "text/plain": [
       "<Figure size 640x480 with 1 Axes>"
      ]
     },
     "metadata": {},
     "output_type": "display_data"
    }
   ],
   "source": [
    "import matplotlib.pyplot as plt\n",
    "import seaborn as sns\n",
    "\n",
    "# Histogram of census tracts by total population\n",
    "sns.histplot(mon_merge['B01003_001E'], kde=True)\n",
    "plt.title('Distribution of Population Total')\n",
    "plt.legend(title='Metrics', loc='upper right', labels=['Population of Census Tract'])\n",
    "plt.show()"
   ]
  },
  {
   "cell_type": "markdown",
   "metadata": {},
   "source": [
    "In order to simplify the visuals, lets create a category that averages the disposable income of renters and owners. We know that there are more tracts with unaffordability issues for renters than homeowners so we'll still need to keep that in mind."
   ]
  },
  {
   "cell_type": "markdown",
   "metadata": {},
   "source": [
    "Next, we should look at how many actual individuals fall into the different levels of disposable income. To do this let's create bins of -1000 to 2000, 2K to 3K, 3K to 4K, 4K to 5K and over 5K. Then we can use the population numbers to indicate how many people are living within the census tracks at these average levels. It's important to remember that these are average numbers across the census tracts so we can't say that the number indicates how many individuals are at these disposable income levels, but rather how many people are living in the areas with these average numbers. This should serve our purposes by estimating the areas where the most people are likely to benefit from affordable housing initiatives. "
   ]
  },
  {
   "cell_type": "code",
   "execution_count": 20,
   "metadata": {},
   "outputs": [
    {
     "data": {
      "application/vnd.plotly.v1+json": {
       "config": {
        "plotlyServerURL": "https://plot.ly"
       },
       "data": [
        {
         "alignmentgroup": "True",
         "hovertemplate": "Disp_Income_Group=%{x}<br>Total Population=%{text}<extra></extra>",
         "legendgroup": "",
         "marker": {
          "color": "#636efa",
          "pattern": {
           "shape": ""
          }
         },
         "name": "",
         "offsetgroup": "",
         "orientation": "v",
         "showlegend": false,
         "text": [
          40679,
          24283,
          19447,
          24959,
          11385
         ],
         "textposition": "auto",
         "type": "bar",
         "x": [
          "Negative-2k",
          "2-3k",
          "3-4k",
          "4-5k",
          "5k+"
         ],
         "xaxis": "x",
         "y": [
          40679,
          24283,
          19447,
          24959,
          11385
         ],
         "yaxis": "y"
        }
       ],
       "layout": {
        "barmode": "relative",
        "height": 500,
        "legend": {
         "tracegroupgap": 0
        },
        "template": {
         "data": {
          "bar": [
           {
            "error_x": {
             "color": "#2a3f5f"
            },
            "error_y": {
             "color": "#2a3f5f"
            },
            "marker": {
             "line": {
              "color": "#E5ECF6",
              "width": 0.5
             },
             "pattern": {
              "fillmode": "overlay",
              "size": 10,
              "solidity": 0.2
             }
            },
            "type": "bar"
           }
          ],
          "barpolar": [
           {
            "marker": {
             "line": {
              "color": "#E5ECF6",
              "width": 0.5
             },
             "pattern": {
              "fillmode": "overlay",
              "size": 10,
              "solidity": 0.2
             }
            },
            "type": "barpolar"
           }
          ],
          "carpet": [
           {
            "aaxis": {
             "endlinecolor": "#2a3f5f",
             "gridcolor": "white",
             "linecolor": "white",
             "minorgridcolor": "white",
             "startlinecolor": "#2a3f5f"
            },
            "baxis": {
             "endlinecolor": "#2a3f5f",
             "gridcolor": "white",
             "linecolor": "white",
             "minorgridcolor": "white",
             "startlinecolor": "#2a3f5f"
            },
            "type": "carpet"
           }
          ],
          "choropleth": [
           {
            "colorbar": {
             "outlinewidth": 0,
             "ticks": ""
            },
            "type": "choropleth"
           }
          ],
          "contour": [
           {
            "colorbar": {
             "outlinewidth": 0,
             "ticks": ""
            },
            "colorscale": [
             [
              0,
              "#0d0887"
             ],
             [
              0.1111111111111111,
              "#46039f"
             ],
             [
              0.2222222222222222,
              "#7201a8"
             ],
             [
              0.3333333333333333,
              "#9c179e"
             ],
             [
              0.4444444444444444,
              "#bd3786"
             ],
             [
              0.5555555555555556,
              "#d8576b"
             ],
             [
              0.6666666666666666,
              "#ed7953"
             ],
             [
              0.7777777777777778,
              "#fb9f3a"
             ],
             [
              0.8888888888888888,
              "#fdca26"
             ],
             [
              1,
              "#f0f921"
             ]
            ],
            "type": "contour"
           }
          ],
          "contourcarpet": [
           {
            "colorbar": {
             "outlinewidth": 0,
             "ticks": ""
            },
            "type": "contourcarpet"
           }
          ],
          "heatmap": [
           {
            "colorbar": {
             "outlinewidth": 0,
             "ticks": ""
            },
            "colorscale": [
             [
              0,
              "#0d0887"
             ],
             [
              0.1111111111111111,
              "#46039f"
             ],
             [
              0.2222222222222222,
              "#7201a8"
             ],
             [
              0.3333333333333333,
              "#9c179e"
             ],
             [
              0.4444444444444444,
              "#bd3786"
             ],
             [
              0.5555555555555556,
              "#d8576b"
             ],
             [
              0.6666666666666666,
              "#ed7953"
             ],
             [
              0.7777777777777778,
              "#fb9f3a"
             ],
             [
              0.8888888888888888,
              "#fdca26"
             ],
             [
              1,
              "#f0f921"
             ]
            ],
            "type": "heatmap"
           }
          ],
          "heatmapgl": [
           {
            "colorbar": {
             "outlinewidth": 0,
             "ticks": ""
            },
            "colorscale": [
             [
              0,
              "#0d0887"
             ],
             [
              0.1111111111111111,
              "#46039f"
             ],
             [
              0.2222222222222222,
              "#7201a8"
             ],
             [
              0.3333333333333333,
              "#9c179e"
             ],
             [
              0.4444444444444444,
              "#bd3786"
             ],
             [
              0.5555555555555556,
              "#d8576b"
             ],
             [
              0.6666666666666666,
              "#ed7953"
             ],
             [
              0.7777777777777778,
              "#fb9f3a"
             ],
             [
              0.8888888888888888,
              "#fdca26"
             ],
             [
              1,
              "#f0f921"
             ]
            ],
            "type": "heatmapgl"
           }
          ],
          "histogram": [
           {
            "marker": {
             "pattern": {
              "fillmode": "overlay",
              "size": 10,
              "solidity": 0.2
             }
            },
            "type": "histogram"
           }
          ],
          "histogram2d": [
           {
            "colorbar": {
             "outlinewidth": 0,
             "ticks": ""
            },
            "colorscale": [
             [
              0,
              "#0d0887"
             ],
             [
              0.1111111111111111,
              "#46039f"
             ],
             [
              0.2222222222222222,
              "#7201a8"
             ],
             [
              0.3333333333333333,
              "#9c179e"
             ],
             [
              0.4444444444444444,
              "#bd3786"
             ],
             [
              0.5555555555555556,
              "#d8576b"
             ],
             [
              0.6666666666666666,
              "#ed7953"
             ],
             [
              0.7777777777777778,
              "#fb9f3a"
             ],
             [
              0.8888888888888888,
              "#fdca26"
             ],
             [
              1,
              "#f0f921"
             ]
            ],
            "type": "histogram2d"
           }
          ],
          "histogram2dcontour": [
           {
            "colorbar": {
             "outlinewidth": 0,
             "ticks": ""
            },
            "colorscale": [
             [
              0,
              "#0d0887"
             ],
             [
              0.1111111111111111,
              "#46039f"
             ],
             [
              0.2222222222222222,
              "#7201a8"
             ],
             [
              0.3333333333333333,
              "#9c179e"
             ],
             [
              0.4444444444444444,
              "#bd3786"
             ],
             [
              0.5555555555555556,
              "#d8576b"
             ],
             [
              0.6666666666666666,
              "#ed7953"
             ],
             [
              0.7777777777777778,
              "#fb9f3a"
             ],
             [
              0.8888888888888888,
              "#fdca26"
             ],
             [
              1,
              "#f0f921"
             ]
            ],
            "type": "histogram2dcontour"
           }
          ],
          "mesh3d": [
           {
            "colorbar": {
             "outlinewidth": 0,
             "ticks": ""
            },
            "type": "mesh3d"
           }
          ],
          "parcoords": [
           {
            "line": {
             "colorbar": {
              "outlinewidth": 0,
              "ticks": ""
             }
            },
            "type": "parcoords"
           }
          ],
          "pie": [
           {
            "automargin": true,
            "type": "pie"
           }
          ],
          "scatter": [
           {
            "fillpattern": {
             "fillmode": "overlay",
             "size": 10,
             "solidity": 0.2
            },
            "type": "scatter"
           }
          ],
          "scatter3d": [
           {
            "line": {
             "colorbar": {
              "outlinewidth": 0,
              "ticks": ""
             }
            },
            "marker": {
             "colorbar": {
              "outlinewidth": 0,
              "ticks": ""
             }
            },
            "type": "scatter3d"
           }
          ],
          "scattercarpet": [
           {
            "marker": {
             "colorbar": {
              "outlinewidth": 0,
              "ticks": ""
             }
            },
            "type": "scattercarpet"
           }
          ],
          "scattergeo": [
           {
            "marker": {
             "colorbar": {
              "outlinewidth": 0,
              "ticks": ""
             }
            },
            "type": "scattergeo"
           }
          ],
          "scattergl": [
           {
            "marker": {
             "colorbar": {
              "outlinewidth": 0,
              "ticks": ""
             }
            },
            "type": "scattergl"
           }
          ],
          "scattermapbox": [
           {
            "marker": {
             "colorbar": {
              "outlinewidth": 0,
              "ticks": ""
             }
            },
            "type": "scattermapbox"
           }
          ],
          "scatterpolar": [
           {
            "marker": {
             "colorbar": {
              "outlinewidth": 0,
              "ticks": ""
             }
            },
            "type": "scatterpolar"
           }
          ],
          "scatterpolargl": [
           {
            "marker": {
             "colorbar": {
              "outlinewidth": 0,
              "ticks": ""
             }
            },
            "type": "scatterpolargl"
           }
          ],
          "scatterternary": [
           {
            "marker": {
             "colorbar": {
              "outlinewidth": 0,
              "ticks": ""
             }
            },
            "type": "scatterternary"
           }
          ],
          "surface": [
           {
            "colorbar": {
             "outlinewidth": 0,
             "ticks": ""
            },
            "colorscale": [
             [
              0,
              "#0d0887"
             ],
             [
              0.1111111111111111,
              "#46039f"
             ],
             [
              0.2222222222222222,
              "#7201a8"
             ],
             [
              0.3333333333333333,
              "#9c179e"
             ],
             [
              0.4444444444444444,
              "#bd3786"
             ],
             [
              0.5555555555555556,
              "#d8576b"
             ],
             [
              0.6666666666666666,
              "#ed7953"
             ],
             [
              0.7777777777777778,
              "#fb9f3a"
             ],
             [
              0.8888888888888888,
              "#fdca26"
             ],
             [
              1,
              "#f0f921"
             ]
            ],
            "type": "surface"
           }
          ],
          "table": [
           {
            "cells": {
             "fill": {
              "color": "#EBF0F8"
             },
             "line": {
              "color": "white"
             }
            },
            "header": {
             "fill": {
              "color": "#C8D4E3"
             },
             "line": {
              "color": "white"
             }
            },
            "type": "table"
           }
          ]
         },
         "layout": {
          "annotationdefaults": {
           "arrowcolor": "#2a3f5f",
           "arrowhead": 0,
           "arrowwidth": 1
          },
          "autotypenumbers": "strict",
          "coloraxis": {
           "colorbar": {
            "outlinewidth": 0,
            "ticks": ""
           }
          },
          "colorscale": {
           "diverging": [
            [
             0,
             "#8e0152"
            ],
            [
             0.1,
             "#c51b7d"
            ],
            [
             0.2,
             "#de77ae"
            ],
            [
             0.3,
             "#f1b6da"
            ],
            [
             0.4,
             "#fde0ef"
            ],
            [
             0.5,
             "#f7f7f7"
            ],
            [
             0.6,
             "#e6f5d0"
            ],
            [
             0.7,
             "#b8e186"
            ],
            [
             0.8,
             "#7fbc41"
            ],
            [
             0.9,
             "#4d9221"
            ],
            [
             1,
             "#276419"
            ]
           ],
           "sequential": [
            [
             0,
             "#0d0887"
            ],
            [
             0.1111111111111111,
             "#46039f"
            ],
            [
             0.2222222222222222,
             "#7201a8"
            ],
            [
             0.3333333333333333,
             "#9c179e"
            ],
            [
             0.4444444444444444,
             "#bd3786"
            ],
            [
             0.5555555555555556,
             "#d8576b"
            ],
            [
             0.6666666666666666,
             "#ed7953"
            ],
            [
             0.7777777777777778,
             "#fb9f3a"
            ],
            [
             0.8888888888888888,
             "#fdca26"
            ],
            [
             1,
             "#f0f921"
            ]
           ],
           "sequentialminus": [
            [
             0,
             "#0d0887"
            ],
            [
             0.1111111111111111,
             "#46039f"
            ],
            [
             0.2222222222222222,
             "#7201a8"
            ],
            [
             0.3333333333333333,
             "#9c179e"
            ],
            [
             0.4444444444444444,
             "#bd3786"
            ],
            [
             0.5555555555555556,
             "#d8576b"
            ],
            [
             0.6666666666666666,
             "#ed7953"
            ],
            [
             0.7777777777777778,
             "#fb9f3a"
            ],
            [
             0.8888888888888888,
             "#fdca26"
            ],
            [
             1,
             "#f0f921"
            ]
           ]
          },
          "colorway": [
           "#636efa",
           "#EF553B",
           "#00cc96",
           "#ab63fa",
           "#FFA15A",
           "#19d3f3",
           "#FF6692",
           "#B6E880",
           "#FF97FF",
           "#FECB52"
          ],
          "font": {
           "color": "#2a3f5f"
          },
          "geo": {
           "bgcolor": "white",
           "lakecolor": "white",
           "landcolor": "#E5ECF6",
           "showlakes": true,
           "showland": true,
           "subunitcolor": "white"
          },
          "hoverlabel": {
           "align": "left"
          },
          "hovermode": "closest",
          "mapbox": {
           "style": "light"
          },
          "paper_bgcolor": "white",
          "plot_bgcolor": "#E5ECF6",
          "polar": {
           "angularaxis": {
            "gridcolor": "white",
            "linecolor": "white",
            "ticks": ""
           },
           "bgcolor": "#E5ECF6",
           "radialaxis": {
            "gridcolor": "white",
            "linecolor": "white",
            "ticks": ""
           }
          },
          "scene": {
           "xaxis": {
            "backgroundcolor": "#E5ECF6",
            "gridcolor": "white",
            "gridwidth": 2,
            "linecolor": "white",
            "showbackground": true,
            "ticks": "",
            "zerolinecolor": "white"
           },
           "yaxis": {
            "backgroundcolor": "#E5ECF6",
            "gridcolor": "white",
            "gridwidth": 2,
            "linecolor": "white",
            "showbackground": true,
            "ticks": "",
            "zerolinecolor": "white"
           },
           "zaxis": {
            "backgroundcolor": "#E5ECF6",
            "gridcolor": "white",
            "gridwidth": 2,
            "linecolor": "white",
            "showbackground": true,
            "ticks": "",
            "zerolinecolor": "white"
           }
          },
          "shapedefaults": {
           "line": {
            "color": "#2a3f5f"
           }
          },
          "ternary": {
           "aaxis": {
            "gridcolor": "white",
            "linecolor": "white",
            "ticks": ""
           },
           "baxis": {
            "gridcolor": "white",
            "linecolor": "white",
            "ticks": ""
           },
           "bgcolor": "#E5ECF6",
           "caxis": {
            "gridcolor": "white",
            "linecolor": "white",
            "ticks": ""
           }
          },
          "title": {
           "x": 0.05
          },
          "xaxis": {
           "automargin": true,
           "gridcolor": "white",
           "linecolor": "white",
           "ticks": "",
           "title": {
            "standoff": 15
           },
           "zerolinecolor": "white",
           "zerolinewidth": 2
          },
          "yaxis": {
           "automargin": true,
           "gridcolor": "white",
           "linecolor": "white",
           "ticks": "",
           "title": {
            "standoff": 15
           },
           "zerolinecolor": "white",
           "zerolinewidth": 2
          }
         }
        },
        "title": {
         "text": "Number of Individuals within each Disposable Income Group"
        },
        "xaxis": {
         "anchor": "y",
         "domain": [
          0,
          1
         ],
         "title": {
          "text": "Disposable Income Group"
         }
        },
        "yaxis": {
         "anchor": "x",
         "domain": [
          0,
          1
         ],
         "title": {
          "text": "Total Population"
         }
        }
       }
      }
     },
     "metadata": {},
     "output_type": "display_data"
    }
   ],
   "source": [
    "import plotly.express as px\n",
    "import pandas as pd\n",
    "\n",
    "#create bar graph showing population within each bin of disposable income level\n",
    "bins = [-1000, 2000, 3000, 4000, 5000, float('inf')]  # Define bin edges\n",
    "labels = ['Negative-2k', '2-3k', '3-4k', '4-5k', '5k+']  # Define bin labels\n",
    "\n",
    "mon_merge['disp_ave'] = pd.to_numeric(mon_merge['disp_ave'], errors='coerce')\n",
    "mon_merge['disp_ave'] = mon_merge['disp_ave'].apply(lambda x: max(x, 0)) # Replace negative values with 0\n",
    "mon_merge2 = mon_merge.dropna(subset=['disp_ave'])\n",
    "\n",
    "mon_merge2['Disp_Income_Group'] = pd.cut(mon_merge2['disp_ave'], bins=bins, labels=labels, right=False)\n",
    "grouped_mon_merge = mon_merge2.groupby('Disp_Income_Group')['B01003_001E'].sum().reset_index()\n",
    "\n",
    "fig = px.bar(grouped_mon_merge, x='Disp_Income_Group', y='B01003_001E', text='B01003_001E',\n",
    "             labels={'Income_Group': 'Disposable Income Group', 'B01003_001E': 'Total Population'},\n",
    "             title='Number of Individuals within each Disposable Income Group',\n",
    "             height=500)\n",
    "\n",
    "# Customize the layout\n",
    "fig.update_layout(xaxis=dict(title_text='Disposable Income Group'),\n",
    "                  yaxis=dict(title_text='Total Population'))\n",
    "\n",
    "\n",
    "fig.show()\n"
   ]
  },
  {
   "cell_type": "markdown",
   "metadata": {},
   "source": [
    "This graph indicates that the largest group of individuals is living in the lowest grouping in terms of the average disposable income per census tract. At this point it would helpful to look at the economic situations in each tract area and we can start to focus in on which areas are most at risk for unaffordable housing."
   ]
  },
  {
   "cell_type": "code",
   "execution_count": 21,
   "metadata": {},
   "outputs": [
    {
     "data": {
      "application/vnd.plotly.v1+json": {
       "config": {
        "plotlyServerURL": "https://plot.ly"
       },
       "data": [
        {
         "name": "Population",
         "type": "bar",
         "x": [
          "18105000602",
          "18105000100",
          "18105000201",
          "18105000901",
          "18105000502",
          "18105001502",
          "18105000601",
          "18105001501",
          "18105001402",
          "18105000700",
          "18105000401",
          "18105000501",
          "18105001200",
          "18105001304",
          "18105001101",
          "18105001102",
          "18105001600",
          "18105000903",
          "18105000904",
          "18105001305",
          "18105001002",
          "18105001103",
          "18105001303",
          "18105000800",
          "18105001001",
          "18105001401",
          "18105001301",
          "18105000202",
          "18105000302",
          "18105000301",
          "18105000402"
         ],
         "y": [
          3336,
          3773,
          4862,
          2787,
          3338,
          2624,
          3596,
          6086,
          null,
          3166,
          4349,
          4676,
          6069,
          4046,
          5783,
          4355,
          5205,
          4785,
          5510,
          2356,
          6293,
          2988,
          5665,
          null,
          5299,
          1833,
          5811,
          8630,
          3246,
          3829,
          5087
         ]
        },
        {
         "name": "Average Disposable Income",
         "type": "bar",
         "x": [
          "18105000602",
          "18105000100",
          "18105000201",
          "18105000901",
          "18105000502",
          "18105001502",
          "18105000601",
          "18105001501",
          "18105001402",
          "18105000700",
          "18105000401",
          "18105000501",
          "18105001200",
          "18105001304",
          "18105001101",
          "18105001102",
          "18105001600",
          "18105000903",
          "18105000904",
          "18105001305",
          "18105001002",
          "18105001103",
          "18105001303",
          "18105000800",
          "18105001001",
          "18105001401",
          "18105001301",
          "18105000202",
          "18105000302",
          "18105000301",
          "18105000402"
         ],
         "y": [
          803.6700000000001,
          0,
          811.5,
          2202.25,
          2879.58,
          4891.58,
          1206.92,
          5528.75,
          4507.5,
          4301.33,
          2184.5,
          2533.58,
          4098.25,
          2651.67,
          1730.17,
          3086.83,
          358.5,
          1133.08,
          1762.67,
          4203.42,
          3764.33,
          3706.83,
          4000.5,
          2950.42,
          5911.75,
          4450.58,
          3182.58,
          null,
          4059.42,
          1753.5,
          2318.58
         ]
        }
       ],
       "layout": {
        "barmode": "group",
        "template": {
         "data": {
          "bar": [
           {
            "error_x": {
             "color": "#2a3f5f"
            },
            "error_y": {
             "color": "#2a3f5f"
            },
            "marker": {
             "line": {
              "color": "#E5ECF6",
              "width": 0.5
             },
             "pattern": {
              "fillmode": "overlay",
              "size": 10,
              "solidity": 0.2
             }
            },
            "type": "bar"
           }
          ],
          "barpolar": [
           {
            "marker": {
             "line": {
              "color": "#E5ECF6",
              "width": 0.5
             },
             "pattern": {
              "fillmode": "overlay",
              "size": 10,
              "solidity": 0.2
             }
            },
            "type": "barpolar"
           }
          ],
          "carpet": [
           {
            "aaxis": {
             "endlinecolor": "#2a3f5f",
             "gridcolor": "white",
             "linecolor": "white",
             "minorgridcolor": "white",
             "startlinecolor": "#2a3f5f"
            },
            "baxis": {
             "endlinecolor": "#2a3f5f",
             "gridcolor": "white",
             "linecolor": "white",
             "minorgridcolor": "white",
             "startlinecolor": "#2a3f5f"
            },
            "type": "carpet"
           }
          ],
          "choropleth": [
           {
            "colorbar": {
             "outlinewidth": 0,
             "ticks": ""
            },
            "type": "choropleth"
           }
          ],
          "contour": [
           {
            "colorbar": {
             "outlinewidth": 0,
             "ticks": ""
            },
            "colorscale": [
             [
              0,
              "#0d0887"
             ],
             [
              0.1111111111111111,
              "#46039f"
             ],
             [
              0.2222222222222222,
              "#7201a8"
             ],
             [
              0.3333333333333333,
              "#9c179e"
             ],
             [
              0.4444444444444444,
              "#bd3786"
             ],
             [
              0.5555555555555556,
              "#d8576b"
             ],
             [
              0.6666666666666666,
              "#ed7953"
             ],
             [
              0.7777777777777778,
              "#fb9f3a"
             ],
             [
              0.8888888888888888,
              "#fdca26"
             ],
             [
              1,
              "#f0f921"
             ]
            ],
            "type": "contour"
           }
          ],
          "contourcarpet": [
           {
            "colorbar": {
             "outlinewidth": 0,
             "ticks": ""
            },
            "type": "contourcarpet"
           }
          ],
          "heatmap": [
           {
            "colorbar": {
             "outlinewidth": 0,
             "ticks": ""
            },
            "colorscale": [
             [
              0,
              "#0d0887"
             ],
             [
              0.1111111111111111,
              "#46039f"
             ],
             [
              0.2222222222222222,
              "#7201a8"
             ],
             [
              0.3333333333333333,
              "#9c179e"
             ],
             [
              0.4444444444444444,
              "#bd3786"
             ],
             [
              0.5555555555555556,
              "#d8576b"
             ],
             [
              0.6666666666666666,
              "#ed7953"
             ],
             [
              0.7777777777777778,
              "#fb9f3a"
             ],
             [
              0.8888888888888888,
              "#fdca26"
             ],
             [
              1,
              "#f0f921"
             ]
            ],
            "type": "heatmap"
           }
          ],
          "heatmapgl": [
           {
            "colorbar": {
             "outlinewidth": 0,
             "ticks": ""
            },
            "colorscale": [
             [
              0,
              "#0d0887"
             ],
             [
              0.1111111111111111,
              "#46039f"
             ],
             [
              0.2222222222222222,
              "#7201a8"
             ],
             [
              0.3333333333333333,
              "#9c179e"
             ],
             [
              0.4444444444444444,
              "#bd3786"
             ],
             [
              0.5555555555555556,
              "#d8576b"
             ],
             [
              0.6666666666666666,
              "#ed7953"
             ],
             [
              0.7777777777777778,
              "#fb9f3a"
             ],
             [
              0.8888888888888888,
              "#fdca26"
             ],
             [
              1,
              "#f0f921"
             ]
            ],
            "type": "heatmapgl"
           }
          ],
          "histogram": [
           {
            "marker": {
             "pattern": {
              "fillmode": "overlay",
              "size": 10,
              "solidity": 0.2
             }
            },
            "type": "histogram"
           }
          ],
          "histogram2d": [
           {
            "colorbar": {
             "outlinewidth": 0,
             "ticks": ""
            },
            "colorscale": [
             [
              0,
              "#0d0887"
             ],
             [
              0.1111111111111111,
              "#46039f"
             ],
             [
              0.2222222222222222,
              "#7201a8"
             ],
             [
              0.3333333333333333,
              "#9c179e"
             ],
             [
              0.4444444444444444,
              "#bd3786"
             ],
             [
              0.5555555555555556,
              "#d8576b"
             ],
             [
              0.6666666666666666,
              "#ed7953"
             ],
             [
              0.7777777777777778,
              "#fb9f3a"
             ],
             [
              0.8888888888888888,
              "#fdca26"
             ],
             [
              1,
              "#f0f921"
             ]
            ],
            "type": "histogram2d"
           }
          ],
          "histogram2dcontour": [
           {
            "colorbar": {
             "outlinewidth": 0,
             "ticks": ""
            },
            "colorscale": [
             [
              0,
              "#0d0887"
             ],
             [
              0.1111111111111111,
              "#46039f"
             ],
             [
              0.2222222222222222,
              "#7201a8"
             ],
             [
              0.3333333333333333,
              "#9c179e"
             ],
             [
              0.4444444444444444,
              "#bd3786"
             ],
             [
              0.5555555555555556,
              "#d8576b"
             ],
             [
              0.6666666666666666,
              "#ed7953"
             ],
             [
              0.7777777777777778,
              "#fb9f3a"
             ],
             [
              0.8888888888888888,
              "#fdca26"
             ],
             [
              1,
              "#f0f921"
             ]
            ],
            "type": "histogram2dcontour"
           }
          ],
          "mesh3d": [
           {
            "colorbar": {
             "outlinewidth": 0,
             "ticks": ""
            },
            "type": "mesh3d"
           }
          ],
          "parcoords": [
           {
            "line": {
             "colorbar": {
              "outlinewidth": 0,
              "ticks": ""
             }
            },
            "type": "parcoords"
           }
          ],
          "pie": [
           {
            "automargin": true,
            "type": "pie"
           }
          ],
          "scatter": [
           {
            "fillpattern": {
             "fillmode": "overlay",
             "size": 10,
             "solidity": 0.2
            },
            "type": "scatter"
           }
          ],
          "scatter3d": [
           {
            "line": {
             "colorbar": {
              "outlinewidth": 0,
              "ticks": ""
             }
            },
            "marker": {
             "colorbar": {
              "outlinewidth": 0,
              "ticks": ""
             }
            },
            "type": "scatter3d"
           }
          ],
          "scattercarpet": [
           {
            "marker": {
             "colorbar": {
              "outlinewidth": 0,
              "ticks": ""
             }
            },
            "type": "scattercarpet"
           }
          ],
          "scattergeo": [
           {
            "marker": {
             "colorbar": {
              "outlinewidth": 0,
              "ticks": ""
             }
            },
            "type": "scattergeo"
           }
          ],
          "scattergl": [
           {
            "marker": {
             "colorbar": {
              "outlinewidth": 0,
              "ticks": ""
             }
            },
            "type": "scattergl"
           }
          ],
          "scattermapbox": [
           {
            "marker": {
             "colorbar": {
              "outlinewidth": 0,
              "ticks": ""
             }
            },
            "type": "scattermapbox"
           }
          ],
          "scatterpolar": [
           {
            "marker": {
             "colorbar": {
              "outlinewidth": 0,
              "ticks": ""
             }
            },
            "type": "scatterpolar"
           }
          ],
          "scatterpolargl": [
           {
            "marker": {
             "colorbar": {
              "outlinewidth": 0,
              "ticks": ""
             }
            },
            "type": "scatterpolargl"
           }
          ],
          "scatterternary": [
           {
            "marker": {
             "colorbar": {
              "outlinewidth": 0,
              "ticks": ""
             }
            },
            "type": "scatterternary"
           }
          ],
          "surface": [
           {
            "colorbar": {
             "outlinewidth": 0,
             "ticks": ""
            },
            "colorscale": [
             [
              0,
              "#0d0887"
             ],
             [
              0.1111111111111111,
              "#46039f"
             ],
             [
              0.2222222222222222,
              "#7201a8"
             ],
             [
              0.3333333333333333,
              "#9c179e"
             ],
             [
              0.4444444444444444,
              "#bd3786"
             ],
             [
              0.5555555555555556,
              "#d8576b"
             ],
             [
              0.6666666666666666,
              "#ed7953"
             ],
             [
              0.7777777777777778,
              "#fb9f3a"
             ],
             [
              0.8888888888888888,
              "#fdca26"
             ],
             [
              1,
              "#f0f921"
             ]
            ],
            "type": "surface"
           }
          ],
          "table": [
           {
            "cells": {
             "fill": {
              "color": "#EBF0F8"
             },
             "line": {
              "color": "white"
             }
            },
            "header": {
             "fill": {
              "color": "#C8D4E3"
             },
             "line": {
              "color": "white"
             }
            },
            "type": "table"
           }
          ]
         },
         "layout": {
          "annotationdefaults": {
           "arrowcolor": "#2a3f5f",
           "arrowhead": 0,
           "arrowwidth": 1
          },
          "autotypenumbers": "strict",
          "coloraxis": {
           "colorbar": {
            "outlinewidth": 0,
            "ticks": ""
           }
          },
          "colorscale": {
           "diverging": [
            [
             0,
             "#8e0152"
            ],
            [
             0.1,
             "#c51b7d"
            ],
            [
             0.2,
             "#de77ae"
            ],
            [
             0.3,
             "#f1b6da"
            ],
            [
             0.4,
             "#fde0ef"
            ],
            [
             0.5,
             "#f7f7f7"
            ],
            [
             0.6,
             "#e6f5d0"
            ],
            [
             0.7,
             "#b8e186"
            ],
            [
             0.8,
             "#7fbc41"
            ],
            [
             0.9,
             "#4d9221"
            ],
            [
             1,
             "#276419"
            ]
           ],
           "sequential": [
            [
             0,
             "#0d0887"
            ],
            [
             0.1111111111111111,
             "#46039f"
            ],
            [
             0.2222222222222222,
             "#7201a8"
            ],
            [
             0.3333333333333333,
             "#9c179e"
            ],
            [
             0.4444444444444444,
             "#bd3786"
            ],
            [
             0.5555555555555556,
             "#d8576b"
            ],
            [
             0.6666666666666666,
             "#ed7953"
            ],
            [
             0.7777777777777778,
             "#fb9f3a"
            ],
            [
             0.8888888888888888,
             "#fdca26"
            ],
            [
             1,
             "#f0f921"
            ]
           ],
           "sequentialminus": [
            [
             0,
             "#0d0887"
            ],
            [
             0.1111111111111111,
             "#46039f"
            ],
            [
             0.2222222222222222,
             "#7201a8"
            ],
            [
             0.3333333333333333,
             "#9c179e"
            ],
            [
             0.4444444444444444,
             "#bd3786"
            ],
            [
             0.5555555555555556,
             "#d8576b"
            ],
            [
             0.6666666666666666,
             "#ed7953"
            ],
            [
             0.7777777777777778,
             "#fb9f3a"
            ],
            [
             0.8888888888888888,
             "#fdca26"
            ],
            [
             1,
             "#f0f921"
            ]
           ]
          },
          "colorway": [
           "#636efa",
           "#EF553B",
           "#00cc96",
           "#ab63fa",
           "#FFA15A",
           "#19d3f3",
           "#FF6692",
           "#B6E880",
           "#FF97FF",
           "#FECB52"
          ],
          "font": {
           "color": "#2a3f5f"
          },
          "geo": {
           "bgcolor": "white",
           "lakecolor": "white",
           "landcolor": "#E5ECF6",
           "showlakes": true,
           "showland": true,
           "subunitcolor": "white"
          },
          "hoverlabel": {
           "align": "left"
          },
          "hovermode": "closest",
          "mapbox": {
           "style": "light"
          },
          "paper_bgcolor": "white",
          "plot_bgcolor": "#E5ECF6",
          "polar": {
           "angularaxis": {
            "gridcolor": "white",
            "linecolor": "white",
            "ticks": ""
           },
           "bgcolor": "#E5ECF6",
           "radialaxis": {
            "gridcolor": "white",
            "linecolor": "white",
            "ticks": ""
           }
          },
          "scene": {
           "xaxis": {
            "backgroundcolor": "#E5ECF6",
            "gridcolor": "white",
            "gridwidth": 2,
            "linecolor": "white",
            "showbackground": true,
            "ticks": "",
            "zerolinecolor": "white"
           },
           "yaxis": {
            "backgroundcolor": "#E5ECF6",
            "gridcolor": "white",
            "gridwidth": 2,
            "linecolor": "white",
            "showbackground": true,
            "ticks": "",
            "zerolinecolor": "white"
           },
           "zaxis": {
            "backgroundcolor": "#E5ECF6",
            "gridcolor": "white",
            "gridwidth": 2,
            "linecolor": "white",
            "showbackground": true,
            "ticks": "",
            "zerolinecolor": "white"
           }
          },
          "shapedefaults": {
           "line": {
            "color": "#2a3f5f"
           }
          },
          "ternary": {
           "aaxis": {
            "gridcolor": "white",
            "linecolor": "white",
            "ticks": ""
           },
           "baxis": {
            "gridcolor": "white",
            "linecolor": "white",
            "ticks": ""
           },
           "bgcolor": "#E5ECF6",
           "caxis": {
            "gridcolor": "white",
            "linecolor": "white",
            "ticks": ""
           }
          },
          "title": {
           "x": 0.05
          },
          "xaxis": {
           "automargin": true,
           "gridcolor": "white",
           "linecolor": "white",
           "ticks": "",
           "title": {
            "standoff": 15
           },
           "zerolinecolor": "white",
           "zerolinewidth": 2
          },
          "yaxis": {
           "automargin": true,
           "gridcolor": "white",
           "linecolor": "white",
           "ticks": "",
           "title": {
            "standoff": 15
           },
           "zerolinecolor": "white",
           "zerolinewidth": 2
          }
         }
        },
        "title": {
         "text": "Average Diposable Income and Population by Tract"
        },
        "xaxis": {
         "title": {
          "text": "Tract"
         }
        },
        "yaxis": {
         "title": {
          "text": "Values"
         }
        }
       }
      }
     },
     "metadata": {},
     "output_type": "display_data"
    }
   ],
   "source": [
    "import plotly.graph_objects as go\n",
    "import pandas as pd\n",
    "\n",
    "fig = go.Figure()\n",
    "\n",
    "# Add a bar for population and one for average diposable income\n",
    "fig.add_trace(go.Bar(x=mon_merge['GEOID'], y=mon_merge['B01003_001E'], name='Population'))\n",
    "\n",
    "fig.add_trace(go.Bar(x=mon_merge['GEOID'], y=mon_merge['disp_ave'], name='Average Disposable Income'))\n",
    "\n",
    "fig.update_layout(barmode='group', title='Average Diposable Income and Population by Tract', xaxis_title='Tract', yaxis_title='Values')\n",
    "\n",
    "fig.show()"
   ]
  },
  {
   "cell_type": "markdown",
   "metadata": {},
   "source": [
    "Looking at the graphs above, we see each of the tracts that make up Monroe County with their respective population and disposable income amounts indicated by bar height. The 7 tracts circled above will be chosen as the focus areas for our purposes since they clearly have a significant population and low average disposable income after housing costs. We also see a few issues with the data, in tract 100 (18105000100) we don’t show anything for disposable income, this is due to having a negative average disposable income, so this is our worst tract for affordability. In tracts 800, and 1402 we are missing population numbers, and in tract 202 we are missing disposable income, all these missing data issues are due to the data provided by the census missing the values. There could be several possible explanations for this but we were not able to make a determination as to the reason at this time so it may be an issue for future follow-up."
   ]
  },
  {
   "cell_type": "code",
   "execution_count": 22,
   "metadata": {},
   "outputs": [],
   "source": [
    "# create a subset of the most at risk tracts\n",
    "selected_geoids = ['18105000602', '18105000100', '18105000201','18105000601', '18105001600','18105000903','18105000904']\n",
    "\n",
    "subset_mon_merge = mon_merge[mon_merge['GEOID'].isin(selected_geoids)]\n",
    "subset_monroe_df = monroe_df[monroe_df['GEOID'].isin(selected_geoids)]"
   ]
  },
  {
   "cell_type": "markdown",
   "metadata": {},
   "source": [
    "Let's create an estimated number of people at risk for poverty based on our poverty rate number. This will give us a number we can plot along with the other numbers we plotted above."
   ]
  },
  {
   "cell_type": "code",
   "execution_count": 23,
   "metadata": {},
   "outputs": [
    {
     "data": {
      "text/plain": [
       "0     1134.0\n",
       "1     2541.0\n",
       "2       30.0\n",
       "6     1299.0\n",
       "16    3418.0\n",
       "17    1273.0\n",
       "18    1859.0\n",
       "Name: est_poverty_pop, dtype: float64"
      ]
     },
     "execution_count": 23,
     "metadata": {},
     "output_type": "execute_result"
    }
   ],
   "source": [
    "# calculate the population in poverty from the poverty percentage\n",
    "\n",
    "subset_mon_merge['est_poverty_pop'] = ((subset_mon_merge['Poverty_Rate']/100)*subset_mon_merge['B01003_001E'])\n",
    "subset_mon_merge['est_poverty_pop']"
   ]
  },
  {
   "cell_type": "markdown",
   "metadata": {},
   "source": [
    "Now let’s create a similar visual with more details about the selected tracts for focus."
   ]
  },
  {
   "cell_type": "code",
   "execution_count": 24,
   "metadata": {},
   "outputs": [
    {
     "data": {
      "application/vnd.plotly.v1+json": {
       "config": {
        "plotlyServerURL": "https://plot.ly"
       },
       "data": [
        {
         "name": "Population",
         "type": "bar",
         "x": [
          "18105000602",
          "18105000100",
          "18105000201",
          "18105000601",
          "18105001600",
          "18105000903",
          "18105000904"
         ],
         "y": [
          3336,
          3773,
          4862,
          3596,
          5205,
          4785,
          5510
         ]
        },
        {
         "name": "Average Disposable Income Renters",
         "type": "bar",
         "x": [
          "18105000602",
          "18105000100",
          "18105000201",
          "18105000601",
          "18105001600",
          "18105000903",
          "18105000904"
         ],
         "y": [
          846.6700000000001,
          -75.08000000000004,
          811.5,
          1301.42,
          358.5,
          1442.08,
          1844.67
         ]
        },
        {
         "name": "Average Disposable Income Homeowners",
         "type": "bar",
         "x": [
          "18105000602",
          "18105000100",
          "18105000201",
          "18105000601",
          "18105001600",
          "18105000903",
          "18105000904"
         ],
         "y": [
          760.6700000000001,
          -1474.08,
          null,
          1112.42,
          null,
          824.0799999999999,
          1680.67
         ]
        },
        {
         "name": "Estimate number of residents under poverty line",
         "type": "bar",
         "x": [
          "18105000602",
          "18105000100",
          "18105000201",
          "18105000601",
          "18105001600",
          "18105000903",
          "18105000904"
         ],
         "y": [
          1134.0000000000002,
          2541,
          30,
          1299.0000000000002,
          3418.0000000000005,
          1273,
          1859.0000000000002
         ]
        }
       ],
       "layout": {
        "barmode": "group",
        "template": {
         "data": {
          "bar": [
           {
            "error_x": {
             "color": "#2a3f5f"
            },
            "error_y": {
             "color": "#2a3f5f"
            },
            "marker": {
             "line": {
              "color": "#E5ECF6",
              "width": 0.5
             },
             "pattern": {
              "fillmode": "overlay",
              "size": 10,
              "solidity": 0.2
             }
            },
            "type": "bar"
           }
          ],
          "barpolar": [
           {
            "marker": {
             "line": {
              "color": "#E5ECF6",
              "width": 0.5
             },
             "pattern": {
              "fillmode": "overlay",
              "size": 10,
              "solidity": 0.2
             }
            },
            "type": "barpolar"
           }
          ],
          "carpet": [
           {
            "aaxis": {
             "endlinecolor": "#2a3f5f",
             "gridcolor": "white",
             "linecolor": "white",
             "minorgridcolor": "white",
             "startlinecolor": "#2a3f5f"
            },
            "baxis": {
             "endlinecolor": "#2a3f5f",
             "gridcolor": "white",
             "linecolor": "white",
             "minorgridcolor": "white",
             "startlinecolor": "#2a3f5f"
            },
            "type": "carpet"
           }
          ],
          "choropleth": [
           {
            "colorbar": {
             "outlinewidth": 0,
             "ticks": ""
            },
            "type": "choropleth"
           }
          ],
          "contour": [
           {
            "colorbar": {
             "outlinewidth": 0,
             "ticks": ""
            },
            "colorscale": [
             [
              0,
              "#0d0887"
             ],
             [
              0.1111111111111111,
              "#46039f"
             ],
             [
              0.2222222222222222,
              "#7201a8"
             ],
             [
              0.3333333333333333,
              "#9c179e"
             ],
             [
              0.4444444444444444,
              "#bd3786"
             ],
             [
              0.5555555555555556,
              "#d8576b"
             ],
             [
              0.6666666666666666,
              "#ed7953"
             ],
             [
              0.7777777777777778,
              "#fb9f3a"
             ],
             [
              0.8888888888888888,
              "#fdca26"
             ],
             [
              1,
              "#f0f921"
             ]
            ],
            "type": "contour"
           }
          ],
          "contourcarpet": [
           {
            "colorbar": {
             "outlinewidth": 0,
             "ticks": ""
            },
            "type": "contourcarpet"
           }
          ],
          "heatmap": [
           {
            "colorbar": {
             "outlinewidth": 0,
             "ticks": ""
            },
            "colorscale": [
             [
              0,
              "#0d0887"
             ],
             [
              0.1111111111111111,
              "#46039f"
             ],
             [
              0.2222222222222222,
              "#7201a8"
             ],
             [
              0.3333333333333333,
              "#9c179e"
             ],
             [
              0.4444444444444444,
              "#bd3786"
             ],
             [
              0.5555555555555556,
              "#d8576b"
             ],
             [
              0.6666666666666666,
              "#ed7953"
             ],
             [
              0.7777777777777778,
              "#fb9f3a"
             ],
             [
              0.8888888888888888,
              "#fdca26"
             ],
             [
              1,
              "#f0f921"
             ]
            ],
            "type": "heatmap"
           }
          ],
          "heatmapgl": [
           {
            "colorbar": {
             "outlinewidth": 0,
             "ticks": ""
            },
            "colorscale": [
             [
              0,
              "#0d0887"
             ],
             [
              0.1111111111111111,
              "#46039f"
             ],
             [
              0.2222222222222222,
              "#7201a8"
             ],
             [
              0.3333333333333333,
              "#9c179e"
             ],
             [
              0.4444444444444444,
              "#bd3786"
             ],
             [
              0.5555555555555556,
              "#d8576b"
             ],
             [
              0.6666666666666666,
              "#ed7953"
             ],
             [
              0.7777777777777778,
              "#fb9f3a"
             ],
             [
              0.8888888888888888,
              "#fdca26"
             ],
             [
              1,
              "#f0f921"
             ]
            ],
            "type": "heatmapgl"
           }
          ],
          "histogram": [
           {
            "marker": {
             "pattern": {
              "fillmode": "overlay",
              "size": 10,
              "solidity": 0.2
             }
            },
            "type": "histogram"
           }
          ],
          "histogram2d": [
           {
            "colorbar": {
             "outlinewidth": 0,
             "ticks": ""
            },
            "colorscale": [
             [
              0,
              "#0d0887"
             ],
             [
              0.1111111111111111,
              "#46039f"
             ],
             [
              0.2222222222222222,
              "#7201a8"
             ],
             [
              0.3333333333333333,
              "#9c179e"
             ],
             [
              0.4444444444444444,
              "#bd3786"
             ],
             [
              0.5555555555555556,
              "#d8576b"
             ],
             [
              0.6666666666666666,
              "#ed7953"
             ],
             [
              0.7777777777777778,
              "#fb9f3a"
             ],
             [
              0.8888888888888888,
              "#fdca26"
             ],
             [
              1,
              "#f0f921"
             ]
            ],
            "type": "histogram2d"
           }
          ],
          "histogram2dcontour": [
           {
            "colorbar": {
             "outlinewidth": 0,
             "ticks": ""
            },
            "colorscale": [
             [
              0,
              "#0d0887"
             ],
             [
              0.1111111111111111,
              "#46039f"
             ],
             [
              0.2222222222222222,
              "#7201a8"
             ],
             [
              0.3333333333333333,
              "#9c179e"
             ],
             [
              0.4444444444444444,
              "#bd3786"
             ],
             [
              0.5555555555555556,
              "#d8576b"
             ],
             [
              0.6666666666666666,
              "#ed7953"
             ],
             [
              0.7777777777777778,
              "#fb9f3a"
             ],
             [
              0.8888888888888888,
              "#fdca26"
             ],
             [
              1,
              "#f0f921"
             ]
            ],
            "type": "histogram2dcontour"
           }
          ],
          "mesh3d": [
           {
            "colorbar": {
             "outlinewidth": 0,
             "ticks": ""
            },
            "type": "mesh3d"
           }
          ],
          "parcoords": [
           {
            "line": {
             "colorbar": {
              "outlinewidth": 0,
              "ticks": ""
             }
            },
            "type": "parcoords"
           }
          ],
          "pie": [
           {
            "automargin": true,
            "type": "pie"
           }
          ],
          "scatter": [
           {
            "fillpattern": {
             "fillmode": "overlay",
             "size": 10,
             "solidity": 0.2
            },
            "type": "scatter"
           }
          ],
          "scatter3d": [
           {
            "line": {
             "colorbar": {
              "outlinewidth": 0,
              "ticks": ""
             }
            },
            "marker": {
             "colorbar": {
              "outlinewidth": 0,
              "ticks": ""
             }
            },
            "type": "scatter3d"
           }
          ],
          "scattercarpet": [
           {
            "marker": {
             "colorbar": {
              "outlinewidth": 0,
              "ticks": ""
             }
            },
            "type": "scattercarpet"
           }
          ],
          "scattergeo": [
           {
            "marker": {
             "colorbar": {
              "outlinewidth": 0,
              "ticks": ""
             }
            },
            "type": "scattergeo"
           }
          ],
          "scattergl": [
           {
            "marker": {
             "colorbar": {
              "outlinewidth": 0,
              "ticks": ""
             }
            },
            "type": "scattergl"
           }
          ],
          "scattermapbox": [
           {
            "marker": {
             "colorbar": {
              "outlinewidth": 0,
              "ticks": ""
             }
            },
            "type": "scattermapbox"
           }
          ],
          "scatterpolar": [
           {
            "marker": {
             "colorbar": {
              "outlinewidth": 0,
              "ticks": ""
             }
            },
            "type": "scatterpolar"
           }
          ],
          "scatterpolargl": [
           {
            "marker": {
             "colorbar": {
              "outlinewidth": 0,
              "ticks": ""
             }
            },
            "type": "scatterpolargl"
           }
          ],
          "scatterternary": [
           {
            "marker": {
             "colorbar": {
              "outlinewidth": 0,
              "ticks": ""
             }
            },
            "type": "scatterternary"
           }
          ],
          "surface": [
           {
            "colorbar": {
             "outlinewidth": 0,
             "ticks": ""
            },
            "colorscale": [
             [
              0,
              "#0d0887"
             ],
             [
              0.1111111111111111,
              "#46039f"
             ],
             [
              0.2222222222222222,
              "#7201a8"
             ],
             [
              0.3333333333333333,
              "#9c179e"
             ],
             [
              0.4444444444444444,
              "#bd3786"
             ],
             [
              0.5555555555555556,
              "#d8576b"
             ],
             [
              0.6666666666666666,
              "#ed7953"
             ],
             [
              0.7777777777777778,
              "#fb9f3a"
             ],
             [
              0.8888888888888888,
              "#fdca26"
             ],
             [
              1,
              "#f0f921"
             ]
            ],
            "type": "surface"
           }
          ],
          "table": [
           {
            "cells": {
             "fill": {
              "color": "#EBF0F8"
             },
             "line": {
              "color": "white"
             }
            },
            "header": {
             "fill": {
              "color": "#C8D4E3"
             },
             "line": {
              "color": "white"
             }
            },
            "type": "table"
           }
          ]
         },
         "layout": {
          "annotationdefaults": {
           "arrowcolor": "#2a3f5f",
           "arrowhead": 0,
           "arrowwidth": 1
          },
          "autotypenumbers": "strict",
          "coloraxis": {
           "colorbar": {
            "outlinewidth": 0,
            "ticks": ""
           }
          },
          "colorscale": {
           "diverging": [
            [
             0,
             "#8e0152"
            ],
            [
             0.1,
             "#c51b7d"
            ],
            [
             0.2,
             "#de77ae"
            ],
            [
             0.3,
             "#f1b6da"
            ],
            [
             0.4,
             "#fde0ef"
            ],
            [
             0.5,
             "#f7f7f7"
            ],
            [
             0.6,
             "#e6f5d0"
            ],
            [
             0.7,
             "#b8e186"
            ],
            [
             0.8,
             "#7fbc41"
            ],
            [
             0.9,
             "#4d9221"
            ],
            [
             1,
             "#276419"
            ]
           ],
           "sequential": [
            [
             0,
             "#0d0887"
            ],
            [
             0.1111111111111111,
             "#46039f"
            ],
            [
             0.2222222222222222,
             "#7201a8"
            ],
            [
             0.3333333333333333,
             "#9c179e"
            ],
            [
             0.4444444444444444,
             "#bd3786"
            ],
            [
             0.5555555555555556,
             "#d8576b"
            ],
            [
             0.6666666666666666,
             "#ed7953"
            ],
            [
             0.7777777777777778,
             "#fb9f3a"
            ],
            [
             0.8888888888888888,
             "#fdca26"
            ],
            [
             1,
             "#f0f921"
            ]
           ],
           "sequentialminus": [
            [
             0,
             "#0d0887"
            ],
            [
             0.1111111111111111,
             "#46039f"
            ],
            [
             0.2222222222222222,
             "#7201a8"
            ],
            [
             0.3333333333333333,
             "#9c179e"
            ],
            [
             0.4444444444444444,
             "#bd3786"
            ],
            [
             0.5555555555555556,
             "#d8576b"
            ],
            [
             0.6666666666666666,
             "#ed7953"
            ],
            [
             0.7777777777777778,
             "#fb9f3a"
            ],
            [
             0.8888888888888888,
             "#fdca26"
            ],
            [
             1,
             "#f0f921"
            ]
           ]
          },
          "colorway": [
           "#636efa",
           "#EF553B",
           "#00cc96",
           "#ab63fa",
           "#FFA15A",
           "#19d3f3",
           "#FF6692",
           "#B6E880",
           "#FF97FF",
           "#FECB52"
          ],
          "font": {
           "color": "#2a3f5f"
          },
          "geo": {
           "bgcolor": "white",
           "lakecolor": "white",
           "landcolor": "#E5ECF6",
           "showlakes": true,
           "showland": true,
           "subunitcolor": "white"
          },
          "hoverlabel": {
           "align": "left"
          },
          "hovermode": "closest",
          "mapbox": {
           "style": "light"
          },
          "paper_bgcolor": "white",
          "plot_bgcolor": "#E5ECF6",
          "polar": {
           "angularaxis": {
            "gridcolor": "white",
            "linecolor": "white",
            "ticks": ""
           },
           "bgcolor": "#E5ECF6",
           "radialaxis": {
            "gridcolor": "white",
            "linecolor": "white",
            "ticks": ""
           }
          },
          "scene": {
           "xaxis": {
            "backgroundcolor": "#E5ECF6",
            "gridcolor": "white",
            "gridwidth": 2,
            "linecolor": "white",
            "showbackground": true,
            "ticks": "",
            "zerolinecolor": "white"
           },
           "yaxis": {
            "backgroundcolor": "#E5ECF6",
            "gridcolor": "white",
            "gridwidth": 2,
            "linecolor": "white",
            "showbackground": true,
            "ticks": "",
            "zerolinecolor": "white"
           },
           "zaxis": {
            "backgroundcolor": "#E5ECF6",
            "gridcolor": "white",
            "gridwidth": 2,
            "linecolor": "white",
            "showbackground": true,
            "ticks": "",
            "zerolinecolor": "white"
           }
          },
          "shapedefaults": {
           "line": {
            "color": "#2a3f5f"
           }
          },
          "ternary": {
           "aaxis": {
            "gridcolor": "white",
            "linecolor": "white",
            "ticks": ""
           },
           "baxis": {
            "gridcolor": "white",
            "linecolor": "white",
            "ticks": ""
           },
           "bgcolor": "#E5ECF6",
           "caxis": {
            "gridcolor": "white",
            "linecolor": "white",
            "ticks": ""
           }
          },
          "title": {
           "x": 0.05
          },
          "xaxis": {
           "automargin": true,
           "gridcolor": "white",
           "linecolor": "white",
           "ticks": "",
           "title": {
            "standoff": 15
           },
           "zerolinecolor": "white",
           "zerolinewidth": 2
          },
          "yaxis": {
           "automargin": true,
           "gridcolor": "white",
           "linecolor": "white",
           "ticks": "",
           "title": {
            "standoff": 15
           },
           "zerolinecolor": "white",
           "zerolinewidth": 2
          }
         }
        },
        "title": {
         "text": "Average Diposable Income and Population by Tract"
        },
        "xaxis": {
         "title": {
          "text": "Tract"
         }
        },
        "yaxis": {
         "title": {
          "text": "Values"
         }
        }
       }
      }
     },
     "metadata": {},
     "output_type": "display_data"
    }
   ],
   "source": [
    "import plotly.graph_objects as go\n",
    "import pandas as pd\n",
    "\n",
    "# plot population, disposable income for renters and homeowners, and estimated population under poverty line\n",
    "fig = go.Figure()\n",
    "\n",
    "fig.add_trace(go.Bar(x=subset_mon_merge['GEOID'], y=subset_mon_merge['B01003_001E'], name='Population'))\n",
    "\n",
    "fig.add_trace(go.Bar(x=subset_mon_merge['GEOID'], y=subset_mon_merge['ri_rent'], name='Average Disposable Income Renters'))\n",
    "\n",
    "fig.add_trace(go.Bar(x=subset_mon_merge['GEOID'], y=subset_mon_merge['ri_own'], name='Average Disposable Income Homeowners'))\n",
    "\n",
    "fig.add_trace(go.Bar(x=subset_mon_merge['GEOID'], y=subset_mon_merge['est_poverty_pop'], name='Estimate number of residents under poverty line'))\n",
    "\n",
    "fig.update_layout(barmode='group', title='Average Diposable Income and Population by Tract', xaxis_title='Tract', yaxis_title='Values')\n",
    "\n",
    "fig.show()"
   ]
  },
  {
   "cell_type": "markdown",
   "metadata": {},
   "source": [
    "This chart helps bring the issue into focus, we see clearly that tract 100 and 600 have noticeably higher resident poverty rates along with lower disposable income levels. This would make these tract ideal areas to target for affordable housing. The other areas are still important to target with the possible exception of tract 201 which despite having a low disposable income estimate for renters, seems to also have very low poverty rates despite a large population. Affordable housing may be an issue in 201 but since poverty rates are low it stands to reason that residents would have capacity to either accept the higher housing costs or relocated to other areas since they don't seem to lack for resources overall. We'll create an updated list level 1 indicating most urgent housing concerns, level 2 being moderately urgent and level 3 being less urgent."
   ]
  },
  {
   "cell_type": "code",
   "execution_count": 25,
   "metadata": {},
   "outputs": [],
   "source": [
    "#create subsets by level of housing affordability risk\n",
    "level1_geoids = ['18105000100', '18105001600']\n",
    "level2_geoids = ['18105000602', '18105000601','18105000903','18105000904']\n",
    "level3_geoids = ['18105000201']\n",
    "\n",
    "level1_monroe_df = monroe_df[monroe_df['GEOID'].isin(level1_geoids)]\n",
    "level2_monroe_df = monroe_df[monroe_df['GEOID'].isin(level2_geoids)]\n",
    "level3_monroe_df = monroe_df[monroe_df['GEOID'].isin(level3_geoids)]"
   ]
  },
  {
   "cell_type": "code",
   "execution_count": 26,
   "metadata": {},
   "outputs": [
    {
     "name": "stdout",
     "output_type": "stream",
     "text": [
      "The geograpical coordinate of Bloomington are 39.1670396, -86.5342881.\n"
     ]
    }
   ],
   "source": [
    "from geopy.geocoders import Nominatim\n",
    "\n",
    "#find the location of Bloomington to center the plot\n",
    "address = 'Bloomington, IN'\n",
    "\n",
    "geolocator = Nominatim(user_agent=\"CN_explorer\")\n",
    "location = geolocator.geocode(address)\n",
    "latitude = location.latitude\n",
    "longitude = location.longitude\n",
    "print('The geograpical coordinate of Bloomington are {}, {}.'.format(latitude, longitude))"
   ]
  },
  {
   "cell_type": "code",
   "execution_count": 27,
   "metadata": {},
   "outputs": [
    {
     "data": {
      "application/vnd.plotly.v1+json": {
       "config": {
        "plotlyServerURL": "https://plot.ly"
       },
       "data": [
        {
         "coloraxis": "coloraxis",
         "geojson": {
          "bbox": [
           -86.685758,
           38.990698999000074,
           -86.31738,
           39.355701999000075
          ],
          "features": [
           {
            "bbox": [
             -86.57328100099994,
             39.164493,
             -86.534508,
             39.187238999000044
            ],
            "geometry": {
             "coordinates": [
              [
               [
                [
                 -86.534508,
                 39.18631299900005
                ],
                [
                 -86.534698,
                 39.17899199900006
                ],
                [
                 -86.535934,
                 39.178997999000046
                ],
                [
                 -86.545825,
                 39.179039
                ],
                [
                 -86.547084,
                 39.17921299900007
                ],
                [
                 -86.5476,
                 39.17907299900003
                ],
                [
                 -86.556488,
                 39.17909399900003
                ],
                [
                 -86.55647999899998,
                 39.17491799900006
                ],
                [
                 -86.5545,
                 39.17254599900008
                ],
                [
                 -86.551468,
                 39.17070999900005
                ],
                [
                 -86.554251,
                 39.17075299900006
                ],
                [
                 -86.557857,
                 39.17187299900007
                ],
                [
                 -86.56499100099995,
                 39.172614999000075
                ],
                [
                 -86.56499,
                 39.16522299900004
                ],
                [
                 -86.564711,
                 39.16540899900008
                ],
                [
                 -86.563577,
                 39.16523699900006
                ],
                [
                 -86.563601,
                 39.164493
                ],
                [
                 -86.57328100099994,
                 39.164566999000044
                ],
                [
                 -86.573217,
                 39.16621099900004
                ],
                [
                 -86.572811,
                 39.16786099900003
                ],
                [
                 -86.57169,
                 39.16962299900007
                ],
                [
                 -86.570253,
                 39.17100699900004
                ],
                [
                 -86.562398,
                 39.17654599900004
                ],
                [
                 -86.558979,
                 39.17924099800007
                ],
                [
                 -86.557554,
                 39.180862999000055
                ],
                [
                 -86.556817,
                 39.18234399900007
                ],
                [
                 -86.555217,
                 39.187238999000044
                ],
                [
                 -86.541339,
                 39.18675999900006
                ],
                [
                 -86.534508,
                 39.18631299900005
                ]
               ]
              ]
             ],
             "type": "MultiPolygon"
            },
            "id": "93",
            "properties": {},
            "type": "Feature"
           },
           {
            "bbox": [
             -86.538701,
             39.161354,
             -86.526905,
             39.17327499900006
            ],
            "geometry": {
             "coordinates": [
              [
               [
                [
                 -86.526955,
                 39.16850199900006
                ],
                [
                 -86.526905,
                 39.164306999000075
                ],
                [
                 -86.528212,
                 39.16439999900007
                ],
                [
                 -86.528448,
                 39.16385799900007
                ],
                [
                 -86.528397,
                 39.161354
                ],
                [
                 -86.538699,
                 39.161395999000035
                ],
                [
                 -86.538701,
                 39.16463199900005
                ],
                [
                 -86.53857099899994,
                 39.17326999900007
                ],
                [
                 -86.533583,
                 39.17327499900006
                ],
                [
                 -86.533595,
                 39.17252699900007
                ],
                [
                 -86.52696700099995,
                 39.17256199900004
                ],
                [
                 -86.526955,
                 39.16850199900006
                ]
               ]
              ]
             ],
             "type": "MultiPolygon"
            },
            "id": "478",
            "properties": {},
            "type": "Feature"
           },
           {
            "bbox": [
             -86.528396,
             39.170655999000076,
             -86.501747,
             39.18629199900005
            ],
            "geometry": {
             "coordinates": [
              [
               [
                [
                 -86.502242,
                 39.17154899900004
                ],
                [
                 -86.501747,
                 39.170655999000076
                ],
                [
                 -86.506756,
                 39.17156999900004
                ],
                [
                 -86.521014,
                 39.174089
                ],
                [
                 -86.521096,
                 39.17902299900004
                ],
                [
                 -86.528326,
                 39.179008999000075
                ],
                [
                 -86.528396,
                 39.18629199900005
                ],
                [
                 -86.522163,
                 39.186239
                ],
                [
                 -86.518708,
                 39.18580399900003
                ],
                [
                 -86.514853,
                 39.18471899900004
                ],
                [
                 -86.511389,
                 39.18308299800003
                ],
                [
                 -86.508694,
                 39.18116199900004
                ],
                [
                 -86.506801,
                 39.179294999000035
                ],
                [
                 -86.505083,
                 39.176813999000046
                ],
                [
                 -86.502242,
                 39.17154899900004
                ]
               ]
              ]
             ],
             "type": "MultiPolygon"
            },
            "id": "479",
            "properties": {},
            "type": "Feature"
           },
           {
            "bbox": [
             -86.50945,
             39.150449999000045,
             -86.497639,
             39.17156999900004
            ],
            "geometry": {
             "coordinates": [
              [
               [
                [
                 -86.501747,
                 39.170655999000076
                ],
                [
                 -86.498296,
                 39.16422599900005
                ],
                [
                 -86.49773499899999,
                 39.161132999000074
                ],
                [
                 -86.497869,
                 39.15812599900005
                ],
                [
                 -86.497639,
                 39.153417999000055
                ],
                [
                 -86.497709,
                 39.151252
                ],
                [
                 -86.498245,
                 39.150471
                ],
                [
                 -86.508424,
                 39.150449999000045
                ],
                [
                 -86.50847700099996,
                 39.164265999000065
                ],
                [
                 -86.509408,
                 39.16426399900007
                ],
                [
                 -86.50945,
                 39.16823099900006
                ],
                [
                 -86.507171,
                 39.168213999000045
                ],
                [
                 -86.507211,
                 39.17133399900007
                ],
                [
                 -86.506756,
                 39.17156999900004
                ],
                [
                 -86.501747,
                 39.170655999000076
                ]
               ]
              ]
             ],
             "type": "MultiPolygon"
            },
            "id": "480",
            "properties": {},
            "type": "Feature"
           },
           {
            "bbox": [
             -86.606523,
             39.12181799900003,
             -86.571386,
             39.14202799900005
            ],
            "geometry": {
             "coordinates": [
              [
               [
                [
                 -86.573183,
                 39.136791999000025
                ],
                [
                 -86.57307299899998,
                 39.12734699900005
                ],
                [
                 -86.57254499899994,
                 39.12484399900006
                ],
                [
                 -86.571386,
                 39.12223499900006
                ],
                [
                 -86.573411,
                 39.12222699900008
                ],
                [
                 -86.57527,
                 39.12181799900003
                ],
                [
                 -86.576343,
                 39.12209899900006
                ],
                [
                 -86.577653,
                 39.122959998000056
                ],
                [
                 -86.580476,
                 39.12342299900007
                ],
                [
                 -86.582543,
                 39.123395999000024
                ],
                [
                 -86.582825,
                 39.122959998000056
                ],
                [
                 -86.584097,
                 39.12240199900003
                ],
                [
                 -86.58486600099997,
                 39.12229399900008
                ],
                [
                 -86.60571,
                 39.12230499900005
                ],
                [
                 -86.605714,
                 39.12692799900003
                ],
                [
                 -86.606523,
                 39.12788399900006
                ],
                [
                 -86.60429100099998,
                 39.129248999000026
                ],
                [
                 -86.605113,
                 39.131424999000046
                ],
                [
                 -86.606074,
                 39.13680799900004
                ],
                [
                 -86.595655,
                 39.136801999000056
                ],
                [
                 -86.594412,
                 39.13640199900004
                ],
                [
                 -86.589341,
                 39.13954599900006
                ],
                [
                 -86.588138,
                 39.140062999000065
                ],
                [
                 -86.584579,
                 39.14111199900003
                ],
                [
                 -86.582608,
                 39.14202799900005
                ],
                [
                 -86.582615,
                 39.136801999000056
                ],
                [
                 -86.573183,
                 39.136791999000025
                ]
               ]
              ]
             ],
             "type": "MultiPolygon"
            },
            "id": "482",
            "properties": {},
            "type": "Feature"
           },
           {
            "bbox": [
             -86.573696,
             38.99151499900006,
             -86.44809900099995,
             39.085256
            ],
            "geometry": {
             "coordinates": [
              [
               [
                [
                 -86.475106,
                 39.03656199900007
                ],
                [
                 -86.47557900099997,
                 39.03381499900007
                ],
                [
                 -86.47538400099995,
                 39.03223199900003
                ],
                [
                 -86.474392,
                 39.031254999000055
                ],
                [
                 -86.46912000099996,
                 39.02935199900003
                ],
                [
                 -86.468288,
                 39.02138399900008
                ],
                [
                 -86.46826700099996,
                 39.01956799900006
                ],
                [
                 -86.468803,
                 39.01787499900007
                ],
                [
                 -86.469633,
                 39.01714699900003
                ],
                [
                 -86.471396,
                 39.01605099900007
                ],
                [
                 -86.471697,
                 39.01443899900005
                ],
                [
                 -86.471143,
                 39.011666999000056
                ],
                [
                 -86.469657,
                 39.007351
                ],
                [
                 -86.466308,
                 39.003956999000025
                ],
                [
                 -86.463962,
                 39.002846
                ],
                [
                 -86.461791,
                 39.00119299900007
                ],
                [
                 -86.46065900099995,
                 39.000634999000056
                ],
                [
                 -86.459605,
                 39.000270999000065
                ],
                [
                 -86.454765,
                 38.99951999900003
                ],
                [
                 -86.453451,
                 38.998758999000074
                ],
                [
                 -86.44925599899994,
                 38.99845599900004
                ],
                [
                 -86.449147,
                 38.99505399900005
                ],
                [
                 -86.44809900099995,
                 38.992957
                ],
                [
                 -86.448203,
                 38.99226999900003
                ],
                [
                 -86.448829,
                 38.99151499900006
                ],
                [
                 -86.488261,
                 38.99192099900006
                ],
                [
                 -86.496316,
                 38.991730999000026
                ],
                [
                 -86.52361100099995,
                 38.992002
                ],
                [
                 -86.53047799899997,
                 38.991708999000025
                ],
                [
                 -86.534068,
                 38.99190499900004
                ],
                [
                 -86.537505,
                 38.991843999000025
                ],
                [
                 -86.54443700099995,
                 38.991753999000025
                ],
                [
                 -86.54801099899998,
                 38.99203199900006
                ],
                [
                 -86.573548,
                 38.992146999000056
                ],
                [
                 -86.5736,
                 39.01382999900005
                ],
                [
                 -86.573183,
                 39.04852199900006
                ],
                [
                 -86.573696,
                 39.06542899900006
                ],
                [
                 -86.573579,
                 39.06646499900006
                ],
                [
                 -86.573165,
                 39.06747399900007
                ],
                [
                 -86.573197,
                 39.07874699900003
                ],
                [
                 -86.56470200099994,
                 39.078573998000024
                ],
                [
                 -86.541727,
                 39.07856299900004
                ],
                [
                 -86.541272,
                 39.07963599900006
                ],
                [
                 -86.540918,
                 39.082280999000034
                ],
                [
                 -86.541309,
                 39.083277999000074
                ],
                [
                 -86.543007,
                 39.08458199800003
                ],
                [
                 -86.542731,
                 39.085256
                ],
                [
                 -86.538905,
                 39.08153099900005
                ],
                [
                 -86.53785599899999,
                 39.080182999000044
                ],
                [
                 -86.53703,
                 39.07863799900008
                ],
                [
                 -86.536448,
                 39.07624099900005
                ],
                [
                 -86.53624900099999,
                 39.04025399900007
                ],
                [
                 -86.535863,
                 39.03701699900006
                ],
                [
                 -86.534562,
                 39.03091399900006
                ],
                [
                 -86.53435500099994,
                 39.02891199900006
                ],
                [
                 -86.534652,
                 39.026522
                ],
                [
                 -86.536622,
                 39.02020199900005
                ],
                [
                 -86.53545099899998,
                 39.01961999800005
                ],
                [
                 -86.534874,
                 39.018928999000025
                ],
                [
                 -86.534313,
                 39.01919999900008
                ],
                [
                 -86.532843,
                 39.02068299900003
                ],
                [
                 -86.531996,
                 39.021073999000066
                ],
                [
                 -86.527333,
                 39.02139999900004
                ],
                [
                 -86.525828,
                 39.02111099900003
                ],
                [
                 -86.52458700099999,
                 39.02048799900007
                ],
                [
                 -86.522869,
                 39.01851099900006
                ],
                [
                 -86.522255,
                 39.018924999000035
                ],
                [
                 -86.52187,
                 39.020537999000055
                ],
                [
                 -86.521502,
                 39.027936999000076
                ],
                [
                 -86.520722,
                 39.033806999000035
                ],
                [
                 -86.52031300099998,
                 39.03452899900003
                ],
                [
                 -86.519605,
                 39.03490399900005
                ],
                [
                 -86.50266999899998,
                 39.034909999000035
                ],
                [
                 -86.500923,
                 39.03441699900003
                ],
                [
                 -86.498634,
                 39.03251899900005
                ],
                [
                 -86.49767600099995,
                 39.03211599900004
                ],
                [
                 -86.496315,
                 39.032011999000076
                ],
                [
                 -86.493841,
                 39.03232299900003
                ],
                [
                 -86.490093,
                 39.032478999000034
                ],
                [
                 -86.490537,
                 39.035101
                ],
                [
                 -86.492108,
                 39.03854099900008
                ],
                [
                 -86.491694,
                 39.042642999000066
                ],
                [
                 -86.49053,
                 39.04585099900004
                ],
                [
                 -86.483345,
                 39.04598999900003
                ],
                [
                 -86.482108,
                 39.04577499900006
                ],
                [
                 -86.481465,
                 39.04548199900006
                ],
                [
                 -86.48069,
                 39.04464499900007
                ],
                [
                 -86.480442,
                 39.043625
                ],
                [
                 -86.475106,
                 39.03656199900007
                ]
               ]
              ]
             ],
             "type": "MultiPolygon"
            },
            "id": "970",
            "properties": {},
            "type": "Feature"
           },
           {
            "bbox": [
             -86.56499100099995,
             39.163436999000055,
             -86.535934,
             39.17921299900007
            ],
            "geometry": {
             "coordinates": [
              [
               [
                [
                 -86.535934,
                 39.178997999000046
                ],
                [
                 -86.536,
                 39.17596499900003
                ],
                [
                 -86.537717,
                 39.175969999000074
                ],
                [
                 -86.537725,
                 39.17660899800006
                ],
                [
                 -86.538506,
                 39.17660999800006
                ],
                [
                 -86.53851399899997,
                 39.175057999000046
                ],
                [
                 -86.53810299899999,
                 39.174843999000075
                ],
                [
                 -86.538506,
                 39.17416699900008
                ],
                [
                 -86.53857099899994,
                 39.17326999900007
                ],
                [
                 -86.538701,
                 39.16463199900005
                ],
                [
                 -86.53985,
                 39.164634998000054
                ],
                [
                 -86.539926,
                 39.16428599900007
                ],
                [
                 -86.550219,
                 39.16437399900008
                ],
                [
                 -86.550731,
                 39.164171999000075
                ],
                [
                 -86.551275,
                 39.163436999000055
                ],
                [
                 -86.55196,
                 39.164400999000065
                ],
                [
                 -86.563601,
                 39.164493
                ],
                [
                 -86.563577,
                 39.16523699900006
                ],
                [
                 -86.564711,
                 39.16540899900008
                ],
                [
                 -86.56499,
                 39.16522299900004
                ],
                [
                 -86.56499100099995,
                 39.172614999000075
                ],
                [
                 -86.557857,
                 39.17187299900007
                ],
                [
                 -86.554251,
                 39.17075299900006
                ],
                [
                 -86.551468,
                 39.17070999900005
                ],
                [
                 -86.5545,
                 39.17254599900008
                ],
                [
                 -86.55647999899998,
                 39.17491799900006
                ],
                [
                 -86.556488,
                 39.17909399900003
                ],
                [
                 -86.5476,
                 39.17907299900003
                ],
                [
                 -86.547084,
                 39.17921299900007
                ],
                [
                 -86.545825,
                 39.179039
                ],
                [
                 -86.535934,
                 39.178997999000046
                ]
               ]
              ]
             ],
             "type": "MultiPolygon"
            },
            "id": "971",
            "properties": {},
            "type": "Feature"
           },
           {
            "bbox": [
             -86.544379,
             39.01851099900006,
             -86.449948,
             39.12144699900006
            ],
            "geometry": {
             "coordinates": [
              [
               [
                [
                 -86.461847,
                 39.10685599900006
                ],
                [
                 -86.461777,
                 39.105521999000075
                ],
                [
                 -86.462297,
                 39.103552999000044
                ],
                [
                 -86.461831,
                 39.10232999900006
                ],
                [
                 -86.46169,
                 39.10065499900003
                ],
                [
                 -86.46169500099995,
                 39.09431199800008
                ],
                [
                 -86.456604,
                 39.08769199900007
                ],
                [
                 -86.450855,
                 39.07816799900007
                ],
                [
                 -86.449948,
                 39.078179
                ],
                [
                 -86.451463,
                 39.070916999000076
                ],
                [
                 -86.452049,
                 39.06165499900004
                ],
                [
                 -86.454231,
                 39.056185
                ],
                [
                 -86.45695000099994,
                 39.052624999000045
                ],
                [
                 -86.461809,
                 39.048958999000035
                ],
                [
                 -86.463551,
                 39.04638599900005
                ],
                [
                 -86.465955,
                 39.04668199900004
                ],
                [
                 -86.472374,
                 39.04313399900008
                ],
                [
                 -86.474635,
                 39.038876999000024
                ],
                [
                 -86.475,
                 39.03799199900004
                ],
                [
                 -86.475106,
                 39.03656199900007
                ],
                [
                 -86.480442,
                 39.043625
                ],
                [
                 -86.48069,
                 39.04464499900007
                ],
                [
                 -86.481465,
                 39.04548199900006
                ],
                [
                 -86.482108,
                 39.04577499900006
                ],
                [
                 -86.483345,
                 39.04598999900003
                ],
                [
                 -86.49053,
                 39.04585099900004
                ],
                [
                 -86.491694,
                 39.042642999000066
                ],
                [
                 -86.492108,
                 39.03854099900008
                ],
                [
                 -86.490537,
                 39.035101
                ],
                [
                 -86.490093,
                 39.032478999000034
                ],
                [
                 -86.493841,
                 39.03232299900003
                ],
                [
                 -86.496315,
                 39.032011999000076
                ],
                [
                 -86.49767600099995,
                 39.03211599900004
                ],
                [
                 -86.498634,
                 39.03251899900005
                ],
                [
                 -86.500923,
                 39.03441699900003
                ],
                [
                 -86.50266999899998,
                 39.034909999000035
                ],
                [
                 -86.519605,
                 39.03490399900005
                ],
                [
                 -86.52031300099998,
                 39.03452899900003
                ],
                [
                 -86.520722,
                 39.033806999000035
                ],
                [
                 -86.521502,
                 39.027936999000076
                ],
                [
                 -86.52187,
                 39.020537999000055
                ],
                [
                 -86.522255,
                 39.018924999000035
                ],
                [
                 -86.522869,
                 39.01851099900006
                ],
                [
                 -86.52458700099999,
                 39.02048799900007
                ],
                [
                 -86.525828,
                 39.02111099900003
                ],
                [
                 -86.527333,
                 39.02139999900004
                ],
                [
                 -86.531996,
                 39.021073999000066
                ],
                [
                 -86.532843,
                 39.02068299900003
                ],
                [
                 -86.534313,
                 39.01919999900008
                ],
                [
                 -86.534874,
                 39.018928999000025
                ],
                [
                 -86.53545099899998,
                 39.01961999800005
                ],
                [
                 -86.536622,
                 39.02020199900005
                ],
                [
                 -86.534652,
                 39.026522
                ],
                [
                 -86.53435500099994,
                 39.02891199900006
                ],
                [
                 -86.534562,
                 39.03091399900006
                ],
                [
                 -86.535863,
                 39.03701699900006
                ],
                [
                 -86.53624900099999,
                 39.04025399900007
                ],
                [
                 -86.536448,
                 39.07624099900005
                ],
                [
                 -86.53703,
                 39.07863799900008
                ],
                [
                 -86.53785599899999,
                 39.080182999000044
                ],
                [
                 -86.538905,
                 39.08153099900005
                ],
                [
                 -86.542731,
                 39.085256
                ],
                [
                 -86.542282,
                 39.08585099900006
                ],
                [
                 -86.542262,
                 39.086217
                ],
                [
                 -86.54422899899998,
                 39.091093999000066
                ],
                [
                 -86.544379,
                 39.091953999000054
                ],
                [
                 -86.544061,
                 39.09318699900007
                ],
                [
                 -86.54238,
                 39.09579399900008
                ],
                [
                 -86.541695,
                 39.09650299900005
                ],
                [
                 -86.537757,
                 39.099401999000065
                ],
                [
                 -86.53605300099997,
                 39.10105899900003
                ],
                [
                 -86.534116,
                 39.10242899900004
                ],
                [
                 -86.532188,
                 39.104861999000036
                ],
                [
                 -86.5315,
                 39.107232999000075
                ],
                [
                 -86.52649500099994,
                 39.107187999000075
                ],
                [
                 -86.52665,
                 39.12144699900006
                ],
                [
                 -86.48998600099998,
                 39.121376
                ],
                [
                 -86.485231,
                 39.12068499900005
                ],
                [
                 -86.484189,
                 39.12017799900008
                ],
                [
                 -86.48326400099995,
                 39.12008999900007
                ],
                [
                 -86.480934,
                 39.11934799900007
                ],
                [
                 -86.476876,
                 39.117087999000034
                ],
                [
                 -86.47616300099997,
                 39.11615999900005
                ],
                [
                 -86.475127,
                 39.115567
                ],
                [
                 -86.4711,
                 39.11502899900006
                ],
                [
                 -86.467294,
                 39.11396699900007
                ],
                [
                 -86.464723,
                 39.11123099900004
                ],
                [
                 -86.463411,
                 39.108604
                ],
                [
                 -86.46208699899995,
                 39.10753499900005
                ],
                [
                 -86.461847,
                 39.10685599900006
                ]
               ]
              ]
             ],
             "type": "MultiPolygon"
            },
            "id": "972",
            "properties": {},
            "type": "Feature"
           },
           {
            "bbox": [
             -86.47557900099997,
             38.990698999000074,
             -86.31738,
             39.33975199900004
            ],
            "geometry": {
             "coordinates": [
              [
               [
                [
                 -86.372193,
                 39.23808299900003
                ],
                [
                 -86.371493,
                 39.19634399900008
                ],
                [
                 -86.370392,
                 39.178648
                ],
                [
                 -86.370192,
                 39.15264999900006
                ],
                [
                 -86.369692,
                 39.14374799900003
                ],
                [
                 -86.369246,
                 39.11193299900003
                ],
                [
                 -86.369285,
                 39.09568099900008
                ],
                [
                 -86.36911,
                 39.089642999000034
                ],
                [
                 -86.36920699899997,
                 39.081840999000065
                ],
                [
                 -86.369456,
                 39.08115199900004
                ],
                [
                 -86.369168,
                 39.07682599900005
                ],
                [
                 -86.369211,
                 39.06173299900007
                ],
                [
                 -86.370066,
                 39.04837499900003
                ],
                [
                 -86.35078200099997,
                 39.04902399900004
                ],
                [
                 -86.350756,
                 39.04868699900004
                ],
                [
                 -86.336993,
                 39.048947
                ],
                [
                 -86.318133,
                 39.04880999900007
                ],
                [
                 -86.317799,
                 39.002732999000045
                ],
                [
                 -86.31738,
                 39.000049999000055
                ],
                [
                 -86.31747400099994,
                 38.99086999900004
                ],
                [
                 -86.367515,
                 38.99087499900003
                ],
                [
                 -86.37499,
                 38.990698999000074
                ],
                [
                 -86.448829,
                 38.99151499900006
                ],
                [
                 -86.448203,
                 38.99226999900003
                ],
                [
                 -86.44809900099995,
                 38.992957
                ],
                [
                 -86.449147,
                 38.99505399900005
                ],
                [
                 -86.44925599899994,
                 38.99845599900004
                ],
                [
                 -86.453451,
                 38.998758999000074
                ],
                [
                 -86.454765,
                 38.99951999900003
                ],
                [
                 -86.459605,
                 39.000270999000065
                ],
                [
                 -86.46065900099995,
                 39.000634999000056
                ],
                [
                 -86.461791,
                 39.00119299900007
                ],
                [
                 -86.463962,
                 39.002846
                ],
                [
                 -86.466308,
                 39.003956999000025
                ],
                [
                 -86.469657,
                 39.007351
                ],
                [
                 -86.471143,
                 39.011666999000056
                ],
                [
                 -86.471697,
                 39.01443899900005
                ],
                [
                 -86.471396,
                 39.01605099900007
                ],
                [
                 -86.469633,
                 39.01714699900003
                ],
                [
                 -86.468803,
                 39.01787499900007
                ],
                [
                 -86.46826700099996,
                 39.01956799900006
                ],
                [
                 -86.468288,
                 39.02138399900008
                ],
                [
                 -86.46912000099996,
                 39.02935199900003
                ],
                [
                 -86.474392,
                 39.031254999000055
                ],
                [
                 -86.47538400099995,
                 39.03223199900003
                ],
                [
                 -86.47557900099997,
                 39.03381499900007
                ],
                [
                 -86.475106,
                 39.03656199900007
                ],
                [
                 -86.475,
                 39.03799199900004
                ],
                [
                 -86.474635,
                 39.038876999000024
                ],
                [
                 -86.472374,
                 39.04313399900008
                ],
                [
                 -86.465955,
                 39.04668199900004
                ],
                [
                 -86.463551,
                 39.04638599900005
                ],
                [
                 -86.461809,
                 39.048958999000035
                ],
                [
                 -86.45695000099994,
                 39.052624999000045
                ],
                [
                 -86.454231,
                 39.056185
                ],
                [
                 -86.452049,
                 39.06165499900004
                ],
                [
                 -86.451463,
                 39.070916999000076
                ],
                [
                 -86.449948,
                 39.078179
                ],
                [
                 -86.450855,
                 39.07816799900007
                ],
                [
                 -86.456604,
                 39.08769199900007
                ],
                [
                 -86.46169500099995,
                 39.09431199800008
                ],
                [
                 -86.46169,
                 39.10065499900003
                ],
                [
                 -86.461831,
                 39.10232999900006
                ],
                [
                 -86.462297,
                 39.103552999000044
                ],
                [
                 -86.461777,
                 39.105521999000075
                ],
                [
                 -86.461847,
                 39.10685599900006
                ],
                [
                 -86.462197,
                 39.14903899900003
                ],
                [
                 -86.462596,
                 39.16658599900006
                ],
                [
                 -86.462778,
                 39.185897999000076
                ],
                [
                 -86.467341,
                 39.185842999000045
                ],
                [
                 -86.468869,
                 39.18552
                ],
                [
                 -86.46829900099993,
                 39.18620899900003
                ],
                [
                 -86.468028,
                 39.186961
                ],
                [
                 -86.468182,
                 39.192064999000024
                ],
                [
                 -86.467777,
                 39.19310799900006
                ],
                [
                 -86.467884,
                 39.200358
                ],
                [
                 -86.466532,
                 39.202660999000045
                ],
                [
                 -86.463297,
                 39.20416699900005
                ],
                [
                 -86.463268,
                 39.210030999000026
                ],
                [
                 -86.463525,
                 39.21272799900004
                ],
                [
                 -86.463524,
                 39.223535999000035
                ],
                [
                 -86.463882,
                 39.230698999000026
                ],
                [
                 -86.464045,
                 39.25090299900006
                ],
                [
                 -86.464416,
                 39.279654
                ],
                [
                 -86.465042,
                 39.29444899900005
                ],
                [
                 -86.464746,
                 39.30920799900008
                ],
                [
                 -86.46438699899994,
                 39.309291
                ],
                [
                 -86.465115,
                 39.33829999900007
                ],
                [
                 -86.381395,
                 39.33975199900004
                ],
                [
                 -86.379937,
                 39.25108
                ],
                [
                 -86.372408,
                 39.250904999000056
                ],
                [
                 -86.372193,
                 39.23808299900003
                ]
               ]
              ]
             ],
             "type": "MultiPolygon"
            },
            "id": "1070",
            "properties": {},
            "type": "Feature"
           },
           {
            "bbox": [
             -86.574114,
             39.17654599900004,
             -86.463524,
             39.276725999000064
            ],
            "geometry": {
             "coordinates": [
              [
               [
                [
                 -86.464045,
                 39.25090299900006
                ],
                [
                 -86.463882,
                 39.230698999000026
                ],
                [
                 -86.463524,
                 39.223535999000035
                ],
                [
                 -86.463525,
                 39.21272799900004
                ],
                [
                 -86.468012,
                 39.21481299900006
                ],
                [
                 -86.468511,
                 39.21489199900003
                ],
                [
                 -86.477415,
                 39.214874999000074
                ],
                [
                 -86.478989,
                 39.21408499900008
                ],
                [
                 -86.480187,
                 39.21401399900003
                ],
                [
                 -86.481539,
                 39.21430599900003
                ],
                [
                 -86.48440900099996,
                 39.21413699900006
                ],
                [
                 -86.487252,
                 39.21292299800007
                ],
                [
                 -86.489574,
                 39.21268099900004
                ],
                [
                 -86.491565,
                 39.21290999900003
                ],
                [
                 -86.49448199899996,
                 39.21208799900006
                ],
                [
                 -86.49877,
                 39.21169599900003
                ],
                [
                 -86.502474,
                 39.211676999000076
                ],
                [
                 -86.505409,
                 39.21279799900003
                ],
                [
                 -86.50545400099998,
                 39.20829299900004
                ],
                [
                 -86.506735,
                 39.205043999000054
                ],
                [
                 -86.510438,
                 39.203346999000075
                ],
                [
                 -86.511308,
                 39.201686
                ],
                [
                 -86.511886,
                 39.201295
                ],
                [
                 -86.513228,
                 39.20081999900003
                ],
                [
                 -86.51460399899997,
                 39.20066699900008
                ],
                [
                 -86.514651,
                 39.19970999900005
                ],
                [
                 -86.513752,
                 39.198300999000026
                ],
                [
                 -86.51321999899994,
                 39.19677799900006
                ],
                [
                 -86.51390599899997,
                 39.19800699900003
                ],
                [
                 -86.515526,
                 39.199621999000044
                ],
                [
                 -86.521037,
                 39.202638999000044
                ],
                [
                 -86.52263700099996,
                 39.20445499900006
                ],
                [
                 -86.524648,
                 39.20486499900005
                ],
                [
                 -86.527909,
                 39.206148
                ],
                [
                 -86.52866699899994,
                 39.20607599900006
                ],
                [
                 -86.52872399899996,
                 39.208018999000046
                ],
                [
                 -86.529408,
                 39.20816799900007
                ],
                [
                 -86.531466,
                 39.208105999000054
                ],
                [
                 -86.534849,
                 39.20710799900007
                ],
                [
                 -86.53543499899996,
                 39.21023099900003
                ],
                [
                 -86.54055,
                 39.22730799900006
                ],
                [
                 -86.540859,
                 39.22976299900006
                ],
                [
                 -86.540732,
                 39.23281399900003
                ],
                [
                 -86.541371,
                 39.23412099900003
                ],
                [
                 -86.55243799899995,
                 39.217618
                ],
                [
                 -86.553172,
                 39.21645599900006
                ],
                [
                 -86.553963,
                 39.21433299900008
                ],
                [
                 -86.554181,
                 39.21229899900004
                ],
                [
                 -86.553946,
                 39.205249999000046
                ],
                [
                 -86.555217,
                 39.187238999000044
                ],
                [
                 -86.556817,
                 39.18234399900007
                ],
                [
                 -86.557554,
                 39.180862999000055
                ],
                [
                 -86.558979,
                 39.17924099800007
                ],
                [
                 -86.562398,
                 39.17654599900004
                ],
                [
                 -86.56262199899999,
                 39.17682299900008
                ],
                [
                 -86.561486,
                 39.17788999900006
                ],
                [
                 -86.561571,
                 39.17843399900005
                ],
                [
                 -86.56393,
                 39.179182999000034
                ],
                [
                 -86.567252,
                 39.18172899900003
                ],
                [
                 -86.56932799899994,
                 39.182964999000035
                ],
                [
                 -86.57245,
                 39.187075
                ],
                [
                 -86.57359500099994,
                 39.187969999000074
                ],
                [
                 -86.573725,
                 39.207673999000065
                ],
                [
                 -86.573885,
                 39.25168799900007
                ],
                [
                 -86.574114,
                 39.27582799900006
                ],
                [
                 -86.572931,
                 39.27648499900005
                ],
                [
                 -86.572083,
                 39.276725999000064
                ],
                [
                 -86.571475,
                 39.27670999800006
                ],
                [
                 -86.57080300099994,
                 39.276313999000024
                ],
                [
                 -86.56996899899997,
                 39.27546299900007
                ],
                [
                 -86.56968,
                 39.27453999900007
                ],
                [
                 -86.56934,
                 39.27427699900005
                ],
                [
                 -86.568506,
                 39.274440999000035
                ],
                [
                 -86.567644,
                 39.275314999000045
                ],
                [
                 -86.567199,
                 39.27535899900005
                ],
                [
                 -86.56702200099994,
                 39.27520499900004
                ],
                [
                 -86.567411,
                 39.273996999000076
                ],
                [
                 -86.567177,
                 39.272150999000075
                ],
                [
                 -86.56858399899994,
                 39.27063499900004
                ],
                [
                 -86.568739,
                 39.26961299800007
                ],
                [
                 -86.569559,
                 39.26731699900006
                ],
                [
                 -86.569608,
                 39.26648699900005
                ],
                [
                 -86.56938200099995,
                 39.266300999000066
                ],
                [
                 -86.56635,
                 39.26676199900004
                ],
                [
                 -86.565707,
                 39.26750899900003
                ],
                [
                 -86.565057,
                 39.26973399900004
                ],
                [
                 -86.564478,
                 39.27008599900006
                ],
                [
                 -86.563983,
                 39.27004199800007
                ],
                [
                 -86.563517,
                 39.26968999800005
                ],
                [
                 -86.56468300099993,
                 39.268623999000056
                ],
                [
                 -86.56435,
                 39.266668999000046
                ],
                [
                 -86.563679,
                 39.26593299900003
                ],
                [
                 -86.562704,
                 39.26616899900006
                ],
                [
                 -86.562895,
                 39.26736599900005
                ],
                [
                 -86.562492,
                 39.26768499900004
                ],
                [
                 -86.561418,
                 39.26794299900007
                ],
                [
                 -86.560125,
                 39.268519999000034
                ],
                [
                 -86.558733,
                 39.268552999000065
                ],
                [
                 -86.557885,
                 39.268755999000064
                ],
                [
                 -86.557404,
                 39.26853599900005
                ],
                [
                 -86.55703,
                 39.26655899900004
                ],
                [
                 -86.55715,
                 39.266278999000065
                ],
                [
                 -86.557588,
                 39.265756999000075
                ],
                [
                 -86.55869,
                 39.26542199900007
                ],
                [
                 -86.55905099899996,
                 39.26478499900003
                ],
                [
                 -86.55746800099996,
                 39.263899999000046
                ],
                [
                 -86.557277,
                 39.26319699800007
                ],
                [
                 -86.55772199899997,
                 39.26266399900004
                ],
                [
                 -86.55686,
                 39.262207999000054
                ],
                [
                 -86.555801,
                 39.26099399900005
                ],
                [
                 -86.554522,
                 39.26041699900003
                ],
                [
                 -86.55282600099997,
                 39.2605
                ],
                [
                 -86.552112,
                 39.259708999000054
                ],
                [
                 -86.552141,
                 39.259115
                ],
                [
                 -86.552635,
                 39.258807999000055
                ],
                [
                 -86.553497,
                 39.258867999000074
                ],
                [
                 -86.555864,
                 39.260147999000026
                ],
                [
                 -86.556387,
                 39.25998399900004
                ],
                [
                 -86.556762,
                 39.25943999900005
                ],
                [
                 -86.557482,
                 39.257188
                ],
                [
                 -86.557363,
                 39.25544099900003
                ],
                [
                 -86.556889,
                 39.25528199900003
                ],
                [
                 -86.555434,
                 39.255331
                ],
                [
                 -86.554706,
                 39.255006999000045
                ],
                [
                 -86.55472,
                 39.254627999000036
                ],
                [
                 -86.555179,
                 39.25429299900003
                ],
                [
                 -86.55619700099999,
                 39.254007
                ],
                [
                 -86.556282,
                 39.25357899900007
                ],
                [
                 -86.555582,
                 39.253006999000036
                ],
                [
                 -86.554162,
                 39.25282099900005
                ],
                [
                 -86.553435,
                 39.252484999000046
                ],
                [
                 -86.553491,
                 39.251891999000065
                ],
                [
                 -86.553753,
                 39.25167199900005
                ],
                [
                 -86.55485899899998,
                 39.25157599900007
                ],
                [
                 -86.528981,
                 39.251336
                ],
                [
                 -86.50961100099994,
                 39.25143999900007
                ],
                [
                 -86.502309,
                 39.25167399900005
                ],
                [
                 -86.49724500099995,
                 39.25144699900005
                ],
                [
                 -86.47642,
                 39.25118599900003
                ],
                [
                 -86.47278,
                 39.25091199900004
                ],
                [
                 -86.471005,
                 39.251047999000036
                ],
                [
                 -86.464045,
                 39.25090299900006
                ]
               ]
              ]
             ],
             "type": "MultiPolygon"
            },
            "id": "1071",
            "properties": {},
            "type": "Feature"
           },
           {
            "bbox": [
             -86.57328100099994,
             39.14748499900003,
             -86.538699,
             39.164634998000054
            ],
            "geometry": {
             "coordinates": [
              [
               [
                [
                 -86.538701,
                 39.16463199900005
                ],
                [
                 -86.538699,
                 39.161395999000035
                ],
                [
                 -86.538787,
                 39.150599999000065
                ],
                [
                 -86.53880400099996,
                 39.14962899900007
                ],
                [
                 -86.543138,
                 39.155635999000026
                ],
                [
                 -86.561408,
                 39.15613299900008
                ],
                [
                 -86.566519,
                 39.15278999900005
                ],
                [
                 -86.568778,
                 39.14991299900004
                ],
                [
                 -86.573246,
                 39.14748499900003
                ],
                [
                 -86.57328100099994,
                 39.164566999000044
                ],
                [
                 -86.563601,
                 39.164493
                ],
                [
                 -86.55196,
                 39.164400999000065
                ],
                [
                 -86.551275,
                 39.163436999000055
                ],
                [
                 -86.550731,
                 39.164171999000075
                ],
                [
                 -86.550219,
                 39.16437399900008
                ],
                [
                 -86.539926,
                 39.16428599900007
                ],
                [
                 -86.53985,
                 39.164634998000054
                ],
                [
                 -86.538701,
                 39.16463199900005
                ]
               ]
              ]
             ],
             "type": "MultiPolygon"
            },
            "id": "1072",
            "properties": {},
            "type": "Feature"
           },
           {
            "bbox": [
             -86.610547,
             39.13640199900004,
             -86.573183,
             39.16490899900003
            ],
            "geometry": {
             "coordinates": [
              [
               [
                [
                 -86.57328100099994,
                 39.164566999000044
                ],
                [
                 -86.573246,
                 39.14748499900003
                ],
                [
                 -86.573183,
                 39.136791999000025
                ],
                [
                 -86.582615,
                 39.136801999000056
                ],
                [
                 -86.582608,
                 39.14202799900005
                ],
                [
                 -86.584579,
                 39.14111199900003
                ],
                [
                 -86.588138,
                 39.140062999000065
                ],
                [
                 -86.589341,
                 39.13954599900006
                ],
                [
                 -86.594412,
                 39.13640199900004
                ],
                [
                 -86.595655,
                 39.136801999000056
                ],
                [
                 -86.606074,
                 39.13680799900004
                ],
                [
                 -86.61025700099998,
                 39.136820999000065
                ],
                [
                 -86.610547,
                 39.16490899900003
                ],
                [
                 -86.57328100099994,
                 39.164566999000044
                ]
               ]
              ]
             ],
             "type": "MultiPolygon"
            },
            "id": "1086",
            "properties": {},
            "type": "Feature"
           },
           {
            "bbox": [
             -86.68300199899994,
             38.99201099900006,
             -86.573165,
             39.165745998000034
            ],
            "geometry": {
             "coordinates": [
              [
               [
                [
                 -86.610547,
                 39.16490899900003
                ],
                [
                 -86.61025700099998,
                 39.136820999000065
                ],
                [
                 -86.606074,
                 39.13680799900004
                ],
                [
                 -86.605113,
                 39.131424999000046
                ],
                [
                 -86.60429100099998,
                 39.129248999000026
                ],
                [
                 -86.606523,
                 39.12788399900006
                ],
                [
                 -86.605714,
                 39.12692799900003
                ],
                [
                 -86.60571,
                 39.12230499900005
                ],
                [
                 -86.58486600099997,
                 39.12229399900008
                ],
                [
                 -86.584097,
                 39.12240199900003
                ],
                [
                 -86.582825,
                 39.122959998000056
                ],
                [
                 -86.582543,
                 39.123395999000024
                ],
                [
                 -86.580476,
                 39.12342299900007
                ],
                [
                 -86.577653,
                 39.122959998000056
                ],
                [
                 -86.576343,
                 39.12209899900006
                ],
                [
                 -86.57527,
                 39.12181799900003
                ],
                [
                 -86.573411,
                 39.12222699900008
                ],
                [
                 -86.573509,
                 39.106474999000056
                ],
                [
                 -86.573197,
                 39.07874699900003
                ],
                [
                 -86.573165,
                 39.06747399900007
                ],
                [
                 -86.573579,
                 39.06646499900006
                ],
                [
                 -86.573696,
                 39.06542899900006
                ],
                [
                 -86.573183,
                 39.04852199900006
                ],
                [
                 -86.5736,
                 39.01382999900005
                ],
                [
                 -86.573548,
                 38.992146999000056
                ],
                [
                 -86.58789,
                 38.99221299900006
                ],
                [
                 -86.595231,
                 38.99201099900006
                ],
                [
                 -86.606579,
                 38.992138999000076
                ],
                [
                 -86.609404,
                 38.99202499800003
                ],
                [
                 -86.621665,
                 38.99221199900006
                ],
                [
                 -86.68227700099999,
                 38.99240399900003
                ],
                [
                 -86.682091,
                 39.062364
                ],
                [
                 -86.68240099899998,
                 39.07984599900004
                ],
                [
                 -86.682302,
                 39.08668999900004
                ],
                [
                 -86.68300199899994,
                 39.165745998000034
                ],
                [
                 -86.639778,
                 39.16535599800005
                ],
                [
                 -86.629145,
                 39.16504899900008
                ],
                [
                 -86.610547,
                 39.16490899900003
                ]
               ]
              ]
             ],
             "type": "MultiPolygon"
            },
            "id": "1108",
            "properties": {},
            "type": "Feature"
           },
           {
            "bbox": [
             -86.659167,
             39.209078,
             -86.611361,
             39.25239
            ],
            "geometry": {
             "coordinates": [
              [
               [
                [
                 -86.65398299899994,
                 39.252372999000045
                ],
                [
                 -86.65211499899993,
                 39.25041899900003
                ],
                [
                 -86.64495299899994,
                 39.246551999000076
                ],
                [
                 -86.642601,
                 39.245974999000055
                ],
                [
                 -86.636957,
                 39.24575999900003
                ],
                [
                 -86.63537999899995,
                 39.24519199900004
                ],
                [
                 -86.634573,
                 39.24443499900008
                ],
                [
                 -86.628237,
                 39.236192999000025
                ],
                [
                 -86.614151,
                 39.22640699900006
                ],
                [
                 -86.611558,
                 39.220799999000064
                ],
                [
                 -86.612155,
                 39.22085099900005
                ],
                [
                 -86.611892,
                 39.22032099900008
                ],
                [
                 -86.611887,
                 39.21760099900007
                ],
                [
                 -86.611361,
                 39.21561299900003
                ],
                [
                 -86.611391,
                 39.209078
                ],
                [
                 -86.61608,
                 39.210305
                ],
                [
                 -86.61922,
                 39.21073899900006
                ],
                [
                 -86.624073,
                 39.21206199900007
                ],
                [
                 -86.627208,
                 39.213455999000075
                ],
                [
                 -86.630405,
                 39.21521499900007
                ],
                [
                 -86.630409,
                 39.21650499900005
                ],
                [
                 -86.658727,
                 39.216871999000034
                ],
                [
                 -86.659167,
                 39.25239
                ],
                [
                 -86.65398299899994,
                 39.252372999000045
                ]
               ]
              ]
             ],
             "type": "MultiPolygon"
            },
            "id": "1109",
            "properties": {},
            "type": "Feature"
           },
           {
            "bbox": [
             -86.548732,
             39.13595399900004,
             -86.5151,
             39.153309999000044
            ],
            "geometry": {
             "coordinates": [
              [
               [
                [
                 -86.522622,
                 39.15053099900007
                ],
                [
                 -86.515127,
                 39.150543999000035
                ],
                [
                 -86.5151,
                 39.148266
                ],
                [
                 -86.517488,
                 39.14827999900007
                ],
                [
                 -86.51739499899998,
                 39.14331499900004
                ],
                [
                 -86.516403,
                 39.14288399900005
                ],
                [
                 -86.515608,
                 39.14114599900006
                ],
                [
                 -86.515571,
                 39.140509
                ],
                [
                 -86.51576,
                 39.14033199900007
                ],
                [
                 -86.517092,
                 39.14031299900006
                ],
                [
                 -86.517591,
                 39.13994499900008
                ],
                [
                 -86.517479,
                 39.13599099900006
                ],
                [
                 -86.526891,
                 39.136004
                ],
                [
                 -86.535062,
                 39.13595399900004
                ],
                [
                 -86.548732,
                 39.13633499900004
                ],
                [
                 -86.541808,
                 39.143406999000035
                ],
                [
                 -86.539183,
                 39.145983999000066
                ],
                [
                 -86.53887600099995,
                 39.146073999000066
                ],
                [
                 -86.53880400099996,
                 39.14962899900007
                ],
                [
                 -86.538787,
                 39.150599999000065
                ],
                [
                 -86.5363,
                 39.15068899900007
                ],
                [
                 -86.53626,
                 39.153309999000044
                ],
                [
                 -86.535547,
                 39.14955099900004
                ],
                [
                 -86.534724,
                 39.148681
                ],
                [
                 -86.53519899899999,
                 39.14981399900006
                ],
                [
                 -86.535231,
                 39.15053699900005
                ],
                [
                 -86.522622,
                 39.15053099900007
                ]
               ]
              ]
             ],
             "type": "MultiPolygon"
            },
            "id": "1110",
            "properties": {},
            "type": "Feature"
           },
           {
            "bbox": [
             -86.573183,
             39.12144699900006,
             -86.52665,
             39.136791999000025
            ],
            "geometry": {
             "coordinates": [
              [
               [
                [
                 -86.548732,
                 39.13633499900004
                ],
                [
                 -86.535062,
                 39.13595399900004
                ],
                [
                 -86.526891,
                 39.136004
                ],
                [
                 -86.52665,
                 39.12144699900006
                ],
                [
                 -86.535504,
                 39.12146499900007
                ],
                [
                 -86.558373,
                 39.122133
                ],
                [
                 -86.56067199899996,
                 39.12199899900003
                ],
                [
                 -86.560787,
                 39.122134999000025
                ],
                [
                 -86.562487,
                 39.122175999000035
                ],
                [
                 -86.571386,
                 39.12223499900006
                ],
                [
                 -86.57254499899994,
                 39.12484399900006
                ],
                [
                 -86.57307299899998,
                 39.12734699900005
                ],
                [
                 -86.573183,
                 39.136791999000025
                ],
                [
                 -86.548732,
                 39.13633499900004
                ]
               ]
              ]
             ],
             "type": "MultiPolygon"
            },
            "id": "1120",
            "properties": {},
            "type": "Feature"
           },
           {
            "bbox": [
             -86.53857099899994,
             39.16848199900005,
             -86.520994,
             39.18631299900005
            ],
            "geometry": {
             "coordinates": [
              [
               [
                [
                 -86.528396,
                 39.18629199900005
                ],
                [
                 -86.528326,
                 39.179008999000075
                ],
                [
                 -86.521096,
                 39.17902299900004
                ],
                [
                 -86.521014,
                 39.174089
                ],
                [
                 -86.520994,
                 39.17161699900004
                ],
                [
                 -86.523503,
                 39.171635999000046
                ],
                [
                 -86.523484,
                 39.16848199900005
                ],
                [
                 -86.526955,
                 39.16850199900006
                ],
                [
                 -86.52696700099995,
                 39.17256199900004
                ],
                [
                 -86.533595,
                 39.17252699900007
                ],
                [
                 -86.533583,
                 39.17327499900006
                ],
                [
                 -86.53857099899994,
                 39.17326999900007
                ],
                [
                 -86.538506,
                 39.17416699900008
                ],
                [
                 -86.53810299899999,
                 39.174843999000075
                ],
                [
                 -86.53851399899997,
                 39.175057999000046
                ],
                [
                 -86.538506,
                 39.17660999800006
                ],
                [
                 -86.537725,
                 39.17660899800006
                ],
                [
                 -86.537717,
                 39.175969999000074
                ],
                [
                 -86.536,
                 39.17596499900003
                ],
                [
                 -86.535934,
                 39.178997999000046
                ],
                [
                 -86.534698,
                 39.17899199900006
                ],
                [
                 -86.534508,
                 39.18631299900005
                ],
                [
                 -86.528396,
                 39.18629199900005
                ]
               ]
              ]
             ],
             "type": "MultiPolygon"
            },
            "id": "1121",
            "properties": {},
            "type": "Feature"
           },
           {
            "bbox": [
             -86.502242,
             39.16422599900005,
             -86.462596,
             39.185897999000076
            ],
            "geometry": {
             "coordinates": [
              [
               [
                [
                 -86.462596,
                 39.16658599900006
                ],
                [
                 -86.467243,
                 39.166232
                ],
                [
                 -86.47154,
                 39.16450499900003
                ],
                [
                 -86.47264,
                 39.16427299900005
                ],
                [
                 -86.498296,
                 39.16422599900005
                ],
                [
                 -86.501747,
                 39.170655999000076
                ],
                [
                 -86.502242,
                 39.17154899900004
                ],
                [
                 -86.49008,
                 39.17153199900008
                ],
                [
                 -86.485947,
                 39.172029999000074
                ],
                [
                 -86.48429,
                 39.17200599900008
                ],
                [
                 -86.483332,
                 39.17222699900003
                ],
                [
                 -86.482586,
                 39.17279399900008
                ],
                [
                 -86.481334,
                 39.17511599900007
                ],
                [
                 -86.473898,
                 39.17950899900006
                ],
                [
                 -86.468869,
                 39.18552
                ],
                [
                 -86.467341,
                 39.185842999000045
                ],
                [
                 -86.462778,
                 39.185897999000076
                ],
                [
                 -86.462596,
                 39.16658599900006
                ]
               ]
              ]
             ],
             "type": "MultiPolygon"
            },
            "id": "1122",
            "properties": {},
            "type": "Feature"
           },
           {
            "bbox": [
             -86.498296,
             39.14903899900003,
             -86.462197,
             39.16658599900006
            ],
            "geometry": {
             "coordinates": [
              [
               [
                [
                 -86.462197,
                 39.14903899900003
                ],
                [
                 -86.463345,
                 39.149522999000055
                ],
                [
                 -86.463469,
                 39.15032899900007
                ],
                [
                 -86.46378599899998,
                 39.15049799900004
                ],
                [
                 -86.480461,
                 39.150209999000026
                ],
                [
                 -86.498245,
                 39.150471
                ],
                [
                 -86.497709,
                 39.151252
                ],
                [
                 -86.497639,
                 39.153417999000055
                ],
                [
                 -86.497869,
                 39.15812599900005
                ],
                [
                 -86.49773499899999,
                 39.161132999000074
                ],
                [
                 -86.498296,
                 39.16422599900005
                ],
                [
                 -86.47264,
                 39.16427299900005
                ],
                [
                 -86.47154,
                 39.16450499900003
                ],
                [
                 -86.467243,
                 39.166232
                ],
                [
                 -86.462596,
                 39.16658599900006
                ],
                [
                 -86.462197,
                 39.14903899900003
                ]
               ]
              ]
             ],
             "type": "MultiPolygon"
            },
            "id": "1123",
            "properties": {},
            "type": "Feature"
           },
           {
            "bbox": [
             -86.614151,
             39.187969999000074,
             -86.57359500099994,
             39.22640699900006
            ],
            "geometry": {
             "coordinates": [
              [
               [
                [
                 -86.573725,
                 39.207673999000065
                ],
                [
                 -86.57359500099994,
                 39.187969999000074
                ],
                [
                 -86.58206199899996,
                 39.19000899900004
                ],
                [
                 -86.586063,
                 39.19238599900007
                ],
                [
                 -86.590859,
                 39.19367599900005
                ],
                [
                 -86.593419,
                 39.195405
                ],
                [
                 -86.596554,
                 39.19628099900007
                ],
                [
                 -86.599153,
                 39.19820199900005
                ],
                [
                 -86.602075,
                 39.20163399900008
                ],
                [
                 -86.604088,
                 39.20444899900008
                ],
                [
                 -86.605885,
                 39.20813499900004
                ],
                [
                 -86.610379,
                 39.20830899900005
                ],
                [
                 -86.611377,
                 39.20860799900004
                ],
                [
                 -86.611391,
                 39.209078
                ],
                [
                 -86.611361,
                 39.21561299900003
                ],
                [
                 -86.611887,
                 39.21760099900007
                ],
                [
                 -86.611892,
                 39.22032099900008
                ],
                [
                 -86.612155,
                 39.22085099900005
                ],
                [
                 -86.611558,
                 39.220799999000064
                ],
                [
                 -86.614151,
                 39.22640699900006
                ],
                [
                 -86.611688,
                 39.22473099900003
                ],
                [
                 -86.599467,
                 39.21760199900007
                ],
                [
                 -86.597737,
                 39.21694199900003
                ],
                [
                 -86.59363099899997,
                 39.215771999000026
                ],
                [
                 -86.589791,
                 39.21300699900007
                ],
                [
                 -86.585891,
                 39.211699999000075
                ],
                [
                 -86.584198,
                 39.21084599900007
                ],
                [
                 -86.58098899899994,
                 39.20874699900003
                ],
                [
                 -86.57993100099998,
                 39.207771999000045
                ],
                [
                 -86.577821,
                 39.20809399900003
                ],
                [
                 -86.57538500099997,
                 39.20797299900005
                ],
                [
                 -86.573725,
                 39.207673999000065
                ]
               ]
              ]
             ],
             "type": "MultiPolygon"
            },
            "id": "1142",
            "properties": {},
            "type": "Feature"
           },
           {
            "bbox": [
             -86.526891,
             39.10685599900006,
             -86.461847,
             39.15049799900004
            ],
            "geometry": {
             "coordinates": [
              [
               [
                [
                 -86.462197,
                 39.14903899900003
                ],
                [
                 -86.461847,
                 39.10685599900006
                ],
                [
                 -86.46208699899995,
                 39.10753499900005
                ],
                [
                 -86.463411,
                 39.108604
                ],
                [
                 -86.464723,
                 39.11123099900004
                ],
                [
                 -86.467294,
                 39.11396699900007
                ],
                [
                 -86.4711,
                 39.11502899900006
                ],
                [
                 -86.475127,
                 39.115567
                ],
                [
                 -86.47616300099997,
                 39.11615999900005
                ],
                [
                 -86.476876,
                 39.117087999000034
                ],
                [
                 -86.480934,
                 39.11934799900007
                ],
                [
                 -86.48326400099995,
                 39.12008999900007
                ],
                [
                 -86.484189,
                 39.12017799900008
                ],
                [
                 -86.485231,
                 39.12068499900005
                ],
                [
                 -86.48998600099998,
                 39.121376
                ],
                [
                 -86.52665,
                 39.12144699900006
                ],
                [
                 -86.526891,
                 39.136004
                ],
                [
                 -86.517479,
                 39.13599099900006
                ],
                [
                 -86.509454,
                 39.136004
                ],
                [
                 -86.50818400099996,
                 39.13647999900007
                ],
                [
                 -86.50799599899995,
                 39.136363999000025
                ],
                [
                 -86.504884,
                 39.13640699900003
                ],
                [
                 -86.50290000099994,
                 39.13597799900003
                ],
                [
                 -86.48098799899998,
                 39.135717999000065
                ],
                [
                 -86.48038299899997,
                 39.13663299900003
                ],
                [
                 -86.480461,
                 39.150209999000026
                ],
                [
                 -86.46378599899998,
                 39.15049799900004
                ],
                [
                 -86.463469,
                 39.15032899900007
                ],
                [
                 -86.463345,
                 39.149522999000055
                ],
                [
                 -86.462197,
                 39.14903899900003
                ]
               ]
              ]
             ],
             "type": "MultiPolygon"
            },
            "id": "1143",
            "properties": {},
            "type": "Feature"
           },
           {
            "bbox": [
             -86.573509,
             39.07856299900004,
             -86.52649500099994,
             39.12223499900006
            ],
            "geometry": {
             "coordinates": [
              [
               [
                [
                 -86.571386,
                 39.12223499900006
                ],
                [
                 -86.562487,
                 39.122175999000035
                ],
                [
                 -86.560787,
                 39.122134999000025
                ],
                [
                 -86.56067199899996,
                 39.12199899900003
                ],
                [
                 -86.558373,
                 39.122133
                ],
                [
                 -86.535504,
                 39.12146499900007
                ],
                [
                 -86.52665,
                 39.12144699900006
                ],
                [
                 -86.52649500099994,
                 39.107187999000075
                ],
                [
                 -86.5315,
                 39.107232999000075
                ],
                [
                 -86.532188,
                 39.104861999000036
                ],
                [
                 -86.534116,
                 39.10242899900004
                ],
                [
                 -86.53605300099997,
                 39.10105899900003
                ],
                [
                 -86.537757,
                 39.099401999000065
                ],
                [
                 -86.541695,
                 39.09650299900005
                ],
                [
                 -86.54238,
                 39.09579399900008
                ],
                [
                 -86.544061,
                 39.09318699900007
                ],
                [
                 -86.544379,
                 39.091953999000054
                ],
                [
                 -86.54422899899998,
                 39.091093999000066
                ],
                [
                 -86.542262,
                 39.086217
                ],
                [
                 -86.542282,
                 39.08585099900006
                ],
                [
                 -86.542731,
                 39.085256
                ],
                [
                 -86.543007,
                 39.08458199800003
                ],
                [
                 -86.541309,
                 39.083277999000074
                ],
                [
                 -86.540918,
                 39.082280999000034
                ],
                [
                 -86.541272,
                 39.07963599900006
                ],
                [
                 -86.541727,
                 39.07856299900004
                ],
                [
                 -86.56470200099994,
                 39.078573998000024
                ],
                [
                 -86.573197,
                 39.07874699900003
                ],
                [
                 -86.573509,
                 39.106474999000056
                ],
                [
                 -86.573411,
                 39.12222699900008
                ],
                [
                 -86.571386,
                 39.12223499900006
                ]
               ]
              ]
             ],
             "type": "MultiPolygon"
            },
            "id": "1144",
            "properties": {},
            "type": "Feature"
           },
           {
            "bbox": [
             -86.65398299899994,
             39.207673999000065,
             -86.573725,
             39.25250999800005
            ],
            "geometry": {
             "coordinates": [
              [
               [
                [
                 -86.573885,
                 39.25168799900007
                ],
                [
                 -86.573725,
                 39.207673999000065
                ],
                [
                 -86.57538500099997,
                 39.20797299900005
                ],
                [
                 -86.577821,
                 39.20809399900003
                ],
                [
                 -86.57993100099998,
                 39.207771999000045
                ],
                [
                 -86.58098899899994,
                 39.20874699900003
                ],
                [
                 -86.584198,
                 39.21084599900007
                ],
                [
                 -86.585891,
                 39.211699999000075
                ],
                [
                 -86.589791,
                 39.21300699900007
                ],
                [
                 -86.59363099899997,
                 39.215771999000026
                ],
                [
                 -86.597737,
                 39.21694199900003
                ],
                [
                 -86.599467,
                 39.21760199900007
                ],
                [
                 -86.611688,
                 39.22473099900003
                ],
                [
                 -86.614151,
                 39.22640699900006
                ],
                [
                 -86.628237,
                 39.236192999000025
                ],
                [
                 -86.634573,
                 39.24443499900008
                ],
                [
                 -86.63537999899995,
                 39.24519199900004
                ],
                [
                 -86.636957,
                 39.24575999900003
                ],
                [
                 -86.642601,
                 39.245974999000055
                ],
                [
                 -86.64495299899994,
                 39.246551999000076
                ],
                [
                 -86.65211499899993,
                 39.25041899900003
                ],
                [
                 -86.65398299899994,
                 39.252372999000045
                ],
                [
                 -86.640996,
                 39.252245999000024
                ],
                [
                 -86.63942600099995,
                 39.25235999900008
                ],
                [
                 -86.635022,
                 39.252184999000065
                ],
                [
                 -86.634664,
                 39.25234099900007
                ],
                [
                 -86.624997,
                 39.25250999800005
                ],
                [
                 -86.621145,
                 39.252065999000024
                ],
                [
                 -86.573885,
                 39.25168799900007
                ]
               ]
              ]
             ],
             "type": "MultiPolygon"
            },
            "id": "1159",
            "properties": {},
            "type": "Feature"
           },
           {
            "bbox": [
             -86.555217,
             39.17153199900008,
             -86.463268,
             39.23412099900003
            ],
            "geometry": {
             "coordinates": [
              [
               [
                [
                 -86.463525,
                 39.21272799900004
                ],
                [
                 -86.463268,
                 39.210030999000026
                ],
                [
                 -86.463297,
                 39.20416699900005
                ],
                [
                 -86.466532,
                 39.202660999000045
                ],
                [
                 -86.467884,
                 39.200358
                ],
                [
                 -86.467777,
                 39.19310799900006
                ],
                [
                 -86.468182,
                 39.192064999000024
                ],
                [
                 -86.468028,
                 39.186961
                ],
                [
                 -86.46829900099993,
                 39.18620899900003
                ],
                [
                 -86.468869,
                 39.18552
                ],
                [
                 -86.473898,
                 39.17950899900006
                ],
                [
                 -86.481334,
                 39.17511599900007
                ],
                [
                 -86.482586,
                 39.17279399900008
                ],
                [
                 -86.483332,
                 39.17222699900003
                ],
                [
                 -86.48429,
                 39.17200599900008
                ],
                [
                 -86.485947,
                 39.172029999000074
                ],
                [
                 -86.49008,
                 39.17153199900008
                ],
                [
                 -86.502242,
                 39.17154899900004
                ],
                [
                 -86.505083,
                 39.176813999000046
                ],
                [
                 -86.506801,
                 39.179294999000035
                ],
                [
                 -86.508694,
                 39.18116199900004
                ],
                [
                 -86.511389,
                 39.18308299800003
                ],
                [
                 -86.514853,
                 39.18471899900004
                ],
                [
                 -86.518708,
                 39.18580399900003
                ],
                [
                 -86.522163,
                 39.186239
                ],
                [
                 -86.528396,
                 39.18629199900005
                ],
                [
                 -86.534508,
                 39.18631299900005
                ],
                [
                 -86.541339,
                 39.18675999900006
                ],
                [
                 -86.555217,
                 39.187238999000044
                ],
                [
                 -86.553946,
                 39.205249999000046
                ],
                [
                 -86.554181,
                 39.21229899900004
                ],
                [
                 -86.553963,
                 39.21433299900008
                ],
                [
                 -86.553172,
                 39.21645599900006
                ],
                [
                 -86.55243799899995,
                 39.217618
                ],
                [
                 -86.541371,
                 39.23412099900003
                ],
                [
                 -86.540732,
                 39.23281399900003
                ],
                [
                 -86.540859,
                 39.22976299900006
                ],
                [
                 -86.54055,
                 39.22730799900006
                ],
                [
                 -86.53543499899996,
                 39.21023099900003
                ],
                [
                 -86.534849,
                 39.20710799900007
                ],
                [
                 -86.531466,
                 39.208105999000054
                ],
                [
                 -86.529408,
                 39.20816799900007
                ],
                [
                 -86.52872399899996,
                 39.208018999000046
                ],
                [
                 -86.52866699899994,
                 39.20607599900006
                ],
                [
                 -86.527909,
                 39.206148
                ],
                [
                 -86.524648,
                 39.20486499900005
                ],
                [
                 -86.52263700099996,
                 39.20445499900006
                ],
                [
                 -86.521037,
                 39.202638999000044
                ],
                [
                 -86.515526,
                 39.199621999000044
                ],
                [
                 -86.51390599899997,
                 39.19800699900003
                ],
                [
                 -86.51321999899994,
                 39.19677799900006
                ],
                [
                 -86.513752,
                 39.198300999000026
                ],
                [
                 -86.514651,
                 39.19970999900005
                ],
                [
                 -86.51460399899997,
                 39.20066699900008
                ],
                [
                 -86.513228,
                 39.20081999900003
                ],
                [
                 -86.511886,
                 39.201295
                ],
                [
                 -86.511308,
                 39.201686
                ],
                [
                 -86.510438,
                 39.203346999000075
                ],
                [
                 -86.506735,
                 39.205043999000054
                ],
                [
                 -86.50545400099998,
                 39.20829299900004
                ],
                [
                 -86.505409,
                 39.21279799900003
                ],
                [
                 -86.502474,
                 39.211676999000076
                ],
                [
                 -86.49877,
                 39.21169599900003
                ],
                [
                 -86.49448199899996,
                 39.21208799900006
                ],
                [
                 -86.491565,
                 39.21290999900003
                ],
                [
                 -86.489574,
                 39.21268099900004
                ],
                [
                 -86.487252,
                 39.21292299800007
                ],
                [
                 -86.48440900099996,
                 39.21413699900006
                ],
                [
                 -86.481539,
                 39.21430599900003
                ],
                [
                 -86.480187,
                 39.21401399900003
                ],
                [
                 -86.478989,
                 39.21408499900008
                ],
                [
                 -86.477415,
                 39.214874999000074
                ],
                [
                 -86.468511,
                 39.21489199900003
                ],
                [
                 -86.468012,
                 39.21481299900006
                ],
                [
                 -86.463525,
                 39.21272799900004
                ]
               ]
              ]
             ],
             "type": "MultiPolygon"
            },
            "id": "1174",
            "properties": {},
            "type": "Feature"
           },
           {
            "bbox": [
             -86.517591,
             39.135717999000065,
             -86.48038299899997,
             39.150543999000035
            ],
            "geometry": {
             "coordinates": [
              [
               [
                [
                 -86.508424,
                 39.150449999000045
                ],
                [
                 -86.498245,
                 39.150471
                ],
                [
                 -86.480461,
                 39.150209999000026
                ],
                [
                 -86.48038299899997,
                 39.13663299900003
                ],
                [
                 -86.48098799899998,
                 39.135717999000065
                ],
                [
                 -86.50290000099994,
                 39.13597799900003
                ],
                [
                 -86.504884,
                 39.13640699900003
                ],
                [
                 -86.50799599899995,
                 39.136363999000025
                ],
                [
                 -86.50818400099996,
                 39.13647999900007
                ],
                [
                 -86.509454,
                 39.136004
                ],
                [
                 -86.517479,
                 39.13599099900006
                ],
                [
                 -86.517591,
                 39.13994499900008
                ],
                [
                 -86.517092,
                 39.14031299900006
                ],
                [
                 -86.51576,
                 39.14033199900007
                ],
                [
                 -86.515571,
                 39.140509
                ],
                [
                 -86.515608,
                 39.14114599900006
                ],
                [
                 -86.516403,
                 39.14288399900005
                ],
                [
                 -86.51739499899998,
                 39.14331499900004
                ],
                [
                 -86.517488,
                 39.14827999900007
                ],
                [
                 -86.5151,
                 39.148266
                ],
                [
                 -86.515127,
                 39.150543999000035
                ],
                [
                 -86.508424,
                 39.150449999000045
                ]
               ]
              ]
             ],
             "type": "MultiPolygon"
            },
            "id": "1175",
            "properties": {},
            "type": "Feature"
           },
           {
            "bbox": [
             -86.574332,
             39.25090299900006,
             -86.464045,
             39.33968099900005
            ],
            "geometry": {
             "coordinates": [
              [
               [
                [
                 -86.492904,
                 39.33864299900006
                ],
                [
                 -86.474008,
                 39.338681
                ],
                [
                 -86.465115,
                 39.33829999900007
                ],
                [
                 -86.46438699899994,
                 39.309291
                ],
                [
                 -86.464746,
                 39.30920799900008
                ],
                [
                 -86.465042,
                 39.29444899900005
                ],
                [
                 -86.464416,
                 39.279654
                ],
                [
                 -86.464045,
                 39.25090299900006
                ],
                [
                 -86.471005,
                 39.251047999000036
                ],
                [
                 -86.47278,
                 39.25091199900004
                ],
                [
                 -86.47642,
                 39.25118599900003
                ],
                [
                 -86.49724500099995,
                 39.25144699900005
                ],
                [
                 -86.502309,
                 39.25167399900005
                ],
                [
                 -86.50961100099994,
                 39.25143999900007
                ],
                [
                 -86.528981,
                 39.251336
                ],
                [
                 -86.55485899899998,
                 39.25157599900007
                ],
                [
                 -86.553753,
                 39.25167199900005
                ],
                [
                 -86.553491,
                 39.251891999000065
                ],
                [
                 -86.553435,
                 39.252484999000046
                ],
                [
                 -86.554162,
                 39.25282099900005
                ],
                [
                 -86.555582,
                 39.253006999000036
                ],
                [
                 -86.556282,
                 39.25357899900007
                ],
                [
                 -86.55619700099999,
                 39.254007
                ],
                [
                 -86.555179,
                 39.25429299900003
                ],
                [
                 -86.55472,
                 39.254627999000036
                ],
                [
                 -86.554706,
                 39.255006999000045
                ],
                [
                 -86.555434,
                 39.255331
                ],
                [
                 -86.556889,
                 39.25528199900003
                ],
                [
                 -86.557363,
                 39.25544099900003
                ],
                [
                 -86.557482,
                 39.257188
                ],
                [
                 -86.556762,
                 39.25943999900005
                ],
                [
                 -86.556387,
                 39.25998399900004
                ],
                [
                 -86.555864,
                 39.260147999000026
                ],
                [
                 -86.553497,
                 39.258867999000074
                ],
                [
                 -86.552635,
                 39.258807999000055
                ],
                [
                 -86.552141,
                 39.259115
                ],
                [
                 -86.552112,
                 39.259708999000054
                ],
                [
                 -86.55282600099997,
                 39.2605
                ],
                [
                 -86.554522,
                 39.26041699900003
                ],
                [
                 -86.555801,
                 39.26099399900005
                ],
                [
                 -86.55686,
                 39.262207999000054
                ],
                [
                 -86.55772199899997,
                 39.26266399900004
                ],
                [
                 -86.557277,
                 39.26319699800007
                ],
                [
                 -86.55746800099996,
                 39.263899999000046
                ],
                [
                 -86.55905099899996,
                 39.26478499900003
                ],
                [
                 -86.55869,
                 39.26542199900007
                ],
                [
                 -86.557588,
                 39.265756999000075
                ],
                [
                 -86.55715,
                 39.266278999000065
                ],
                [
                 -86.55703,
                 39.26655899900004
                ],
                [
                 -86.557404,
                 39.26853599900005
                ],
                [
                 -86.557885,
                 39.268755999000064
                ],
                [
                 -86.558733,
                 39.268552999000065
                ],
                [
                 -86.560125,
                 39.268519999000034
                ],
                [
                 -86.561418,
                 39.26794299900007
                ],
                [
                 -86.562492,
                 39.26768499900004
                ],
                [
                 -86.562895,
                 39.26736599900005
                ],
                [
                 -86.562704,
                 39.26616899900006
                ],
                [
                 -86.563679,
                 39.26593299900003
                ],
                [
                 -86.56435,
                 39.266668999000046
                ],
                [
                 -86.56468300099993,
                 39.268623999000056
                ],
                [
                 -86.563517,
                 39.26968999800005
                ],
                [
                 -86.563983,
                 39.27004199800007
                ],
                [
                 -86.564478,
                 39.27008599900006
                ],
                [
                 -86.565057,
                 39.26973399900004
                ],
                [
                 -86.565707,
                 39.26750899900003
                ],
                [
                 -86.56635,
                 39.26676199900004
                ],
                [
                 -86.56938200099995,
                 39.266300999000066
                ],
                [
                 -86.569608,
                 39.26648699900005
                ],
                [
                 -86.569559,
                 39.26731699900006
                ],
                [
                 -86.568739,
                 39.26961299800007
                ],
                [
                 -86.56858399899994,
                 39.27063499900004
                ],
                [
                 -86.567177,
                 39.272150999000075
                ],
                [
                 -86.567411,
                 39.273996999000076
                ],
                [
                 -86.56702200099994,
                 39.27520499900004
                ],
                [
                 -86.567199,
                 39.27535899900005
                ],
                [
                 -86.567644,
                 39.275314999000045
                ],
                [
                 -86.568506,
                 39.274440999000035
                ],
                [
                 -86.56934,
                 39.27427699900005
                ],
                [
                 -86.56968,
                 39.27453999900007
                ],
                [
                 -86.56996899899997,
                 39.27546299900007
                ],
                [
                 -86.57080300099994,
                 39.276313999000024
                ],
                [
                 -86.571475,
                 39.27670999800006
                ],
                [
                 -86.572083,
                 39.276725999000064
                ],
                [
                 -86.572931,
                 39.27648499900005
                ],
                [
                 -86.574114,
                 39.27582799900006
                ],
                [
                 -86.574332,
                 39.30085599900008
                ],
                [
                 -86.57412499899993,
                 39.31327199900005
                ],
                [
                 -86.57428,
                 39.33968099900005
                ],
                [
                 -86.53505800099998,
                 39.338995999000076
                ],
                [
                 -86.492904,
                 39.33864299900006
                ]
               ]
              ]
             ],
             "type": "MultiPolygon"
            },
            "id": "1176",
            "properties": {},
            "type": "Feature"
           },
           {
            "bbox": [
             -86.685758,
             39.164566999000044,
             -86.561486,
             39.355701999000075
            ],
            "geometry": {
             "coordinates": [
              [
               [
                [
                 -86.63081799899999,
                 39.346947999000065
                ],
                [
                 -86.630844,
                 39.34075499800008
                ],
                [
                 -86.607185,
                 39.340133999000045
                ],
                [
                 -86.57428,
                 39.33968099900005
                ],
                [
                 -86.57412499899993,
                 39.31327199900005
                ],
                [
                 -86.574332,
                 39.30085599900008
                ],
                [
                 -86.574114,
                 39.27582799900006
                ],
                [
                 -86.573885,
                 39.25168799900007
                ],
                [
                 -86.621145,
                 39.252065999000024
                ],
                [
                 -86.624997,
                 39.25250999800005
                ],
                [
                 -86.634664,
                 39.25234099900007
                ],
                [
                 -86.635022,
                 39.252184999000065
                ],
                [
                 -86.63942600099995,
                 39.25235999900008
                ],
                [
                 -86.640996,
                 39.252245999000024
                ],
                [
                 -86.65398299899994,
                 39.252372999000045
                ],
                [
                 -86.659167,
                 39.25239
                ],
                [
                 -86.658727,
                 39.216871999000034
                ],
                [
                 -86.630409,
                 39.21650499900005
                ],
                [
                 -86.630405,
                 39.21521499900007
                ],
                [
                 -86.627208,
                 39.213455999000075
                ],
                [
                 -86.624073,
                 39.21206199900007
                ],
                [
                 -86.61922,
                 39.21073899900006
                ],
                [
                 -86.61608,
                 39.210305
                ],
                [
                 -86.611391,
                 39.209078
                ],
                [
                 -86.611377,
                 39.20860799900004
                ],
                [
                 -86.610379,
                 39.20830899900005
                ],
                [
                 -86.605885,
                 39.20813499900004
                ],
                [
                 -86.604088,
                 39.20444899900008
                ],
                [
                 -86.602075,
                 39.20163399900008
                ],
                [
                 -86.599153,
                 39.19820199900005
                ],
                [
                 -86.596554,
                 39.19628099900007
                ],
                [
                 -86.593419,
                 39.195405
                ],
                [
                 -86.590859,
                 39.19367599900005
                ],
                [
                 -86.586063,
                 39.19238599900007
                ],
                [
                 -86.58206199899996,
                 39.19000899900004
                ],
                [
                 -86.57359500099994,
                 39.187969999000074
                ],
                [
                 -86.57245,
                 39.187075
                ],
                [
                 -86.56932799899994,
                 39.182964999000035
                ],
                [
                 -86.567252,
                 39.18172899900003
                ],
                [
                 -86.56393,
                 39.179182999000034
                ],
                [
                 -86.561571,
                 39.17843399900005
                ],
                [
                 -86.561486,
                 39.17788999900006
                ],
                [
                 -86.56262199899999,
                 39.17682299900008
                ],
                [
                 -86.562398,
                 39.17654599900004
                ],
                [
                 -86.570253,
                 39.17100699900004
                ],
                [
                 -86.57169,
                 39.16962299900007
                ],
                [
                 -86.572811,
                 39.16786099900003
                ],
                [
                 -86.573217,
                 39.16621099900004
                ],
                [
                 -86.57328100099994,
                 39.164566999000044
                ],
                [
                 -86.610547,
                 39.16490899900003
                ],
                [
                 -86.629145,
                 39.16504899900008
                ],
                [
                 -86.639778,
                 39.16535599800005
                ],
                [
                 -86.68300199899994,
                 39.165745998000034
                ],
                [
                 -86.684772,
                 39.28163699900006
                ],
                [
                 -86.68498600099997,
                 39.28991699900007
                ],
                [
                 -86.684752,
                 39.28993899900007
                ],
                [
                 -86.685015,
                 39.292789999000036
                ],
                [
                 -86.685758,
                 39.321150999000054
                ],
                [
                 -86.68561,
                 39.33604299900003
                ],
                [
                 -86.68204100099996,
                 39.33547199900005
                ],
                [
                 -86.678254,
                 39.33309599900008
                ],
                [
                 -86.675954,
                 39.33196399900004
                ],
                [
                 -86.675118,
                 39.331754999000054
                ],
                [
                 -86.672034,
                 39.331699
                ],
                [
                 -86.66696200099994,
                 39.32925799900005
                ],
                [
                 -86.665839,
                 39.32911199800003
                ],
                [
                 -86.665512,
                 39.329286
                ],
                [
                 -86.665847,
                 39.331665
                ],
                [
                 -86.665167,
                 39.333074999000075
                ],
                [
                 -86.66453000099995,
                 39.333771
                ],
                [
                 -86.66377299899995,
                 39.334148999000035
                ],
                [
                 -86.662976,
                 39.33424199800004
                ],
                [
                 -86.66228300099993,
                 39.33409699900005
                ],
                [
                 -86.661691,
                 39.33392099900004
                ],
                [
                 -86.661122,
                 39.33347499900003
                ],
                [
                 -86.660614,
                 39.33287099900008
                ],
                [
                 -86.659848,
                 39.33085499900005
                ],
                [
                 -86.658776,
                 39.330099
                ],
                [
                 -86.65762800099998,
                 39.33010999900006
                ],
                [
                 -86.65638,
                 39.33064599900007
                ],
                [
                 -86.65550699899995,
                 39.33147599900008
                ],
                [
                 -86.655067,
                 39.33264399900003
                ],
                [
                 -86.655062,
                 39.33379099800004
                ],
                [
                 -86.655518,
                 39.33525399800004
                ],
                [
                 -86.655596,
                 39.33698499900004
                ],
                [
                 -86.656012,
                 39.33867299900004
                ],
                [
                 -86.655335,
                 39.33999799900005
                ],
                [
                 -86.655794,
                 39.340853999000046
                ],
                [
                 -86.65661599899994,
                 39.34138899900006
                ],
                [
                 -86.657054,
                 39.342366999000035
                ],
                [
                 -86.659137,
                 39.344337
                ],
                [
                 -86.65928799899996,
                 39.344748999000046
                ],
                [
                 -86.658911,
                 39.34725199900004
                ],
                [
                 -86.658642,
                 39.34783299900005
                ],
                [
                 -86.658721,
                 39.34951999900005
                ],
                [
                 -86.658398,
                 39.350283999000055
                ],
                [
                 -86.65596,
                 39.351288999000076
                ],
                [
                 -86.655002,
                 39.35189299900003
                ],
                [
                 -86.653425,
                 39.35433899900005
                ],
                [
                 -86.652465,
                 39.35519099900006
                ],
                [
                 -86.651551,
                 39.355593
                ],
                [
                 -86.650479,
                 39.355701999000075
                ],
                [
                 -86.649524,
                 39.355518998000036
                ],
                [
                 -86.64819499899994,
                 39.35477299900003
                ],
                [
                 -86.642856,
                 39.351024
                ],
                [
                 -86.642158,
                 39.350931
                ],
                [
                 -86.641658,
                 39.3506
                ],
                [
                 -86.641357,
                 39.34960299900007
                ],
                [
                 -86.640379,
                 39.34827299900007
                ],
                [
                 -86.639192,
                 39.34804499900008
                ],
                [
                 -86.638063,
                 39.34806399900003
                ],
                [
                 -86.637787,
                 39.34830999900004
                ],
                [
                 -86.63628600099997,
                 39.347656
                ],
                [
                 -86.634809,
                 39.348737999000036
                ],
                [
                 -86.63407599899995,
                 39.348783999000034
                ],
                [
                 -86.633319,
                 39.34852299900007
                ],
                [
                 -86.63081799899999,
                 39.346947999000065
                ]
               ]
              ]
             ],
             "type": "MultiPolygon"
            },
            "id": "1177",
            "properties": {},
            "type": "Feature"
           },
           {
            "bbox": [
             -86.526955,
             39.16425399900004,
             -86.506756,
             39.174089
            ],
            "geometry": {
             "coordinates": [
              [
               [
                [
                 -86.506756,
                 39.17156999900004
                ],
                [
                 -86.507211,
                 39.17133399900007
                ],
                [
                 -86.507171,
                 39.168213999000045
                ],
                [
                 -86.50945,
                 39.16823099900006
                ],
                [
                 -86.509408,
                 39.16426399900007
                ],
                [
                 -86.522628,
                 39.16425399900004
                ],
                [
                 -86.526905,
                 39.164306999000075
                ],
                [
                 -86.526955,
                 39.16850199900006
                ],
                [
                 -86.523484,
                 39.16848199900005
                ],
                [
                 -86.523503,
                 39.171635999000046
                ],
                [
                 -86.520994,
                 39.17161699900004
                ],
                [
                 -86.521014,
                 39.174089
                ],
                [
                 -86.506756,
                 39.17156999900004
                ]
               ]
              ]
             ],
             "type": "MultiPolygon"
            },
            "id": "1192",
            "properties": {},
            "type": "Feature"
           },
           {
            "bbox": [
             -86.522628,
             39.150449999000045,
             -86.508424,
             39.164265999000065
            ],
            "geometry": {
             "coordinates": [
              [
               [
                [
                 -86.509408,
                 39.16426399900007
                ],
                [
                 -86.50847700099996,
                 39.164265999000065
                ],
                [
                 -86.508424,
                 39.150449999000045
                ],
                [
                 -86.515127,
                 39.150543999000035
                ],
                [
                 -86.522622,
                 39.15053099900007
                ],
                [
                 -86.522628,
                 39.16425399900004
                ],
                [
                 -86.509408,
                 39.16426399900007
                ]
               ]
              ]
             ],
             "type": "MultiPolygon"
            },
            "id": "1193",
            "properties": {},
            "type": "Feature"
           },
           {
            "bbox": [
             -86.538787,
             39.148681,
             -86.522622,
             39.16439999900007
            ],
            "geometry": {
             "coordinates": [
              [
               [
                [
                 -86.526905,
                 39.164306999000075
                ],
                [
                 -86.522628,
                 39.16425399900004
                ],
                [
                 -86.522622,
                 39.15053099900007
                ],
                [
                 -86.535231,
                 39.15053699900005
                ],
                [
                 -86.53519899899999,
                 39.14981399900006
                ],
                [
                 -86.534724,
                 39.148681
                ],
                [
                 -86.535547,
                 39.14955099900004
                ],
                [
                 -86.53626,
                 39.153309999000044
                ],
                [
                 -86.5363,
                 39.15068899900007
                ],
                [
                 -86.538787,
                 39.150599999000065
                ],
                [
                 -86.538699,
                 39.161395999000035
                ],
                [
                 -86.528397,
                 39.161354
                ],
                [
                 -86.528448,
                 39.16385799900007
                ],
                [
                 -86.528212,
                 39.16439999900007
                ],
                [
                 -86.526905,
                 39.164306999000075
                ]
               ]
              ]
             ],
             "type": "MultiPolygon"
            },
            "id": "1194",
            "properties": {},
            "type": "Feature"
           },
           {
            "bbox": [
             -86.573246,
             39.13633499900004,
             -86.53880400099996,
             39.15613299900008
            ],
            "geometry": {
             "coordinates": [
              [
               [
                [
                 -86.53880400099996,
                 39.14962899900007
                ],
                [
                 -86.53887600099995,
                 39.146073999000066
                ],
                [
                 -86.539183,
                 39.145983999000066
                ],
                [
                 -86.541808,
                 39.143406999000035
                ],
                [
                 -86.548732,
                 39.13633499900004
                ],
                [
                 -86.573183,
                 39.136791999000025
                ],
                [
                 -86.573246,
                 39.14748499900003
                ],
                [
                 -86.568778,
                 39.14991299900004
                ],
                [
                 -86.566519,
                 39.15278999900005
                ],
                [
                 -86.561408,
                 39.15613299900008
                ],
                [
                 -86.543138,
                 39.155635999000026
                ],
                [
                 -86.53880400099996,
                 39.14962899900007
                ]
               ]
              ]
             ],
             "type": "MultiPolygon"
            },
            "id": "1195",
            "properties": {},
            "type": "Feature"
           }
          ],
          "type": "FeatureCollection"
         },
         "hovertemplate": "index=%{location}<br>Disposable Income=%{z}<extra></extra>",
         "locations": [
          93,
          478,
          479,
          480,
          482,
          970,
          971,
          972,
          1070,
          1071,
          1072,
          1086,
          1108,
          1109,
          1110,
          1120,
          1121,
          1122,
          1123,
          1142,
          1143,
          1144,
          1159,
          1174,
          1175,
          1176,
          1177,
          1192,
          1193,
          1194,
          1195
         ],
         "marker": {
          "opacity": 0.6
         },
         "name": "",
         "subplot": "mapbox",
         "type": "choroplethmapbox",
         "z": [
          846.6700000000001,
          -75.08000000000004,
          811.5,
          2392.75,
          2931.58,
          4903.58,
          1301.42,
          5628.75,
          4784,
          4462.33,
          2370,
          2727.08,
          4294.75,
          2791.67,
          1819.67,
          3183.33,
          358.5,
          1442.08,
          1844.67,
          4328.42,
          3880.83,
          3905.33,
          4158,
          3101.42,
          6268.75,
          4736.08,
          3360.58,
          null,
          4306.42,
          1857.5,
          2359.58
         ]
        },
        {
         "hoverinfo": "text",
         "lat": [
          39.16725001585407,
          39.177161077338695
         ],
         "lon": [
          -86.53306127955874,
          -86.52928186314146
         ],
         "marker": {
          "color": "red",
          "size": 10
         },
         "mode": "markers",
         "text": [
          "18105000100",
          "18105001600"
         ],
         "type": "scattermapbox"
        },
        {
         "hoverinfo": "text",
         "lat": [
          39.1782993528163,
          39.17118287781259,
          39.17194457434991,
          39.15751274944196
         ],
         "lon": [
          -86.55302588376995,
          -86.54973341745472,
          -86.47727446694194,
          -86.47965125612377
         ],
         "marker": {
          "color": "blue",
          "size": 10
         },
         "mode": "markers",
         "text": [
          "18105000602",
          "18105000601",
          "18105000903",
          "18105000904"
         ],
         "type": "scattermapbox"
        },
        {
         "hoverinfo": "text",
         "lat": [
          39.17901530832135
         ],
         "lon": [
          -86.51591294899178
         ],
         "marker": {
          "color": "green",
          "size": 10
         },
         "mode": "markers",
         "text": [
          "18105000201"
         ],
         "type": "scattermapbox"
        }
       ],
       "layout": {
        "coloraxis": {
         "cmax": 7000,
         "cmin": 0,
         "colorbar": {
          "dtick": 1000,
          "len": 150,
          "lenmode": "pixels",
          "thickness": 10,
          "thicknessmode": "pixels",
          "ticks": "outside",
          "title": {
           "text": "Disposable Income"
          },
          "y": 0.8,
          "yanchor": "top"
         },
         "colorscale": [
          [
           0,
           "#440154"
          ],
          [
           0.1111111111111111,
           "#482878"
          ],
          [
           0.2222222222222222,
           "#3e4989"
          ],
          [
           0.3333333333333333,
           "#31688e"
          ],
          [
           0.4444444444444444,
           "#26828e"
          ],
          [
           0.5555555555555556,
           "#1f9e89"
          ],
          [
           0.6666666666666666,
           "#35b779"
          ],
          [
           0.7777777777777778,
           "#6ece58"
          ],
          [
           0.8888888888888888,
           "#b5de2b"
          ],
          [
           1,
           "#fde725"
          ]
         ]
        },
        "height": 800,
        "legend": {
         "tracegroupgap": 0
        },
        "mapbox": {
         "accesstoken": "pk.eyJ1IjoicGVldmVlNDQiLCJhIjoiY2xwb2pmaTVxMG84aTJxbmpuOTFseWg5NiJ9.l5pZpLYQce5cW7iZyPPX0g",
         "center": {
          "lat": 39.1670396,
          "lon": -86.5342881
         },
         "domain": {
          "x": [
           0,
           1
          ],
          "y": [
           0,
           1
          ]
         },
         "style": "open-street-map",
         "zoom": 10
        },
        "margin": {
         "b": 5,
         "l": 5,
         "r": 5,
         "t": 35
        },
        "template": {
         "data": {
          "bar": [
           {
            "error_x": {
             "color": "#2a3f5f"
            },
            "error_y": {
             "color": "#2a3f5f"
            },
            "marker": {
             "line": {
              "color": "#E5ECF6",
              "width": 0.5
             },
             "pattern": {
              "fillmode": "overlay",
              "size": 10,
              "solidity": 0.2
             }
            },
            "type": "bar"
           }
          ],
          "barpolar": [
           {
            "marker": {
             "line": {
              "color": "#E5ECF6",
              "width": 0.5
             },
             "pattern": {
              "fillmode": "overlay",
              "size": 10,
              "solidity": 0.2
             }
            },
            "type": "barpolar"
           }
          ],
          "carpet": [
           {
            "aaxis": {
             "endlinecolor": "#2a3f5f",
             "gridcolor": "white",
             "linecolor": "white",
             "minorgridcolor": "white",
             "startlinecolor": "#2a3f5f"
            },
            "baxis": {
             "endlinecolor": "#2a3f5f",
             "gridcolor": "white",
             "linecolor": "white",
             "minorgridcolor": "white",
             "startlinecolor": "#2a3f5f"
            },
            "type": "carpet"
           }
          ],
          "choropleth": [
           {
            "colorbar": {
             "outlinewidth": 0,
             "ticks": ""
            },
            "type": "choropleth"
           }
          ],
          "contour": [
           {
            "colorbar": {
             "outlinewidth": 0,
             "ticks": ""
            },
            "colorscale": [
             [
              0,
              "#0d0887"
             ],
             [
              0.1111111111111111,
              "#46039f"
             ],
             [
              0.2222222222222222,
              "#7201a8"
             ],
             [
              0.3333333333333333,
              "#9c179e"
             ],
             [
              0.4444444444444444,
              "#bd3786"
             ],
             [
              0.5555555555555556,
              "#d8576b"
             ],
             [
              0.6666666666666666,
              "#ed7953"
             ],
             [
              0.7777777777777778,
              "#fb9f3a"
             ],
             [
              0.8888888888888888,
              "#fdca26"
             ],
             [
              1,
              "#f0f921"
             ]
            ],
            "type": "contour"
           }
          ],
          "contourcarpet": [
           {
            "colorbar": {
             "outlinewidth": 0,
             "ticks": ""
            },
            "type": "contourcarpet"
           }
          ],
          "heatmap": [
           {
            "colorbar": {
             "outlinewidth": 0,
             "ticks": ""
            },
            "colorscale": [
             [
              0,
              "#0d0887"
             ],
             [
              0.1111111111111111,
              "#46039f"
             ],
             [
              0.2222222222222222,
              "#7201a8"
             ],
             [
              0.3333333333333333,
              "#9c179e"
             ],
             [
              0.4444444444444444,
              "#bd3786"
             ],
             [
              0.5555555555555556,
              "#d8576b"
             ],
             [
              0.6666666666666666,
              "#ed7953"
             ],
             [
              0.7777777777777778,
              "#fb9f3a"
             ],
             [
              0.8888888888888888,
              "#fdca26"
             ],
             [
              1,
              "#f0f921"
             ]
            ],
            "type": "heatmap"
           }
          ],
          "heatmapgl": [
           {
            "colorbar": {
             "outlinewidth": 0,
             "ticks": ""
            },
            "colorscale": [
             [
              0,
              "#0d0887"
             ],
             [
              0.1111111111111111,
              "#46039f"
             ],
             [
              0.2222222222222222,
              "#7201a8"
             ],
             [
              0.3333333333333333,
              "#9c179e"
             ],
             [
              0.4444444444444444,
              "#bd3786"
             ],
             [
              0.5555555555555556,
              "#d8576b"
             ],
             [
              0.6666666666666666,
              "#ed7953"
             ],
             [
              0.7777777777777778,
              "#fb9f3a"
             ],
             [
              0.8888888888888888,
              "#fdca26"
             ],
             [
              1,
              "#f0f921"
             ]
            ],
            "type": "heatmapgl"
           }
          ],
          "histogram": [
           {
            "marker": {
             "pattern": {
              "fillmode": "overlay",
              "size": 10,
              "solidity": 0.2
             }
            },
            "type": "histogram"
           }
          ],
          "histogram2d": [
           {
            "colorbar": {
             "outlinewidth": 0,
             "ticks": ""
            },
            "colorscale": [
             [
              0,
              "#0d0887"
             ],
             [
              0.1111111111111111,
              "#46039f"
             ],
             [
              0.2222222222222222,
              "#7201a8"
             ],
             [
              0.3333333333333333,
              "#9c179e"
             ],
             [
              0.4444444444444444,
              "#bd3786"
             ],
             [
              0.5555555555555556,
              "#d8576b"
             ],
             [
              0.6666666666666666,
              "#ed7953"
             ],
             [
              0.7777777777777778,
              "#fb9f3a"
             ],
             [
              0.8888888888888888,
              "#fdca26"
             ],
             [
              1,
              "#f0f921"
             ]
            ],
            "type": "histogram2d"
           }
          ],
          "histogram2dcontour": [
           {
            "colorbar": {
             "outlinewidth": 0,
             "ticks": ""
            },
            "colorscale": [
             [
              0,
              "#0d0887"
             ],
             [
              0.1111111111111111,
              "#46039f"
             ],
             [
              0.2222222222222222,
              "#7201a8"
             ],
             [
              0.3333333333333333,
              "#9c179e"
             ],
             [
              0.4444444444444444,
              "#bd3786"
             ],
             [
              0.5555555555555556,
              "#d8576b"
             ],
             [
              0.6666666666666666,
              "#ed7953"
             ],
             [
              0.7777777777777778,
              "#fb9f3a"
             ],
             [
              0.8888888888888888,
              "#fdca26"
             ],
             [
              1,
              "#f0f921"
             ]
            ],
            "type": "histogram2dcontour"
           }
          ],
          "mesh3d": [
           {
            "colorbar": {
             "outlinewidth": 0,
             "ticks": ""
            },
            "type": "mesh3d"
           }
          ],
          "parcoords": [
           {
            "line": {
             "colorbar": {
              "outlinewidth": 0,
              "ticks": ""
             }
            },
            "type": "parcoords"
           }
          ],
          "pie": [
           {
            "automargin": true,
            "type": "pie"
           }
          ],
          "scatter": [
           {
            "fillpattern": {
             "fillmode": "overlay",
             "size": 10,
             "solidity": 0.2
            },
            "type": "scatter"
           }
          ],
          "scatter3d": [
           {
            "line": {
             "colorbar": {
              "outlinewidth": 0,
              "ticks": ""
             }
            },
            "marker": {
             "colorbar": {
              "outlinewidth": 0,
              "ticks": ""
             }
            },
            "type": "scatter3d"
           }
          ],
          "scattercarpet": [
           {
            "marker": {
             "colorbar": {
              "outlinewidth": 0,
              "ticks": ""
             }
            },
            "type": "scattercarpet"
           }
          ],
          "scattergeo": [
           {
            "marker": {
             "colorbar": {
              "outlinewidth": 0,
              "ticks": ""
             }
            },
            "type": "scattergeo"
           }
          ],
          "scattergl": [
           {
            "marker": {
             "colorbar": {
              "outlinewidth": 0,
              "ticks": ""
             }
            },
            "type": "scattergl"
           }
          ],
          "scattermapbox": [
           {
            "marker": {
             "colorbar": {
              "outlinewidth": 0,
              "ticks": ""
             }
            },
            "type": "scattermapbox"
           }
          ],
          "scatterpolar": [
           {
            "marker": {
             "colorbar": {
              "outlinewidth": 0,
              "ticks": ""
             }
            },
            "type": "scatterpolar"
           }
          ],
          "scatterpolargl": [
           {
            "marker": {
             "colorbar": {
              "outlinewidth": 0,
              "ticks": ""
             }
            },
            "type": "scatterpolargl"
           }
          ],
          "scatterternary": [
           {
            "marker": {
             "colorbar": {
              "outlinewidth": 0,
              "ticks": ""
             }
            },
            "type": "scatterternary"
           }
          ],
          "surface": [
           {
            "colorbar": {
             "outlinewidth": 0,
             "ticks": ""
            },
            "colorscale": [
             [
              0,
              "#0d0887"
             ],
             [
              0.1111111111111111,
              "#46039f"
             ],
             [
              0.2222222222222222,
              "#7201a8"
             ],
             [
              0.3333333333333333,
              "#9c179e"
             ],
             [
              0.4444444444444444,
              "#bd3786"
             ],
             [
              0.5555555555555556,
              "#d8576b"
             ],
             [
              0.6666666666666666,
              "#ed7953"
             ],
             [
              0.7777777777777778,
              "#fb9f3a"
             ],
             [
              0.8888888888888888,
              "#fdca26"
             ],
             [
              1,
              "#f0f921"
             ]
            ],
            "type": "surface"
           }
          ],
          "table": [
           {
            "cells": {
             "fill": {
              "color": "#EBF0F8"
             },
             "line": {
              "color": "white"
             }
            },
            "header": {
             "fill": {
              "color": "#C8D4E3"
             },
             "line": {
              "color": "white"
             }
            },
            "type": "table"
           }
          ]
         },
         "layout": {
          "annotationdefaults": {
           "arrowcolor": "#2a3f5f",
           "arrowhead": 0,
           "arrowwidth": 1
          },
          "autotypenumbers": "strict",
          "coloraxis": {
           "colorbar": {
            "outlinewidth": 0,
            "ticks": ""
           }
          },
          "colorscale": {
           "diverging": [
            [
             0,
             "#8e0152"
            ],
            [
             0.1,
             "#c51b7d"
            ],
            [
             0.2,
             "#de77ae"
            ],
            [
             0.3,
             "#f1b6da"
            ],
            [
             0.4,
             "#fde0ef"
            ],
            [
             0.5,
             "#f7f7f7"
            ],
            [
             0.6,
             "#e6f5d0"
            ],
            [
             0.7,
             "#b8e186"
            ],
            [
             0.8,
             "#7fbc41"
            ],
            [
             0.9,
             "#4d9221"
            ],
            [
             1,
             "#276419"
            ]
           ],
           "sequential": [
            [
             0,
             "#0d0887"
            ],
            [
             0.1111111111111111,
             "#46039f"
            ],
            [
             0.2222222222222222,
             "#7201a8"
            ],
            [
             0.3333333333333333,
             "#9c179e"
            ],
            [
             0.4444444444444444,
             "#bd3786"
            ],
            [
             0.5555555555555556,
             "#d8576b"
            ],
            [
             0.6666666666666666,
             "#ed7953"
            ],
            [
             0.7777777777777778,
             "#fb9f3a"
            ],
            [
             0.8888888888888888,
             "#fdca26"
            ],
            [
             1,
             "#f0f921"
            ]
           ],
           "sequentialminus": [
            [
             0,
             "#0d0887"
            ],
            [
             0.1111111111111111,
             "#46039f"
            ],
            [
             0.2222222222222222,
             "#7201a8"
            ],
            [
             0.3333333333333333,
             "#9c179e"
            ],
            [
             0.4444444444444444,
             "#bd3786"
            ],
            [
             0.5555555555555556,
             "#d8576b"
            ],
            [
             0.6666666666666666,
             "#ed7953"
            ],
            [
             0.7777777777777778,
             "#fb9f3a"
            ],
            [
             0.8888888888888888,
             "#fdca26"
            ],
            [
             1,
             "#f0f921"
            ]
           ]
          },
          "colorway": [
           "#636efa",
           "#EF553B",
           "#00cc96",
           "#ab63fa",
           "#FFA15A",
           "#19d3f3",
           "#FF6692",
           "#B6E880",
           "#FF97FF",
           "#FECB52"
          ],
          "font": {
           "color": "#2a3f5f"
          },
          "geo": {
           "bgcolor": "white",
           "lakecolor": "white",
           "landcolor": "#E5ECF6",
           "showlakes": true,
           "showland": true,
           "subunitcolor": "white"
          },
          "hoverlabel": {
           "align": "left"
          },
          "hovermode": "closest",
          "mapbox": {
           "style": "light"
          },
          "paper_bgcolor": "white",
          "plot_bgcolor": "#E5ECF6",
          "polar": {
           "angularaxis": {
            "gridcolor": "white",
            "linecolor": "white",
            "ticks": ""
           },
           "bgcolor": "#E5ECF6",
           "radialaxis": {
            "gridcolor": "white",
            "linecolor": "white",
            "ticks": ""
           }
          },
          "scene": {
           "xaxis": {
            "backgroundcolor": "#E5ECF6",
            "gridcolor": "white",
            "gridwidth": 2,
            "linecolor": "white",
            "showbackground": true,
            "ticks": "",
            "zerolinecolor": "white"
           },
           "yaxis": {
            "backgroundcolor": "#E5ECF6",
            "gridcolor": "white",
            "gridwidth": 2,
            "linecolor": "white",
            "showbackground": true,
            "ticks": "",
            "zerolinecolor": "white"
           },
           "zaxis": {
            "backgroundcolor": "#E5ECF6",
            "gridcolor": "white",
            "gridwidth": 2,
            "linecolor": "white",
            "showbackground": true,
            "ticks": "",
            "zerolinecolor": "white"
           }
          },
          "shapedefaults": {
           "line": {
            "color": "#2a3f5f"
           }
          },
          "ternary": {
           "aaxis": {
            "gridcolor": "white",
            "linecolor": "white",
            "ticks": ""
           },
           "baxis": {
            "gridcolor": "white",
            "linecolor": "white",
            "ticks": ""
           },
           "bgcolor": "#E5ECF6",
           "caxis": {
            "gridcolor": "white",
            "linecolor": "white",
            "ticks": ""
           }
          },
          "title": {
           "x": 0.05
          },
          "xaxis": {
           "automargin": true,
           "gridcolor": "white",
           "linecolor": "white",
           "ticks": "",
           "title": {
            "standoff": 15
           },
           "zerolinecolor": "white",
           "zerolinewidth": 2
          },
          "yaxis": {
           "automargin": true,
           "gridcolor": "white",
           "linecolor": "white",
           "ticks": "",
           "title": {
            "standoff": 15
           },
           "zerolinecolor": "white",
           "zerolinewidth": 2
          }
         }
        },
        "title": {
         "text": "Disposable Income for Renters in Monroe County"
        },
        "width": 1200
       }
      }
     },
     "metadata": {},
     "output_type": "display_data"
    }
   ],
   "source": [
    "import plotly.express as px\n",
    "\n",
    "px.set_mapbox_access_token('pk.eyJ1IjoicGVldmVlNDQiLCJhIjoiY2xwb2pmaTVxMG84aTJxbmpuOTFseWg5NiJ9.l5pZpLYQce5cW7iZyPPX0g')\n",
    "\n",
    "selected_geoids = subset_monroe_df['GEOID'].tolist()\n",
    "\n",
    "fig = px.choropleth_mapbox(\n",
    "    monroe_df,\n",
    "    geojson=monroe_df.geometry,\n",
    "    locations=monroe_df.index,\n",
    "    color='ri_rent',\n",
    "    range_color=(0, 7000),\n",
    "    color_continuous_scale=\"Viridis\",\n",
    "    opacity=0.6,\n",
    "    labels={'ri_rent': 'Disposable Income'},\n",
    "    title='Disposable Income for Renters in Monroe County',\n",
    "    # mapbox_style=\"carto-positron\",  # Use a different mapbox style for more detail\n",
    "    mapbox_style=\"open-street-map\",\n",
    "    center={\"lat\": latitude, \"lon\": longitude},  # Specify the center of your map\n",
    "    zoom=10,\n",
    ")\n",
    "fig.update_layout(margin={\"r\": 5, \"t\": 35, \"l\": 5, \"b\": 5},\n",
    "                    height=800,  \n",
    "                    width=1200,                 \n",
    ")\n",
    "\n",
    "traces = []\n",
    "for subset, color in zip([level1_monroe_df, level2_monroe_df, level3_monroe_df], ['red', 'blue', 'green']):\n",
    "    trace = go.Scattermapbox(\n",
    "        lat=[geom.centroid.y if geom.type == 'Polygon' else geom.centroid.y for geom in subset.geometry],\n",
    "        lon=[geom.centroid.x if geom.type == 'Polygon' else geom.centroid.x for geom in subset.geometry],\n",
    "        mode='markers',\n",
    "        marker=dict(size=10, color=color),  # Adjust marker size and color as needed\n",
    "        hoverinfo='text',\n",
    "        text=subset['GEOID'],  # Adjust the column name as needed\n",
    "    )\n",
    "    traces.append(trace)\n",
    "\n",
    "# Add the traces to the figure\n",
    "for trace in traces:\n",
    "    fig.add_trace(trace)\n",
    "\n",
    "# Improve the legend\n",
    "fig.update_layout(coloraxis_colorbar=dict(\n",
    "    thicknessmode=\"pixels\", thickness=10,\n",
    "    lenmode=\"pixels\", len=150,\n",
    "    yanchor=\"top\", y=0.8,\n",
    "    ticks=\"outside\",\n",
    "    dtick=1000\n",
    "))\n",
    "\n",
    "fig.show()"
   ]
  },
  {
   "cell_type": "markdown",
   "metadata": {},
   "source": [
    "In looking over our map it's clear that the areas with the most significant affordable housing concerns are also the areas near Indiana University campus so if we want to also look at what the situation might look like for permanent residents of the county we can recreate the visuals for just homeowners and see if this casts any of the findings in different light."
   ]
  },
  {
   "cell_type": "code",
   "execution_count": 28,
   "metadata": {},
   "outputs": [
    {
     "data": {
      "application/vnd.plotly.v1+json": {
       "config": {
        "plotlyServerURL": "https://plot.ly"
       },
       "data": [
        {
         "name": "Population",
         "type": "bar",
         "x": [
          "18105000602",
          "18105000100",
          "18105000201",
          "18105000901",
          "18105000502",
          "18105001502",
          "18105000601",
          "18105001501",
          "18105001402",
          "18105000700",
          "18105000401",
          "18105000501",
          "18105001200",
          "18105001304",
          "18105001101",
          "18105001102",
          "18105001600",
          "18105000903",
          "18105000904",
          "18105001305",
          "18105001002",
          "18105001103",
          "18105001303",
          "18105000800",
          "18105001001",
          "18105001401",
          "18105001301",
          "18105000202",
          "18105000302",
          "18105000301",
          "18105000402"
         ],
         "y": [
          3336,
          3773,
          4862,
          2787,
          3338,
          2624,
          3596,
          6086,
          null,
          3166,
          4349,
          4676,
          6069,
          4046,
          5783,
          4355,
          5205,
          4785,
          5510,
          2356,
          6293,
          2988,
          5665,
          null,
          5299,
          1833,
          5811,
          8630,
          3246,
          3829,
          5087
         ]
        },
        {
         "name": "Average Disposable Income Homeowners",
         "type": "bar",
         "x": [
          "18105000602",
          "18105000100",
          "18105000201",
          "18105000901",
          "18105000502",
          "18105001502",
          "18105000601",
          "18105001501",
          "18105001402",
          "18105000700",
          "18105000401",
          "18105000501",
          "18105001200",
          "18105001304",
          "18105001101",
          "18105001102",
          "18105001600",
          "18105000903",
          "18105000904",
          "18105001305",
          "18105001002",
          "18105001103",
          "18105001303",
          "18105000800",
          "18105001001",
          "18105001401",
          "18105001301",
          "18105000202",
          "18105000302",
          "18105000301",
          "18105000402"
         ],
         "y": [
          760.6700000000001,
          -1474.08,
          null,
          2011.75,
          2827.58,
          4879.58,
          1112.42,
          5428.75,
          4231,
          4140.33,
          1999,
          2340.08,
          3901.75,
          2511.67,
          1640.67,
          2990.33,
          null,
          824.0799999999999,
          1680.67,
          4078.42,
          3647.83,
          3508.33,
          3843,
          2799.42,
          5554.75,
          4165.08,
          3004.58,
          null,
          3812.42,
          1649.5,
          2277.58
         ]
        }
       ],
       "layout": {
        "barmode": "group",
        "template": {
         "data": {
          "bar": [
           {
            "error_x": {
             "color": "#2a3f5f"
            },
            "error_y": {
             "color": "#2a3f5f"
            },
            "marker": {
             "line": {
              "color": "#E5ECF6",
              "width": 0.5
             },
             "pattern": {
              "fillmode": "overlay",
              "size": 10,
              "solidity": 0.2
             }
            },
            "type": "bar"
           }
          ],
          "barpolar": [
           {
            "marker": {
             "line": {
              "color": "#E5ECF6",
              "width": 0.5
             },
             "pattern": {
              "fillmode": "overlay",
              "size": 10,
              "solidity": 0.2
             }
            },
            "type": "barpolar"
           }
          ],
          "carpet": [
           {
            "aaxis": {
             "endlinecolor": "#2a3f5f",
             "gridcolor": "white",
             "linecolor": "white",
             "minorgridcolor": "white",
             "startlinecolor": "#2a3f5f"
            },
            "baxis": {
             "endlinecolor": "#2a3f5f",
             "gridcolor": "white",
             "linecolor": "white",
             "minorgridcolor": "white",
             "startlinecolor": "#2a3f5f"
            },
            "type": "carpet"
           }
          ],
          "choropleth": [
           {
            "colorbar": {
             "outlinewidth": 0,
             "ticks": ""
            },
            "type": "choropleth"
           }
          ],
          "contour": [
           {
            "colorbar": {
             "outlinewidth": 0,
             "ticks": ""
            },
            "colorscale": [
             [
              0,
              "#0d0887"
             ],
             [
              0.1111111111111111,
              "#46039f"
             ],
             [
              0.2222222222222222,
              "#7201a8"
             ],
             [
              0.3333333333333333,
              "#9c179e"
             ],
             [
              0.4444444444444444,
              "#bd3786"
             ],
             [
              0.5555555555555556,
              "#d8576b"
             ],
             [
              0.6666666666666666,
              "#ed7953"
             ],
             [
              0.7777777777777778,
              "#fb9f3a"
             ],
             [
              0.8888888888888888,
              "#fdca26"
             ],
             [
              1,
              "#f0f921"
             ]
            ],
            "type": "contour"
           }
          ],
          "contourcarpet": [
           {
            "colorbar": {
             "outlinewidth": 0,
             "ticks": ""
            },
            "type": "contourcarpet"
           }
          ],
          "heatmap": [
           {
            "colorbar": {
             "outlinewidth": 0,
             "ticks": ""
            },
            "colorscale": [
             [
              0,
              "#0d0887"
             ],
             [
              0.1111111111111111,
              "#46039f"
             ],
             [
              0.2222222222222222,
              "#7201a8"
             ],
             [
              0.3333333333333333,
              "#9c179e"
             ],
             [
              0.4444444444444444,
              "#bd3786"
             ],
             [
              0.5555555555555556,
              "#d8576b"
             ],
             [
              0.6666666666666666,
              "#ed7953"
             ],
             [
              0.7777777777777778,
              "#fb9f3a"
             ],
             [
              0.8888888888888888,
              "#fdca26"
             ],
             [
              1,
              "#f0f921"
             ]
            ],
            "type": "heatmap"
           }
          ],
          "heatmapgl": [
           {
            "colorbar": {
             "outlinewidth": 0,
             "ticks": ""
            },
            "colorscale": [
             [
              0,
              "#0d0887"
             ],
             [
              0.1111111111111111,
              "#46039f"
             ],
             [
              0.2222222222222222,
              "#7201a8"
             ],
             [
              0.3333333333333333,
              "#9c179e"
             ],
             [
              0.4444444444444444,
              "#bd3786"
             ],
             [
              0.5555555555555556,
              "#d8576b"
             ],
             [
              0.6666666666666666,
              "#ed7953"
             ],
             [
              0.7777777777777778,
              "#fb9f3a"
             ],
             [
              0.8888888888888888,
              "#fdca26"
             ],
             [
              1,
              "#f0f921"
             ]
            ],
            "type": "heatmapgl"
           }
          ],
          "histogram": [
           {
            "marker": {
             "pattern": {
              "fillmode": "overlay",
              "size": 10,
              "solidity": 0.2
             }
            },
            "type": "histogram"
           }
          ],
          "histogram2d": [
           {
            "colorbar": {
             "outlinewidth": 0,
             "ticks": ""
            },
            "colorscale": [
             [
              0,
              "#0d0887"
             ],
             [
              0.1111111111111111,
              "#46039f"
             ],
             [
              0.2222222222222222,
              "#7201a8"
             ],
             [
              0.3333333333333333,
              "#9c179e"
             ],
             [
              0.4444444444444444,
              "#bd3786"
             ],
             [
              0.5555555555555556,
              "#d8576b"
             ],
             [
              0.6666666666666666,
              "#ed7953"
             ],
             [
              0.7777777777777778,
              "#fb9f3a"
             ],
             [
              0.8888888888888888,
              "#fdca26"
             ],
             [
              1,
              "#f0f921"
             ]
            ],
            "type": "histogram2d"
           }
          ],
          "histogram2dcontour": [
           {
            "colorbar": {
             "outlinewidth": 0,
             "ticks": ""
            },
            "colorscale": [
             [
              0,
              "#0d0887"
             ],
             [
              0.1111111111111111,
              "#46039f"
             ],
             [
              0.2222222222222222,
              "#7201a8"
             ],
             [
              0.3333333333333333,
              "#9c179e"
             ],
             [
              0.4444444444444444,
              "#bd3786"
             ],
             [
              0.5555555555555556,
              "#d8576b"
             ],
             [
              0.6666666666666666,
              "#ed7953"
             ],
             [
              0.7777777777777778,
              "#fb9f3a"
             ],
             [
              0.8888888888888888,
              "#fdca26"
             ],
             [
              1,
              "#f0f921"
             ]
            ],
            "type": "histogram2dcontour"
           }
          ],
          "mesh3d": [
           {
            "colorbar": {
             "outlinewidth": 0,
             "ticks": ""
            },
            "type": "mesh3d"
           }
          ],
          "parcoords": [
           {
            "line": {
             "colorbar": {
              "outlinewidth": 0,
              "ticks": ""
             }
            },
            "type": "parcoords"
           }
          ],
          "pie": [
           {
            "automargin": true,
            "type": "pie"
           }
          ],
          "scatter": [
           {
            "fillpattern": {
             "fillmode": "overlay",
             "size": 10,
             "solidity": 0.2
            },
            "type": "scatter"
           }
          ],
          "scatter3d": [
           {
            "line": {
             "colorbar": {
              "outlinewidth": 0,
              "ticks": ""
             }
            },
            "marker": {
             "colorbar": {
              "outlinewidth": 0,
              "ticks": ""
             }
            },
            "type": "scatter3d"
           }
          ],
          "scattercarpet": [
           {
            "marker": {
             "colorbar": {
              "outlinewidth": 0,
              "ticks": ""
             }
            },
            "type": "scattercarpet"
           }
          ],
          "scattergeo": [
           {
            "marker": {
             "colorbar": {
              "outlinewidth": 0,
              "ticks": ""
             }
            },
            "type": "scattergeo"
           }
          ],
          "scattergl": [
           {
            "marker": {
             "colorbar": {
              "outlinewidth": 0,
              "ticks": ""
             }
            },
            "type": "scattergl"
           }
          ],
          "scattermapbox": [
           {
            "marker": {
             "colorbar": {
              "outlinewidth": 0,
              "ticks": ""
             }
            },
            "type": "scattermapbox"
           }
          ],
          "scatterpolar": [
           {
            "marker": {
             "colorbar": {
              "outlinewidth": 0,
              "ticks": ""
             }
            },
            "type": "scatterpolar"
           }
          ],
          "scatterpolargl": [
           {
            "marker": {
             "colorbar": {
              "outlinewidth": 0,
              "ticks": ""
             }
            },
            "type": "scatterpolargl"
           }
          ],
          "scatterternary": [
           {
            "marker": {
             "colorbar": {
              "outlinewidth": 0,
              "ticks": ""
             }
            },
            "type": "scatterternary"
           }
          ],
          "surface": [
           {
            "colorbar": {
             "outlinewidth": 0,
             "ticks": ""
            },
            "colorscale": [
             [
              0,
              "#0d0887"
             ],
             [
              0.1111111111111111,
              "#46039f"
             ],
             [
              0.2222222222222222,
              "#7201a8"
             ],
             [
              0.3333333333333333,
              "#9c179e"
             ],
             [
              0.4444444444444444,
              "#bd3786"
             ],
             [
              0.5555555555555556,
              "#d8576b"
             ],
             [
              0.6666666666666666,
              "#ed7953"
             ],
             [
              0.7777777777777778,
              "#fb9f3a"
             ],
             [
              0.8888888888888888,
              "#fdca26"
             ],
             [
              1,
              "#f0f921"
             ]
            ],
            "type": "surface"
           }
          ],
          "table": [
           {
            "cells": {
             "fill": {
              "color": "#EBF0F8"
             },
             "line": {
              "color": "white"
             }
            },
            "header": {
             "fill": {
              "color": "#C8D4E3"
             },
             "line": {
              "color": "white"
             }
            },
            "type": "table"
           }
          ]
         },
         "layout": {
          "annotationdefaults": {
           "arrowcolor": "#2a3f5f",
           "arrowhead": 0,
           "arrowwidth": 1
          },
          "autotypenumbers": "strict",
          "coloraxis": {
           "colorbar": {
            "outlinewidth": 0,
            "ticks": ""
           }
          },
          "colorscale": {
           "diverging": [
            [
             0,
             "#8e0152"
            ],
            [
             0.1,
             "#c51b7d"
            ],
            [
             0.2,
             "#de77ae"
            ],
            [
             0.3,
             "#f1b6da"
            ],
            [
             0.4,
             "#fde0ef"
            ],
            [
             0.5,
             "#f7f7f7"
            ],
            [
             0.6,
             "#e6f5d0"
            ],
            [
             0.7,
             "#b8e186"
            ],
            [
             0.8,
             "#7fbc41"
            ],
            [
             0.9,
             "#4d9221"
            ],
            [
             1,
             "#276419"
            ]
           ],
           "sequential": [
            [
             0,
             "#0d0887"
            ],
            [
             0.1111111111111111,
             "#46039f"
            ],
            [
             0.2222222222222222,
             "#7201a8"
            ],
            [
             0.3333333333333333,
             "#9c179e"
            ],
            [
             0.4444444444444444,
             "#bd3786"
            ],
            [
             0.5555555555555556,
             "#d8576b"
            ],
            [
             0.6666666666666666,
             "#ed7953"
            ],
            [
             0.7777777777777778,
             "#fb9f3a"
            ],
            [
             0.8888888888888888,
             "#fdca26"
            ],
            [
             1,
             "#f0f921"
            ]
           ],
           "sequentialminus": [
            [
             0,
             "#0d0887"
            ],
            [
             0.1111111111111111,
             "#46039f"
            ],
            [
             0.2222222222222222,
             "#7201a8"
            ],
            [
             0.3333333333333333,
             "#9c179e"
            ],
            [
             0.4444444444444444,
             "#bd3786"
            ],
            [
             0.5555555555555556,
             "#d8576b"
            ],
            [
             0.6666666666666666,
             "#ed7953"
            ],
            [
             0.7777777777777778,
             "#fb9f3a"
            ],
            [
             0.8888888888888888,
             "#fdca26"
            ],
            [
             1,
             "#f0f921"
            ]
           ]
          },
          "colorway": [
           "#636efa",
           "#EF553B",
           "#00cc96",
           "#ab63fa",
           "#FFA15A",
           "#19d3f3",
           "#FF6692",
           "#B6E880",
           "#FF97FF",
           "#FECB52"
          ],
          "font": {
           "color": "#2a3f5f"
          },
          "geo": {
           "bgcolor": "white",
           "lakecolor": "white",
           "landcolor": "#E5ECF6",
           "showlakes": true,
           "showland": true,
           "subunitcolor": "white"
          },
          "hoverlabel": {
           "align": "left"
          },
          "hovermode": "closest",
          "mapbox": {
           "style": "light"
          },
          "paper_bgcolor": "white",
          "plot_bgcolor": "#E5ECF6",
          "polar": {
           "angularaxis": {
            "gridcolor": "white",
            "linecolor": "white",
            "ticks": ""
           },
           "bgcolor": "#E5ECF6",
           "radialaxis": {
            "gridcolor": "white",
            "linecolor": "white",
            "ticks": ""
           }
          },
          "scene": {
           "xaxis": {
            "backgroundcolor": "#E5ECF6",
            "gridcolor": "white",
            "gridwidth": 2,
            "linecolor": "white",
            "showbackground": true,
            "ticks": "",
            "zerolinecolor": "white"
           },
           "yaxis": {
            "backgroundcolor": "#E5ECF6",
            "gridcolor": "white",
            "gridwidth": 2,
            "linecolor": "white",
            "showbackground": true,
            "ticks": "",
            "zerolinecolor": "white"
           },
           "zaxis": {
            "backgroundcolor": "#E5ECF6",
            "gridcolor": "white",
            "gridwidth": 2,
            "linecolor": "white",
            "showbackground": true,
            "ticks": "",
            "zerolinecolor": "white"
           }
          },
          "shapedefaults": {
           "line": {
            "color": "#2a3f5f"
           }
          },
          "ternary": {
           "aaxis": {
            "gridcolor": "white",
            "linecolor": "white",
            "ticks": ""
           },
           "baxis": {
            "gridcolor": "white",
            "linecolor": "white",
            "ticks": ""
           },
           "bgcolor": "#E5ECF6",
           "caxis": {
            "gridcolor": "white",
            "linecolor": "white",
            "ticks": ""
           }
          },
          "title": {
           "x": 0.05
          },
          "xaxis": {
           "automargin": true,
           "gridcolor": "white",
           "linecolor": "white",
           "ticks": "",
           "title": {
            "standoff": 15
           },
           "zerolinecolor": "white",
           "zerolinewidth": 2
          },
          "yaxis": {
           "automargin": true,
           "gridcolor": "white",
           "linecolor": "white",
           "ticks": "",
           "title": {
            "standoff": 15
           },
           "zerolinecolor": "white",
           "zerolinewidth": 2
          }
         }
        },
        "title": {
         "text": "Average Diposable Income and Population by Tract"
        },
        "xaxis": {
         "title": {
          "text": "Tract"
         }
        },
        "yaxis": {
         "title": {
          "text": "Values"
         }
        }
       }
      }
     },
     "metadata": {},
     "output_type": "display_data"
    }
   ],
   "source": [
    "import plotly.graph_objects as go\n",
    "import pandas as pd\n",
    "\n",
    "# create bar plots for disposable income for homeowners and population\n",
    "fig = go.Figure()\n",
    "\n",
    "fig.add_trace(go.Bar(x=mon_merge['GEOID'], y=mon_merge['B01003_001E'], name='Population'))\n",
    "\n",
    "fig.add_trace(go.Bar(x=mon_merge['GEOID'], y=mon_merge['ri_own'], name='Average Disposable Income Homeowners'))\n",
    "\n",
    "fig.update_layout(barmode='group', title='Average Diposable Income and Population by Tract', xaxis_title='Tract', yaxis_title='Values')\n",
    "\n",
    "fig.show()"
   ]
  },
  {
   "cell_type": "markdown",
   "metadata": {},
   "source": [
    "This plot paints a similar picture, it seems that the same roughly 7 tracts are most significant with the possible inclusion of tract 301 which has a bit lower population but does seem to also warrant attention. In the homeowner category tract 100 looks worse than for renters."
   ]
  },
  {
   "cell_type": "code",
   "execution_count": 29,
   "metadata": {},
   "outputs": [],
   "source": [
    "#create subset df based on owner data\n",
    "ho_geoids = ['18105000602', '18105000100', '18105000201','18105000601', '18105001600','18105000903','18105000904','18105000301']\n",
    "\n",
    "ho_mon_merge = mon_merge[mon_merge['GEOID'].isin(ho_geoids)]\n",
    "ho_monroe_df = monroe_df[monroe_df['GEOID'].isin(ho_geoids)]\n",
    "\n",
    "ho_mon_merge['est_poverty_pop'] = ((ho_mon_merge['Poverty_Rate']/100)*ho_mon_merge['B01003_001E'])"
   ]
  },
  {
   "cell_type": "code",
   "execution_count": 30,
   "metadata": {},
   "outputs": [
    {
     "data": {
      "application/vnd.plotly.v1+json": {
       "config": {
        "plotlyServerURL": "https://plot.ly"
       },
       "data": [
        {
         "name": "Population",
         "type": "bar",
         "x": [
          "18105000602",
          "18105000100",
          "18105000201",
          "18105000601",
          "18105001600",
          "18105000903",
          "18105000904",
          "18105000301"
         ],
         "y": [
          3336,
          3773,
          4862,
          3596,
          5205,
          4785,
          5510,
          3829
         ]
        },
        {
         "name": "Average Disposable Income Homeowners",
         "type": "bar",
         "x": [
          "18105000602",
          "18105000100",
          "18105000201",
          "18105000601",
          "18105001600",
          "18105000903",
          "18105000904",
          "18105000301"
         ],
         "y": [
          760.6700000000001,
          -1474.08,
          null,
          1112.42,
          null,
          824.0799999999999,
          1680.67,
          1649.5
         ]
        },
        {
         "name": "Estimate number of residents under poverty line",
         "type": "bar",
         "x": [
          "18105000602",
          "18105000100",
          "18105000201",
          "18105000601",
          "18105001600",
          "18105000903",
          "18105000904",
          "18105000301"
         ],
         "y": [
          1134.0000000000002,
          2541,
          30,
          1299.0000000000002,
          3418.0000000000005,
          1273,
          1859.0000000000002,
          1660
         ]
        }
       ],
       "layout": {
        "barmode": "group",
        "template": {
         "data": {
          "bar": [
           {
            "error_x": {
             "color": "#2a3f5f"
            },
            "error_y": {
             "color": "#2a3f5f"
            },
            "marker": {
             "line": {
              "color": "#E5ECF6",
              "width": 0.5
             },
             "pattern": {
              "fillmode": "overlay",
              "size": 10,
              "solidity": 0.2
             }
            },
            "type": "bar"
           }
          ],
          "barpolar": [
           {
            "marker": {
             "line": {
              "color": "#E5ECF6",
              "width": 0.5
             },
             "pattern": {
              "fillmode": "overlay",
              "size": 10,
              "solidity": 0.2
             }
            },
            "type": "barpolar"
           }
          ],
          "carpet": [
           {
            "aaxis": {
             "endlinecolor": "#2a3f5f",
             "gridcolor": "white",
             "linecolor": "white",
             "minorgridcolor": "white",
             "startlinecolor": "#2a3f5f"
            },
            "baxis": {
             "endlinecolor": "#2a3f5f",
             "gridcolor": "white",
             "linecolor": "white",
             "minorgridcolor": "white",
             "startlinecolor": "#2a3f5f"
            },
            "type": "carpet"
           }
          ],
          "choropleth": [
           {
            "colorbar": {
             "outlinewidth": 0,
             "ticks": ""
            },
            "type": "choropleth"
           }
          ],
          "contour": [
           {
            "colorbar": {
             "outlinewidth": 0,
             "ticks": ""
            },
            "colorscale": [
             [
              0,
              "#0d0887"
             ],
             [
              0.1111111111111111,
              "#46039f"
             ],
             [
              0.2222222222222222,
              "#7201a8"
             ],
             [
              0.3333333333333333,
              "#9c179e"
             ],
             [
              0.4444444444444444,
              "#bd3786"
             ],
             [
              0.5555555555555556,
              "#d8576b"
             ],
             [
              0.6666666666666666,
              "#ed7953"
             ],
             [
              0.7777777777777778,
              "#fb9f3a"
             ],
             [
              0.8888888888888888,
              "#fdca26"
             ],
             [
              1,
              "#f0f921"
             ]
            ],
            "type": "contour"
           }
          ],
          "contourcarpet": [
           {
            "colorbar": {
             "outlinewidth": 0,
             "ticks": ""
            },
            "type": "contourcarpet"
           }
          ],
          "heatmap": [
           {
            "colorbar": {
             "outlinewidth": 0,
             "ticks": ""
            },
            "colorscale": [
             [
              0,
              "#0d0887"
             ],
             [
              0.1111111111111111,
              "#46039f"
             ],
             [
              0.2222222222222222,
              "#7201a8"
             ],
             [
              0.3333333333333333,
              "#9c179e"
             ],
             [
              0.4444444444444444,
              "#bd3786"
             ],
             [
              0.5555555555555556,
              "#d8576b"
             ],
             [
              0.6666666666666666,
              "#ed7953"
             ],
             [
              0.7777777777777778,
              "#fb9f3a"
             ],
             [
              0.8888888888888888,
              "#fdca26"
             ],
             [
              1,
              "#f0f921"
             ]
            ],
            "type": "heatmap"
           }
          ],
          "heatmapgl": [
           {
            "colorbar": {
             "outlinewidth": 0,
             "ticks": ""
            },
            "colorscale": [
             [
              0,
              "#0d0887"
             ],
             [
              0.1111111111111111,
              "#46039f"
             ],
             [
              0.2222222222222222,
              "#7201a8"
             ],
             [
              0.3333333333333333,
              "#9c179e"
             ],
             [
              0.4444444444444444,
              "#bd3786"
             ],
             [
              0.5555555555555556,
              "#d8576b"
             ],
             [
              0.6666666666666666,
              "#ed7953"
             ],
             [
              0.7777777777777778,
              "#fb9f3a"
             ],
             [
              0.8888888888888888,
              "#fdca26"
             ],
             [
              1,
              "#f0f921"
             ]
            ],
            "type": "heatmapgl"
           }
          ],
          "histogram": [
           {
            "marker": {
             "pattern": {
              "fillmode": "overlay",
              "size": 10,
              "solidity": 0.2
             }
            },
            "type": "histogram"
           }
          ],
          "histogram2d": [
           {
            "colorbar": {
             "outlinewidth": 0,
             "ticks": ""
            },
            "colorscale": [
             [
              0,
              "#0d0887"
             ],
             [
              0.1111111111111111,
              "#46039f"
             ],
             [
              0.2222222222222222,
              "#7201a8"
             ],
             [
              0.3333333333333333,
              "#9c179e"
             ],
             [
              0.4444444444444444,
              "#bd3786"
             ],
             [
              0.5555555555555556,
              "#d8576b"
             ],
             [
              0.6666666666666666,
              "#ed7953"
             ],
             [
              0.7777777777777778,
              "#fb9f3a"
             ],
             [
              0.8888888888888888,
              "#fdca26"
             ],
             [
              1,
              "#f0f921"
             ]
            ],
            "type": "histogram2d"
           }
          ],
          "histogram2dcontour": [
           {
            "colorbar": {
             "outlinewidth": 0,
             "ticks": ""
            },
            "colorscale": [
             [
              0,
              "#0d0887"
             ],
             [
              0.1111111111111111,
              "#46039f"
             ],
             [
              0.2222222222222222,
              "#7201a8"
             ],
             [
              0.3333333333333333,
              "#9c179e"
             ],
             [
              0.4444444444444444,
              "#bd3786"
             ],
             [
              0.5555555555555556,
              "#d8576b"
             ],
             [
              0.6666666666666666,
              "#ed7953"
             ],
             [
              0.7777777777777778,
              "#fb9f3a"
             ],
             [
              0.8888888888888888,
              "#fdca26"
             ],
             [
              1,
              "#f0f921"
             ]
            ],
            "type": "histogram2dcontour"
           }
          ],
          "mesh3d": [
           {
            "colorbar": {
             "outlinewidth": 0,
             "ticks": ""
            },
            "type": "mesh3d"
           }
          ],
          "parcoords": [
           {
            "line": {
             "colorbar": {
              "outlinewidth": 0,
              "ticks": ""
             }
            },
            "type": "parcoords"
           }
          ],
          "pie": [
           {
            "automargin": true,
            "type": "pie"
           }
          ],
          "scatter": [
           {
            "fillpattern": {
             "fillmode": "overlay",
             "size": 10,
             "solidity": 0.2
            },
            "type": "scatter"
           }
          ],
          "scatter3d": [
           {
            "line": {
             "colorbar": {
              "outlinewidth": 0,
              "ticks": ""
             }
            },
            "marker": {
             "colorbar": {
              "outlinewidth": 0,
              "ticks": ""
             }
            },
            "type": "scatter3d"
           }
          ],
          "scattercarpet": [
           {
            "marker": {
             "colorbar": {
              "outlinewidth": 0,
              "ticks": ""
             }
            },
            "type": "scattercarpet"
           }
          ],
          "scattergeo": [
           {
            "marker": {
             "colorbar": {
              "outlinewidth": 0,
              "ticks": ""
             }
            },
            "type": "scattergeo"
           }
          ],
          "scattergl": [
           {
            "marker": {
             "colorbar": {
              "outlinewidth": 0,
              "ticks": ""
             }
            },
            "type": "scattergl"
           }
          ],
          "scattermapbox": [
           {
            "marker": {
             "colorbar": {
              "outlinewidth": 0,
              "ticks": ""
             }
            },
            "type": "scattermapbox"
           }
          ],
          "scatterpolar": [
           {
            "marker": {
             "colorbar": {
              "outlinewidth": 0,
              "ticks": ""
             }
            },
            "type": "scatterpolar"
           }
          ],
          "scatterpolargl": [
           {
            "marker": {
             "colorbar": {
              "outlinewidth": 0,
              "ticks": ""
             }
            },
            "type": "scatterpolargl"
           }
          ],
          "scatterternary": [
           {
            "marker": {
             "colorbar": {
              "outlinewidth": 0,
              "ticks": ""
             }
            },
            "type": "scatterternary"
           }
          ],
          "surface": [
           {
            "colorbar": {
             "outlinewidth": 0,
             "ticks": ""
            },
            "colorscale": [
             [
              0,
              "#0d0887"
             ],
             [
              0.1111111111111111,
              "#46039f"
             ],
             [
              0.2222222222222222,
              "#7201a8"
             ],
             [
              0.3333333333333333,
              "#9c179e"
             ],
             [
              0.4444444444444444,
              "#bd3786"
             ],
             [
              0.5555555555555556,
              "#d8576b"
             ],
             [
              0.6666666666666666,
              "#ed7953"
             ],
             [
              0.7777777777777778,
              "#fb9f3a"
             ],
             [
              0.8888888888888888,
              "#fdca26"
             ],
             [
              1,
              "#f0f921"
             ]
            ],
            "type": "surface"
           }
          ],
          "table": [
           {
            "cells": {
             "fill": {
              "color": "#EBF0F8"
             },
             "line": {
              "color": "white"
             }
            },
            "header": {
             "fill": {
              "color": "#C8D4E3"
             },
             "line": {
              "color": "white"
             }
            },
            "type": "table"
           }
          ]
         },
         "layout": {
          "annotationdefaults": {
           "arrowcolor": "#2a3f5f",
           "arrowhead": 0,
           "arrowwidth": 1
          },
          "autotypenumbers": "strict",
          "coloraxis": {
           "colorbar": {
            "outlinewidth": 0,
            "ticks": ""
           }
          },
          "colorscale": {
           "diverging": [
            [
             0,
             "#8e0152"
            ],
            [
             0.1,
             "#c51b7d"
            ],
            [
             0.2,
             "#de77ae"
            ],
            [
             0.3,
             "#f1b6da"
            ],
            [
             0.4,
             "#fde0ef"
            ],
            [
             0.5,
             "#f7f7f7"
            ],
            [
             0.6,
             "#e6f5d0"
            ],
            [
             0.7,
             "#b8e186"
            ],
            [
             0.8,
             "#7fbc41"
            ],
            [
             0.9,
             "#4d9221"
            ],
            [
             1,
             "#276419"
            ]
           ],
           "sequential": [
            [
             0,
             "#0d0887"
            ],
            [
             0.1111111111111111,
             "#46039f"
            ],
            [
             0.2222222222222222,
             "#7201a8"
            ],
            [
             0.3333333333333333,
             "#9c179e"
            ],
            [
             0.4444444444444444,
             "#bd3786"
            ],
            [
             0.5555555555555556,
             "#d8576b"
            ],
            [
             0.6666666666666666,
             "#ed7953"
            ],
            [
             0.7777777777777778,
             "#fb9f3a"
            ],
            [
             0.8888888888888888,
             "#fdca26"
            ],
            [
             1,
             "#f0f921"
            ]
           ],
           "sequentialminus": [
            [
             0,
             "#0d0887"
            ],
            [
             0.1111111111111111,
             "#46039f"
            ],
            [
             0.2222222222222222,
             "#7201a8"
            ],
            [
             0.3333333333333333,
             "#9c179e"
            ],
            [
             0.4444444444444444,
             "#bd3786"
            ],
            [
             0.5555555555555556,
             "#d8576b"
            ],
            [
             0.6666666666666666,
             "#ed7953"
            ],
            [
             0.7777777777777778,
             "#fb9f3a"
            ],
            [
             0.8888888888888888,
             "#fdca26"
            ],
            [
             1,
             "#f0f921"
            ]
           ]
          },
          "colorway": [
           "#636efa",
           "#EF553B",
           "#00cc96",
           "#ab63fa",
           "#FFA15A",
           "#19d3f3",
           "#FF6692",
           "#B6E880",
           "#FF97FF",
           "#FECB52"
          ],
          "font": {
           "color": "#2a3f5f"
          },
          "geo": {
           "bgcolor": "white",
           "lakecolor": "white",
           "landcolor": "#E5ECF6",
           "showlakes": true,
           "showland": true,
           "subunitcolor": "white"
          },
          "hoverlabel": {
           "align": "left"
          },
          "hovermode": "closest",
          "mapbox": {
           "style": "light"
          },
          "paper_bgcolor": "white",
          "plot_bgcolor": "#E5ECF6",
          "polar": {
           "angularaxis": {
            "gridcolor": "white",
            "linecolor": "white",
            "ticks": ""
           },
           "bgcolor": "#E5ECF6",
           "radialaxis": {
            "gridcolor": "white",
            "linecolor": "white",
            "ticks": ""
           }
          },
          "scene": {
           "xaxis": {
            "backgroundcolor": "#E5ECF6",
            "gridcolor": "white",
            "gridwidth": 2,
            "linecolor": "white",
            "showbackground": true,
            "ticks": "",
            "zerolinecolor": "white"
           },
           "yaxis": {
            "backgroundcolor": "#E5ECF6",
            "gridcolor": "white",
            "gridwidth": 2,
            "linecolor": "white",
            "showbackground": true,
            "ticks": "",
            "zerolinecolor": "white"
           },
           "zaxis": {
            "backgroundcolor": "#E5ECF6",
            "gridcolor": "white",
            "gridwidth": 2,
            "linecolor": "white",
            "showbackground": true,
            "ticks": "",
            "zerolinecolor": "white"
           }
          },
          "shapedefaults": {
           "line": {
            "color": "#2a3f5f"
           }
          },
          "ternary": {
           "aaxis": {
            "gridcolor": "white",
            "linecolor": "white",
            "ticks": ""
           },
           "baxis": {
            "gridcolor": "white",
            "linecolor": "white",
            "ticks": ""
           },
           "bgcolor": "#E5ECF6",
           "caxis": {
            "gridcolor": "white",
            "linecolor": "white",
            "ticks": ""
           }
          },
          "title": {
           "x": 0.05
          },
          "xaxis": {
           "automargin": true,
           "gridcolor": "white",
           "linecolor": "white",
           "ticks": "",
           "title": {
            "standoff": 15
           },
           "zerolinecolor": "white",
           "zerolinewidth": 2
          },
          "yaxis": {
           "automargin": true,
           "gridcolor": "white",
           "linecolor": "white",
           "ticks": "",
           "title": {
            "standoff": 15
           },
           "zerolinecolor": "white",
           "zerolinewidth": 2
          }
         }
        },
        "title": {
         "text": "Average Diposable Income for Homeowners and Population by Tract"
        },
        "xaxis": {
         "title": {
          "text": "Tract"
         }
        },
        "yaxis": {
         "title": {
          "text": "Values"
         }
        }
       }
      }
     },
     "metadata": {},
     "output_type": "display_data"
    }
   ],
   "source": [
    "import plotly.graph_objects as go\n",
    "import pandas as pd\n",
    "\n",
    "#bar plots for various aspects of at risk tracts\n",
    "fig = go.Figure()\n",
    "\n",
    "fig.add_trace(go.Bar(x=ho_mon_merge['GEOID'], y=ho_mon_merge['B01003_001E'], name='Population'))\n",
    "\n",
    "fig.add_trace(go.Bar(x=ho_mon_merge['GEOID'], y=ho_mon_merge['ri_own'], name='Average Disposable Income Homeowners'))\n",
    "\n",
    "fig.add_trace(go.Bar(x=ho_mon_merge['GEOID'], y=ho_mon_merge['est_poverty_pop'], name='Estimate number of residents under poverty line'))\n",
    "\n",
    "fig.update_layout(barmode='group', title='Average Diposable Income for Homeowners and Population by Tract', xaxis_title='Tract', yaxis_title='Values')\n",
    "\n",
    "fig.show()"
   ]
  },
  {
   "cell_type": "code",
   "execution_count": 31,
   "metadata": {},
   "outputs": [],
   "source": [
    "#create subsets based on risk level\n",
    "level1_geoids = ['18105000100', '18105001600']\n",
    "level2_geoids = ['18105000602', '18105000601','18105000903','18105000904','18105000301']\n",
    "level3_geoids = ['18105000201']\n",
    "\n",
    "level1_ho_df = monroe_df[monroe_df['GEOID'].isin(level1_geoids)]\n",
    "level2_ho_df = monroe_df[monroe_df['GEOID'].isin(level2_geoids)]\n",
    "level3_ho_df = monroe_df[monroe_df['GEOID'].isin(level3_geoids)]"
   ]
  },
  {
   "cell_type": "markdown",
   "metadata": {},
   "source": [
    " Updating our data, here is what the map looks like considering only the homeowner data:"
   ]
  },
  {
   "cell_type": "code",
   "execution_count": 32,
   "metadata": {},
   "outputs": [
    {
     "data": {
      "application/vnd.plotly.v1+json": {
       "config": {
        "plotlyServerURL": "https://plot.ly"
       },
       "data": [
        {
         "coloraxis": "coloraxis",
         "geojson": {
          "bbox": [
           -86.685758,
           38.990698999000074,
           -86.31738,
           39.355701999000075
          ],
          "features": [
           {
            "bbox": [
             -86.57328100099994,
             39.164493,
             -86.534508,
             39.187238999000044
            ],
            "geometry": {
             "coordinates": [
              [
               [
                [
                 -86.534508,
                 39.18631299900005
                ],
                [
                 -86.534698,
                 39.17899199900006
                ],
                [
                 -86.535934,
                 39.178997999000046
                ],
                [
                 -86.545825,
                 39.179039
                ],
                [
                 -86.547084,
                 39.17921299900007
                ],
                [
                 -86.5476,
                 39.17907299900003
                ],
                [
                 -86.556488,
                 39.17909399900003
                ],
                [
                 -86.55647999899998,
                 39.17491799900006
                ],
                [
                 -86.5545,
                 39.17254599900008
                ],
                [
                 -86.551468,
                 39.17070999900005
                ],
                [
                 -86.554251,
                 39.17075299900006
                ],
                [
                 -86.557857,
                 39.17187299900007
                ],
                [
                 -86.56499100099995,
                 39.172614999000075
                ],
                [
                 -86.56499,
                 39.16522299900004
                ],
                [
                 -86.564711,
                 39.16540899900008
                ],
                [
                 -86.563577,
                 39.16523699900006
                ],
                [
                 -86.563601,
                 39.164493
                ],
                [
                 -86.57328100099994,
                 39.164566999000044
                ],
                [
                 -86.573217,
                 39.16621099900004
                ],
                [
                 -86.572811,
                 39.16786099900003
                ],
                [
                 -86.57169,
                 39.16962299900007
                ],
                [
                 -86.570253,
                 39.17100699900004
                ],
                [
                 -86.562398,
                 39.17654599900004
                ],
                [
                 -86.558979,
                 39.17924099800007
                ],
                [
                 -86.557554,
                 39.180862999000055
                ],
                [
                 -86.556817,
                 39.18234399900007
                ],
                [
                 -86.555217,
                 39.187238999000044
                ],
                [
                 -86.541339,
                 39.18675999900006
                ],
                [
                 -86.534508,
                 39.18631299900005
                ]
               ]
              ]
             ],
             "type": "MultiPolygon"
            },
            "id": "93",
            "properties": {},
            "type": "Feature"
           },
           {
            "bbox": [
             -86.538701,
             39.161354,
             -86.526905,
             39.17327499900006
            ],
            "geometry": {
             "coordinates": [
              [
               [
                [
                 -86.526955,
                 39.16850199900006
                ],
                [
                 -86.526905,
                 39.164306999000075
                ],
                [
                 -86.528212,
                 39.16439999900007
                ],
                [
                 -86.528448,
                 39.16385799900007
                ],
                [
                 -86.528397,
                 39.161354
                ],
                [
                 -86.538699,
                 39.161395999000035
                ],
                [
                 -86.538701,
                 39.16463199900005
                ],
                [
                 -86.53857099899994,
                 39.17326999900007
                ],
                [
                 -86.533583,
                 39.17327499900006
                ],
                [
                 -86.533595,
                 39.17252699900007
                ],
                [
                 -86.52696700099995,
                 39.17256199900004
                ],
                [
                 -86.526955,
                 39.16850199900006
                ]
               ]
              ]
             ],
             "type": "MultiPolygon"
            },
            "id": "478",
            "properties": {},
            "type": "Feature"
           },
           {
            "bbox": [
             -86.528396,
             39.170655999000076,
             -86.501747,
             39.18629199900005
            ],
            "geometry": {
             "coordinates": [
              [
               [
                [
                 -86.502242,
                 39.17154899900004
                ],
                [
                 -86.501747,
                 39.170655999000076
                ],
                [
                 -86.506756,
                 39.17156999900004
                ],
                [
                 -86.521014,
                 39.174089
                ],
                [
                 -86.521096,
                 39.17902299900004
                ],
                [
                 -86.528326,
                 39.179008999000075
                ],
                [
                 -86.528396,
                 39.18629199900005
                ],
                [
                 -86.522163,
                 39.186239
                ],
                [
                 -86.518708,
                 39.18580399900003
                ],
                [
                 -86.514853,
                 39.18471899900004
                ],
                [
                 -86.511389,
                 39.18308299800003
                ],
                [
                 -86.508694,
                 39.18116199900004
                ],
                [
                 -86.506801,
                 39.179294999000035
                ],
                [
                 -86.505083,
                 39.176813999000046
                ],
                [
                 -86.502242,
                 39.17154899900004
                ]
               ]
              ]
             ],
             "type": "MultiPolygon"
            },
            "id": "479",
            "properties": {},
            "type": "Feature"
           },
           {
            "bbox": [
             -86.50945,
             39.150449999000045,
             -86.497639,
             39.17156999900004
            ],
            "geometry": {
             "coordinates": [
              [
               [
                [
                 -86.501747,
                 39.170655999000076
                ],
                [
                 -86.498296,
                 39.16422599900005
                ],
                [
                 -86.49773499899999,
                 39.161132999000074
                ],
                [
                 -86.497869,
                 39.15812599900005
                ],
                [
                 -86.497639,
                 39.153417999000055
                ],
                [
                 -86.497709,
                 39.151252
                ],
                [
                 -86.498245,
                 39.150471
                ],
                [
                 -86.508424,
                 39.150449999000045
                ],
                [
                 -86.50847700099996,
                 39.164265999000065
                ],
                [
                 -86.509408,
                 39.16426399900007
                ],
                [
                 -86.50945,
                 39.16823099900006
                ],
                [
                 -86.507171,
                 39.168213999000045
                ],
                [
                 -86.507211,
                 39.17133399900007
                ],
                [
                 -86.506756,
                 39.17156999900004
                ],
                [
                 -86.501747,
                 39.170655999000076
                ]
               ]
              ]
             ],
             "type": "MultiPolygon"
            },
            "id": "480",
            "properties": {},
            "type": "Feature"
           },
           {
            "bbox": [
             -86.606523,
             39.12181799900003,
             -86.571386,
             39.14202799900005
            ],
            "geometry": {
             "coordinates": [
              [
               [
                [
                 -86.573183,
                 39.136791999000025
                ],
                [
                 -86.57307299899998,
                 39.12734699900005
                ],
                [
                 -86.57254499899994,
                 39.12484399900006
                ],
                [
                 -86.571386,
                 39.12223499900006
                ],
                [
                 -86.573411,
                 39.12222699900008
                ],
                [
                 -86.57527,
                 39.12181799900003
                ],
                [
                 -86.576343,
                 39.12209899900006
                ],
                [
                 -86.577653,
                 39.122959998000056
                ],
                [
                 -86.580476,
                 39.12342299900007
                ],
                [
                 -86.582543,
                 39.123395999000024
                ],
                [
                 -86.582825,
                 39.122959998000056
                ],
                [
                 -86.584097,
                 39.12240199900003
                ],
                [
                 -86.58486600099997,
                 39.12229399900008
                ],
                [
                 -86.60571,
                 39.12230499900005
                ],
                [
                 -86.605714,
                 39.12692799900003
                ],
                [
                 -86.606523,
                 39.12788399900006
                ],
                [
                 -86.60429100099998,
                 39.129248999000026
                ],
                [
                 -86.605113,
                 39.131424999000046
                ],
                [
                 -86.606074,
                 39.13680799900004
                ],
                [
                 -86.595655,
                 39.136801999000056
                ],
                [
                 -86.594412,
                 39.13640199900004
                ],
                [
                 -86.589341,
                 39.13954599900006
                ],
                [
                 -86.588138,
                 39.140062999000065
                ],
                [
                 -86.584579,
                 39.14111199900003
                ],
                [
                 -86.582608,
                 39.14202799900005
                ],
                [
                 -86.582615,
                 39.136801999000056
                ],
                [
                 -86.573183,
                 39.136791999000025
                ]
               ]
              ]
             ],
             "type": "MultiPolygon"
            },
            "id": "482",
            "properties": {},
            "type": "Feature"
           },
           {
            "bbox": [
             -86.573696,
             38.99151499900006,
             -86.44809900099995,
             39.085256
            ],
            "geometry": {
             "coordinates": [
              [
               [
                [
                 -86.475106,
                 39.03656199900007
                ],
                [
                 -86.47557900099997,
                 39.03381499900007
                ],
                [
                 -86.47538400099995,
                 39.03223199900003
                ],
                [
                 -86.474392,
                 39.031254999000055
                ],
                [
                 -86.46912000099996,
                 39.02935199900003
                ],
                [
                 -86.468288,
                 39.02138399900008
                ],
                [
                 -86.46826700099996,
                 39.01956799900006
                ],
                [
                 -86.468803,
                 39.01787499900007
                ],
                [
                 -86.469633,
                 39.01714699900003
                ],
                [
                 -86.471396,
                 39.01605099900007
                ],
                [
                 -86.471697,
                 39.01443899900005
                ],
                [
                 -86.471143,
                 39.011666999000056
                ],
                [
                 -86.469657,
                 39.007351
                ],
                [
                 -86.466308,
                 39.003956999000025
                ],
                [
                 -86.463962,
                 39.002846
                ],
                [
                 -86.461791,
                 39.00119299900007
                ],
                [
                 -86.46065900099995,
                 39.000634999000056
                ],
                [
                 -86.459605,
                 39.000270999000065
                ],
                [
                 -86.454765,
                 38.99951999900003
                ],
                [
                 -86.453451,
                 38.998758999000074
                ],
                [
                 -86.44925599899994,
                 38.99845599900004
                ],
                [
                 -86.449147,
                 38.99505399900005
                ],
                [
                 -86.44809900099995,
                 38.992957
                ],
                [
                 -86.448203,
                 38.99226999900003
                ],
                [
                 -86.448829,
                 38.99151499900006
                ],
                [
                 -86.488261,
                 38.99192099900006
                ],
                [
                 -86.496316,
                 38.991730999000026
                ],
                [
                 -86.52361100099995,
                 38.992002
                ],
                [
                 -86.53047799899997,
                 38.991708999000025
                ],
                [
                 -86.534068,
                 38.99190499900004
                ],
                [
                 -86.537505,
                 38.991843999000025
                ],
                [
                 -86.54443700099995,
                 38.991753999000025
                ],
                [
                 -86.54801099899998,
                 38.99203199900006
                ],
                [
                 -86.573548,
                 38.992146999000056
                ],
                [
                 -86.5736,
                 39.01382999900005
                ],
                [
                 -86.573183,
                 39.04852199900006
                ],
                [
                 -86.573696,
                 39.06542899900006
                ],
                [
                 -86.573579,
                 39.06646499900006
                ],
                [
                 -86.573165,
                 39.06747399900007
                ],
                [
                 -86.573197,
                 39.07874699900003
                ],
                [
                 -86.56470200099994,
                 39.078573998000024
                ],
                [
                 -86.541727,
                 39.07856299900004
                ],
                [
                 -86.541272,
                 39.07963599900006
                ],
                [
                 -86.540918,
                 39.082280999000034
                ],
                [
                 -86.541309,
                 39.083277999000074
                ],
                [
                 -86.543007,
                 39.08458199800003
                ],
                [
                 -86.542731,
                 39.085256
                ],
                [
                 -86.538905,
                 39.08153099900005
                ],
                [
                 -86.53785599899999,
                 39.080182999000044
                ],
                [
                 -86.53703,
                 39.07863799900008
                ],
                [
                 -86.536448,
                 39.07624099900005
                ],
                [
                 -86.53624900099999,
                 39.04025399900007
                ],
                [
                 -86.535863,
                 39.03701699900006
                ],
                [
                 -86.534562,
                 39.03091399900006
                ],
                [
                 -86.53435500099994,
                 39.02891199900006
                ],
                [
                 -86.534652,
                 39.026522
                ],
                [
                 -86.536622,
                 39.02020199900005
                ],
                [
                 -86.53545099899998,
                 39.01961999800005
                ],
                [
                 -86.534874,
                 39.018928999000025
                ],
                [
                 -86.534313,
                 39.01919999900008
                ],
                [
                 -86.532843,
                 39.02068299900003
                ],
                [
                 -86.531996,
                 39.021073999000066
                ],
                [
                 -86.527333,
                 39.02139999900004
                ],
                [
                 -86.525828,
                 39.02111099900003
                ],
                [
                 -86.52458700099999,
                 39.02048799900007
                ],
                [
                 -86.522869,
                 39.01851099900006
                ],
                [
                 -86.522255,
                 39.018924999000035
                ],
                [
                 -86.52187,
                 39.020537999000055
                ],
                [
                 -86.521502,
                 39.027936999000076
                ],
                [
                 -86.520722,
                 39.033806999000035
                ],
                [
                 -86.52031300099998,
                 39.03452899900003
                ],
                [
                 -86.519605,
                 39.03490399900005
                ],
                [
                 -86.50266999899998,
                 39.034909999000035
                ],
                [
                 -86.500923,
                 39.03441699900003
                ],
                [
                 -86.498634,
                 39.03251899900005
                ],
                [
                 -86.49767600099995,
                 39.03211599900004
                ],
                [
                 -86.496315,
                 39.032011999000076
                ],
                [
                 -86.493841,
                 39.03232299900003
                ],
                [
                 -86.490093,
                 39.032478999000034
                ],
                [
                 -86.490537,
                 39.035101
                ],
                [
                 -86.492108,
                 39.03854099900008
                ],
                [
                 -86.491694,
                 39.042642999000066
                ],
                [
                 -86.49053,
                 39.04585099900004
                ],
                [
                 -86.483345,
                 39.04598999900003
                ],
                [
                 -86.482108,
                 39.04577499900006
                ],
                [
                 -86.481465,
                 39.04548199900006
                ],
                [
                 -86.48069,
                 39.04464499900007
                ],
                [
                 -86.480442,
                 39.043625
                ],
                [
                 -86.475106,
                 39.03656199900007
                ]
               ]
              ]
             ],
             "type": "MultiPolygon"
            },
            "id": "970",
            "properties": {},
            "type": "Feature"
           },
           {
            "bbox": [
             -86.56499100099995,
             39.163436999000055,
             -86.535934,
             39.17921299900007
            ],
            "geometry": {
             "coordinates": [
              [
               [
                [
                 -86.535934,
                 39.178997999000046
                ],
                [
                 -86.536,
                 39.17596499900003
                ],
                [
                 -86.537717,
                 39.175969999000074
                ],
                [
                 -86.537725,
                 39.17660899800006
                ],
                [
                 -86.538506,
                 39.17660999800006
                ],
                [
                 -86.53851399899997,
                 39.175057999000046
                ],
                [
                 -86.53810299899999,
                 39.174843999000075
                ],
                [
                 -86.538506,
                 39.17416699900008
                ],
                [
                 -86.53857099899994,
                 39.17326999900007
                ],
                [
                 -86.538701,
                 39.16463199900005
                ],
                [
                 -86.53985,
                 39.164634998000054
                ],
                [
                 -86.539926,
                 39.16428599900007
                ],
                [
                 -86.550219,
                 39.16437399900008
                ],
                [
                 -86.550731,
                 39.164171999000075
                ],
                [
                 -86.551275,
                 39.163436999000055
                ],
                [
                 -86.55196,
                 39.164400999000065
                ],
                [
                 -86.563601,
                 39.164493
                ],
                [
                 -86.563577,
                 39.16523699900006
                ],
                [
                 -86.564711,
                 39.16540899900008
                ],
                [
                 -86.56499,
                 39.16522299900004
                ],
                [
                 -86.56499100099995,
                 39.172614999000075
                ],
                [
                 -86.557857,
                 39.17187299900007
                ],
                [
                 -86.554251,
                 39.17075299900006
                ],
                [
                 -86.551468,
                 39.17070999900005
                ],
                [
                 -86.5545,
                 39.17254599900008
                ],
                [
                 -86.55647999899998,
                 39.17491799900006
                ],
                [
                 -86.556488,
                 39.17909399900003
                ],
                [
                 -86.5476,
                 39.17907299900003
                ],
                [
                 -86.547084,
                 39.17921299900007
                ],
                [
                 -86.545825,
                 39.179039
                ],
                [
                 -86.535934,
                 39.178997999000046
                ]
               ]
              ]
             ],
             "type": "MultiPolygon"
            },
            "id": "971",
            "properties": {},
            "type": "Feature"
           },
           {
            "bbox": [
             -86.544379,
             39.01851099900006,
             -86.449948,
             39.12144699900006
            ],
            "geometry": {
             "coordinates": [
              [
               [
                [
                 -86.461847,
                 39.10685599900006
                ],
                [
                 -86.461777,
                 39.105521999000075
                ],
                [
                 -86.462297,
                 39.103552999000044
                ],
                [
                 -86.461831,
                 39.10232999900006
                ],
                [
                 -86.46169,
                 39.10065499900003
                ],
                [
                 -86.46169500099995,
                 39.09431199800008
                ],
                [
                 -86.456604,
                 39.08769199900007
                ],
                [
                 -86.450855,
                 39.07816799900007
                ],
                [
                 -86.449948,
                 39.078179
                ],
                [
                 -86.451463,
                 39.070916999000076
                ],
                [
                 -86.452049,
                 39.06165499900004
                ],
                [
                 -86.454231,
                 39.056185
                ],
                [
                 -86.45695000099994,
                 39.052624999000045
                ],
                [
                 -86.461809,
                 39.048958999000035
                ],
                [
                 -86.463551,
                 39.04638599900005
                ],
                [
                 -86.465955,
                 39.04668199900004
                ],
                [
                 -86.472374,
                 39.04313399900008
                ],
                [
                 -86.474635,
                 39.038876999000024
                ],
                [
                 -86.475,
                 39.03799199900004
                ],
                [
                 -86.475106,
                 39.03656199900007
                ],
                [
                 -86.480442,
                 39.043625
                ],
                [
                 -86.48069,
                 39.04464499900007
                ],
                [
                 -86.481465,
                 39.04548199900006
                ],
                [
                 -86.482108,
                 39.04577499900006
                ],
                [
                 -86.483345,
                 39.04598999900003
                ],
                [
                 -86.49053,
                 39.04585099900004
                ],
                [
                 -86.491694,
                 39.042642999000066
                ],
                [
                 -86.492108,
                 39.03854099900008
                ],
                [
                 -86.490537,
                 39.035101
                ],
                [
                 -86.490093,
                 39.032478999000034
                ],
                [
                 -86.493841,
                 39.03232299900003
                ],
                [
                 -86.496315,
                 39.032011999000076
                ],
                [
                 -86.49767600099995,
                 39.03211599900004
                ],
                [
                 -86.498634,
                 39.03251899900005
                ],
                [
                 -86.500923,
                 39.03441699900003
                ],
                [
                 -86.50266999899998,
                 39.034909999000035
                ],
                [
                 -86.519605,
                 39.03490399900005
                ],
                [
                 -86.52031300099998,
                 39.03452899900003
                ],
                [
                 -86.520722,
                 39.033806999000035
                ],
                [
                 -86.521502,
                 39.027936999000076
                ],
                [
                 -86.52187,
                 39.020537999000055
                ],
                [
                 -86.522255,
                 39.018924999000035
                ],
                [
                 -86.522869,
                 39.01851099900006
                ],
                [
                 -86.52458700099999,
                 39.02048799900007
                ],
                [
                 -86.525828,
                 39.02111099900003
                ],
                [
                 -86.527333,
                 39.02139999900004
                ],
                [
                 -86.531996,
                 39.021073999000066
                ],
                [
                 -86.532843,
                 39.02068299900003
                ],
                [
                 -86.534313,
                 39.01919999900008
                ],
                [
                 -86.534874,
                 39.018928999000025
                ],
                [
                 -86.53545099899998,
                 39.01961999800005
                ],
                [
                 -86.536622,
                 39.02020199900005
                ],
                [
                 -86.534652,
                 39.026522
                ],
                [
                 -86.53435500099994,
                 39.02891199900006
                ],
                [
                 -86.534562,
                 39.03091399900006
                ],
                [
                 -86.535863,
                 39.03701699900006
                ],
                [
                 -86.53624900099999,
                 39.04025399900007
                ],
                [
                 -86.536448,
                 39.07624099900005
                ],
                [
                 -86.53703,
                 39.07863799900008
                ],
                [
                 -86.53785599899999,
                 39.080182999000044
                ],
                [
                 -86.538905,
                 39.08153099900005
                ],
                [
                 -86.542731,
                 39.085256
                ],
                [
                 -86.542282,
                 39.08585099900006
                ],
                [
                 -86.542262,
                 39.086217
                ],
                [
                 -86.54422899899998,
                 39.091093999000066
                ],
                [
                 -86.544379,
                 39.091953999000054
                ],
                [
                 -86.544061,
                 39.09318699900007
                ],
                [
                 -86.54238,
                 39.09579399900008
                ],
                [
                 -86.541695,
                 39.09650299900005
                ],
                [
                 -86.537757,
                 39.099401999000065
                ],
                [
                 -86.53605300099997,
                 39.10105899900003
                ],
                [
                 -86.534116,
                 39.10242899900004
                ],
                [
                 -86.532188,
                 39.104861999000036
                ],
                [
                 -86.5315,
                 39.107232999000075
                ],
                [
                 -86.52649500099994,
                 39.107187999000075
                ],
                [
                 -86.52665,
                 39.12144699900006
                ],
                [
                 -86.48998600099998,
                 39.121376
                ],
                [
                 -86.485231,
                 39.12068499900005
                ],
                [
                 -86.484189,
                 39.12017799900008
                ],
                [
                 -86.48326400099995,
                 39.12008999900007
                ],
                [
                 -86.480934,
                 39.11934799900007
                ],
                [
                 -86.476876,
                 39.117087999000034
                ],
                [
                 -86.47616300099997,
                 39.11615999900005
                ],
                [
                 -86.475127,
                 39.115567
                ],
                [
                 -86.4711,
                 39.11502899900006
                ],
                [
                 -86.467294,
                 39.11396699900007
                ],
                [
                 -86.464723,
                 39.11123099900004
                ],
                [
                 -86.463411,
                 39.108604
                ],
                [
                 -86.46208699899995,
                 39.10753499900005
                ],
                [
                 -86.461847,
                 39.10685599900006
                ]
               ]
              ]
             ],
             "type": "MultiPolygon"
            },
            "id": "972",
            "properties": {},
            "type": "Feature"
           },
           {
            "bbox": [
             -86.47557900099997,
             38.990698999000074,
             -86.31738,
             39.33975199900004
            ],
            "geometry": {
             "coordinates": [
              [
               [
                [
                 -86.372193,
                 39.23808299900003
                ],
                [
                 -86.371493,
                 39.19634399900008
                ],
                [
                 -86.370392,
                 39.178648
                ],
                [
                 -86.370192,
                 39.15264999900006
                ],
                [
                 -86.369692,
                 39.14374799900003
                ],
                [
                 -86.369246,
                 39.11193299900003
                ],
                [
                 -86.369285,
                 39.09568099900008
                ],
                [
                 -86.36911,
                 39.089642999000034
                ],
                [
                 -86.36920699899997,
                 39.081840999000065
                ],
                [
                 -86.369456,
                 39.08115199900004
                ],
                [
                 -86.369168,
                 39.07682599900005
                ],
                [
                 -86.369211,
                 39.06173299900007
                ],
                [
                 -86.370066,
                 39.04837499900003
                ],
                [
                 -86.35078200099997,
                 39.04902399900004
                ],
                [
                 -86.350756,
                 39.04868699900004
                ],
                [
                 -86.336993,
                 39.048947
                ],
                [
                 -86.318133,
                 39.04880999900007
                ],
                [
                 -86.317799,
                 39.002732999000045
                ],
                [
                 -86.31738,
                 39.000049999000055
                ],
                [
                 -86.31747400099994,
                 38.99086999900004
                ],
                [
                 -86.367515,
                 38.99087499900003
                ],
                [
                 -86.37499,
                 38.990698999000074
                ],
                [
                 -86.448829,
                 38.99151499900006
                ],
                [
                 -86.448203,
                 38.99226999900003
                ],
                [
                 -86.44809900099995,
                 38.992957
                ],
                [
                 -86.449147,
                 38.99505399900005
                ],
                [
                 -86.44925599899994,
                 38.99845599900004
                ],
                [
                 -86.453451,
                 38.998758999000074
                ],
                [
                 -86.454765,
                 38.99951999900003
                ],
                [
                 -86.459605,
                 39.000270999000065
                ],
                [
                 -86.46065900099995,
                 39.000634999000056
                ],
                [
                 -86.461791,
                 39.00119299900007
                ],
                [
                 -86.463962,
                 39.002846
                ],
                [
                 -86.466308,
                 39.003956999000025
                ],
                [
                 -86.469657,
                 39.007351
                ],
                [
                 -86.471143,
                 39.011666999000056
                ],
                [
                 -86.471697,
                 39.01443899900005
                ],
                [
                 -86.471396,
                 39.01605099900007
                ],
                [
                 -86.469633,
                 39.01714699900003
                ],
                [
                 -86.468803,
                 39.01787499900007
                ],
                [
                 -86.46826700099996,
                 39.01956799900006
                ],
                [
                 -86.468288,
                 39.02138399900008
                ],
                [
                 -86.46912000099996,
                 39.02935199900003
                ],
                [
                 -86.474392,
                 39.031254999000055
                ],
                [
                 -86.47538400099995,
                 39.03223199900003
                ],
                [
                 -86.47557900099997,
                 39.03381499900007
                ],
                [
                 -86.475106,
                 39.03656199900007
                ],
                [
                 -86.475,
                 39.03799199900004
                ],
                [
                 -86.474635,
                 39.038876999000024
                ],
                [
                 -86.472374,
                 39.04313399900008
                ],
                [
                 -86.465955,
                 39.04668199900004
                ],
                [
                 -86.463551,
                 39.04638599900005
                ],
                [
                 -86.461809,
                 39.048958999000035
                ],
                [
                 -86.45695000099994,
                 39.052624999000045
                ],
                [
                 -86.454231,
                 39.056185
                ],
                [
                 -86.452049,
                 39.06165499900004
                ],
                [
                 -86.451463,
                 39.070916999000076
                ],
                [
                 -86.449948,
                 39.078179
                ],
                [
                 -86.450855,
                 39.07816799900007
                ],
                [
                 -86.456604,
                 39.08769199900007
                ],
                [
                 -86.46169500099995,
                 39.09431199800008
                ],
                [
                 -86.46169,
                 39.10065499900003
                ],
                [
                 -86.461831,
                 39.10232999900006
                ],
                [
                 -86.462297,
                 39.103552999000044
                ],
                [
                 -86.461777,
                 39.105521999000075
                ],
                [
                 -86.461847,
                 39.10685599900006
                ],
                [
                 -86.462197,
                 39.14903899900003
                ],
                [
                 -86.462596,
                 39.16658599900006
                ],
                [
                 -86.462778,
                 39.185897999000076
                ],
                [
                 -86.467341,
                 39.185842999000045
                ],
                [
                 -86.468869,
                 39.18552
                ],
                [
                 -86.46829900099993,
                 39.18620899900003
                ],
                [
                 -86.468028,
                 39.186961
                ],
                [
                 -86.468182,
                 39.192064999000024
                ],
                [
                 -86.467777,
                 39.19310799900006
                ],
                [
                 -86.467884,
                 39.200358
                ],
                [
                 -86.466532,
                 39.202660999000045
                ],
                [
                 -86.463297,
                 39.20416699900005
                ],
                [
                 -86.463268,
                 39.210030999000026
                ],
                [
                 -86.463525,
                 39.21272799900004
                ],
                [
                 -86.463524,
                 39.223535999000035
                ],
                [
                 -86.463882,
                 39.230698999000026
                ],
                [
                 -86.464045,
                 39.25090299900006
                ],
                [
                 -86.464416,
                 39.279654
                ],
                [
                 -86.465042,
                 39.29444899900005
                ],
                [
                 -86.464746,
                 39.30920799900008
                ],
                [
                 -86.46438699899994,
                 39.309291
                ],
                [
                 -86.465115,
                 39.33829999900007
                ],
                [
                 -86.381395,
                 39.33975199900004
                ],
                [
                 -86.379937,
                 39.25108
                ],
                [
                 -86.372408,
                 39.250904999000056
                ],
                [
                 -86.372193,
                 39.23808299900003
                ]
               ]
              ]
             ],
             "type": "MultiPolygon"
            },
            "id": "1070",
            "properties": {},
            "type": "Feature"
           },
           {
            "bbox": [
             -86.574114,
             39.17654599900004,
             -86.463524,
             39.276725999000064
            ],
            "geometry": {
             "coordinates": [
              [
               [
                [
                 -86.464045,
                 39.25090299900006
                ],
                [
                 -86.463882,
                 39.230698999000026
                ],
                [
                 -86.463524,
                 39.223535999000035
                ],
                [
                 -86.463525,
                 39.21272799900004
                ],
                [
                 -86.468012,
                 39.21481299900006
                ],
                [
                 -86.468511,
                 39.21489199900003
                ],
                [
                 -86.477415,
                 39.214874999000074
                ],
                [
                 -86.478989,
                 39.21408499900008
                ],
                [
                 -86.480187,
                 39.21401399900003
                ],
                [
                 -86.481539,
                 39.21430599900003
                ],
                [
                 -86.48440900099996,
                 39.21413699900006
                ],
                [
                 -86.487252,
                 39.21292299800007
                ],
                [
                 -86.489574,
                 39.21268099900004
                ],
                [
                 -86.491565,
                 39.21290999900003
                ],
                [
                 -86.49448199899996,
                 39.21208799900006
                ],
                [
                 -86.49877,
                 39.21169599900003
                ],
                [
                 -86.502474,
                 39.211676999000076
                ],
                [
                 -86.505409,
                 39.21279799900003
                ],
                [
                 -86.50545400099998,
                 39.20829299900004
                ],
                [
                 -86.506735,
                 39.205043999000054
                ],
                [
                 -86.510438,
                 39.203346999000075
                ],
                [
                 -86.511308,
                 39.201686
                ],
                [
                 -86.511886,
                 39.201295
                ],
                [
                 -86.513228,
                 39.20081999900003
                ],
                [
                 -86.51460399899997,
                 39.20066699900008
                ],
                [
                 -86.514651,
                 39.19970999900005
                ],
                [
                 -86.513752,
                 39.198300999000026
                ],
                [
                 -86.51321999899994,
                 39.19677799900006
                ],
                [
                 -86.51390599899997,
                 39.19800699900003
                ],
                [
                 -86.515526,
                 39.199621999000044
                ],
                [
                 -86.521037,
                 39.202638999000044
                ],
                [
                 -86.52263700099996,
                 39.20445499900006
                ],
                [
                 -86.524648,
                 39.20486499900005
                ],
                [
                 -86.527909,
                 39.206148
                ],
                [
                 -86.52866699899994,
                 39.20607599900006
                ],
                [
                 -86.52872399899996,
                 39.208018999000046
                ],
                [
                 -86.529408,
                 39.20816799900007
                ],
                [
                 -86.531466,
                 39.208105999000054
                ],
                [
                 -86.534849,
                 39.20710799900007
                ],
                [
                 -86.53543499899996,
                 39.21023099900003
                ],
                [
                 -86.54055,
                 39.22730799900006
                ],
                [
                 -86.540859,
                 39.22976299900006
                ],
                [
                 -86.540732,
                 39.23281399900003
                ],
                [
                 -86.541371,
                 39.23412099900003
                ],
                [
                 -86.55243799899995,
                 39.217618
                ],
                [
                 -86.553172,
                 39.21645599900006
                ],
                [
                 -86.553963,
                 39.21433299900008
                ],
                [
                 -86.554181,
                 39.21229899900004
                ],
                [
                 -86.553946,
                 39.205249999000046
                ],
                [
                 -86.555217,
                 39.187238999000044
                ],
                [
                 -86.556817,
                 39.18234399900007
                ],
                [
                 -86.557554,
                 39.180862999000055
                ],
                [
                 -86.558979,
                 39.17924099800007
                ],
                [
                 -86.562398,
                 39.17654599900004
                ],
                [
                 -86.56262199899999,
                 39.17682299900008
                ],
                [
                 -86.561486,
                 39.17788999900006
                ],
                [
                 -86.561571,
                 39.17843399900005
                ],
                [
                 -86.56393,
                 39.179182999000034
                ],
                [
                 -86.567252,
                 39.18172899900003
                ],
                [
                 -86.56932799899994,
                 39.182964999000035
                ],
                [
                 -86.57245,
                 39.187075
                ],
                [
                 -86.57359500099994,
                 39.187969999000074
                ],
                [
                 -86.573725,
                 39.207673999000065
                ],
                [
                 -86.573885,
                 39.25168799900007
                ],
                [
                 -86.574114,
                 39.27582799900006
                ],
                [
                 -86.572931,
                 39.27648499900005
                ],
                [
                 -86.572083,
                 39.276725999000064
                ],
                [
                 -86.571475,
                 39.27670999800006
                ],
                [
                 -86.57080300099994,
                 39.276313999000024
                ],
                [
                 -86.56996899899997,
                 39.27546299900007
                ],
                [
                 -86.56968,
                 39.27453999900007
                ],
                [
                 -86.56934,
                 39.27427699900005
                ],
                [
                 -86.568506,
                 39.274440999000035
                ],
                [
                 -86.567644,
                 39.275314999000045
                ],
                [
                 -86.567199,
                 39.27535899900005
                ],
                [
                 -86.56702200099994,
                 39.27520499900004
                ],
                [
                 -86.567411,
                 39.273996999000076
                ],
                [
                 -86.567177,
                 39.272150999000075
                ],
                [
                 -86.56858399899994,
                 39.27063499900004
                ],
                [
                 -86.568739,
                 39.26961299800007
                ],
                [
                 -86.569559,
                 39.26731699900006
                ],
                [
                 -86.569608,
                 39.26648699900005
                ],
                [
                 -86.56938200099995,
                 39.266300999000066
                ],
                [
                 -86.56635,
                 39.26676199900004
                ],
                [
                 -86.565707,
                 39.26750899900003
                ],
                [
                 -86.565057,
                 39.26973399900004
                ],
                [
                 -86.564478,
                 39.27008599900006
                ],
                [
                 -86.563983,
                 39.27004199800007
                ],
                [
                 -86.563517,
                 39.26968999800005
                ],
                [
                 -86.56468300099993,
                 39.268623999000056
                ],
                [
                 -86.56435,
                 39.266668999000046
                ],
                [
                 -86.563679,
                 39.26593299900003
                ],
                [
                 -86.562704,
                 39.26616899900006
                ],
                [
                 -86.562895,
                 39.26736599900005
                ],
                [
                 -86.562492,
                 39.26768499900004
                ],
                [
                 -86.561418,
                 39.26794299900007
                ],
                [
                 -86.560125,
                 39.268519999000034
                ],
                [
                 -86.558733,
                 39.268552999000065
                ],
                [
                 -86.557885,
                 39.268755999000064
                ],
                [
                 -86.557404,
                 39.26853599900005
                ],
                [
                 -86.55703,
                 39.26655899900004
                ],
                [
                 -86.55715,
                 39.266278999000065
                ],
                [
                 -86.557588,
                 39.265756999000075
                ],
                [
                 -86.55869,
                 39.26542199900007
                ],
                [
                 -86.55905099899996,
                 39.26478499900003
                ],
                [
                 -86.55746800099996,
                 39.263899999000046
                ],
                [
                 -86.557277,
                 39.26319699800007
                ],
                [
                 -86.55772199899997,
                 39.26266399900004
                ],
                [
                 -86.55686,
                 39.262207999000054
                ],
                [
                 -86.555801,
                 39.26099399900005
                ],
                [
                 -86.554522,
                 39.26041699900003
                ],
                [
                 -86.55282600099997,
                 39.2605
                ],
                [
                 -86.552112,
                 39.259708999000054
                ],
                [
                 -86.552141,
                 39.259115
                ],
                [
                 -86.552635,
                 39.258807999000055
                ],
                [
                 -86.553497,
                 39.258867999000074
                ],
                [
                 -86.555864,
                 39.260147999000026
                ],
                [
                 -86.556387,
                 39.25998399900004
                ],
                [
                 -86.556762,
                 39.25943999900005
                ],
                [
                 -86.557482,
                 39.257188
                ],
                [
                 -86.557363,
                 39.25544099900003
                ],
                [
                 -86.556889,
                 39.25528199900003
                ],
                [
                 -86.555434,
                 39.255331
                ],
                [
                 -86.554706,
                 39.255006999000045
                ],
                [
                 -86.55472,
                 39.254627999000036
                ],
                [
                 -86.555179,
                 39.25429299900003
                ],
                [
                 -86.55619700099999,
                 39.254007
                ],
                [
                 -86.556282,
                 39.25357899900007
                ],
                [
                 -86.555582,
                 39.253006999000036
                ],
                [
                 -86.554162,
                 39.25282099900005
                ],
                [
                 -86.553435,
                 39.252484999000046
                ],
                [
                 -86.553491,
                 39.251891999000065
                ],
                [
                 -86.553753,
                 39.25167199900005
                ],
                [
                 -86.55485899899998,
                 39.25157599900007
                ],
                [
                 -86.528981,
                 39.251336
                ],
                [
                 -86.50961100099994,
                 39.25143999900007
                ],
                [
                 -86.502309,
                 39.25167399900005
                ],
                [
                 -86.49724500099995,
                 39.25144699900005
                ],
                [
                 -86.47642,
                 39.25118599900003
                ],
                [
                 -86.47278,
                 39.25091199900004
                ],
                [
                 -86.471005,
                 39.251047999000036
                ],
                [
                 -86.464045,
                 39.25090299900006
                ]
               ]
              ]
             ],
             "type": "MultiPolygon"
            },
            "id": "1071",
            "properties": {},
            "type": "Feature"
           },
           {
            "bbox": [
             -86.57328100099994,
             39.14748499900003,
             -86.538699,
             39.164634998000054
            ],
            "geometry": {
             "coordinates": [
              [
               [
                [
                 -86.538701,
                 39.16463199900005
                ],
                [
                 -86.538699,
                 39.161395999000035
                ],
                [
                 -86.538787,
                 39.150599999000065
                ],
                [
                 -86.53880400099996,
                 39.14962899900007
                ],
                [
                 -86.543138,
                 39.155635999000026
                ],
                [
                 -86.561408,
                 39.15613299900008
                ],
                [
                 -86.566519,
                 39.15278999900005
                ],
                [
                 -86.568778,
                 39.14991299900004
                ],
                [
                 -86.573246,
                 39.14748499900003
                ],
                [
                 -86.57328100099994,
                 39.164566999000044
                ],
                [
                 -86.563601,
                 39.164493
                ],
                [
                 -86.55196,
                 39.164400999000065
                ],
                [
                 -86.551275,
                 39.163436999000055
                ],
                [
                 -86.550731,
                 39.164171999000075
                ],
                [
                 -86.550219,
                 39.16437399900008
                ],
                [
                 -86.539926,
                 39.16428599900007
                ],
                [
                 -86.53985,
                 39.164634998000054
                ],
                [
                 -86.538701,
                 39.16463199900005
                ]
               ]
              ]
             ],
             "type": "MultiPolygon"
            },
            "id": "1072",
            "properties": {},
            "type": "Feature"
           },
           {
            "bbox": [
             -86.610547,
             39.13640199900004,
             -86.573183,
             39.16490899900003
            ],
            "geometry": {
             "coordinates": [
              [
               [
                [
                 -86.57328100099994,
                 39.164566999000044
                ],
                [
                 -86.573246,
                 39.14748499900003
                ],
                [
                 -86.573183,
                 39.136791999000025
                ],
                [
                 -86.582615,
                 39.136801999000056
                ],
                [
                 -86.582608,
                 39.14202799900005
                ],
                [
                 -86.584579,
                 39.14111199900003
                ],
                [
                 -86.588138,
                 39.140062999000065
                ],
                [
                 -86.589341,
                 39.13954599900006
                ],
                [
                 -86.594412,
                 39.13640199900004
                ],
                [
                 -86.595655,
                 39.136801999000056
                ],
                [
                 -86.606074,
                 39.13680799900004
                ],
                [
                 -86.61025700099998,
                 39.136820999000065
                ],
                [
                 -86.610547,
                 39.16490899900003
                ],
                [
                 -86.57328100099994,
                 39.164566999000044
                ]
               ]
              ]
             ],
             "type": "MultiPolygon"
            },
            "id": "1086",
            "properties": {},
            "type": "Feature"
           },
           {
            "bbox": [
             -86.68300199899994,
             38.99201099900006,
             -86.573165,
             39.165745998000034
            ],
            "geometry": {
             "coordinates": [
              [
               [
                [
                 -86.610547,
                 39.16490899900003
                ],
                [
                 -86.61025700099998,
                 39.136820999000065
                ],
                [
                 -86.606074,
                 39.13680799900004
                ],
                [
                 -86.605113,
                 39.131424999000046
                ],
                [
                 -86.60429100099998,
                 39.129248999000026
                ],
                [
                 -86.606523,
                 39.12788399900006
                ],
                [
                 -86.605714,
                 39.12692799900003
                ],
                [
                 -86.60571,
                 39.12230499900005
                ],
                [
                 -86.58486600099997,
                 39.12229399900008
                ],
                [
                 -86.584097,
                 39.12240199900003
                ],
                [
                 -86.582825,
                 39.122959998000056
                ],
                [
                 -86.582543,
                 39.123395999000024
                ],
                [
                 -86.580476,
                 39.12342299900007
                ],
                [
                 -86.577653,
                 39.122959998000056
                ],
                [
                 -86.576343,
                 39.12209899900006
                ],
                [
                 -86.57527,
                 39.12181799900003
                ],
                [
                 -86.573411,
                 39.12222699900008
                ],
                [
                 -86.573509,
                 39.106474999000056
                ],
                [
                 -86.573197,
                 39.07874699900003
                ],
                [
                 -86.573165,
                 39.06747399900007
                ],
                [
                 -86.573579,
                 39.06646499900006
                ],
                [
                 -86.573696,
                 39.06542899900006
                ],
                [
                 -86.573183,
                 39.04852199900006
                ],
                [
                 -86.5736,
                 39.01382999900005
                ],
                [
                 -86.573548,
                 38.992146999000056
                ],
                [
                 -86.58789,
                 38.99221299900006
                ],
                [
                 -86.595231,
                 38.99201099900006
                ],
                [
                 -86.606579,
                 38.992138999000076
                ],
                [
                 -86.609404,
                 38.99202499800003
                ],
                [
                 -86.621665,
                 38.99221199900006
                ],
                [
                 -86.68227700099999,
                 38.99240399900003
                ],
                [
                 -86.682091,
                 39.062364
                ],
                [
                 -86.68240099899998,
                 39.07984599900004
                ],
                [
                 -86.682302,
                 39.08668999900004
                ],
                [
                 -86.68300199899994,
                 39.165745998000034
                ],
                [
                 -86.639778,
                 39.16535599800005
                ],
                [
                 -86.629145,
                 39.16504899900008
                ],
                [
                 -86.610547,
                 39.16490899900003
                ]
               ]
              ]
             ],
             "type": "MultiPolygon"
            },
            "id": "1108",
            "properties": {},
            "type": "Feature"
           },
           {
            "bbox": [
             -86.659167,
             39.209078,
             -86.611361,
             39.25239
            ],
            "geometry": {
             "coordinates": [
              [
               [
                [
                 -86.65398299899994,
                 39.252372999000045
                ],
                [
                 -86.65211499899993,
                 39.25041899900003
                ],
                [
                 -86.64495299899994,
                 39.246551999000076
                ],
                [
                 -86.642601,
                 39.245974999000055
                ],
                [
                 -86.636957,
                 39.24575999900003
                ],
                [
                 -86.63537999899995,
                 39.24519199900004
                ],
                [
                 -86.634573,
                 39.24443499900008
                ],
                [
                 -86.628237,
                 39.236192999000025
                ],
                [
                 -86.614151,
                 39.22640699900006
                ],
                [
                 -86.611558,
                 39.220799999000064
                ],
                [
                 -86.612155,
                 39.22085099900005
                ],
                [
                 -86.611892,
                 39.22032099900008
                ],
                [
                 -86.611887,
                 39.21760099900007
                ],
                [
                 -86.611361,
                 39.21561299900003
                ],
                [
                 -86.611391,
                 39.209078
                ],
                [
                 -86.61608,
                 39.210305
                ],
                [
                 -86.61922,
                 39.21073899900006
                ],
                [
                 -86.624073,
                 39.21206199900007
                ],
                [
                 -86.627208,
                 39.213455999000075
                ],
                [
                 -86.630405,
                 39.21521499900007
                ],
                [
                 -86.630409,
                 39.21650499900005
                ],
                [
                 -86.658727,
                 39.216871999000034
                ],
                [
                 -86.659167,
                 39.25239
                ],
                [
                 -86.65398299899994,
                 39.252372999000045
                ]
               ]
              ]
             ],
             "type": "MultiPolygon"
            },
            "id": "1109",
            "properties": {},
            "type": "Feature"
           },
           {
            "bbox": [
             -86.548732,
             39.13595399900004,
             -86.5151,
             39.153309999000044
            ],
            "geometry": {
             "coordinates": [
              [
               [
                [
                 -86.522622,
                 39.15053099900007
                ],
                [
                 -86.515127,
                 39.150543999000035
                ],
                [
                 -86.5151,
                 39.148266
                ],
                [
                 -86.517488,
                 39.14827999900007
                ],
                [
                 -86.51739499899998,
                 39.14331499900004
                ],
                [
                 -86.516403,
                 39.14288399900005
                ],
                [
                 -86.515608,
                 39.14114599900006
                ],
                [
                 -86.515571,
                 39.140509
                ],
                [
                 -86.51576,
                 39.14033199900007
                ],
                [
                 -86.517092,
                 39.14031299900006
                ],
                [
                 -86.517591,
                 39.13994499900008
                ],
                [
                 -86.517479,
                 39.13599099900006
                ],
                [
                 -86.526891,
                 39.136004
                ],
                [
                 -86.535062,
                 39.13595399900004
                ],
                [
                 -86.548732,
                 39.13633499900004
                ],
                [
                 -86.541808,
                 39.143406999000035
                ],
                [
                 -86.539183,
                 39.145983999000066
                ],
                [
                 -86.53887600099995,
                 39.146073999000066
                ],
                [
                 -86.53880400099996,
                 39.14962899900007
                ],
                [
                 -86.538787,
                 39.150599999000065
                ],
                [
                 -86.5363,
                 39.15068899900007
                ],
                [
                 -86.53626,
                 39.153309999000044
                ],
                [
                 -86.535547,
                 39.14955099900004
                ],
                [
                 -86.534724,
                 39.148681
                ],
                [
                 -86.53519899899999,
                 39.14981399900006
                ],
                [
                 -86.535231,
                 39.15053699900005
                ],
                [
                 -86.522622,
                 39.15053099900007
                ]
               ]
              ]
             ],
             "type": "MultiPolygon"
            },
            "id": "1110",
            "properties": {},
            "type": "Feature"
           },
           {
            "bbox": [
             -86.573183,
             39.12144699900006,
             -86.52665,
             39.136791999000025
            ],
            "geometry": {
             "coordinates": [
              [
               [
                [
                 -86.548732,
                 39.13633499900004
                ],
                [
                 -86.535062,
                 39.13595399900004
                ],
                [
                 -86.526891,
                 39.136004
                ],
                [
                 -86.52665,
                 39.12144699900006
                ],
                [
                 -86.535504,
                 39.12146499900007
                ],
                [
                 -86.558373,
                 39.122133
                ],
                [
                 -86.56067199899996,
                 39.12199899900003
                ],
                [
                 -86.560787,
                 39.122134999000025
                ],
                [
                 -86.562487,
                 39.122175999000035
                ],
                [
                 -86.571386,
                 39.12223499900006
                ],
                [
                 -86.57254499899994,
                 39.12484399900006
                ],
                [
                 -86.57307299899998,
                 39.12734699900005
                ],
                [
                 -86.573183,
                 39.136791999000025
                ],
                [
                 -86.548732,
                 39.13633499900004
                ]
               ]
              ]
             ],
             "type": "MultiPolygon"
            },
            "id": "1120",
            "properties": {},
            "type": "Feature"
           },
           {
            "bbox": [
             -86.53857099899994,
             39.16848199900005,
             -86.520994,
             39.18631299900005
            ],
            "geometry": {
             "coordinates": [
              [
               [
                [
                 -86.528396,
                 39.18629199900005
                ],
                [
                 -86.528326,
                 39.179008999000075
                ],
                [
                 -86.521096,
                 39.17902299900004
                ],
                [
                 -86.521014,
                 39.174089
                ],
                [
                 -86.520994,
                 39.17161699900004
                ],
                [
                 -86.523503,
                 39.171635999000046
                ],
                [
                 -86.523484,
                 39.16848199900005
                ],
                [
                 -86.526955,
                 39.16850199900006
                ],
                [
                 -86.52696700099995,
                 39.17256199900004
                ],
                [
                 -86.533595,
                 39.17252699900007
                ],
                [
                 -86.533583,
                 39.17327499900006
                ],
                [
                 -86.53857099899994,
                 39.17326999900007
                ],
                [
                 -86.538506,
                 39.17416699900008
                ],
                [
                 -86.53810299899999,
                 39.174843999000075
                ],
                [
                 -86.53851399899997,
                 39.175057999000046
                ],
                [
                 -86.538506,
                 39.17660999800006
                ],
                [
                 -86.537725,
                 39.17660899800006
                ],
                [
                 -86.537717,
                 39.175969999000074
                ],
                [
                 -86.536,
                 39.17596499900003
                ],
                [
                 -86.535934,
                 39.178997999000046
                ],
                [
                 -86.534698,
                 39.17899199900006
                ],
                [
                 -86.534508,
                 39.18631299900005
                ],
                [
                 -86.528396,
                 39.18629199900005
                ]
               ]
              ]
             ],
             "type": "MultiPolygon"
            },
            "id": "1121",
            "properties": {},
            "type": "Feature"
           },
           {
            "bbox": [
             -86.502242,
             39.16422599900005,
             -86.462596,
             39.185897999000076
            ],
            "geometry": {
             "coordinates": [
              [
               [
                [
                 -86.462596,
                 39.16658599900006
                ],
                [
                 -86.467243,
                 39.166232
                ],
                [
                 -86.47154,
                 39.16450499900003
                ],
                [
                 -86.47264,
                 39.16427299900005
                ],
                [
                 -86.498296,
                 39.16422599900005
                ],
                [
                 -86.501747,
                 39.170655999000076
                ],
                [
                 -86.502242,
                 39.17154899900004
                ],
                [
                 -86.49008,
                 39.17153199900008
                ],
                [
                 -86.485947,
                 39.172029999000074
                ],
                [
                 -86.48429,
                 39.17200599900008
                ],
                [
                 -86.483332,
                 39.17222699900003
                ],
                [
                 -86.482586,
                 39.17279399900008
                ],
                [
                 -86.481334,
                 39.17511599900007
                ],
                [
                 -86.473898,
                 39.17950899900006
                ],
                [
                 -86.468869,
                 39.18552
                ],
                [
                 -86.467341,
                 39.185842999000045
                ],
                [
                 -86.462778,
                 39.185897999000076
                ],
                [
                 -86.462596,
                 39.16658599900006
                ]
               ]
              ]
             ],
             "type": "MultiPolygon"
            },
            "id": "1122",
            "properties": {},
            "type": "Feature"
           },
           {
            "bbox": [
             -86.498296,
             39.14903899900003,
             -86.462197,
             39.16658599900006
            ],
            "geometry": {
             "coordinates": [
              [
               [
                [
                 -86.462197,
                 39.14903899900003
                ],
                [
                 -86.463345,
                 39.149522999000055
                ],
                [
                 -86.463469,
                 39.15032899900007
                ],
                [
                 -86.46378599899998,
                 39.15049799900004
                ],
                [
                 -86.480461,
                 39.150209999000026
                ],
                [
                 -86.498245,
                 39.150471
                ],
                [
                 -86.497709,
                 39.151252
                ],
                [
                 -86.497639,
                 39.153417999000055
                ],
                [
                 -86.497869,
                 39.15812599900005
                ],
                [
                 -86.49773499899999,
                 39.161132999000074
                ],
                [
                 -86.498296,
                 39.16422599900005
                ],
                [
                 -86.47264,
                 39.16427299900005
                ],
                [
                 -86.47154,
                 39.16450499900003
                ],
                [
                 -86.467243,
                 39.166232
                ],
                [
                 -86.462596,
                 39.16658599900006
                ],
                [
                 -86.462197,
                 39.14903899900003
                ]
               ]
              ]
             ],
             "type": "MultiPolygon"
            },
            "id": "1123",
            "properties": {},
            "type": "Feature"
           },
           {
            "bbox": [
             -86.614151,
             39.187969999000074,
             -86.57359500099994,
             39.22640699900006
            ],
            "geometry": {
             "coordinates": [
              [
               [
                [
                 -86.573725,
                 39.207673999000065
                ],
                [
                 -86.57359500099994,
                 39.187969999000074
                ],
                [
                 -86.58206199899996,
                 39.19000899900004
                ],
                [
                 -86.586063,
                 39.19238599900007
                ],
                [
                 -86.590859,
                 39.19367599900005
                ],
                [
                 -86.593419,
                 39.195405
                ],
                [
                 -86.596554,
                 39.19628099900007
                ],
                [
                 -86.599153,
                 39.19820199900005
                ],
                [
                 -86.602075,
                 39.20163399900008
                ],
                [
                 -86.604088,
                 39.20444899900008
                ],
                [
                 -86.605885,
                 39.20813499900004
                ],
                [
                 -86.610379,
                 39.20830899900005
                ],
                [
                 -86.611377,
                 39.20860799900004
                ],
                [
                 -86.611391,
                 39.209078
                ],
                [
                 -86.611361,
                 39.21561299900003
                ],
                [
                 -86.611887,
                 39.21760099900007
                ],
                [
                 -86.611892,
                 39.22032099900008
                ],
                [
                 -86.612155,
                 39.22085099900005
                ],
                [
                 -86.611558,
                 39.220799999000064
                ],
                [
                 -86.614151,
                 39.22640699900006
                ],
                [
                 -86.611688,
                 39.22473099900003
                ],
                [
                 -86.599467,
                 39.21760199900007
                ],
                [
                 -86.597737,
                 39.21694199900003
                ],
                [
                 -86.59363099899997,
                 39.215771999000026
                ],
                [
                 -86.589791,
                 39.21300699900007
                ],
                [
                 -86.585891,
                 39.211699999000075
                ],
                [
                 -86.584198,
                 39.21084599900007
                ],
                [
                 -86.58098899899994,
                 39.20874699900003
                ],
                [
                 -86.57993100099998,
                 39.207771999000045
                ],
                [
                 -86.577821,
                 39.20809399900003
                ],
                [
                 -86.57538500099997,
                 39.20797299900005
                ],
                [
                 -86.573725,
                 39.207673999000065
                ]
               ]
              ]
             ],
             "type": "MultiPolygon"
            },
            "id": "1142",
            "properties": {},
            "type": "Feature"
           },
           {
            "bbox": [
             -86.526891,
             39.10685599900006,
             -86.461847,
             39.15049799900004
            ],
            "geometry": {
             "coordinates": [
              [
               [
                [
                 -86.462197,
                 39.14903899900003
                ],
                [
                 -86.461847,
                 39.10685599900006
                ],
                [
                 -86.46208699899995,
                 39.10753499900005
                ],
                [
                 -86.463411,
                 39.108604
                ],
                [
                 -86.464723,
                 39.11123099900004
                ],
                [
                 -86.467294,
                 39.11396699900007
                ],
                [
                 -86.4711,
                 39.11502899900006
                ],
                [
                 -86.475127,
                 39.115567
                ],
                [
                 -86.47616300099997,
                 39.11615999900005
                ],
                [
                 -86.476876,
                 39.117087999000034
                ],
                [
                 -86.480934,
                 39.11934799900007
                ],
                [
                 -86.48326400099995,
                 39.12008999900007
                ],
                [
                 -86.484189,
                 39.12017799900008
                ],
                [
                 -86.485231,
                 39.12068499900005
                ],
                [
                 -86.48998600099998,
                 39.121376
                ],
                [
                 -86.52665,
                 39.12144699900006
                ],
                [
                 -86.526891,
                 39.136004
                ],
                [
                 -86.517479,
                 39.13599099900006
                ],
                [
                 -86.509454,
                 39.136004
                ],
                [
                 -86.50818400099996,
                 39.13647999900007
                ],
                [
                 -86.50799599899995,
                 39.136363999000025
                ],
                [
                 -86.504884,
                 39.13640699900003
                ],
                [
                 -86.50290000099994,
                 39.13597799900003
                ],
                [
                 -86.48098799899998,
                 39.135717999000065
                ],
                [
                 -86.48038299899997,
                 39.13663299900003
                ],
                [
                 -86.480461,
                 39.150209999000026
                ],
                [
                 -86.46378599899998,
                 39.15049799900004
                ],
                [
                 -86.463469,
                 39.15032899900007
                ],
                [
                 -86.463345,
                 39.149522999000055
                ],
                [
                 -86.462197,
                 39.14903899900003
                ]
               ]
              ]
             ],
             "type": "MultiPolygon"
            },
            "id": "1143",
            "properties": {},
            "type": "Feature"
           },
           {
            "bbox": [
             -86.573509,
             39.07856299900004,
             -86.52649500099994,
             39.12223499900006
            ],
            "geometry": {
             "coordinates": [
              [
               [
                [
                 -86.571386,
                 39.12223499900006
                ],
                [
                 -86.562487,
                 39.122175999000035
                ],
                [
                 -86.560787,
                 39.122134999000025
                ],
                [
                 -86.56067199899996,
                 39.12199899900003
                ],
                [
                 -86.558373,
                 39.122133
                ],
                [
                 -86.535504,
                 39.12146499900007
                ],
                [
                 -86.52665,
                 39.12144699900006
                ],
                [
                 -86.52649500099994,
                 39.107187999000075
                ],
                [
                 -86.5315,
                 39.107232999000075
                ],
                [
                 -86.532188,
                 39.104861999000036
                ],
                [
                 -86.534116,
                 39.10242899900004
                ],
                [
                 -86.53605300099997,
                 39.10105899900003
                ],
                [
                 -86.537757,
                 39.099401999000065
                ],
                [
                 -86.541695,
                 39.09650299900005
                ],
                [
                 -86.54238,
                 39.09579399900008
                ],
                [
                 -86.544061,
                 39.09318699900007
                ],
                [
                 -86.544379,
                 39.091953999000054
                ],
                [
                 -86.54422899899998,
                 39.091093999000066
                ],
                [
                 -86.542262,
                 39.086217
                ],
                [
                 -86.542282,
                 39.08585099900006
                ],
                [
                 -86.542731,
                 39.085256
                ],
                [
                 -86.543007,
                 39.08458199800003
                ],
                [
                 -86.541309,
                 39.083277999000074
                ],
                [
                 -86.540918,
                 39.082280999000034
                ],
                [
                 -86.541272,
                 39.07963599900006
                ],
                [
                 -86.541727,
                 39.07856299900004
                ],
                [
                 -86.56470200099994,
                 39.078573998000024
                ],
                [
                 -86.573197,
                 39.07874699900003
                ],
                [
                 -86.573509,
                 39.106474999000056
                ],
                [
                 -86.573411,
                 39.12222699900008
                ],
                [
                 -86.571386,
                 39.12223499900006
                ]
               ]
              ]
             ],
             "type": "MultiPolygon"
            },
            "id": "1144",
            "properties": {},
            "type": "Feature"
           },
           {
            "bbox": [
             -86.65398299899994,
             39.207673999000065,
             -86.573725,
             39.25250999800005
            ],
            "geometry": {
             "coordinates": [
              [
               [
                [
                 -86.573885,
                 39.25168799900007
                ],
                [
                 -86.573725,
                 39.207673999000065
                ],
                [
                 -86.57538500099997,
                 39.20797299900005
                ],
                [
                 -86.577821,
                 39.20809399900003
                ],
                [
                 -86.57993100099998,
                 39.207771999000045
                ],
                [
                 -86.58098899899994,
                 39.20874699900003
                ],
                [
                 -86.584198,
                 39.21084599900007
                ],
                [
                 -86.585891,
                 39.211699999000075
                ],
                [
                 -86.589791,
                 39.21300699900007
                ],
                [
                 -86.59363099899997,
                 39.215771999000026
                ],
                [
                 -86.597737,
                 39.21694199900003
                ],
                [
                 -86.599467,
                 39.21760199900007
                ],
                [
                 -86.611688,
                 39.22473099900003
                ],
                [
                 -86.614151,
                 39.22640699900006
                ],
                [
                 -86.628237,
                 39.236192999000025
                ],
                [
                 -86.634573,
                 39.24443499900008
                ],
                [
                 -86.63537999899995,
                 39.24519199900004
                ],
                [
                 -86.636957,
                 39.24575999900003
                ],
                [
                 -86.642601,
                 39.245974999000055
                ],
                [
                 -86.64495299899994,
                 39.246551999000076
                ],
                [
                 -86.65211499899993,
                 39.25041899900003
                ],
                [
                 -86.65398299899994,
                 39.252372999000045
                ],
                [
                 -86.640996,
                 39.252245999000024
                ],
                [
                 -86.63942600099995,
                 39.25235999900008
                ],
                [
                 -86.635022,
                 39.252184999000065
                ],
                [
                 -86.634664,
                 39.25234099900007
                ],
                [
                 -86.624997,
                 39.25250999800005
                ],
                [
                 -86.621145,
                 39.252065999000024
                ],
                [
                 -86.573885,
                 39.25168799900007
                ]
               ]
              ]
             ],
             "type": "MultiPolygon"
            },
            "id": "1159",
            "properties": {},
            "type": "Feature"
           },
           {
            "bbox": [
             -86.555217,
             39.17153199900008,
             -86.463268,
             39.23412099900003
            ],
            "geometry": {
             "coordinates": [
              [
               [
                [
                 -86.463525,
                 39.21272799900004
                ],
                [
                 -86.463268,
                 39.210030999000026
                ],
                [
                 -86.463297,
                 39.20416699900005
                ],
                [
                 -86.466532,
                 39.202660999000045
                ],
                [
                 -86.467884,
                 39.200358
                ],
                [
                 -86.467777,
                 39.19310799900006
                ],
                [
                 -86.468182,
                 39.192064999000024
                ],
                [
                 -86.468028,
                 39.186961
                ],
                [
                 -86.46829900099993,
                 39.18620899900003
                ],
                [
                 -86.468869,
                 39.18552
                ],
                [
                 -86.473898,
                 39.17950899900006
                ],
                [
                 -86.481334,
                 39.17511599900007
                ],
                [
                 -86.482586,
                 39.17279399900008
                ],
                [
                 -86.483332,
                 39.17222699900003
                ],
                [
                 -86.48429,
                 39.17200599900008
                ],
                [
                 -86.485947,
                 39.172029999000074
                ],
                [
                 -86.49008,
                 39.17153199900008
                ],
                [
                 -86.502242,
                 39.17154899900004
                ],
                [
                 -86.505083,
                 39.176813999000046
                ],
                [
                 -86.506801,
                 39.179294999000035
                ],
                [
                 -86.508694,
                 39.18116199900004
                ],
                [
                 -86.511389,
                 39.18308299800003
                ],
                [
                 -86.514853,
                 39.18471899900004
                ],
                [
                 -86.518708,
                 39.18580399900003
                ],
                [
                 -86.522163,
                 39.186239
                ],
                [
                 -86.528396,
                 39.18629199900005
                ],
                [
                 -86.534508,
                 39.18631299900005
                ],
                [
                 -86.541339,
                 39.18675999900006
                ],
                [
                 -86.555217,
                 39.187238999000044
                ],
                [
                 -86.553946,
                 39.205249999000046
                ],
                [
                 -86.554181,
                 39.21229899900004
                ],
                [
                 -86.553963,
                 39.21433299900008
                ],
                [
                 -86.553172,
                 39.21645599900006
                ],
                [
                 -86.55243799899995,
                 39.217618
                ],
                [
                 -86.541371,
                 39.23412099900003
                ],
                [
                 -86.540732,
                 39.23281399900003
                ],
                [
                 -86.540859,
                 39.22976299900006
                ],
                [
                 -86.54055,
                 39.22730799900006
                ],
                [
                 -86.53543499899996,
                 39.21023099900003
                ],
                [
                 -86.534849,
                 39.20710799900007
                ],
                [
                 -86.531466,
                 39.208105999000054
                ],
                [
                 -86.529408,
                 39.20816799900007
                ],
                [
                 -86.52872399899996,
                 39.208018999000046
                ],
                [
                 -86.52866699899994,
                 39.20607599900006
                ],
                [
                 -86.527909,
                 39.206148
                ],
                [
                 -86.524648,
                 39.20486499900005
                ],
                [
                 -86.52263700099996,
                 39.20445499900006
                ],
                [
                 -86.521037,
                 39.202638999000044
                ],
                [
                 -86.515526,
                 39.199621999000044
                ],
                [
                 -86.51390599899997,
                 39.19800699900003
                ],
                [
                 -86.51321999899994,
                 39.19677799900006
                ],
                [
                 -86.513752,
                 39.198300999000026
                ],
                [
                 -86.514651,
                 39.19970999900005
                ],
                [
                 -86.51460399899997,
                 39.20066699900008
                ],
                [
                 -86.513228,
                 39.20081999900003
                ],
                [
                 -86.511886,
                 39.201295
                ],
                [
                 -86.511308,
                 39.201686
                ],
                [
                 -86.510438,
                 39.203346999000075
                ],
                [
                 -86.506735,
                 39.205043999000054
                ],
                [
                 -86.50545400099998,
                 39.20829299900004
                ],
                [
                 -86.505409,
                 39.21279799900003
                ],
                [
                 -86.502474,
                 39.211676999000076
                ],
                [
                 -86.49877,
                 39.21169599900003
                ],
                [
                 -86.49448199899996,
                 39.21208799900006
                ],
                [
                 -86.491565,
                 39.21290999900003
                ],
                [
                 -86.489574,
                 39.21268099900004
                ],
                [
                 -86.487252,
                 39.21292299800007
                ],
                [
                 -86.48440900099996,
                 39.21413699900006
                ],
                [
                 -86.481539,
                 39.21430599900003
                ],
                [
                 -86.480187,
                 39.21401399900003
                ],
                [
                 -86.478989,
                 39.21408499900008
                ],
                [
                 -86.477415,
                 39.214874999000074
                ],
                [
                 -86.468511,
                 39.21489199900003
                ],
                [
                 -86.468012,
                 39.21481299900006
                ],
                [
                 -86.463525,
                 39.21272799900004
                ]
               ]
              ]
             ],
             "type": "MultiPolygon"
            },
            "id": "1174",
            "properties": {},
            "type": "Feature"
           },
           {
            "bbox": [
             -86.517591,
             39.135717999000065,
             -86.48038299899997,
             39.150543999000035
            ],
            "geometry": {
             "coordinates": [
              [
               [
                [
                 -86.508424,
                 39.150449999000045
                ],
                [
                 -86.498245,
                 39.150471
                ],
                [
                 -86.480461,
                 39.150209999000026
                ],
                [
                 -86.48038299899997,
                 39.13663299900003
                ],
                [
                 -86.48098799899998,
                 39.135717999000065
                ],
                [
                 -86.50290000099994,
                 39.13597799900003
                ],
                [
                 -86.504884,
                 39.13640699900003
                ],
                [
                 -86.50799599899995,
                 39.136363999000025
                ],
                [
                 -86.50818400099996,
                 39.13647999900007
                ],
                [
                 -86.509454,
                 39.136004
                ],
                [
                 -86.517479,
                 39.13599099900006
                ],
                [
                 -86.517591,
                 39.13994499900008
                ],
                [
                 -86.517092,
                 39.14031299900006
                ],
                [
                 -86.51576,
                 39.14033199900007
                ],
                [
                 -86.515571,
                 39.140509
                ],
                [
                 -86.515608,
                 39.14114599900006
                ],
                [
                 -86.516403,
                 39.14288399900005
                ],
                [
                 -86.51739499899998,
                 39.14331499900004
                ],
                [
                 -86.517488,
                 39.14827999900007
                ],
                [
                 -86.5151,
                 39.148266
                ],
                [
                 -86.515127,
                 39.150543999000035
                ],
                [
                 -86.508424,
                 39.150449999000045
                ]
               ]
              ]
             ],
             "type": "MultiPolygon"
            },
            "id": "1175",
            "properties": {},
            "type": "Feature"
           },
           {
            "bbox": [
             -86.574332,
             39.25090299900006,
             -86.464045,
             39.33968099900005
            ],
            "geometry": {
             "coordinates": [
              [
               [
                [
                 -86.492904,
                 39.33864299900006
                ],
                [
                 -86.474008,
                 39.338681
                ],
                [
                 -86.465115,
                 39.33829999900007
                ],
                [
                 -86.46438699899994,
                 39.309291
                ],
                [
                 -86.464746,
                 39.30920799900008
                ],
                [
                 -86.465042,
                 39.29444899900005
                ],
                [
                 -86.464416,
                 39.279654
                ],
                [
                 -86.464045,
                 39.25090299900006
                ],
                [
                 -86.471005,
                 39.251047999000036
                ],
                [
                 -86.47278,
                 39.25091199900004
                ],
                [
                 -86.47642,
                 39.25118599900003
                ],
                [
                 -86.49724500099995,
                 39.25144699900005
                ],
                [
                 -86.502309,
                 39.25167399900005
                ],
                [
                 -86.50961100099994,
                 39.25143999900007
                ],
                [
                 -86.528981,
                 39.251336
                ],
                [
                 -86.55485899899998,
                 39.25157599900007
                ],
                [
                 -86.553753,
                 39.25167199900005
                ],
                [
                 -86.553491,
                 39.251891999000065
                ],
                [
                 -86.553435,
                 39.252484999000046
                ],
                [
                 -86.554162,
                 39.25282099900005
                ],
                [
                 -86.555582,
                 39.253006999000036
                ],
                [
                 -86.556282,
                 39.25357899900007
                ],
                [
                 -86.55619700099999,
                 39.254007
                ],
                [
                 -86.555179,
                 39.25429299900003
                ],
                [
                 -86.55472,
                 39.254627999000036
                ],
                [
                 -86.554706,
                 39.255006999000045
                ],
                [
                 -86.555434,
                 39.255331
                ],
                [
                 -86.556889,
                 39.25528199900003
                ],
                [
                 -86.557363,
                 39.25544099900003
                ],
                [
                 -86.557482,
                 39.257188
                ],
                [
                 -86.556762,
                 39.25943999900005
                ],
                [
                 -86.556387,
                 39.25998399900004
                ],
                [
                 -86.555864,
                 39.260147999000026
                ],
                [
                 -86.553497,
                 39.258867999000074
                ],
                [
                 -86.552635,
                 39.258807999000055
                ],
                [
                 -86.552141,
                 39.259115
                ],
                [
                 -86.552112,
                 39.259708999000054
                ],
                [
                 -86.55282600099997,
                 39.2605
                ],
                [
                 -86.554522,
                 39.26041699900003
                ],
                [
                 -86.555801,
                 39.26099399900005
                ],
                [
                 -86.55686,
                 39.262207999000054
                ],
                [
                 -86.55772199899997,
                 39.26266399900004
                ],
                [
                 -86.557277,
                 39.26319699800007
                ],
                [
                 -86.55746800099996,
                 39.263899999000046
                ],
                [
                 -86.55905099899996,
                 39.26478499900003
                ],
                [
                 -86.55869,
                 39.26542199900007
                ],
                [
                 -86.557588,
                 39.265756999000075
                ],
                [
                 -86.55715,
                 39.266278999000065
                ],
                [
                 -86.55703,
                 39.26655899900004
                ],
                [
                 -86.557404,
                 39.26853599900005
                ],
                [
                 -86.557885,
                 39.268755999000064
                ],
                [
                 -86.558733,
                 39.268552999000065
                ],
                [
                 -86.560125,
                 39.268519999000034
                ],
                [
                 -86.561418,
                 39.26794299900007
                ],
                [
                 -86.562492,
                 39.26768499900004
                ],
                [
                 -86.562895,
                 39.26736599900005
                ],
                [
                 -86.562704,
                 39.26616899900006
                ],
                [
                 -86.563679,
                 39.26593299900003
                ],
                [
                 -86.56435,
                 39.266668999000046
                ],
                [
                 -86.56468300099993,
                 39.268623999000056
                ],
                [
                 -86.563517,
                 39.26968999800005
                ],
                [
                 -86.563983,
                 39.27004199800007
                ],
                [
                 -86.564478,
                 39.27008599900006
                ],
                [
                 -86.565057,
                 39.26973399900004
                ],
                [
                 -86.565707,
                 39.26750899900003
                ],
                [
                 -86.56635,
                 39.26676199900004
                ],
                [
                 -86.56938200099995,
                 39.266300999000066
                ],
                [
                 -86.569608,
                 39.26648699900005
                ],
                [
                 -86.569559,
                 39.26731699900006
                ],
                [
                 -86.568739,
                 39.26961299800007
                ],
                [
                 -86.56858399899994,
                 39.27063499900004
                ],
                [
                 -86.567177,
                 39.272150999000075
                ],
                [
                 -86.567411,
                 39.273996999000076
                ],
                [
                 -86.56702200099994,
                 39.27520499900004
                ],
                [
                 -86.567199,
                 39.27535899900005
                ],
                [
                 -86.567644,
                 39.275314999000045
                ],
                [
                 -86.568506,
                 39.274440999000035
                ],
                [
                 -86.56934,
                 39.27427699900005
                ],
                [
                 -86.56968,
                 39.27453999900007
                ],
                [
                 -86.56996899899997,
                 39.27546299900007
                ],
                [
                 -86.57080300099994,
                 39.276313999000024
                ],
                [
                 -86.571475,
                 39.27670999800006
                ],
                [
                 -86.572083,
                 39.276725999000064
                ],
                [
                 -86.572931,
                 39.27648499900005
                ],
                [
                 -86.574114,
                 39.27582799900006
                ],
                [
                 -86.574332,
                 39.30085599900008
                ],
                [
                 -86.57412499899993,
                 39.31327199900005
                ],
                [
                 -86.57428,
                 39.33968099900005
                ],
                [
                 -86.53505800099998,
                 39.338995999000076
                ],
                [
                 -86.492904,
                 39.33864299900006
                ]
               ]
              ]
             ],
             "type": "MultiPolygon"
            },
            "id": "1176",
            "properties": {},
            "type": "Feature"
           },
           {
            "bbox": [
             -86.685758,
             39.164566999000044,
             -86.561486,
             39.355701999000075
            ],
            "geometry": {
             "coordinates": [
              [
               [
                [
                 -86.63081799899999,
                 39.346947999000065
                ],
                [
                 -86.630844,
                 39.34075499800008
                ],
                [
                 -86.607185,
                 39.340133999000045
                ],
                [
                 -86.57428,
                 39.33968099900005
                ],
                [
                 -86.57412499899993,
                 39.31327199900005
                ],
                [
                 -86.574332,
                 39.30085599900008
                ],
                [
                 -86.574114,
                 39.27582799900006
                ],
                [
                 -86.573885,
                 39.25168799900007
                ],
                [
                 -86.621145,
                 39.252065999000024
                ],
                [
                 -86.624997,
                 39.25250999800005
                ],
                [
                 -86.634664,
                 39.25234099900007
                ],
                [
                 -86.635022,
                 39.252184999000065
                ],
                [
                 -86.63942600099995,
                 39.25235999900008
                ],
                [
                 -86.640996,
                 39.252245999000024
                ],
                [
                 -86.65398299899994,
                 39.252372999000045
                ],
                [
                 -86.659167,
                 39.25239
                ],
                [
                 -86.658727,
                 39.216871999000034
                ],
                [
                 -86.630409,
                 39.21650499900005
                ],
                [
                 -86.630405,
                 39.21521499900007
                ],
                [
                 -86.627208,
                 39.213455999000075
                ],
                [
                 -86.624073,
                 39.21206199900007
                ],
                [
                 -86.61922,
                 39.21073899900006
                ],
                [
                 -86.61608,
                 39.210305
                ],
                [
                 -86.611391,
                 39.209078
                ],
                [
                 -86.611377,
                 39.20860799900004
                ],
                [
                 -86.610379,
                 39.20830899900005
                ],
                [
                 -86.605885,
                 39.20813499900004
                ],
                [
                 -86.604088,
                 39.20444899900008
                ],
                [
                 -86.602075,
                 39.20163399900008
                ],
                [
                 -86.599153,
                 39.19820199900005
                ],
                [
                 -86.596554,
                 39.19628099900007
                ],
                [
                 -86.593419,
                 39.195405
                ],
                [
                 -86.590859,
                 39.19367599900005
                ],
                [
                 -86.586063,
                 39.19238599900007
                ],
                [
                 -86.58206199899996,
                 39.19000899900004
                ],
                [
                 -86.57359500099994,
                 39.187969999000074
                ],
                [
                 -86.57245,
                 39.187075
                ],
                [
                 -86.56932799899994,
                 39.182964999000035
                ],
                [
                 -86.567252,
                 39.18172899900003
                ],
                [
                 -86.56393,
                 39.179182999000034
                ],
                [
                 -86.561571,
                 39.17843399900005
                ],
                [
                 -86.561486,
                 39.17788999900006
                ],
                [
                 -86.56262199899999,
                 39.17682299900008
                ],
                [
                 -86.562398,
                 39.17654599900004
                ],
                [
                 -86.570253,
                 39.17100699900004
                ],
                [
                 -86.57169,
                 39.16962299900007
                ],
                [
                 -86.572811,
                 39.16786099900003
                ],
                [
                 -86.573217,
                 39.16621099900004
                ],
                [
                 -86.57328100099994,
                 39.164566999000044
                ],
                [
                 -86.610547,
                 39.16490899900003
                ],
                [
                 -86.629145,
                 39.16504899900008
                ],
                [
                 -86.639778,
                 39.16535599800005
                ],
                [
                 -86.68300199899994,
                 39.165745998000034
                ],
                [
                 -86.684772,
                 39.28163699900006
                ],
                [
                 -86.68498600099997,
                 39.28991699900007
                ],
                [
                 -86.684752,
                 39.28993899900007
                ],
                [
                 -86.685015,
                 39.292789999000036
                ],
                [
                 -86.685758,
                 39.321150999000054
                ],
                [
                 -86.68561,
                 39.33604299900003
                ],
                [
                 -86.68204100099996,
                 39.33547199900005
                ],
                [
                 -86.678254,
                 39.33309599900008
                ],
                [
                 -86.675954,
                 39.33196399900004
                ],
                [
                 -86.675118,
                 39.331754999000054
                ],
                [
                 -86.672034,
                 39.331699
                ],
                [
                 -86.66696200099994,
                 39.32925799900005
                ],
                [
                 -86.665839,
                 39.32911199800003
                ],
                [
                 -86.665512,
                 39.329286
                ],
                [
                 -86.665847,
                 39.331665
                ],
                [
                 -86.665167,
                 39.333074999000075
                ],
                [
                 -86.66453000099995,
                 39.333771
                ],
                [
                 -86.66377299899995,
                 39.334148999000035
                ],
                [
                 -86.662976,
                 39.33424199800004
                ],
                [
                 -86.66228300099993,
                 39.33409699900005
                ],
                [
                 -86.661691,
                 39.33392099900004
                ],
                [
                 -86.661122,
                 39.33347499900003
                ],
                [
                 -86.660614,
                 39.33287099900008
                ],
                [
                 -86.659848,
                 39.33085499900005
                ],
                [
                 -86.658776,
                 39.330099
                ],
                [
                 -86.65762800099998,
                 39.33010999900006
                ],
                [
                 -86.65638,
                 39.33064599900007
                ],
                [
                 -86.65550699899995,
                 39.33147599900008
                ],
                [
                 -86.655067,
                 39.33264399900003
                ],
                [
                 -86.655062,
                 39.33379099800004
                ],
                [
                 -86.655518,
                 39.33525399800004
                ],
                [
                 -86.655596,
                 39.33698499900004
                ],
                [
                 -86.656012,
                 39.33867299900004
                ],
                [
                 -86.655335,
                 39.33999799900005
                ],
                [
                 -86.655794,
                 39.340853999000046
                ],
                [
                 -86.65661599899994,
                 39.34138899900006
                ],
                [
                 -86.657054,
                 39.342366999000035
                ],
                [
                 -86.659137,
                 39.344337
                ],
                [
                 -86.65928799899996,
                 39.344748999000046
                ],
                [
                 -86.658911,
                 39.34725199900004
                ],
                [
                 -86.658642,
                 39.34783299900005
                ],
                [
                 -86.658721,
                 39.34951999900005
                ],
                [
                 -86.658398,
                 39.350283999000055
                ],
                [
                 -86.65596,
                 39.351288999000076
                ],
                [
                 -86.655002,
                 39.35189299900003
                ],
                [
                 -86.653425,
                 39.35433899900005
                ],
                [
                 -86.652465,
                 39.35519099900006
                ],
                [
                 -86.651551,
                 39.355593
                ],
                [
                 -86.650479,
                 39.355701999000075
                ],
                [
                 -86.649524,
                 39.355518998000036
                ],
                [
                 -86.64819499899994,
                 39.35477299900003
                ],
                [
                 -86.642856,
                 39.351024
                ],
                [
                 -86.642158,
                 39.350931
                ],
                [
                 -86.641658,
                 39.3506
                ],
                [
                 -86.641357,
                 39.34960299900007
                ],
                [
                 -86.640379,
                 39.34827299900007
                ],
                [
                 -86.639192,
                 39.34804499900008
                ],
                [
                 -86.638063,
                 39.34806399900003
                ],
                [
                 -86.637787,
                 39.34830999900004
                ],
                [
                 -86.63628600099997,
                 39.347656
                ],
                [
                 -86.634809,
                 39.348737999000036
                ],
                [
                 -86.63407599899995,
                 39.348783999000034
                ],
                [
                 -86.633319,
                 39.34852299900007
                ],
                [
                 -86.63081799899999,
                 39.346947999000065
                ]
               ]
              ]
             ],
             "type": "MultiPolygon"
            },
            "id": "1177",
            "properties": {},
            "type": "Feature"
           },
           {
            "bbox": [
             -86.526955,
             39.16425399900004,
             -86.506756,
             39.174089
            ],
            "geometry": {
             "coordinates": [
              [
               [
                [
                 -86.506756,
                 39.17156999900004
                ],
                [
                 -86.507211,
                 39.17133399900007
                ],
                [
                 -86.507171,
                 39.168213999000045
                ],
                [
                 -86.50945,
                 39.16823099900006
                ],
                [
                 -86.509408,
                 39.16426399900007
                ],
                [
                 -86.522628,
                 39.16425399900004
                ],
                [
                 -86.526905,
                 39.164306999000075
                ],
                [
                 -86.526955,
                 39.16850199900006
                ],
                [
                 -86.523484,
                 39.16848199900005
                ],
                [
                 -86.523503,
                 39.171635999000046
                ],
                [
                 -86.520994,
                 39.17161699900004
                ],
                [
                 -86.521014,
                 39.174089
                ],
                [
                 -86.506756,
                 39.17156999900004
                ]
               ]
              ]
             ],
             "type": "MultiPolygon"
            },
            "id": "1192",
            "properties": {},
            "type": "Feature"
           },
           {
            "bbox": [
             -86.522628,
             39.150449999000045,
             -86.508424,
             39.164265999000065
            ],
            "geometry": {
             "coordinates": [
              [
               [
                [
                 -86.509408,
                 39.16426399900007
                ],
                [
                 -86.50847700099996,
                 39.164265999000065
                ],
                [
                 -86.508424,
                 39.150449999000045
                ],
                [
                 -86.515127,
                 39.150543999000035
                ],
                [
                 -86.522622,
                 39.15053099900007
                ],
                [
                 -86.522628,
                 39.16425399900004
                ],
                [
                 -86.509408,
                 39.16426399900007
                ]
               ]
              ]
             ],
             "type": "MultiPolygon"
            },
            "id": "1193",
            "properties": {},
            "type": "Feature"
           },
           {
            "bbox": [
             -86.538787,
             39.148681,
             -86.522622,
             39.16439999900007
            ],
            "geometry": {
             "coordinates": [
              [
               [
                [
                 -86.526905,
                 39.164306999000075
                ],
                [
                 -86.522628,
                 39.16425399900004
                ],
                [
                 -86.522622,
                 39.15053099900007
                ],
                [
                 -86.535231,
                 39.15053699900005
                ],
                [
                 -86.53519899899999,
                 39.14981399900006
                ],
                [
                 -86.534724,
                 39.148681
                ],
                [
                 -86.535547,
                 39.14955099900004
                ],
                [
                 -86.53626,
                 39.153309999000044
                ],
                [
                 -86.5363,
                 39.15068899900007
                ],
                [
                 -86.538787,
                 39.150599999000065
                ],
                [
                 -86.538699,
                 39.161395999000035
                ],
                [
                 -86.528397,
                 39.161354
                ],
                [
                 -86.528448,
                 39.16385799900007
                ],
                [
                 -86.528212,
                 39.16439999900007
                ],
                [
                 -86.526905,
                 39.164306999000075
                ]
               ]
              ]
             ],
             "type": "MultiPolygon"
            },
            "id": "1194",
            "properties": {},
            "type": "Feature"
           },
           {
            "bbox": [
             -86.573246,
             39.13633499900004,
             -86.53880400099996,
             39.15613299900008
            ],
            "geometry": {
             "coordinates": [
              [
               [
                [
                 -86.53880400099996,
                 39.14962899900007
                ],
                [
                 -86.53887600099995,
                 39.146073999000066
                ],
                [
                 -86.539183,
                 39.145983999000066
                ],
                [
                 -86.541808,
                 39.143406999000035
                ],
                [
                 -86.548732,
                 39.13633499900004
                ],
                [
                 -86.573183,
                 39.136791999000025
                ],
                [
                 -86.573246,
                 39.14748499900003
                ],
                [
                 -86.568778,
                 39.14991299900004
                ],
                [
                 -86.566519,
                 39.15278999900005
                ],
                [
                 -86.561408,
                 39.15613299900008
                ],
                [
                 -86.543138,
                 39.155635999000026
                ],
                [
                 -86.53880400099996,
                 39.14962899900007
                ]
               ]
              ]
             ],
             "type": "MultiPolygon"
            },
            "id": "1195",
            "properties": {},
            "type": "Feature"
           }
          ],
          "type": "FeatureCollection"
         },
         "hovertemplate": "index=%{location}<br>Disposable Income=%{z}<extra></extra>",
         "locations": [
          93,
          478,
          479,
          480,
          482,
          970,
          971,
          972,
          1070,
          1071,
          1072,
          1086,
          1108,
          1109,
          1110,
          1120,
          1121,
          1122,
          1123,
          1142,
          1143,
          1144,
          1159,
          1174,
          1175,
          1176,
          1177,
          1192,
          1193,
          1194,
          1195
         ],
         "marker": {
          "opacity": 0.6
         },
         "name": "",
         "subplot": "mapbox",
         "type": "choroplethmapbox",
         "z": [
          760.6700000000001,
          -1474.08,
          null,
          2011.75,
          2827.58,
          4879.58,
          1112.42,
          5428.75,
          4231,
          4140.33,
          1999,
          2340.08,
          3901.75,
          2511.67,
          1640.67,
          2990.33,
          null,
          824.0799999999999,
          1680.67,
          4078.42,
          3647.83,
          3508.33,
          3843,
          2799.42,
          5554.75,
          4165.08,
          3004.58,
          null,
          3812.42,
          1649.5,
          2277.58
         ]
        },
        {
         "hoverinfo": "text",
         "lat": [
          39.16725001585407,
          39.177161077338695
         ],
         "lon": [
          -86.53306127955874,
          -86.52928186314146
         ],
         "marker": {
          "color": "red",
          "size": 10
         },
         "mode": "markers",
         "text": [
          "18105000100",
          "18105001600"
         ],
         "type": "scattermapbox"
        },
        {
         "hoverinfo": "text",
         "lat": [
          39.1782993528163,
          39.17118287781259,
          39.17194457434991,
          39.15751274944196,
          39.156564006297934
         ],
         "lon": [
          -86.55302588376995,
          -86.54973341745472,
          -86.47727446694194,
          -86.47965125612377,
          -86.530213853899
         ],
         "marker": {
          "color": "blue",
          "size": 10
         },
         "mode": "markers",
         "text": [
          "18105000602",
          "18105000601",
          "18105000903",
          "18105000904",
          "18105000301"
         ],
         "type": "scattermapbox"
        },
        {
         "hoverinfo": "text",
         "lat": [
          39.17901530832135
         ],
         "lon": [
          -86.51591294899178
         ],
         "marker": {
          "color": "green",
          "size": 10
         },
         "mode": "markers",
         "text": [
          "18105000201"
         ],
         "type": "scattermapbox"
        }
       ],
       "layout": {
        "coloraxis": {
         "cmax": 7000,
         "cmin": 0,
         "colorbar": {
          "dtick": 1000,
          "len": 150,
          "lenmode": "pixels",
          "thickness": 10,
          "thicknessmode": "pixels",
          "ticks": "outside",
          "title": {
           "text": "Disposable Income"
          },
          "y": 0.8,
          "yanchor": "top"
         },
         "colorscale": [
          [
           0,
           "#440154"
          ],
          [
           0.1111111111111111,
           "#482878"
          ],
          [
           0.2222222222222222,
           "#3e4989"
          ],
          [
           0.3333333333333333,
           "#31688e"
          ],
          [
           0.4444444444444444,
           "#26828e"
          ],
          [
           0.5555555555555556,
           "#1f9e89"
          ],
          [
           0.6666666666666666,
           "#35b779"
          ],
          [
           0.7777777777777778,
           "#6ece58"
          ],
          [
           0.8888888888888888,
           "#b5de2b"
          ],
          [
           1,
           "#fde725"
          ]
         ]
        },
        "height": 800,
        "legend": {
         "tracegroupgap": 0
        },
        "mapbox": {
         "accesstoken": "pk.eyJ1IjoicGVldmVlNDQiLCJhIjoiY2xwb2pmaTVxMG84aTJxbmpuOTFseWg5NiJ9.l5pZpLYQce5cW7iZyPPX0g",
         "center": {
          "lat": 39.1670396,
          "lon": -86.5342881
         },
         "domain": {
          "x": [
           0,
           1
          ],
          "y": [
           0,
           1
          ]
         },
         "style": "open-street-map",
         "zoom": 10
        },
        "margin": {
         "b": 5,
         "l": 5,
         "r": 5,
         "t": 35
        },
        "template": {
         "data": {
          "bar": [
           {
            "error_x": {
             "color": "#2a3f5f"
            },
            "error_y": {
             "color": "#2a3f5f"
            },
            "marker": {
             "line": {
              "color": "#E5ECF6",
              "width": 0.5
             },
             "pattern": {
              "fillmode": "overlay",
              "size": 10,
              "solidity": 0.2
             }
            },
            "type": "bar"
           }
          ],
          "barpolar": [
           {
            "marker": {
             "line": {
              "color": "#E5ECF6",
              "width": 0.5
             },
             "pattern": {
              "fillmode": "overlay",
              "size": 10,
              "solidity": 0.2
             }
            },
            "type": "barpolar"
           }
          ],
          "carpet": [
           {
            "aaxis": {
             "endlinecolor": "#2a3f5f",
             "gridcolor": "white",
             "linecolor": "white",
             "minorgridcolor": "white",
             "startlinecolor": "#2a3f5f"
            },
            "baxis": {
             "endlinecolor": "#2a3f5f",
             "gridcolor": "white",
             "linecolor": "white",
             "minorgridcolor": "white",
             "startlinecolor": "#2a3f5f"
            },
            "type": "carpet"
           }
          ],
          "choropleth": [
           {
            "colorbar": {
             "outlinewidth": 0,
             "ticks": ""
            },
            "type": "choropleth"
           }
          ],
          "contour": [
           {
            "colorbar": {
             "outlinewidth": 0,
             "ticks": ""
            },
            "colorscale": [
             [
              0,
              "#0d0887"
             ],
             [
              0.1111111111111111,
              "#46039f"
             ],
             [
              0.2222222222222222,
              "#7201a8"
             ],
             [
              0.3333333333333333,
              "#9c179e"
             ],
             [
              0.4444444444444444,
              "#bd3786"
             ],
             [
              0.5555555555555556,
              "#d8576b"
             ],
             [
              0.6666666666666666,
              "#ed7953"
             ],
             [
              0.7777777777777778,
              "#fb9f3a"
             ],
             [
              0.8888888888888888,
              "#fdca26"
             ],
             [
              1,
              "#f0f921"
             ]
            ],
            "type": "contour"
           }
          ],
          "contourcarpet": [
           {
            "colorbar": {
             "outlinewidth": 0,
             "ticks": ""
            },
            "type": "contourcarpet"
           }
          ],
          "heatmap": [
           {
            "colorbar": {
             "outlinewidth": 0,
             "ticks": ""
            },
            "colorscale": [
             [
              0,
              "#0d0887"
             ],
             [
              0.1111111111111111,
              "#46039f"
             ],
             [
              0.2222222222222222,
              "#7201a8"
             ],
             [
              0.3333333333333333,
              "#9c179e"
             ],
             [
              0.4444444444444444,
              "#bd3786"
             ],
             [
              0.5555555555555556,
              "#d8576b"
             ],
             [
              0.6666666666666666,
              "#ed7953"
             ],
             [
              0.7777777777777778,
              "#fb9f3a"
             ],
             [
              0.8888888888888888,
              "#fdca26"
             ],
             [
              1,
              "#f0f921"
             ]
            ],
            "type": "heatmap"
           }
          ],
          "heatmapgl": [
           {
            "colorbar": {
             "outlinewidth": 0,
             "ticks": ""
            },
            "colorscale": [
             [
              0,
              "#0d0887"
             ],
             [
              0.1111111111111111,
              "#46039f"
             ],
             [
              0.2222222222222222,
              "#7201a8"
             ],
             [
              0.3333333333333333,
              "#9c179e"
             ],
             [
              0.4444444444444444,
              "#bd3786"
             ],
             [
              0.5555555555555556,
              "#d8576b"
             ],
             [
              0.6666666666666666,
              "#ed7953"
             ],
             [
              0.7777777777777778,
              "#fb9f3a"
             ],
             [
              0.8888888888888888,
              "#fdca26"
             ],
             [
              1,
              "#f0f921"
             ]
            ],
            "type": "heatmapgl"
           }
          ],
          "histogram": [
           {
            "marker": {
             "pattern": {
              "fillmode": "overlay",
              "size": 10,
              "solidity": 0.2
             }
            },
            "type": "histogram"
           }
          ],
          "histogram2d": [
           {
            "colorbar": {
             "outlinewidth": 0,
             "ticks": ""
            },
            "colorscale": [
             [
              0,
              "#0d0887"
             ],
             [
              0.1111111111111111,
              "#46039f"
             ],
             [
              0.2222222222222222,
              "#7201a8"
             ],
             [
              0.3333333333333333,
              "#9c179e"
             ],
             [
              0.4444444444444444,
              "#bd3786"
             ],
             [
              0.5555555555555556,
              "#d8576b"
             ],
             [
              0.6666666666666666,
              "#ed7953"
             ],
             [
              0.7777777777777778,
              "#fb9f3a"
             ],
             [
              0.8888888888888888,
              "#fdca26"
             ],
             [
              1,
              "#f0f921"
             ]
            ],
            "type": "histogram2d"
           }
          ],
          "histogram2dcontour": [
           {
            "colorbar": {
             "outlinewidth": 0,
             "ticks": ""
            },
            "colorscale": [
             [
              0,
              "#0d0887"
             ],
             [
              0.1111111111111111,
              "#46039f"
             ],
             [
              0.2222222222222222,
              "#7201a8"
             ],
             [
              0.3333333333333333,
              "#9c179e"
             ],
             [
              0.4444444444444444,
              "#bd3786"
             ],
             [
              0.5555555555555556,
              "#d8576b"
             ],
             [
              0.6666666666666666,
              "#ed7953"
             ],
             [
              0.7777777777777778,
              "#fb9f3a"
             ],
             [
              0.8888888888888888,
              "#fdca26"
             ],
             [
              1,
              "#f0f921"
             ]
            ],
            "type": "histogram2dcontour"
           }
          ],
          "mesh3d": [
           {
            "colorbar": {
             "outlinewidth": 0,
             "ticks": ""
            },
            "type": "mesh3d"
           }
          ],
          "parcoords": [
           {
            "line": {
             "colorbar": {
              "outlinewidth": 0,
              "ticks": ""
             }
            },
            "type": "parcoords"
           }
          ],
          "pie": [
           {
            "automargin": true,
            "type": "pie"
           }
          ],
          "scatter": [
           {
            "fillpattern": {
             "fillmode": "overlay",
             "size": 10,
             "solidity": 0.2
            },
            "type": "scatter"
           }
          ],
          "scatter3d": [
           {
            "line": {
             "colorbar": {
              "outlinewidth": 0,
              "ticks": ""
             }
            },
            "marker": {
             "colorbar": {
              "outlinewidth": 0,
              "ticks": ""
             }
            },
            "type": "scatter3d"
           }
          ],
          "scattercarpet": [
           {
            "marker": {
             "colorbar": {
              "outlinewidth": 0,
              "ticks": ""
             }
            },
            "type": "scattercarpet"
           }
          ],
          "scattergeo": [
           {
            "marker": {
             "colorbar": {
              "outlinewidth": 0,
              "ticks": ""
             }
            },
            "type": "scattergeo"
           }
          ],
          "scattergl": [
           {
            "marker": {
             "colorbar": {
              "outlinewidth": 0,
              "ticks": ""
             }
            },
            "type": "scattergl"
           }
          ],
          "scattermapbox": [
           {
            "marker": {
             "colorbar": {
              "outlinewidth": 0,
              "ticks": ""
             }
            },
            "type": "scattermapbox"
           }
          ],
          "scatterpolar": [
           {
            "marker": {
             "colorbar": {
              "outlinewidth": 0,
              "ticks": ""
             }
            },
            "type": "scatterpolar"
           }
          ],
          "scatterpolargl": [
           {
            "marker": {
             "colorbar": {
              "outlinewidth": 0,
              "ticks": ""
             }
            },
            "type": "scatterpolargl"
           }
          ],
          "scatterternary": [
           {
            "marker": {
             "colorbar": {
              "outlinewidth": 0,
              "ticks": ""
             }
            },
            "type": "scatterternary"
           }
          ],
          "surface": [
           {
            "colorbar": {
             "outlinewidth": 0,
             "ticks": ""
            },
            "colorscale": [
             [
              0,
              "#0d0887"
             ],
             [
              0.1111111111111111,
              "#46039f"
             ],
             [
              0.2222222222222222,
              "#7201a8"
             ],
             [
              0.3333333333333333,
              "#9c179e"
             ],
             [
              0.4444444444444444,
              "#bd3786"
             ],
             [
              0.5555555555555556,
              "#d8576b"
             ],
             [
              0.6666666666666666,
              "#ed7953"
             ],
             [
              0.7777777777777778,
              "#fb9f3a"
             ],
             [
              0.8888888888888888,
              "#fdca26"
             ],
             [
              1,
              "#f0f921"
             ]
            ],
            "type": "surface"
           }
          ],
          "table": [
           {
            "cells": {
             "fill": {
              "color": "#EBF0F8"
             },
             "line": {
              "color": "white"
             }
            },
            "header": {
             "fill": {
              "color": "#C8D4E3"
             },
             "line": {
              "color": "white"
             }
            },
            "type": "table"
           }
          ]
         },
         "layout": {
          "annotationdefaults": {
           "arrowcolor": "#2a3f5f",
           "arrowhead": 0,
           "arrowwidth": 1
          },
          "autotypenumbers": "strict",
          "coloraxis": {
           "colorbar": {
            "outlinewidth": 0,
            "ticks": ""
           }
          },
          "colorscale": {
           "diverging": [
            [
             0,
             "#8e0152"
            ],
            [
             0.1,
             "#c51b7d"
            ],
            [
             0.2,
             "#de77ae"
            ],
            [
             0.3,
             "#f1b6da"
            ],
            [
             0.4,
             "#fde0ef"
            ],
            [
             0.5,
             "#f7f7f7"
            ],
            [
             0.6,
             "#e6f5d0"
            ],
            [
             0.7,
             "#b8e186"
            ],
            [
             0.8,
             "#7fbc41"
            ],
            [
             0.9,
             "#4d9221"
            ],
            [
             1,
             "#276419"
            ]
           ],
           "sequential": [
            [
             0,
             "#0d0887"
            ],
            [
             0.1111111111111111,
             "#46039f"
            ],
            [
             0.2222222222222222,
             "#7201a8"
            ],
            [
             0.3333333333333333,
             "#9c179e"
            ],
            [
             0.4444444444444444,
             "#bd3786"
            ],
            [
             0.5555555555555556,
             "#d8576b"
            ],
            [
             0.6666666666666666,
             "#ed7953"
            ],
            [
             0.7777777777777778,
             "#fb9f3a"
            ],
            [
             0.8888888888888888,
             "#fdca26"
            ],
            [
             1,
             "#f0f921"
            ]
           ],
           "sequentialminus": [
            [
             0,
             "#0d0887"
            ],
            [
             0.1111111111111111,
             "#46039f"
            ],
            [
             0.2222222222222222,
             "#7201a8"
            ],
            [
             0.3333333333333333,
             "#9c179e"
            ],
            [
             0.4444444444444444,
             "#bd3786"
            ],
            [
             0.5555555555555556,
             "#d8576b"
            ],
            [
             0.6666666666666666,
             "#ed7953"
            ],
            [
             0.7777777777777778,
             "#fb9f3a"
            ],
            [
             0.8888888888888888,
             "#fdca26"
            ],
            [
             1,
             "#f0f921"
            ]
           ]
          },
          "colorway": [
           "#636efa",
           "#EF553B",
           "#00cc96",
           "#ab63fa",
           "#FFA15A",
           "#19d3f3",
           "#FF6692",
           "#B6E880",
           "#FF97FF",
           "#FECB52"
          ],
          "font": {
           "color": "#2a3f5f"
          },
          "geo": {
           "bgcolor": "white",
           "lakecolor": "white",
           "landcolor": "#E5ECF6",
           "showlakes": true,
           "showland": true,
           "subunitcolor": "white"
          },
          "hoverlabel": {
           "align": "left"
          },
          "hovermode": "closest",
          "mapbox": {
           "style": "light"
          },
          "paper_bgcolor": "white",
          "plot_bgcolor": "#E5ECF6",
          "polar": {
           "angularaxis": {
            "gridcolor": "white",
            "linecolor": "white",
            "ticks": ""
           },
           "bgcolor": "#E5ECF6",
           "radialaxis": {
            "gridcolor": "white",
            "linecolor": "white",
            "ticks": ""
           }
          },
          "scene": {
           "xaxis": {
            "backgroundcolor": "#E5ECF6",
            "gridcolor": "white",
            "gridwidth": 2,
            "linecolor": "white",
            "showbackground": true,
            "ticks": "",
            "zerolinecolor": "white"
           },
           "yaxis": {
            "backgroundcolor": "#E5ECF6",
            "gridcolor": "white",
            "gridwidth": 2,
            "linecolor": "white",
            "showbackground": true,
            "ticks": "",
            "zerolinecolor": "white"
           },
           "zaxis": {
            "backgroundcolor": "#E5ECF6",
            "gridcolor": "white",
            "gridwidth": 2,
            "linecolor": "white",
            "showbackground": true,
            "ticks": "",
            "zerolinecolor": "white"
           }
          },
          "shapedefaults": {
           "line": {
            "color": "#2a3f5f"
           }
          },
          "ternary": {
           "aaxis": {
            "gridcolor": "white",
            "linecolor": "white",
            "ticks": ""
           },
           "baxis": {
            "gridcolor": "white",
            "linecolor": "white",
            "ticks": ""
           },
           "bgcolor": "#E5ECF6",
           "caxis": {
            "gridcolor": "white",
            "linecolor": "white",
            "ticks": ""
           }
          },
          "title": {
           "x": 0.05
          },
          "xaxis": {
           "automargin": true,
           "gridcolor": "white",
           "linecolor": "white",
           "ticks": "",
           "title": {
            "standoff": 15
           },
           "zerolinecolor": "white",
           "zerolinewidth": 2
          },
          "yaxis": {
           "automargin": true,
           "gridcolor": "white",
           "linecolor": "white",
           "ticks": "",
           "title": {
            "standoff": 15
           },
           "zerolinecolor": "white",
           "zerolinewidth": 2
          }
         }
        },
        "title": {
         "text": "Disposable Income for Homeowners in Monroe County"
        },
        "width": 1200
       }
      }
     },
     "metadata": {},
     "output_type": "display_data"
    }
   ],
   "source": [
    "import plotly.express as px\n",
    "\n",
    "px.set_mapbox_access_token('pk.eyJ1IjoicGVldmVlNDQiLCJhIjoiY2xwb2pmaTVxMG84aTJxbmpuOTFseWg5NiJ9.l5pZpLYQce5cW7iZyPPX0g')\n",
    "\n",
    "selected_geoids = ho_monroe_df['GEOID'].tolist()\n",
    "\n",
    "fig = px.choropleth_mapbox(\n",
    "    monroe_df,\n",
    "    geojson=monroe_df.geometry,\n",
    "    locations=monroe_df.index,\n",
    "    color='ri_own',\n",
    "    range_color=(0, 7000),\n",
    "    color_continuous_scale=\"Viridis\",\n",
    "    opacity=0.6,\n",
    "    labels={'ri_own': 'Disposable Income'},\n",
    "    title='Disposable Income for Homeowners in Monroe County',\n",
    "    # mapbox_style=\"carto-positron\",  # Use a different mapbox style for more detail\n",
    "    mapbox_style=\"open-street-map\",\n",
    "    center={\"lat\": latitude, \"lon\": longitude},  # Specify the center of your map\n",
    "    zoom=10,\n",
    ")\n",
    "fig.update_layout(margin={\"r\": 5, \"t\": 35, \"l\": 5, \"b\": 5},\n",
    "                    height=800,  \n",
    "                    width=1200,                 \n",
    ")\n",
    "\n",
    "traces = []\n",
    "for subset, color in zip([level1_ho_df, level2_ho_df, level3_ho_df], ['red', 'blue', 'green']):\n",
    "    trace = go.Scattermapbox(\n",
    "        lat=[geom.centroid.y if geom.type == 'Polygon' else geom.centroid.y for geom in subset.geometry],\n",
    "        lon=[geom.centroid.x if geom.type == 'Polygon' else geom.centroid.x for geom in subset.geometry],\n",
    "        mode='markers',\n",
    "        marker=dict(size=10, color=color),\n",
    "        hoverinfo='text',\n",
    "        text=subset['GEOID'],\n",
    "    )\n",
    "    traces.append(trace)\n",
    "\n",
    "for trace in traces:\n",
    "    fig.add_trace(trace)\n",
    "\n",
    "fig.update_layout(coloraxis_colorbar=dict(\n",
    "    thicknessmode=\"pixels\", thickness=10,\n",
    "    lenmode=\"pixels\", len=150,\n",
    "    yanchor=\"top\", y=0.8,\n",
    "    ticks=\"outside\",\n",
    "    dtick=1000\n",
    "))\n",
    "\n",
    "fig.show()"
   ]
  },
  {
   "cell_type": "markdown",
   "metadata": {},
   "source": [
    "As mentioned earlier one generally accepted measure of housing affordability is that an individual shouldn’t need to spend more than 30 percent of their income per month on housing. Below is an additional map showing census tracts that do not meet this criteria based on average cost of housing as a percentage of average monthly income:"
   ]
  },
  {
   "cell_type": "code",
   "execution_count": 33,
   "metadata": {},
   "outputs": [
    {
     "data": {
      "text/plain": [
       "(11, 19)"
      ]
     },
     "execution_count": 33,
     "metadata": {},
     "output_type": "execute_result"
    }
   ],
   "source": [
    "\n",
    "import numpy as np\n",
    "\n",
    "#create new feature column for percentage of income housing costs and subset data for tracts with average housing costs above 30% of average income.\n",
    "\n",
    "def calculate_housing_cost(row):\n",
    "    if not pd.isna(row['median_smoc_mortgage']) and row['median_smoc_mortgage'] != 0:\n",
    "        return (row['median_gross_rent'] + row['median_smoc_mortgage']) / 2\n",
    "    else:\n",
    "        return row['median_gross_rent']\n",
    "\n",
    "monroe_df['ave_housing_cost'] = monroe_df.apply(calculate_housing_cost, axis=1)\n",
    "\n",
    "monroe_df['percent_housing'] = monroe_df['ave_housing_cost'] / monroe_df['med_inc_month']\n",
    "\n",
    "threshold_value = 0.3\n",
    "\n",
    "above_30_pct= monroe_df[monroe_df['percent_housing'] > threshold_value]\n",
    "above_30_pct.shape"
   ]
  },
  {
   "cell_type": "code",
   "execution_count": 34,
   "metadata": {},
   "outputs": [
    {
     "data": {
      "application/vnd.plotly.v1+json": {
       "config": {
        "plotlyServerURL": "https://plot.ly"
       },
       "data": [
        {
         "coloraxis": "coloraxis",
         "geojson": {
          "bbox": [
           -86.685758,
           38.990698999000074,
           -86.31738,
           39.355701999000075
          ],
          "features": [
           {
            "bbox": [
             -86.57328100099994,
             39.164493,
             -86.534508,
             39.187238999000044
            ],
            "geometry": {
             "coordinates": [
              [
               [
                [
                 -86.534508,
                 39.18631299900005
                ],
                [
                 -86.534698,
                 39.17899199900006
                ],
                [
                 -86.535934,
                 39.178997999000046
                ],
                [
                 -86.545825,
                 39.179039
                ],
                [
                 -86.547084,
                 39.17921299900007
                ],
                [
                 -86.5476,
                 39.17907299900003
                ],
                [
                 -86.556488,
                 39.17909399900003
                ],
                [
                 -86.55647999899998,
                 39.17491799900006
                ],
                [
                 -86.5545,
                 39.17254599900008
                ],
                [
                 -86.551468,
                 39.17070999900005
                ],
                [
                 -86.554251,
                 39.17075299900006
                ],
                [
                 -86.557857,
                 39.17187299900007
                ],
                [
                 -86.56499100099995,
                 39.172614999000075
                ],
                [
                 -86.56499,
                 39.16522299900004
                ],
                [
                 -86.564711,
                 39.16540899900008
                ],
                [
                 -86.563577,
                 39.16523699900006
                ],
                [
                 -86.563601,
                 39.164493
                ],
                [
                 -86.57328100099994,
                 39.164566999000044
                ],
                [
                 -86.573217,
                 39.16621099900004
                ],
                [
                 -86.572811,
                 39.16786099900003
                ],
                [
                 -86.57169,
                 39.16962299900007
                ],
                [
                 -86.570253,
                 39.17100699900004
                ],
                [
                 -86.562398,
                 39.17654599900004
                ],
                [
                 -86.558979,
                 39.17924099800007
                ],
                [
                 -86.557554,
                 39.180862999000055
                ],
                [
                 -86.556817,
                 39.18234399900007
                ],
                [
                 -86.555217,
                 39.187238999000044
                ],
                [
                 -86.541339,
                 39.18675999900006
                ],
                [
                 -86.534508,
                 39.18631299900005
                ]
               ]
              ]
             ],
             "type": "MultiPolygon"
            },
            "id": "93",
            "properties": {},
            "type": "Feature"
           },
           {
            "bbox": [
             -86.538701,
             39.161354,
             -86.526905,
             39.17327499900006
            ],
            "geometry": {
             "coordinates": [
              [
               [
                [
                 -86.526955,
                 39.16850199900006
                ],
                [
                 -86.526905,
                 39.164306999000075
                ],
                [
                 -86.528212,
                 39.16439999900007
                ],
                [
                 -86.528448,
                 39.16385799900007
                ],
                [
                 -86.528397,
                 39.161354
                ],
                [
                 -86.538699,
                 39.161395999000035
                ],
                [
                 -86.538701,
                 39.16463199900005
                ],
                [
                 -86.53857099899994,
                 39.17326999900007
                ],
                [
                 -86.533583,
                 39.17327499900006
                ],
                [
                 -86.533595,
                 39.17252699900007
                ],
                [
                 -86.52696700099995,
                 39.17256199900004
                ],
                [
                 -86.526955,
                 39.16850199900006
                ]
               ]
              ]
             ],
             "type": "MultiPolygon"
            },
            "id": "478",
            "properties": {},
            "type": "Feature"
           },
           {
            "bbox": [
             -86.528396,
             39.170655999000076,
             -86.501747,
             39.18629199900005
            ],
            "geometry": {
             "coordinates": [
              [
               [
                [
                 -86.502242,
                 39.17154899900004
                ],
                [
                 -86.501747,
                 39.170655999000076
                ],
                [
                 -86.506756,
                 39.17156999900004
                ],
                [
                 -86.521014,
                 39.174089
                ],
                [
                 -86.521096,
                 39.17902299900004
                ],
                [
                 -86.528326,
                 39.179008999000075
                ],
                [
                 -86.528396,
                 39.18629199900005
                ],
                [
                 -86.522163,
                 39.186239
                ],
                [
                 -86.518708,
                 39.18580399900003
                ],
                [
                 -86.514853,
                 39.18471899900004
                ],
                [
                 -86.511389,
                 39.18308299800003
                ],
                [
                 -86.508694,
                 39.18116199900004
                ],
                [
                 -86.506801,
                 39.179294999000035
                ],
                [
                 -86.505083,
                 39.176813999000046
                ],
                [
                 -86.502242,
                 39.17154899900004
                ]
               ]
              ]
             ],
             "type": "MultiPolygon"
            },
            "id": "479",
            "properties": {},
            "type": "Feature"
           },
           {
            "bbox": [
             -86.50945,
             39.150449999000045,
             -86.497639,
             39.17156999900004
            ],
            "geometry": {
             "coordinates": [
              [
               [
                [
                 -86.501747,
                 39.170655999000076
                ],
                [
                 -86.498296,
                 39.16422599900005
                ],
                [
                 -86.49773499899999,
                 39.161132999000074
                ],
                [
                 -86.497869,
                 39.15812599900005
                ],
                [
                 -86.497639,
                 39.153417999000055
                ],
                [
                 -86.497709,
                 39.151252
                ],
                [
                 -86.498245,
                 39.150471
                ],
                [
                 -86.508424,
                 39.150449999000045
                ],
                [
                 -86.50847700099996,
                 39.164265999000065
                ],
                [
                 -86.509408,
                 39.16426399900007
                ],
                [
                 -86.50945,
                 39.16823099900006
                ],
                [
                 -86.507171,
                 39.168213999000045
                ],
                [
                 -86.507211,
                 39.17133399900007
                ],
                [
                 -86.506756,
                 39.17156999900004
                ],
                [
                 -86.501747,
                 39.170655999000076
                ]
               ]
              ]
             ],
             "type": "MultiPolygon"
            },
            "id": "480",
            "properties": {},
            "type": "Feature"
           },
           {
            "bbox": [
             -86.606523,
             39.12181799900003,
             -86.571386,
             39.14202799900005
            ],
            "geometry": {
             "coordinates": [
              [
               [
                [
                 -86.573183,
                 39.136791999000025
                ],
                [
                 -86.57307299899998,
                 39.12734699900005
                ],
                [
                 -86.57254499899994,
                 39.12484399900006
                ],
                [
                 -86.571386,
                 39.12223499900006
                ],
                [
                 -86.573411,
                 39.12222699900008
                ],
                [
                 -86.57527,
                 39.12181799900003
                ],
                [
                 -86.576343,
                 39.12209899900006
                ],
                [
                 -86.577653,
                 39.122959998000056
                ],
                [
                 -86.580476,
                 39.12342299900007
                ],
                [
                 -86.582543,
                 39.123395999000024
                ],
                [
                 -86.582825,
                 39.122959998000056
                ],
                [
                 -86.584097,
                 39.12240199900003
                ],
                [
                 -86.58486600099997,
                 39.12229399900008
                ],
                [
                 -86.60571,
                 39.12230499900005
                ],
                [
                 -86.605714,
                 39.12692799900003
                ],
                [
                 -86.606523,
                 39.12788399900006
                ],
                [
                 -86.60429100099998,
                 39.129248999000026
                ],
                [
                 -86.605113,
                 39.131424999000046
                ],
                [
                 -86.606074,
                 39.13680799900004
                ],
                [
                 -86.595655,
                 39.136801999000056
                ],
                [
                 -86.594412,
                 39.13640199900004
                ],
                [
                 -86.589341,
                 39.13954599900006
                ],
                [
                 -86.588138,
                 39.140062999000065
                ],
                [
                 -86.584579,
                 39.14111199900003
                ],
                [
                 -86.582608,
                 39.14202799900005
                ],
                [
                 -86.582615,
                 39.136801999000056
                ],
                [
                 -86.573183,
                 39.136791999000025
                ]
               ]
              ]
             ],
             "type": "MultiPolygon"
            },
            "id": "482",
            "properties": {},
            "type": "Feature"
           },
           {
            "bbox": [
             -86.573696,
             38.99151499900006,
             -86.44809900099995,
             39.085256
            ],
            "geometry": {
             "coordinates": [
              [
               [
                [
                 -86.475106,
                 39.03656199900007
                ],
                [
                 -86.47557900099997,
                 39.03381499900007
                ],
                [
                 -86.47538400099995,
                 39.03223199900003
                ],
                [
                 -86.474392,
                 39.031254999000055
                ],
                [
                 -86.46912000099996,
                 39.02935199900003
                ],
                [
                 -86.468288,
                 39.02138399900008
                ],
                [
                 -86.46826700099996,
                 39.01956799900006
                ],
                [
                 -86.468803,
                 39.01787499900007
                ],
                [
                 -86.469633,
                 39.01714699900003
                ],
                [
                 -86.471396,
                 39.01605099900007
                ],
                [
                 -86.471697,
                 39.01443899900005
                ],
                [
                 -86.471143,
                 39.011666999000056
                ],
                [
                 -86.469657,
                 39.007351
                ],
                [
                 -86.466308,
                 39.003956999000025
                ],
                [
                 -86.463962,
                 39.002846
                ],
                [
                 -86.461791,
                 39.00119299900007
                ],
                [
                 -86.46065900099995,
                 39.000634999000056
                ],
                [
                 -86.459605,
                 39.000270999000065
                ],
                [
                 -86.454765,
                 38.99951999900003
                ],
                [
                 -86.453451,
                 38.998758999000074
                ],
                [
                 -86.44925599899994,
                 38.99845599900004
                ],
                [
                 -86.449147,
                 38.99505399900005
                ],
                [
                 -86.44809900099995,
                 38.992957
                ],
                [
                 -86.448203,
                 38.99226999900003
                ],
                [
                 -86.448829,
                 38.99151499900006
                ],
                [
                 -86.488261,
                 38.99192099900006
                ],
                [
                 -86.496316,
                 38.991730999000026
                ],
                [
                 -86.52361100099995,
                 38.992002
                ],
                [
                 -86.53047799899997,
                 38.991708999000025
                ],
                [
                 -86.534068,
                 38.99190499900004
                ],
                [
                 -86.537505,
                 38.991843999000025
                ],
                [
                 -86.54443700099995,
                 38.991753999000025
                ],
                [
                 -86.54801099899998,
                 38.99203199900006
                ],
                [
                 -86.573548,
                 38.992146999000056
                ],
                [
                 -86.5736,
                 39.01382999900005
                ],
                [
                 -86.573183,
                 39.04852199900006
                ],
                [
                 -86.573696,
                 39.06542899900006
                ],
                [
                 -86.573579,
                 39.06646499900006
                ],
                [
                 -86.573165,
                 39.06747399900007
                ],
                [
                 -86.573197,
                 39.07874699900003
                ],
                [
                 -86.56470200099994,
                 39.078573998000024
                ],
                [
                 -86.541727,
                 39.07856299900004
                ],
                [
                 -86.541272,
                 39.07963599900006
                ],
                [
                 -86.540918,
                 39.082280999000034
                ],
                [
                 -86.541309,
                 39.083277999000074
                ],
                [
                 -86.543007,
                 39.08458199800003
                ],
                [
                 -86.542731,
                 39.085256
                ],
                [
                 -86.538905,
                 39.08153099900005
                ],
                [
                 -86.53785599899999,
                 39.080182999000044
                ],
                [
                 -86.53703,
                 39.07863799900008
                ],
                [
                 -86.536448,
                 39.07624099900005
                ],
                [
                 -86.53624900099999,
                 39.04025399900007
                ],
                [
                 -86.535863,
                 39.03701699900006
                ],
                [
                 -86.534562,
                 39.03091399900006
                ],
                [
                 -86.53435500099994,
                 39.02891199900006
                ],
                [
                 -86.534652,
                 39.026522
                ],
                [
                 -86.536622,
                 39.02020199900005
                ],
                [
                 -86.53545099899998,
                 39.01961999800005
                ],
                [
                 -86.534874,
                 39.018928999000025
                ],
                [
                 -86.534313,
                 39.01919999900008
                ],
                [
                 -86.532843,
                 39.02068299900003
                ],
                [
                 -86.531996,
                 39.021073999000066
                ],
                [
                 -86.527333,
                 39.02139999900004
                ],
                [
                 -86.525828,
                 39.02111099900003
                ],
                [
                 -86.52458700099999,
                 39.02048799900007
                ],
                [
                 -86.522869,
                 39.01851099900006
                ],
                [
                 -86.522255,
                 39.018924999000035
                ],
                [
                 -86.52187,
                 39.020537999000055
                ],
                [
                 -86.521502,
                 39.027936999000076
                ],
                [
                 -86.520722,
                 39.033806999000035
                ],
                [
                 -86.52031300099998,
                 39.03452899900003
                ],
                [
                 -86.519605,
                 39.03490399900005
                ],
                [
                 -86.50266999899998,
                 39.034909999000035
                ],
                [
                 -86.500923,
                 39.03441699900003
                ],
                [
                 -86.498634,
                 39.03251899900005
                ],
                [
                 -86.49767600099995,
                 39.03211599900004
                ],
                [
                 -86.496315,
                 39.032011999000076
                ],
                [
                 -86.493841,
                 39.03232299900003
                ],
                [
                 -86.490093,
                 39.032478999000034
                ],
                [
                 -86.490537,
                 39.035101
                ],
                [
                 -86.492108,
                 39.03854099900008
                ],
                [
                 -86.491694,
                 39.042642999000066
                ],
                [
                 -86.49053,
                 39.04585099900004
                ],
                [
                 -86.483345,
                 39.04598999900003
                ],
                [
                 -86.482108,
                 39.04577499900006
                ],
                [
                 -86.481465,
                 39.04548199900006
                ],
                [
                 -86.48069,
                 39.04464499900007
                ],
                [
                 -86.480442,
                 39.043625
                ],
                [
                 -86.475106,
                 39.03656199900007
                ]
               ]
              ]
             ],
             "type": "MultiPolygon"
            },
            "id": "970",
            "properties": {},
            "type": "Feature"
           },
           {
            "bbox": [
             -86.56499100099995,
             39.163436999000055,
             -86.535934,
             39.17921299900007
            ],
            "geometry": {
             "coordinates": [
              [
               [
                [
                 -86.535934,
                 39.178997999000046
                ],
                [
                 -86.536,
                 39.17596499900003
                ],
                [
                 -86.537717,
                 39.175969999000074
                ],
                [
                 -86.537725,
                 39.17660899800006
                ],
                [
                 -86.538506,
                 39.17660999800006
                ],
                [
                 -86.53851399899997,
                 39.175057999000046
                ],
                [
                 -86.53810299899999,
                 39.174843999000075
                ],
                [
                 -86.538506,
                 39.17416699900008
                ],
                [
                 -86.53857099899994,
                 39.17326999900007
                ],
                [
                 -86.538701,
                 39.16463199900005
                ],
                [
                 -86.53985,
                 39.164634998000054
                ],
                [
                 -86.539926,
                 39.16428599900007
                ],
                [
                 -86.550219,
                 39.16437399900008
                ],
                [
                 -86.550731,
                 39.164171999000075
                ],
                [
                 -86.551275,
                 39.163436999000055
                ],
                [
                 -86.55196,
                 39.164400999000065
                ],
                [
                 -86.563601,
                 39.164493
                ],
                [
                 -86.563577,
                 39.16523699900006
                ],
                [
                 -86.564711,
                 39.16540899900008
                ],
                [
                 -86.56499,
                 39.16522299900004
                ],
                [
                 -86.56499100099995,
                 39.172614999000075
                ],
                [
                 -86.557857,
                 39.17187299900007
                ],
                [
                 -86.554251,
                 39.17075299900006
                ],
                [
                 -86.551468,
                 39.17070999900005
                ],
                [
                 -86.5545,
                 39.17254599900008
                ],
                [
                 -86.55647999899998,
                 39.17491799900006
                ],
                [
                 -86.556488,
                 39.17909399900003
                ],
                [
                 -86.5476,
                 39.17907299900003
                ],
                [
                 -86.547084,
                 39.17921299900007
                ],
                [
                 -86.545825,
                 39.179039
                ],
                [
                 -86.535934,
                 39.178997999000046
                ]
               ]
              ]
             ],
             "type": "MultiPolygon"
            },
            "id": "971",
            "properties": {},
            "type": "Feature"
           },
           {
            "bbox": [
             -86.544379,
             39.01851099900006,
             -86.449948,
             39.12144699900006
            ],
            "geometry": {
             "coordinates": [
              [
               [
                [
                 -86.461847,
                 39.10685599900006
                ],
                [
                 -86.461777,
                 39.105521999000075
                ],
                [
                 -86.462297,
                 39.103552999000044
                ],
                [
                 -86.461831,
                 39.10232999900006
                ],
                [
                 -86.46169,
                 39.10065499900003
                ],
                [
                 -86.46169500099995,
                 39.09431199800008
                ],
                [
                 -86.456604,
                 39.08769199900007
                ],
                [
                 -86.450855,
                 39.07816799900007
                ],
                [
                 -86.449948,
                 39.078179
                ],
                [
                 -86.451463,
                 39.070916999000076
                ],
                [
                 -86.452049,
                 39.06165499900004
                ],
                [
                 -86.454231,
                 39.056185
                ],
                [
                 -86.45695000099994,
                 39.052624999000045
                ],
                [
                 -86.461809,
                 39.048958999000035
                ],
                [
                 -86.463551,
                 39.04638599900005
                ],
                [
                 -86.465955,
                 39.04668199900004
                ],
                [
                 -86.472374,
                 39.04313399900008
                ],
                [
                 -86.474635,
                 39.038876999000024
                ],
                [
                 -86.475,
                 39.03799199900004
                ],
                [
                 -86.475106,
                 39.03656199900007
                ],
                [
                 -86.480442,
                 39.043625
                ],
                [
                 -86.48069,
                 39.04464499900007
                ],
                [
                 -86.481465,
                 39.04548199900006
                ],
                [
                 -86.482108,
                 39.04577499900006
                ],
                [
                 -86.483345,
                 39.04598999900003
                ],
                [
                 -86.49053,
                 39.04585099900004
                ],
                [
                 -86.491694,
                 39.042642999000066
                ],
                [
                 -86.492108,
                 39.03854099900008
                ],
                [
                 -86.490537,
                 39.035101
                ],
                [
                 -86.490093,
                 39.032478999000034
                ],
                [
                 -86.493841,
                 39.03232299900003
                ],
                [
                 -86.496315,
                 39.032011999000076
                ],
                [
                 -86.49767600099995,
                 39.03211599900004
                ],
                [
                 -86.498634,
                 39.03251899900005
                ],
                [
                 -86.500923,
                 39.03441699900003
                ],
                [
                 -86.50266999899998,
                 39.034909999000035
                ],
                [
                 -86.519605,
                 39.03490399900005
                ],
                [
                 -86.52031300099998,
                 39.03452899900003
                ],
                [
                 -86.520722,
                 39.033806999000035
                ],
                [
                 -86.521502,
                 39.027936999000076
                ],
                [
                 -86.52187,
                 39.020537999000055
                ],
                [
                 -86.522255,
                 39.018924999000035
                ],
                [
                 -86.522869,
                 39.01851099900006
                ],
                [
                 -86.52458700099999,
                 39.02048799900007
                ],
                [
                 -86.525828,
                 39.02111099900003
                ],
                [
                 -86.527333,
                 39.02139999900004
                ],
                [
                 -86.531996,
                 39.021073999000066
                ],
                [
                 -86.532843,
                 39.02068299900003
                ],
                [
                 -86.534313,
                 39.01919999900008
                ],
                [
                 -86.534874,
                 39.018928999000025
                ],
                [
                 -86.53545099899998,
                 39.01961999800005
                ],
                [
                 -86.536622,
                 39.02020199900005
                ],
                [
                 -86.534652,
                 39.026522
                ],
                [
                 -86.53435500099994,
                 39.02891199900006
                ],
                [
                 -86.534562,
                 39.03091399900006
                ],
                [
                 -86.535863,
                 39.03701699900006
                ],
                [
                 -86.53624900099999,
                 39.04025399900007
                ],
                [
                 -86.536448,
                 39.07624099900005
                ],
                [
                 -86.53703,
                 39.07863799900008
                ],
                [
                 -86.53785599899999,
                 39.080182999000044
                ],
                [
                 -86.538905,
                 39.08153099900005
                ],
                [
                 -86.542731,
                 39.085256
                ],
                [
                 -86.542282,
                 39.08585099900006
                ],
                [
                 -86.542262,
                 39.086217
                ],
                [
                 -86.54422899899998,
                 39.091093999000066
                ],
                [
                 -86.544379,
                 39.091953999000054
                ],
                [
                 -86.544061,
                 39.09318699900007
                ],
                [
                 -86.54238,
                 39.09579399900008
                ],
                [
                 -86.541695,
                 39.09650299900005
                ],
                [
                 -86.537757,
                 39.099401999000065
                ],
                [
                 -86.53605300099997,
                 39.10105899900003
                ],
                [
                 -86.534116,
                 39.10242899900004
                ],
                [
                 -86.532188,
                 39.104861999000036
                ],
                [
                 -86.5315,
                 39.107232999000075
                ],
                [
                 -86.52649500099994,
                 39.107187999000075
                ],
                [
                 -86.52665,
                 39.12144699900006
                ],
                [
                 -86.48998600099998,
                 39.121376
                ],
                [
                 -86.485231,
                 39.12068499900005
                ],
                [
                 -86.484189,
                 39.12017799900008
                ],
                [
                 -86.48326400099995,
                 39.12008999900007
                ],
                [
                 -86.480934,
                 39.11934799900007
                ],
                [
                 -86.476876,
                 39.117087999000034
                ],
                [
                 -86.47616300099997,
                 39.11615999900005
                ],
                [
                 -86.475127,
                 39.115567
                ],
                [
                 -86.4711,
                 39.11502899900006
                ],
                [
                 -86.467294,
                 39.11396699900007
                ],
                [
                 -86.464723,
                 39.11123099900004
                ],
                [
                 -86.463411,
                 39.108604
                ],
                [
                 -86.46208699899995,
                 39.10753499900005
                ],
                [
                 -86.461847,
                 39.10685599900006
                ]
               ]
              ]
             ],
             "type": "MultiPolygon"
            },
            "id": "972",
            "properties": {},
            "type": "Feature"
           },
           {
            "bbox": [
             -86.47557900099997,
             38.990698999000074,
             -86.31738,
             39.33975199900004
            ],
            "geometry": {
             "coordinates": [
              [
               [
                [
                 -86.372193,
                 39.23808299900003
                ],
                [
                 -86.371493,
                 39.19634399900008
                ],
                [
                 -86.370392,
                 39.178648
                ],
                [
                 -86.370192,
                 39.15264999900006
                ],
                [
                 -86.369692,
                 39.14374799900003
                ],
                [
                 -86.369246,
                 39.11193299900003
                ],
                [
                 -86.369285,
                 39.09568099900008
                ],
                [
                 -86.36911,
                 39.089642999000034
                ],
                [
                 -86.36920699899997,
                 39.081840999000065
                ],
                [
                 -86.369456,
                 39.08115199900004
                ],
                [
                 -86.369168,
                 39.07682599900005
                ],
                [
                 -86.369211,
                 39.06173299900007
                ],
                [
                 -86.370066,
                 39.04837499900003
                ],
                [
                 -86.35078200099997,
                 39.04902399900004
                ],
                [
                 -86.350756,
                 39.04868699900004
                ],
                [
                 -86.336993,
                 39.048947
                ],
                [
                 -86.318133,
                 39.04880999900007
                ],
                [
                 -86.317799,
                 39.002732999000045
                ],
                [
                 -86.31738,
                 39.000049999000055
                ],
                [
                 -86.31747400099994,
                 38.99086999900004
                ],
                [
                 -86.367515,
                 38.99087499900003
                ],
                [
                 -86.37499,
                 38.990698999000074
                ],
                [
                 -86.448829,
                 38.99151499900006
                ],
                [
                 -86.448203,
                 38.99226999900003
                ],
                [
                 -86.44809900099995,
                 38.992957
                ],
                [
                 -86.449147,
                 38.99505399900005
                ],
                [
                 -86.44925599899994,
                 38.99845599900004
                ],
                [
                 -86.453451,
                 38.998758999000074
                ],
                [
                 -86.454765,
                 38.99951999900003
                ],
                [
                 -86.459605,
                 39.000270999000065
                ],
                [
                 -86.46065900099995,
                 39.000634999000056
                ],
                [
                 -86.461791,
                 39.00119299900007
                ],
                [
                 -86.463962,
                 39.002846
                ],
                [
                 -86.466308,
                 39.003956999000025
                ],
                [
                 -86.469657,
                 39.007351
                ],
                [
                 -86.471143,
                 39.011666999000056
                ],
                [
                 -86.471697,
                 39.01443899900005
                ],
                [
                 -86.471396,
                 39.01605099900007
                ],
                [
                 -86.469633,
                 39.01714699900003
                ],
                [
                 -86.468803,
                 39.01787499900007
                ],
                [
                 -86.46826700099996,
                 39.01956799900006
                ],
                [
                 -86.468288,
                 39.02138399900008
                ],
                [
                 -86.46912000099996,
                 39.02935199900003
                ],
                [
                 -86.474392,
                 39.031254999000055
                ],
                [
                 -86.47538400099995,
                 39.03223199900003
                ],
                [
                 -86.47557900099997,
                 39.03381499900007
                ],
                [
                 -86.475106,
                 39.03656199900007
                ],
                [
                 -86.475,
                 39.03799199900004
                ],
                [
                 -86.474635,
                 39.038876999000024
                ],
                [
                 -86.472374,
                 39.04313399900008
                ],
                [
                 -86.465955,
                 39.04668199900004
                ],
                [
                 -86.463551,
                 39.04638599900005
                ],
                [
                 -86.461809,
                 39.048958999000035
                ],
                [
                 -86.45695000099994,
                 39.052624999000045
                ],
                [
                 -86.454231,
                 39.056185
                ],
                [
                 -86.452049,
                 39.06165499900004
                ],
                [
                 -86.451463,
                 39.070916999000076
                ],
                [
                 -86.449948,
                 39.078179
                ],
                [
                 -86.450855,
                 39.07816799900007
                ],
                [
                 -86.456604,
                 39.08769199900007
                ],
                [
                 -86.46169500099995,
                 39.09431199800008
                ],
                [
                 -86.46169,
                 39.10065499900003
                ],
                [
                 -86.461831,
                 39.10232999900006
                ],
                [
                 -86.462297,
                 39.103552999000044
                ],
                [
                 -86.461777,
                 39.105521999000075
                ],
                [
                 -86.461847,
                 39.10685599900006
                ],
                [
                 -86.462197,
                 39.14903899900003
                ],
                [
                 -86.462596,
                 39.16658599900006
                ],
                [
                 -86.462778,
                 39.185897999000076
                ],
                [
                 -86.467341,
                 39.185842999000045
                ],
                [
                 -86.468869,
                 39.18552
                ],
                [
                 -86.46829900099993,
                 39.18620899900003
                ],
                [
                 -86.468028,
                 39.186961
                ],
                [
                 -86.468182,
                 39.192064999000024
                ],
                [
                 -86.467777,
                 39.19310799900006
                ],
                [
                 -86.467884,
                 39.200358
                ],
                [
                 -86.466532,
                 39.202660999000045
                ],
                [
                 -86.463297,
                 39.20416699900005
                ],
                [
                 -86.463268,
                 39.210030999000026
                ],
                [
                 -86.463525,
                 39.21272799900004
                ],
                [
                 -86.463524,
                 39.223535999000035
                ],
                [
                 -86.463882,
                 39.230698999000026
                ],
                [
                 -86.464045,
                 39.25090299900006
                ],
                [
                 -86.464416,
                 39.279654
                ],
                [
                 -86.465042,
                 39.29444899900005
                ],
                [
                 -86.464746,
                 39.30920799900008
                ],
                [
                 -86.46438699899994,
                 39.309291
                ],
                [
                 -86.465115,
                 39.33829999900007
                ],
                [
                 -86.381395,
                 39.33975199900004
                ],
                [
                 -86.379937,
                 39.25108
                ],
                [
                 -86.372408,
                 39.250904999000056
                ],
                [
                 -86.372193,
                 39.23808299900003
                ]
               ]
              ]
             ],
             "type": "MultiPolygon"
            },
            "id": "1070",
            "properties": {},
            "type": "Feature"
           },
           {
            "bbox": [
             -86.574114,
             39.17654599900004,
             -86.463524,
             39.276725999000064
            ],
            "geometry": {
             "coordinates": [
              [
               [
                [
                 -86.464045,
                 39.25090299900006
                ],
                [
                 -86.463882,
                 39.230698999000026
                ],
                [
                 -86.463524,
                 39.223535999000035
                ],
                [
                 -86.463525,
                 39.21272799900004
                ],
                [
                 -86.468012,
                 39.21481299900006
                ],
                [
                 -86.468511,
                 39.21489199900003
                ],
                [
                 -86.477415,
                 39.214874999000074
                ],
                [
                 -86.478989,
                 39.21408499900008
                ],
                [
                 -86.480187,
                 39.21401399900003
                ],
                [
                 -86.481539,
                 39.21430599900003
                ],
                [
                 -86.48440900099996,
                 39.21413699900006
                ],
                [
                 -86.487252,
                 39.21292299800007
                ],
                [
                 -86.489574,
                 39.21268099900004
                ],
                [
                 -86.491565,
                 39.21290999900003
                ],
                [
                 -86.49448199899996,
                 39.21208799900006
                ],
                [
                 -86.49877,
                 39.21169599900003
                ],
                [
                 -86.502474,
                 39.211676999000076
                ],
                [
                 -86.505409,
                 39.21279799900003
                ],
                [
                 -86.50545400099998,
                 39.20829299900004
                ],
                [
                 -86.506735,
                 39.205043999000054
                ],
                [
                 -86.510438,
                 39.203346999000075
                ],
                [
                 -86.511308,
                 39.201686
                ],
                [
                 -86.511886,
                 39.201295
                ],
                [
                 -86.513228,
                 39.20081999900003
                ],
                [
                 -86.51460399899997,
                 39.20066699900008
                ],
                [
                 -86.514651,
                 39.19970999900005
                ],
                [
                 -86.513752,
                 39.198300999000026
                ],
                [
                 -86.51321999899994,
                 39.19677799900006
                ],
                [
                 -86.51390599899997,
                 39.19800699900003
                ],
                [
                 -86.515526,
                 39.199621999000044
                ],
                [
                 -86.521037,
                 39.202638999000044
                ],
                [
                 -86.52263700099996,
                 39.20445499900006
                ],
                [
                 -86.524648,
                 39.20486499900005
                ],
                [
                 -86.527909,
                 39.206148
                ],
                [
                 -86.52866699899994,
                 39.20607599900006
                ],
                [
                 -86.52872399899996,
                 39.208018999000046
                ],
                [
                 -86.529408,
                 39.20816799900007
                ],
                [
                 -86.531466,
                 39.208105999000054
                ],
                [
                 -86.534849,
                 39.20710799900007
                ],
                [
                 -86.53543499899996,
                 39.21023099900003
                ],
                [
                 -86.54055,
                 39.22730799900006
                ],
                [
                 -86.540859,
                 39.22976299900006
                ],
                [
                 -86.540732,
                 39.23281399900003
                ],
                [
                 -86.541371,
                 39.23412099900003
                ],
                [
                 -86.55243799899995,
                 39.217618
                ],
                [
                 -86.553172,
                 39.21645599900006
                ],
                [
                 -86.553963,
                 39.21433299900008
                ],
                [
                 -86.554181,
                 39.21229899900004
                ],
                [
                 -86.553946,
                 39.205249999000046
                ],
                [
                 -86.555217,
                 39.187238999000044
                ],
                [
                 -86.556817,
                 39.18234399900007
                ],
                [
                 -86.557554,
                 39.180862999000055
                ],
                [
                 -86.558979,
                 39.17924099800007
                ],
                [
                 -86.562398,
                 39.17654599900004
                ],
                [
                 -86.56262199899999,
                 39.17682299900008
                ],
                [
                 -86.561486,
                 39.17788999900006
                ],
                [
                 -86.561571,
                 39.17843399900005
                ],
                [
                 -86.56393,
                 39.179182999000034
                ],
                [
                 -86.567252,
                 39.18172899900003
                ],
                [
                 -86.56932799899994,
                 39.182964999000035
                ],
                [
                 -86.57245,
                 39.187075
                ],
                [
                 -86.57359500099994,
                 39.187969999000074
                ],
                [
                 -86.573725,
                 39.207673999000065
                ],
                [
                 -86.573885,
                 39.25168799900007
                ],
                [
                 -86.574114,
                 39.27582799900006
                ],
                [
                 -86.572931,
                 39.27648499900005
                ],
                [
                 -86.572083,
                 39.276725999000064
                ],
                [
                 -86.571475,
                 39.27670999800006
                ],
                [
                 -86.57080300099994,
                 39.276313999000024
                ],
                [
                 -86.56996899899997,
                 39.27546299900007
                ],
                [
                 -86.56968,
                 39.27453999900007
                ],
                [
                 -86.56934,
                 39.27427699900005
                ],
                [
                 -86.568506,
                 39.274440999000035
                ],
                [
                 -86.567644,
                 39.275314999000045
                ],
                [
                 -86.567199,
                 39.27535899900005
                ],
                [
                 -86.56702200099994,
                 39.27520499900004
                ],
                [
                 -86.567411,
                 39.273996999000076
                ],
                [
                 -86.567177,
                 39.272150999000075
                ],
                [
                 -86.56858399899994,
                 39.27063499900004
                ],
                [
                 -86.568739,
                 39.26961299800007
                ],
                [
                 -86.569559,
                 39.26731699900006
                ],
                [
                 -86.569608,
                 39.26648699900005
                ],
                [
                 -86.56938200099995,
                 39.266300999000066
                ],
                [
                 -86.56635,
                 39.26676199900004
                ],
                [
                 -86.565707,
                 39.26750899900003
                ],
                [
                 -86.565057,
                 39.26973399900004
                ],
                [
                 -86.564478,
                 39.27008599900006
                ],
                [
                 -86.563983,
                 39.27004199800007
                ],
                [
                 -86.563517,
                 39.26968999800005
                ],
                [
                 -86.56468300099993,
                 39.268623999000056
                ],
                [
                 -86.56435,
                 39.266668999000046
                ],
                [
                 -86.563679,
                 39.26593299900003
                ],
                [
                 -86.562704,
                 39.26616899900006
                ],
                [
                 -86.562895,
                 39.26736599900005
                ],
                [
                 -86.562492,
                 39.26768499900004
                ],
                [
                 -86.561418,
                 39.26794299900007
                ],
                [
                 -86.560125,
                 39.268519999000034
                ],
                [
                 -86.558733,
                 39.268552999000065
                ],
                [
                 -86.557885,
                 39.268755999000064
                ],
                [
                 -86.557404,
                 39.26853599900005
                ],
                [
                 -86.55703,
                 39.26655899900004
                ],
                [
                 -86.55715,
                 39.266278999000065
                ],
                [
                 -86.557588,
                 39.265756999000075
                ],
                [
                 -86.55869,
                 39.26542199900007
                ],
                [
                 -86.55905099899996,
                 39.26478499900003
                ],
                [
                 -86.55746800099996,
                 39.263899999000046
                ],
                [
                 -86.557277,
                 39.26319699800007
                ],
                [
                 -86.55772199899997,
                 39.26266399900004
                ],
                [
                 -86.55686,
                 39.262207999000054
                ],
                [
                 -86.555801,
                 39.26099399900005
                ],
                [
                 -86.554522,
                 39.26041699900003
                ],
                [
                 -86.55282600099997,
                 39.2605
                ],
                [
                 -86.552112,
                 39.259708999000054
                ],
                [
                 -86.552141,
                 39.259115
                ],
                [
                 -86.552635,
                 39.258807999000055
                ],
                [
                 -86.553497,
                 39.258867999000074
                ],
                [
                 -86.555864,
                 39.260147999000026
                ],
                [
                 -86.556387,
                 39.25998399900004
                ],
                [
                 -86.556762,
                 39.25943999900005
                ],
                [
                 -86.557482,
                 39.257188
                ],
                [
                 -86.557363,
                 39.25544099900003
                ],
                [
                 -86.556889,
                 39.25528199900003
                ],
                [
                 -86.555434,
                 39.255331
                ],
                [
                 -86.554706,
                 39.255006999000045
                ],
                [
                 -86.55472,
                 39.254627999000036
                ],
                [
                 -86.555179,
                 39.25429299900003
                ],
                [
                 -86.55619700099999,
                 39.254007
                ],
                [
                 -86.556282,
                 39.25357899900007
                ],
                [
                 -86.555582,
                 39.253006999000036
                ],
                [
                 -86.554162,
                 39.25282099900005
                ],
                [
                 -86.553435,
                 39.252484999000046
                ],
                [
                 -86.553491,
                 39.251891999000065
                ],
                [
                 -86.553753,
                 39.25167199900005
                ],
                [
                 -86.55485899899998,
                 39.25157599900007
                ],
                [
                 -86.528981,
                 39.251336
                ],
                [
                 -86.50961100099994,
                 39.25143999900007
                ],
                [
                 -86.502309,
                 39.25167399900005
                ],
                [
                 -86.49724500099995,
                 39.25144699900005
                ],
                [
                 -86.47642,
                 39.25118599900003
                ],
                [
                 -86.47278,
                 39.25091199900004
                ],
                [
                 -86.471005,
                 39.251047999000036
                ],
                [
                 -86.464045,
                 39.25090299900006
                ]
               ]
              ]
             ],
             "type": "MultiPolygon"
            },
            "id": "1071",
            "properties": {},
            "type": "Feature"
           },
           {
            "bbox": [
             -86.57328100099994,
             39.14748499900003,
             -86.538699,
             39.164634998000054
            ],
            "geometry": {
             "coordinates": [
              [
               [
                [
                 -86.538701,
                 39.16463199900005
                ],
                [
                 -86.538699,
                 39.161395999000035
                ],
                [
                 -86.538787,
                 39.150599999000065
                ],
                [
                 -86.53880400099996,
                 39.14962899900007
                ],
                [
                 -86.543138,
                 39.155635999000026
                ],
                [
                 -86.561408,
                 39.15613299900008
                ],
                [
                 -86.566519,
                 39.15278999900005
                ],
                [
                 -86.568778,
                 39.14991299900004
                ],
                [
                 -86.573246,
                 39.14748499900003
                ],
                [
                 -86.57328100099994,
                 39.164566999000044
                ],
                [
                 -86.563601,
                 39.164493
                ],
                [
                 -86.55196,
                 39.164400999000065
                ],
                [
                 -86.551275,
                 39.163436999000055
                ],
                [
                 -86.550731,
                 39.164171999000075
                ],
                [
                 -86.550219,
                 39.16437399900008
                ],
                [
                 -86.539926,
                 39.16428599900007
                ],
                [
                 -86.53985,
                 39.164634998000054
                ],
                [
                 -86.538701,
                 39.16463199900005
                ]
               ]
              ]
             ],
             "type": "MultiPolygon"
            },
            "id": "1072",
            "properties": {},
            "type": "Feature"
           },
           {
            "bbox": [
             -86.610547,
             39.13640199900004,
             -86.573183,
             39.16490899900003
            ],
            "geometry": {
             "coordinates": [
              [
               [
                [
                 -86.57328100099994,
                 39.164566999000044
                ],
                [
                 -86.573246,
                 39.14748499900003
                ],
                [
                 -86.573183,
                 39.136791999000025
                ],
                [
                 -86.582615,
                 39.136801999000056
                ],
                [
                 -86.582608,
                 39.14202799900005
                ],
                [
                 -86.584579,
                 39.14111199900003
                ],
                [
                 -86.588138,
                 39.140062999000065
                ],
                [
                 -86.589341,
                 39.13954599900006
                ],
                [
                 -86.594412,
                 39.13640199900004
                ],
                [
                 -86.595655,
                 39.136801999000056
                ],
                [
                 -86.606074,
                 39.13680799900004
                ],
                [
                 -86.61025700099998,
                 39.136820999000065
                ],
                [
                 -86.610547,
                 39.16490899900003
                ],
                [
                 -86.57328100099994,
                 39.164566999000044
                ]
               ]
              ]
             ],
             "type": "MultiPolygon"
            },
            "id": "1086",
            "properties": {},
            "type": "Feature"
           },
           {
            "bbox": [
             -86.68300199899994,
             38.99201099900006,
             -86.573165,
             39.165745998000034
            ],
            "geometry": {
             "coordinates": [
              [
               [
                [
                 -86.610547,
                 39.16490899900003
                ],
                [
                 -86.61025700099998,
                 39.136820999000065
                ],
                [
                 -86.606074,
                 39.13680799900004
                ],
                [
                 -86.605113,
                 39.131424999000046
                ],
                [
                 -86.60429100099998,
                 39.129248999000026
                ],
                [
                 -86.606523,
                 39.12788399900006
                ],
                [
                 -86.605714,
                 39.12692799900003
                ],
                [
                 -86.60571,
                 39.12230499900005
                ],
                [
                 -86.58486600099997,
                 39.12229399900008
                ],
                [
                 -86.584097,
                 39.12240199900003
                ],
                [
                 -86.582825,
                 39.122959998000056
                ],
                [
                 -86.582543,
                 39.123395999000024
                ],
                [
                 -86.580476,
                 39.12342299900007
                ],
                [
                 -86.577653,
                 39.122959998000056
                ],
                [
                 -86.576343,
                 39.12209899900006
                ],
                [
                 -86.57527,
                 39.12181799900003
                ],
                [
                 -86.573411,
                 39.12222699900008
                ],
                [
                 -86.573509,
                 39.106474999000056
                ],
                [
                 -86.573197,
                 39.07874699900003
                ],
                [
                 -86.573165,
                 39.06747399900007
                ],
                [
                 -86.573579,
                 39.06646499900006
                ],
                [
                 -86.573696,
                 39.06542899900006
                ],
                [
                 -86.573183,
                 39.04852199900006
                ],
                [
                 -86.5736,
                 39.01382999900005
                ],
                [
                 -86.573548,
                 38.992146999000056
                ],
                [
                 -86.58789,
                 38.99221299900006
                ],
                [
                 -86.595231,
                 38.99201099900006
                ],
                [
                 -86.606579,
                 38.992138999000076
                ],
                [
                 -86.609404,
                 38.99202499800003
                ],
                [
                 -86.621665,
                 38.99221199900006
                ],
                [
                 -86.68227700099999,
                 38.99240399900003
                ],
                [
                 -86.682091,
                 39.062364
                ],
                [
                 -86.68240099899998,
                 39.07984599900004
                ],
                [
                 -86.682302,
                 39.08668999900004
                ],
                [
                 -86.68300199899994,
                 39.165745998000034
                ],
                [
                 -86.639778,
                 39.16535599800005
                ],
                [
                 -86.629145,
                 39.16504899900008
                ],
                [
                 -86.610547,
                 39.16490899900003
                ]
               ]
              ]
             ],
             "type": "MultiPolygon"
            },
            "id": "1108",
            "properties": {},
            "type": "Feature"
           },
           {
            "bbox": [
             -86.659167,
             39.209078,
             -86.611361,
             39.25239
            ],
            "geometry": {
             "coordinates": [
              [
               [
                [
                 -86.65398299899994,
                 39.252372999000045
                ],
                [
                 -86.65211499899993,
                 39.25041899900003
                ],
                [
                 -86.64495299899994,
                 39.246551999000076
                ],
                [
                 -86.642601,
                 39.245974999000055
                ],
                [
                 -86.636957,
                 39.24575999900003
                ],
                [
                 -86.63537999899995,
                 39.24519199900004
                ],
                [
                 -86.634573,
                 39.24443499900008
                ],
                [
                 -86.628237,
                 39.236192999000025
                ],
                [
                 -86.614151,
                 39.22640699900006
                ],
                [
                 -86.611558,
                 39.220799999000064
                ],
                [
                 -86.612155,
                 39.22085099900005
                ],
                [
                 -86.611892,
                 39.22032099900008
                ],
                [
                 -86.611887,
                 39.21760099900007
                ],
                [
                 -86.611361,
                 39.21561299900003
                ],
                [
                 -86.611391,
                 39.209078
                ],
                [
                 -86.61608,
                 39.210305
                ],
                [
                 -86.61922,
                 39.21073899900006
                ],
                [
                 -86.624073,
                 39.21206199900007
                ],
                [
                 -86.627208,
                 39.213455999000075
                ],
                [
                 -86.630405,
                 39.21521499900007
                ],
                [
                 -86.630409,
                 39.21650499900005
                ],
                [
                 -86.658727,
                 39.216871999000034
                ],
                [
                 -86.659167,
                 39.25239
                ],
                [
                 -86.65398299899994,
                 39.252372999000045
                ]
               ]
              ]
             ],
             "type": "MultiPolygon"
            },
            "id": "1109",
            "properties": {},
            "type": "Feature"
           },
           {
            "bbox": [
             -86.548732,
             39.13595399900004,
             -86.5151,
             39.153309999000044
            ],
            "geometry": {
             "coordinates": [
              [
               [
                [
                 -86.522622,
                 39.15053099900007
                ],
                [
                 -86.515127,
                 39.150543999000035
                ],
                [
                 -86.5151,
                 39.148266
                ],
                [
                 -86.517488,
                 39.14827999900007
                ],
                [
                 -86.51739499899998,
                 39.14331499900004
                ],
                [
                 -86.516403,
                 39.14288399900005
                ],
                [
                 -86.515608,
                 39.14114599900006
                ],
                [
                 -86.515571,
                 39.140509
                ],
                [
                 -86.51576,
                 39.14033199900007
                ],
                [
                 -86.517092,
                 39.14031299900006
                ],
                [
                 -86.517591,
                 39.13994499900008
                ],
                [
                 -86.517479,
                 39.13599099900006
                ],
                [
                 -86.526891,
                 39.136004
                ],
                [
                 -86.535062,
                 39.13595399900004
                ],
                [
                 -86.548732,
                 39.13633499900004
                ],
                [
                 -86.541808,
                 39.143406999000035
                ],
                [
                 -86.539183,
                 39.145983999000066
                ],
                [
                 -86.53887600099995,
                 39.146073999000066
                ],
                [
                 -86.53880400099996,
                 39.14962899900007
                ],
                [
                 -86.538787,
                 39.150599999000065
                ],
                [
                 -86.5363,
                 39.15068899900007
                ],
                [
                 -86.53626,
                 39.153309999000044
                ],
                [
                 -86.535547,
                 39.14955099900004
                ],
                [
                 -86.534724,
                 39.148681
                ],
                [
                 -86.53519899899999,
                 39.14981399900006
                ],
                [
                 -86.535231,
                 39.15053699900005
                ],
                [
                 -86.522622,
                 39.15053099900007
                ]
               ]
              ]
             ],
             "type": "MultiPolygon"
            },
            "id": "1110",
            "properties": {},
            "type": "Feature"
           },
           {
            "bbox": [
             -86.573183,
             39.12144699900006,
             -86.52665,
             39.136791999000025
            ],
            "geometry": {
             "coordinates": [
              [
               [
                [
                 -86.548732,
                 39.13633499900004
                ],
                [
                 -86.535062,
                 39.13595399900004
                ],
                [
                 -86.526891,
                 39.136004
                ],
                [
                 -86.52665,
                 39.12144699900006
                ],
                [
                 -86.535504,
                 39.12146499900007
                ],
                [
                 -86.558373,
                 39.122133
                ],
                [
                 -86.56067199899996,
                 39.12199899900003
                ],
                [
                 -86.560787,
                 39.122134999000025
                ],
                [
                 -86.562487,
                 39.122175999000035
                ],
                [
                 -86.571386,
                 39.12223499900006
                ],
                [
                 -86.57254499899994,
                 39.12484399900006
                ],
                [
                 -86.57307299899998,
                 39.12734699900005
                ],
                [
                 -86.573183,
                 39.136791999000025
                ],
                [
                 -86.548732,
                 39.13633499900004
                ]
               ]
              ]
             ],
             "type": "MultiPolygon"
            },
            "id": "1120",
            "properties": {},
            "type": "Feature"
           },
           {
            "bbox": [
             -86.53857099899994,
             39.16848199900005,
             -86.520994,
             39.18631299900005
            ],
            "geometry": {
             "coordinates": [
              [
               [
                [
                 -86.528396,
                 39.18629199900005
                ],
                [
                 -86.528326,
                 39.179008999000075
                ],
                [
                 -86.521096,
                 39.17902299900004
                ],
                [
                 -86.521014,
                 39.174089
                ],
                [
                 -86.520994,
                 39.17161699900004
                ],
                [
                 -86.523503,
                 39.171635999000046
                ],
                [
                 -86.523484,
                 39.16848199900005
                ],
                [
                 -86.526955,
                 39.16850199900006
                ],
                [
                 -86.52696700099995,
                 39.17256199900004
                ],
                [
                 -86.533595,
                 39.17252699900007
                ],
                [
                 -86.533583,
                 39.17327499900006
                ],
                [
                 -86.53857099899994,
                 39.17326999900007
                ],
                [
                 -86.538506,
                 39.17416699900008
                ],
                [
                 -86.53810299899999,
                 39.174843999000075
                ],
                [
                 -86.53851399899997,
                 39.175057999000046
                ],
                [
                 -86.538506,
                 39.17660999800006
                ],
                [
                 -86.537725,
                 39.17660899800006
                ],
                [
                 -86.537717,
                 39.175969999000074
                ],
                [
                 -86.536,
                 39.17596499900003
                ],
                [
                 -86.535934,
                 39.178997999000046
                ],
                [
                 -86.534698,
                 39.17899199900006
                ],
                [
                 -86.534508,
                 39.18631299900005
                ],
                [
                 -86.528396,
                 39.18629199900005
                ]
               ]
              ]
             ],
             "type": "MultiPolygon"
            },
            "id": "1121",
            "properties": {},
            "type": "Feature"
           },
           {
            "bbox": [
             -86.502242,
             39.16422599900005,
             -86.462596,
             39.185897999000076
            ],
            "geometry": {
             "coordinates": [
              [
               [
                [
                 -86.462596,
                 39.16658599900006
                ],
                [
                 -86.467243,
                 39.166232
                ],
                [
                 -86.47154,
                 39.16450499900003
                ],
                [
                 -86.47264,
                 39.16427299900005
                ],
                [
                 -86.498296,
                 39.16422599900005
                ],
                [
                 -86.501747,
                 39.170655999000076
                ],
                [
                 -86.502242,
                 39.17154899900004
                ],
                [
                 -86.49008,
                 39.17153199900008
                ],
                [
                 -86.485947,
                 39.172029999000074
                ],
                [
                 -86.48429,
                 39.17200599900008
                ],
                [
                 -86.483332,
                 39.17222699900003
                ],
                [
                 -86.482586,
                 39.17279399900008
                ],
                [
                 -86.481334,
                 39.17511599900007
                ],
                [
                 -86.473898,
                 39.17950899900006
                ],
                [
                 -86.468869,
                 39.18552
                ],
                [
                 -86.467341,
                 39.185842999000045
                ],
                [
                 -86.462778,
                 39.185897999000076
                ],
                [
                 -86.462596,
                 39.16658599900006
                ]
               ]
              ]
             ],
             "type": "MultiPolygon"
            },
            "id": "1122",
            "properties": {},
            "type": "Feature"
           },
           {
            "bbox": [
             -86.498296,
             39.14903899900003,
             -86.462197,
             39.16658599900006
            ],
            "geometry": {
             "coordinates": [
              [
               [
                [
                 -86.462197,
                 39.14903899900003
                ],
                [
                 -86.463345,
                 39.149522999000055
                ],
                [
                 -86.463469,
                 39.15032899900007
                ],
                [
                 -86.46378599899998,
                 39.15049799900004
                ],
                [
                 -86.480461,
                 39.150209999000026
                ],
                [
                 -86.498245,
                 39.150471
                ],
                [
                 -86.497709,
                 39.151252
                ],
                [
                 -86.497639,
                 39.153417999000055
                ],
                [
                 -86.497869,
                 39.15812599900005
                ],
                [
                 -86.49773499899999,
                 39.161132999000074
                ],
                [
                 -86.498296,
                 39.16422599900005
                ],
                [
                 -86.47264,
                 39.16427299900005
                ],
                [
                 -86.47154,
                 39.16450499900003
                ],
                [
                 -86.467243,
                 39.166232
                ],
                [
                 -86.462596,
                 39.16658599900006
                ],
                [
                 -86.462197,
                 39.14903899900003
                ]
               ]
              ]
             ],
             "type": "MultiPolygon"
            },
            "id": "1123",
            "properties": {},
            "type": "Feature"
           },
           {
            "bbox": [
             -86.614151,
             39.187969999000074,
             -86.57359500099994,
             39.22640699900006
            ],
            "geometry": {
             "coordinates": [
              [
               [
                [
                 -86.573725,
                 39.207673999000065
                ],
                [
                 -86.57359500099994,
                 39.187969999000074
                ],
                [
                 -86.58206199899996,
                 39.19000899900004
                ],
                [
                 -86.586063,
                 39.19238599900007
                ],
                [
                 -86.590859,
                 39.19367599900005
                ],
                [
                 -86.593419,
                 39.195405
                ],
                [
                 -86.596554,
                 39.19628099900007
                ],
                [
                 -86.599153,
                 39.19820199900005
                ],
                [
                 -86.602075,
                 39.20163399900008
                ],
                [
                 -86.604088,
                 39.20444899900008
                ],
                [
                 -86.605885,
                 39.20813499900004
                ],
                [
                 -86.610379,
                 39.20830899900005
                ],
                [
                 -86.611377,
                 39.20860799900004
                ],
                [
                 -86.611391,
                 39.209078
                ],
                [
                 -86.611361,
                 39.21561299900003
                ],
                [
                 -86.611887,
                 39.21760099900007
                ],
                [
                 -86.611892,
                 39.22032099900008
                ],
                [
                 -86.612155,
                 39.22085099900005
                ],
                [
                 -86.611558,
                 39.220799999000064
                ],
                [
                 -86.614151,
                 39.22640699900006
                ],
                [
                 -86.611688,
                 39.22473099900003
                ],
                [
                 -86.599467,
                 39.21760199900007
                ],
                [
                 -86.597737,
                 39.21694199900003
                ],
                [
                 -86.59363099899997,
                 39.215771999000026
                ],
                [
                 -86.589791,
                 39.21300699900007
                ],
                [
                 -86.585891,
                 39.211699999000075
                ],
                [
                 -86.584198,
                 39.21084599900007
                ],
                [
                 -86.58098899899994,
                 39.20874699900003
                ],
                [
                 -86.57993100099998,
                 39.207771999000045
                ],
                [
                 -86.577821,
                 39.20809399900003
                ],
                [
                 -86.57538500099997,
                 39.20797299900005
                ],
                [
                 -86.573725,
                 39.207673999000065
                ]
               ]
              ]
             ],
             "type": "MultiPolygon"
            },
            "id": "1142",
            "properties": {},
            "type": "Feature"
           },
           {
            "bbox": [
             -86.526891,
             39.10685599900006,
             -86.461847,
             39.15049799900004
            ],
            "geometry": {
             "coordinates": [
              [
               [
                [
                 -86.462197,
                 39.14903899900003
                ],
                [
                 -86.461847,
                 39.10685599900006
                ],
                [
                 -86.46208699899995,
                 39.10753499900005
                ],
                [
                 -86.463411,
                 39.108604
                ],
                [
                 -86.464723,
                 39.11123099900004
                ],
                [
                 -86.467294,
                 39.11396699900007
                ],
                [
                 -86.4711,
                 39.11502899900006
                ],
                [
                 -86.475127,
                 39.115567
                ],
                [
                 -86.47616300099997,
                 39.11615999900005
                ],
                [
                 -86.476876,
                 39.117087999000034
                ],
                [
                 -86.480934,
                 39.11934799900007
                ],
                [
                 -86.48326400099995,
                 39.12008999900007
                ],
                [
                 -86.484189,
                 39.12017799900008
                ],
                [
                 -86.485231,
                 39.12068499900005
                ],
                [
                 -86.48998600099998,
                 39.121376
                ],
                [
                 -86.52665,
                 39.12144699900006
                ],
                [
                 -86.526891,
                 39.136004
                ],
                [
                 -86.517479,
                 39.13599099900006
                ],
                [
                 -86.509454,
                 39.136004
                ],
                [
                 -86.50818400099996,
                 39.13647999900007
                ],
                [
                 -86.50799599899995,
                 39.136363999000025
                ],
                [
                 -86.504884,
                 39.13640699900003
                ],
                [
                 -86.50290000099994,
                 39.13597799900003
                ],
                [
                 -86.48098799899998,
                 39.135717999000065
                ],
                [
                 -86.48038299899997,
                 39.13663299900003
                ],
                [
                 -86.480461,
                 39.150209999000026
                ],
                [
                 -86.46378599899998,
                 39.15049799900004
                ],
                [
                 -86.463469,
                 39.15032899900007
                ],
                [
                 -86.463345,
                 39.149522999000055
                ],
                [
                 -86.462197,
                 39.14903899900003
                ]
               ]
              ]
             ],
             "type": "MultiPolygon"
            },
            "id": "1143",
            "properties": {},
            "type": "Feature"
           },
           {
            "bbox": [
             -86.573509,
             39.07856299900004,
             -86.52649500099994,
             39.12223499900006
            ],
            "geometry": {
             "coordinates": [
              [
               [
                [
                 -86.571386,
                 39.12223499900006
                ],
                [
                 -86.562487,
                 39.122175999000035
                ],
                [
                 -86.560787,
                 39.122134999000025
                ],
                [
                 -86.56067199899996,
                 39.12199899900003
                ],
                [
                 -86.558373,
                 39.122133
                ],
                [
                 -86.535504,
                 39.12146499900007
                ],
                [
                 -86.52665,
                 39.12144699900006
                ],
                [
                 -86.52649500099994,
                 39.107187999000075
                ],
                [
                 -86.5315,
                 39.107232999000075
                ],
                [
                 -86.532188,
                 39.104861999000036
                ],
                [
                 -86.534116,
                 39.10242899900004
                ],
                [
                 -86.53605300099997,
                 39.10105899900003
                ],
                [
                 -86.537757,
                 39.099401999000065
                ],
                [
                 -86.541695,
                 39.09650299900005
                ],
                [
                 -86.54238,
                 39.09579399900008
                ],
                [
                 -86.544061,
                 39.09318699900007
                ],
                [
                 -86.544379,
                 39.091953999000054
                ],
                [
                 -86.54422899899998,
                 39.091093999000066
                ],
                [
                 -86.542262,
                 39.086217
                ],
                [
                 -86.542282,
                 39.08585099900006
                ],
                [
                 -86.542731,
                 39.085256
                ],
                [
                 -86.543007,
                 39.08458199800003
                ],
                [
                 -86.541309,
                 39.083277999000074
                ],
                [
                 -86.540918,
                 39.082280999000034
                ],
                [
                 -86.541272,
                 39.07963599900006
                ],
                [
                 -86.541727,
                 39.07856299900004
                ],
                [
                 -86.56470200099994,
                 39.078573998000024
                ],
                [
                 -86.573197,
                 39.07874699900003
                ],
                [
                 -86.573509,
                 39.106474999000056
                ],
                [
                 -86.573411,
                 39.12222699900008
                ],
                [
                 -86.571386,
                 39.12223499900006
                ]
               ]
              ]
             ],
             "type": "MultiPolygon"
            },
            "id": "1144",
            "properties": {},
            "type": "Feature"
           },
           {
            "bbox": [
             -86.65398299899994,
             39.207673999000065,
             -86.573725,
             39.25250999800005
            ],
            "geometry": {
             "coordinates": [
              [
               [
                [
                 -86.573885,
                 39.25168799900007
                ],
                [
                 -86.573725,
                 39.207673999000065
                ],
                [
                 -86.57538500099997,
                 39.20797299900005
                ],
                [
                 -86.577821,
                 39.20809399900003
                ],
                [
                 -86.57993100099998,
                 39.207771999000045
                ],
                [
                 -86.58098899899994,
                 39.20874699900003
                ],
                [
                 -86.584198,
                 39.21084599900007
                ],
                [
                 -86.585891,
                 39.211699999000075
                ],
                [
                 -86.589791,
                 39.21300699900007
                ],
                [
                 -86.59363099899997,
                 39.215771999000026
                ],
                [
                 -86.597737,
                 39.21694199900003
                ],
                [
                 -86.599467,
                 39.21760199900007
                ],
                [
                 -86.611688,
                 39.22473099900003
                ],
                [
                 -86.614151,
                 39.22640699900006
                ],
                [
                 -86.628237,
                 39.236192999000025
                ],
                [
                 -86.634573,
                 39.24443499900008
                ],
                [
                 -86.63537999899995,
                 39.24519199900004
                ],
                [
                 -86.636957,
                 39.24575999900003
                ],
                [
                 -86.642601,
                 39.245974999000055
                ],
                [
                 -86.64495299899994,
                 39.246551999000076
                ],
                [
                 -86.65211499899993,
                 39.25041899900003
                ],
                [
                 -86.65398299899994,
                 39.252372999000045
                ],
                [
                 -86.640996,
                 39.252245999000024
                ],
                [
                 -86.63942600099995,
                 39.25235999900008
                ],
                [
                 -86.635022,
                 39.252184999000065
                ],
                [
                 -86.634664,
                 39.25234099900007
                ],
                [
                 -86.624997,
                 39.25250999800005
                ],
                [
                 -86.621145,
                 39.252065999000024
                ],
                [
                 -86.573885,
                 39.25168799900007
                ]
               ]
              ]
             ],
             "type": "MultiPolygon"
            },
            "id": "1159",
            "properties": {},
            "type": "Feature"
           },
           {
            "bbox": [
             -86.555217,
             39.17153199900008,
             -86.463268,
             39.23412099900003
            ],
            "geometry": {
             "coordinates": [
              [
               [
                [
                 -86.463525,
                 39.21272799900004
                ],
                [
                 -86.463268,
                 39.210030999000026
                ],
                [
                 -86.463297,
                 39.20416699900005
                ],
                [
                 -86.466532,
                 39.202660999000045
                ],
                [
                 -86.467884,
                 39.200358
                ],
                [
                 -86.467777,
                 39.19310799900006
                ],
                [
                 -86.468182,
                 39.192064999000024
                ],
                [
                 -86.468028,
                 39.186961
                ],
                [
                 -86.46829900099993,
                 39.18620899900003
                ],
                [
                 -86.468869,
                 39.18552
                ],
                [
                 -86.473898,
                 39.17950899900006
                ],
                [
                 -86.481334,
                 39.17511599900007
                ],
                [
                 -86.482586,
                 39.17279399900008
                ],
                [
                 -86.483332,
                 39.17222699900003
                ],
                [
                 -86.48429,
                 39.17200599900008
                ],
                [
                 -86.485947,
                 39.172029999000074
                ],
                [
                 -86.49008,
                 39.17153199900008
                ],
                [
                 -86.502242,
                 39.17154899900004
                ],
                [
                 -86.505083,
                 39.176813999000046
                ],
                [
                 -86.506801,
                 39.179294999000035
                ],
                [
                 -86.508694,
                 39.18116199900004
                ],
                [
                 -86.511389,
                 39.18308299800003
                ],
                [
                 -86.514853,
                 39.18471899900004
                ],
                [
                 -86.518708,
                 39.18580399900003
                ],
                [
                 -86.522163,
                 39.186239
                ],
                [
                 -86.528396,
                 39.18629199900005
                ],
                [
                 -86.534508,
                 39.18631299900005
                ],
                [
                 -86.541339,
                 39.18675999900006
                ],
                [
                 -86.555217,
                 39.187238999000044
                ],
                [
                 -86.553946,
                 39.205249999000046
                ],
                [
                 -86.554181,
                 39.21229899900004
                ],
                [
                 -86.553963,
                 39.21433299900008
                ],
                [
                 -86.553172,
                 39.21645599900006
                ],
                [
                 -86.55243799899995,
                 39.217618
                ],
                [
                 -86.541371,
                 39.23412099900003
                ],
                [
                 -86.540732,
                 39.23281399900003
                ],
                [
                 -86.540859,
                 39.22976299900006
                ],
                [
                 -86.54055,
                 39.22730799900006
                ],
                [
                 -86.53543499899996,
                 39.21023099900003
                ],
                [
                 -86.534849,
                 39.20710799900007
                ],
                [
                 -86.531466,
                 39.208105999000054
                ],
                [
                 -86.529408,
                 39.20816799900007
                ],
                [
                 -86.52872399899996,
                 39.208018999000046
                ],
                [
                 -86.52866699899994,
                 39.20607599900006
                ],
                [
                 -86.527909,
                 39.206148
                ],
                [
                 -86.524648,
                 39.20486499900005
                ],
                [
                 -86.52263700099996,
                 39.20445499900006
                ],
                [
                 -86.521037,
                 39.202638999000044
                ],
                [
                 -86.515526,
                 39.199621999000044
                ],
                [
                 -86.51390599899997,
                 39.19800699900003
                ],
                [
                 -86.51321999899994,
                 39.19677799900006
                ],
                [
                 -86.513752,
                 39.198300999000026
                ],
                [
                 -86.514651,
                 39.19970999900005
                ],
                [
                 -86.51460399899997,
                 39.20066699900008
                ],
                [
                 -86.513228,
                 39.20081999900003
                ],
                [
                 -86.511886,
                 39.201295
                ],
                [
                 -86.511308,
                 39.201686
                ],
                [
                 -86.510438,
                 39.203346999000075
                ],
                [
                 -86.506735,
                 39.205043999000054
                ],
                [
                 -86.50545400099998,
                 39.20829299900004
                ],
                [
                 -86.505409,
                 39.21279799900003
                ],
                [
                 -86.502474,
                 39.211676999000076
                ],
                [
                 -86.49877,
                 39.21169599900003
                ],
                [
                 -86.49448199899996,
                 39.21208799900006
                ],
                [
                 -86.491565,
                 39.21290999900003
                ],
                [
                 -86.489574,
                 39.21268099900004
                ],
                [
                 -86.487252,
                 39.21292299800007
                ],
                [
                 -86.48440900099996,
                 39.21413699900006
                ],
                [
                 -86.481539,
                 39.21430599900003
                ],
                [
                 -86.480187,
                 39.21401399900003
                ],
                [
                 -86.478989,
                 39.21408499900008
                ],
                [
                 -86.477415,
                 39.214874999000074
                ],
                [
                 -86.468511,
                 39.21489199900003
                ],
                [
                 -86.468012,
                 39.21481299900006
                ],
                [
                 -86.463525,
                 39.21272799900004
                ]
               ]
              ]
             ],
             "type": "MultiPolygon"
            },
            "id": "1174",
            "properties": {},
            "type": "Feature"
           },
           {
            "bbox": [
             -86.517591,
             39.135717999000065,
             -86.48038299899997,
             39.150543999000035
            ],
            "geometry": {
             "coordinates": [
              [
               [
                [
                 -86.508424,
                 39.150449999000045
                ],
                [
                 -86.498245,
                 39.150471
                ],
                [
                 -86.480461,
                 39.150209999000026
                ],
                [
                 -86.48038299899997,
                 39.13663299900003
                ],
                [
                 -86.48098799899998,
                 39.135717999000065
                ],
                [
                 -86.50290000099994,
                 39.13597799900003
                ],
                [
                 -86.504884,
                 39.13640699900003
                ],
                [
                 -86.50799599899995,
                 39.136363999000025
                ],
                [
                 -86.50818400099996,
                 39.13647999900007
                ],
                [
                 -86.509454,
                 39.136004
                ],
                [
                 -86.517479,
                 39.13599099900006
                ],
                [
                 -86.517591,
                 39.13994499900008
                ],
                [
                 -86.517092,
                 39.14031299900006
                ],
                [
                 -86.51576,
                 39.14033199900007
                ],
                [
                 -86.515571,
                 39.140509
                ],
                [
                 -86.515608,
                 39.14114599900006
                ],
                [
                 -86.516403,
                 39.14288399900005
                ],
                [
                 -86.51739499899998,
                 39.14331499900004
                ],
                [
                 -86.517488,
                 39.14827999900007
                ],
                [
                 -86.5151,
                 39.148266
                ],
                [
                 -86.515127,
                 39.150543999000035
                ],
                [
                 -86.508424,
                 39.150449999000045
                ]
               ]
              ]
             ],
             "type": "MultiPolygon"
            },
            "id": "1175",
            "properties": {},
            "type": "Feature"
           },
           {
            "bbox": [
             -86.574332,
             39.25090299900006,
             -86.464045,
             39.33968099900005
            ],
            "geometry": {
             "coordinates": [
              [
               [
                [
                 -86.492904,
                 39.33864299900006
                ],
                [
                 -86.474008,
                 39.338681
                ],
                [
                 -86.465115,
                 39.33829999900007
                ],
                [
                 -86.46438699899994,
                 39.309291
                ],
                [
                 -86.464746,
                 39.30920799900008
                ],
                [
                 -86.465042,
                 39.29444899900005
                ],
                [
                 -86.464416,
                 39.279654
                ],
                [
                 -86.464045,
                 39.25090299900006
                ],
                [
                 -86.471005,
                 39.251047999000036
                ],
                [
                 -86.47278,
                 39.25091199900004
                ],
                [
                 -86.47642,
                 39.25118599900003
                ],
                [
                 -86.49724500099995,
                 39.25144699900005
                ],
                [
                 -86.502309,
                 39.25167399900005
                ],
                [
                 -86.50961100099994,
                 39.25143999900007
                ],
                [
                 -86.528981,
                 39.251336
                ],
                [
                 -86.55485899899998,
                 39.25157599900007
                ],
                [
                 -86.553753,
                 39.25167199900005
                ],
                [
                 -86.553491,
                 39.251891999000065
                ],
                [
                 -86.553435,
                 39.252484999000046
                ],
                [
                 -86.554162,
                 39.25282099900005
                ],
                [
                 -86.555582,
                 39.253006999000036
                ],
                [
                 -86.556282,
                 39.25357899900007
                ],
                [
                 -86.55619700099999,
                 39.254007
                ],
                [
                 -86.555179,
                 39.25429299900003
                ],
                [
                 -86.55472,
                 39.254627999000036
                ],
                [
                 -86.554706,
                 39.255006999000045
                ],
                [
                 -86.555434,
                 39.255331
                ],
                [
                 -86.556889,
                 39.25528199900003
                ],
                [
                 -86.557363,
                 39.25544099900003
                ],
                [
                 -86.557482,
                 39.257188
                ],
                [
                 -86.556762,
                 39.25943999900005
                ],
                [
                 -86.556387,
                 39.25998399900004
                ],
                [
                 -86.555864,
                 39.260147999000026
                ],
                [
                 -86.553497,
                 39.258867999000074
                ],
                [
                 -86.552635,
                 39.258807999000055
                ],
                [
                 -86.552141,
                 39.259115
                ],
                [
                 -86.552112,
                 39.259708999000054
                ],
                [
                 -86.55282600099997,
                 39.2605
                ],
                [
                 -86.554522,
                 39.26041699900003
                ],
                [
                 -86.555801,
                 39.26099399900005
                ],
                [
                 -86.55686,
                 39.262207999000054
                ],
                [
                 -86.55772199899997,
                 39.26266399900004
                ],
                [
                 -86.557277,
                 39.26319699800007
                ],
                [
                 -86.55746800099996,
                 39.263899999000046
                ],
                [
                 -86.55905099899996,
                 39.26478499900003
                ],
                [
                 -86.55869,
                 39.26542199900007
                ],
                [
                 -86.557588,
                 39.265756999000075
                ],
                [
                 -86.55715,
                 39.266278999000065
                ],
                [
                 -86.55703,
                 39.26655899900004
                ],
                [
                 -86.557404,
                 39.26853599900005
                ],
                [
                 -86.557885,
                 39.268755999000064
                ],
                [
                 -86.558733,
                 39.268552999000065
                ],
                [
                 -86.560125,
                 39.268519999000034
                ],
                [
                 -86.561418,
                 39.26794299900007
                ],
                [
                 -86.562492,
                 39.26768499900004
                ],
                [
                 -86.562895,
                 39.26736599900005
                ],
                [
                 -86.562704,
                 39.26616899900006
                ],
                [
                 -86.563679,
                 39.26593299900003
                ],
                [
                 -86.56435,
                 39.266668999000046
                ],
                [
                 -86.56468300099993,
                 39.268623999000056
                ],
                [
                 -86.563517,
                 39.26968999800005
                ],
                [
                 -86.563983,
                 39.27004199800007
                ],
                [
                 -86.564478,
                 39.27008599900006
                ],
                [
                 -86.565057,
                 39.26973399900004
                ],
                [
                 -86.565707,
                 39.26750899900003
                ],
                [
                 -86.56635,
                 39.26676199900004
                ],
                [
                 -86.56938200099995,
                 39.266300999000066
                ],
                [
                 -86.569608,
                 39.26648699900005
                ],
                [
                 -86.569559,
                 39.26731699900006
                ],
                [
                 -86.568739,
                 39.26961299800007
                ],
                [
                 -86.56858399899994,
                 39.27063499900004
                ],
                [
                 -86.567177,
                 39.272150999000075
                ],
                [
                 -86.567411,
                 39.273996999000076
                ],
                [
                 -86.56702200099994,
                 39.27520499900004
                ],
                [
                 -86.567199,
                 39.27535899900005
                ],
                [
                 -86.567644,
                 39.275314999000045
                ],
                [
                 -86.568506,
                 39.274440999000035
                ],
                [
                 -86.56934,
                 39.27427699900005
                ],
                [
                 -86.56968,
                 39.27453999900007
                ],
                [
                 -86.56996899899997,
                 39.27546299900007
                ],
                [
                 -86.57080300099994,
                 39.276313999000024
                ],
                [
                 -86.571475,
                 39.27670999800006
                ],
                [
                 -86.572083,
                 39.276725999000064
                ],
                [
                 -86.572931,
                 39.27648499900005
                ],
                [
                 -86.574114,
                 39.27582799900006
                ],
                [
                 -86.574332,
                 39.30085599900008
                ],
                [
                 -86.57412499899993,
                 39.31327199900005
                ],
                [
                 -86.57428,
                 39.33968099900005
                ],
                [
                 -86.53505800099998,
                 39.338995999000076
                ],
                [
                 -86.492904,
                 39.33864299900006
                ]
               ]
              ]
             ],
             "type": "MultiPolygon"
            },
            "id": "1176",
            "properties": {},
            "type": "Feature"
           },
           {
            "bbox": [
             -86.685758,
             39.164566999000044,
             -86.561486,
             39.355701999000075
            ],
            "geometry": {
             "coordinates": [
              [
               [
                [
                 -86.63081799899999,
                 39.346947999000065
                ],
                [
                 -86.630844,
                 39.34075499800008
                ],
                [
                 -86.607185,
                 39.340133999000045
                ],
                [
                 -86.57428,
                 39.33968099900005
                ],
                [
                 -86.57412499899993,
                 39.31327199900005
                ],
                [
                 -86.574332,
                 39.30085599900008
                ],
                [
                 -86.574114,
                 39.27582799900006
                ],
                [
                 -86.573885,
                 39.25168799900007
                ],
                [
                 -86.621145,
                 39.252065999000024
                ],
                [
                 -86.624997,
                 39.25250999800005
                ],
                [
                 -86.634664,
                 39.25234099900007
                ],
                [
                 -86.635022,
                 39.252184999000065
                ],
                [
                 -86.63942600099995,
                 39.25235999900008
                ],
                [
                 -86.640996,
                 39.252245999000024
                ],
                [
                 -86.65398299899994,
                 39.252372999000045
                ],
                [
                 -86.659167,
                 39.25239
                ],
                [
                 -86.658727,
                 39.216871999000034
                ],
                [
                 -86.630409,
                 39.21650499900005
                ],
                [
                 -86.630405,
                 39.21521499900007
                ],
                [
                 -86.627208,
                 39.213455999000075
                ],
                [
                 -86.624073,
                 39.21206199900007
                ],
                [
                 -86.61922,
                 39.21073899900006
                ],
                [
                 -86.61608,
                 39.210305
                ],
                [
                 -86.611391,
                 39.209078
                ],
                [
                 -86.611377,
                 39.20860799900004
                ],
                [
                 -86.610379,
                 39.20830899900005
                ],
                [
                 -86.605885,
                 39.20813499900004
                ],
                [
                 -86.604088,
                 39.20444899900008
                ],
                [
                 -86.602075,
                 39.20163399900008
                ],
                [
                 -86.599153,
                 39.19820199900005
                ],
                [
                 -86.596554,
                 39.19628099900007
                ],
                [
                 -86.593419,
                 39.195405
                ],
                [
                 -86.590859,
                 39.19367599900005
                ],
                [
                 -86.586063,
                 39.19238599900007
                ],
                [
                 -86.58206199899996,
                 39.19000899900004
                ],
                [
                 -86.57359500099994,
                 39.187969999000074
                ],
                [
                 -86.57245,
                 39.187075
                ],
                [
                 -86.56932799899994,
                 39.182964999000035
                ],
                [
                 -86.567252,
                 39.18172899900003
                ],
                [
                 -86.56393,
                 39.179182999000034
                ],
                [
                 -86.561571,
                 39.17843399900005
                ],
                [
                 -86.561486,
                 39.17788999900006
                ],
                [
                 -86.56262199899999,
                 39.17682299900008
                ],
                [
                 -86.562398,
                 39.17654599900004
                ],
                [
                 -86.570253,
                 39.17100699900004
                ],
                [
                 -86.57169,
                 39.16962299900007
                ],
                [
                 -86.572811,
                 39.16786099900003
                ],
                [
                 -86.573217,
                 39.16621099900004
                ],
                [
                 -86.57328100099994,
                 39.164566999000044
                ],
                [
                 -86.610547,
                 39.16490899900003
                ],
                [
                 -86.629145,
                 39.16504899900008
                ],
                [
                 -86.639778,
                 39.16535599800005
                ],
                [
                 -86.68300199899994,
                 39.165745998000034
                ],
                [
                 -86.684772,
                 39.28163699900006
                ],
                [
                 -86.68498600099997,
                 39.28991699900007
                ],
                [
                 -86.684752,
                 39.28993899900007
                ],
                [
                 -86.685015,
                 39.292789999000036
                ],
                [
                 -86.685758,
                 39.321150999000054
                ],
                [
                 -86.68561,
                 39.33604299900003
                ],
                [
                 -86.68204100099996,
                 39.33547199900005
                ],
                [
                 -86.678254,
                 39.33309599900008
                ],
                [
                 -86.675954,
                 39.33196399900004
                ],
                [
                 -86.675118,
                 39.331754999000054
                ],
                [
                 -86.672034,
                 39.331699
                ],
                [
                 -86.66696200099994,
                 39.32925799900005
                ],
                [
                 -86.665839,
                 39.32911199800003
                ],
                [
                 -86.665512,
                 39.329286
                ],
                [
                 -86.665847,
                 39.331665
                ],
                [
                 -86.665167,
                 39.333074999000075
                ],
                [
                 -86.66453000099995,
                 39.333771
                ],
                [
                 -86.66377299899995,
                 39.334148999000035
                ],
                [
                 -86.662976,
                 39.33424199800004
                ],
                [
                 -86.66228300099993,
                 39.33409699900005
                ],
                [
                 -86.661691,
                 39.33392099900004
                ],
                [
                 -86.661122,
                 39.33347499900003
                ],
                [
                 -86.660614,
                 39.33287099900008
                ],
                [
                 -86.659848,
                 39.33085499900005
                ],
                [
                 -86.658776,
                 39.330099
                ],
                [
                 -86.65762800099998,
                 39.33010999900006
                ],
                [
                 -86.65638,
                 39.33064599900007
                ],
                [
                 -86.65550699899995,
                 39.33147599900008
                ],
                [
                 -86.655067,
                 39.33264399900003
                ],
                [
                 -86.655062,
                 39.33379099800004
                ],
                [
                 -86.655518,
                 39.33525399800004
                ],
                [
                 -86.655596,
                 39.33698499900004
                ],
                [
                 -86.656012,
                 39.33867299900004
                ],
                [
                 -86.655335,
                 39.33999799900005
                ],
                [
                 -86.655794,
                 39.340853999000046
                ],
                [
                 -86.65661599899994,
                 39.34138899900006
                ],
                [
                 -86.657054,
                 39.342366999000035
                ],
                [
                 -86.659137,
                 39.344337
                ],
                [
                 -86.65928799899996,
                 39.344748999000046
                ],
                [
                 -86.658911,
                 39.34725199900004
                ],
                [
                 -86.658642,
                 39.34783299900005
                ],
                [
                 -86.658721,
                 39.34951999900005
                ],
                [
                 -86.658398,
                 39.350283999000055
                ],
                [
                 -86.65596,
                 39.351288999000076
                ],
                [
                 -86.655002,
                 39.35189299900003
                ],
                [
                 -86.653425,
                 39.35433899900005
                ],
                [
                 -86.652465,
                 39.35519099900006
                ],
                [
                 -86.651551,
                 39.355593
                ],
                [
                 -86.650479,
                 39.355701999000075
                ],
                [
                 -86.649524,
                 39.355518998000036
                ],
                [
                 -86.64819499899994,
                 39.35477299900003
                ],
                [
                 -86.642856,
                 39.351024
                ],
                [
                 -86.642158,
                 39.350931
                ],
                [
                 -86.641658,
                 39.3506
                ],
                [
                 -86.641357,
                 39.34960299900007
                ],
                [
                 -86.640379,
                 39.34827299900007
                ],
                [
                 -86.639192,
                 39.34804499900008
                ],
                [
                 -86.638063,
                 39.34806399900003
                ],
                [
                 -86.637787,
                 39.34830999900004
                ],
                [
                 -86.63628600099997,
                 39.347656
                ],
                [
                 -86.634809,
                 39.348737999000036
                ],
                [
                 -86.63407599899995,
                 39.348783999000034
                ],
                [
                 -86.633319,
                 39.34852299900007
                ],
                [
                 -86.63081799899999,
                 39.346947999000065
                ]
               ]
              ]
             ],
             "type": "MultiPolygon"
            },
            "id": "1177",
            "properties": {},
            "type": "Feature"
           },
           {
            "bbox": [
             -86.526955,
             39.16425399900004,
             -86.506756,
             39.174089
            ],
            "geometry": {
             "coordinates": [
              [
               [
                [
                 -86.506756,
                 39.17156999900004
                ],
                [
                 -86.507211,
                 39.17133399900007
                ],
                [
                 -86.507171,
                 39.168213999000045
                ],
                [
                 -86.50945,
                 39.16823099900006
                ],
                [
                 -86.509408,
                 39.16426399900007
                ],
                [
                 -86.522628,
                 39.16425399900004
                ],
                [
                 -86.526905,
                 39.164306999000075
                ],
                [
                 -86.526955,
                 39.16850199900006
                ],
                [
                 -86.523484,
                 39.16848199900005
                ],
                [
                 -86.523503,
                 39.171635999000046
                ],
                [
                 -86.520994,
                 39.17161699900004
                ],
                [
                 -86.521014,
                 39.174089
                ],
                [
                 -86.506756,
                 39.17156999900004
                ]
               ]
              ]
             ],
             "type": "MultiPolygon"
            },
            "id": "1192",
            "properties": {},
            "type": "Feature"
           },
           {
            "bbox": [
             -86.522628,
             39.150449999000045,
             -86.508424,
             39.164265999000065
            ],
            "geometry": {
             "coordinates": [
              [
               [
                [
                 -86.509408,
                 39.16426399900007
                ],
                [
                 -86.50847700099996,
                 39.164265999000065
                ],
                [
                 -86.508424,
                 39.150449999000045
                ],
                [
                 -86.515127,
                 39.150543999000035
                ],
                [
                 -86.522622,
                 39.15053099900007
                ],
                [
                 -86.522628,
                 39.16425399900004
                ],
                [
                 -86.509408,
                 39.16426399900007
                ]
               ]
              ]
             ],
             "type": "MultiPolygon"
            },
            "id": "1193",
            "properties": {},
            "type": "Feature"
           },
           {
            "bbox": [
             -86.538787,
             39.148681,
             -86.522622,
             39.16439999900007
            ],
            "geometry": {
             "coordinates": [
              [
               [
                [
                 -86.526905,
                 39.164306999000075
                ],
                [
                 -86.522628,
                 39.16425399900004
                ],
                [
                 -86.522622,
                 39.15053099900007
                ],
                [
                 -86.535231,
                 39.15053699900005
                ],
                [
                 -86.53519899899999,
                 39.14981399900006
                ],
                [
                 -86.534724,
                 39.148681
                ],
                [
                 -86.535547,
                 39.14955099900004
                ],
                [
                 -86.53626,
                 39.153309999000044
                ],
                [
                 -86.5363,
                 39.15068899900007
                ],
                [
                 -86.538787,
                 39.150599999000065
                ],
                [
                 -86.538699,
                 39.161395999000035
                ],
                [
                 -86.528397,
                 39.161354
                ],
                [
                 -86.528448,
                 39.16385799900007
                ],
                [
                 -86.528212,
                 39.16439999900007
                ],
                [
                 -86.526905,
                 39.164306999000075
                ]
               ]
              ]
             ],
             "type": "MultiPolygon"
            },
            "id": "1194",
            "properties": {},
            "type": "Feature"
           },
           {
            "bbox": [
             -86.573246,
             39.13633499900004,
             -86.53880400099996,
             39.15613299900008
            ],
            "geometry": {
             "coordinates": [
              [
               [
                [
                 -86.53880400099996,
                 39.14962899900007
                ],
                [
                 -86.53887600099995,
                 39.146073999000066
                ],
                [
                 -86.539183,
                 39.145983999000066
                ],
                [
                 -86.541808,
                 39.143406999000035
                ],
                [
                 -86.548732,
                 39.13633499900004
                ],
                [
                 -86.573183,
                 39.136791999000025
                ],
                [
                 -86.573246,
                 39.14748499900003
                ],
                [
                 -86.568778,
                 39.14991299900004
                ],
                [
                 -86.566519,
                 39.15278999900005
                ],
                [
                 -86.561408,
                 39.15613299900008
                ],
                [
                 -86.543138,
                 39.155635999000026
                ],
                [
                 -86.53880400099996,
                 39.14962899900007
                ]
               ]
              ]
             ],
             "type": "MultiPolygon"
            },
            "id": "1195",
            "properties": {},
            "type": "Feature"
           }
          ],
          "type": "FeatureCollection"
         },
         "hovertemplate": "index=%{location}<br>disp_ave=%{z}<extra></extra>",
         "locations": [
          93,
          478,
          479,
          480,
          482,
          970,
          971,
          972,
          1070,
          1071,
          1072,
          1086,
          1108,
          1109,
          1110,
          1120,
          1121,
          1122,
          1123,
          1142,
          1143,
          1144,
          1159,
          1174,
          1175,
          1176,
          1177,
          1192,
          1193,
          1194,
          1195
         ],
         "marker": {
          "opacity": 0.6
         },
         "name": "",
         "subplot": "mapbox",
         "type": "choroplethmapbox",
         "z": [
          803.6700000000001,
          -774.5799999999999,
          811.5,
          2202.25,
          2879.58,
          4891.58,
          1206.92,
          5528.75,
          4507.5,
          4301.33,
          2184.5,
          2533.58,
          4098.25,
          2651.67,
          1730.17,
          3086.83,
          358.5,
          1133.08,
          1762.67,
          4203.42,
          3764.33,
          3706.83,
          4000.5,
          2950.42,
          5911.75,
          4450.58,
          3182.58,
          null,
          4059.42,
          1753.5,
          2318.58
         ]
        },
        {
         "hoverinfo": "text",
         "lat": [
          39.1782993528163,
          39.16725001585407,
          39.17901530832135,
          39.16011188507988,
          39.17118287781259,
          39.15889606772226,
          39.14284036486023,
          39.177161077338695,
          39.17194457434991,
          39.15751274944196,
          39.156564006297934
         ],
         "lon": [
          -86.55302588376995,
          -86.53306127955874,
          -86.51591294899178,
          -86.50348184540078,
          -86.54973341745472,
          -86.55727587134508,
          -86.5297869578457,
          -86.52928186314146,
          -86.47727446694194,
          -86.47965125612377,
          -86.530213853899
         ],
         "marker": {
          "color": "orange",
          "size": 10
         },
         "mode": "markers",
         "text": [
          "18105000602",
          "18105000100",
          "18105000201",
          "18105000901",
          "18105000601",
          "18105000401",
          "18105001101",
          "18105001600",
          "18105000903",
          "18105000904",
          "18105000301"
         ],
         "type": "scattermapbox"
        }
       ],
       "layout": {
        "coloraxis": {
         "cmax": 7000,
         "cmin": 0,
         "colorbar": {
          "dtick": 1000,
          "len": 150,
          "lenmode": "pixels",
          "thickness": 10,
          "thicknessmode": "pixels",
          "ticks": "outside",
          "title": {
           "text": "disp_ave"
          },
          "y": 0.8,
          "yanchor": "top"
         },
         "colorscale": [
          [
           0,
           "#440154"
          ],
          [
           0.1111111111111111,
           "#482878"
          ],
          [
           0.2222222222222222,
           "#3e4989"
          ],
          [
           0.3333333333333333,
           "#31688e"
          ],
          [
           0.4444444444444444,
           "#26828e"
          ],
          [
           0.5555555555555556,
           "#1f9e89"
          ],
          [
           0.6666666666666666,
           "#35b779"
          ],
          [
           0.7777777777777778,
           "#6ece58"
          ],
          [
           0.8888888888888888,
           "#b5de2b"
          ],
          [
           1,
           "#fde725"
          ]
         ]
        },
        "height": 800,
        "legend": {
         "tracegroupgap": 0
        },
        "mapbox": {
         "accesstoken": "pk.eyJ1IjoicGVldmVlNDQiLCJhIjoiY2xwb2pmaTVxMG84aTJxbmpuOTFseWg5NiJ9.l5pZpLYQce5cW7iZyPPX0g",
         "center": {
          "lat": 39.1670396,
          "lon": -86.5342881
         },
         "domain": {
          "x": [
           0,
           1
          ],
          "y": [
           0,
           1
          ]
         },
         "style": "open-street-map",
         "zoom": 10
        },
        "margin": {
         "b": 5,
         "l": 5,
         "r": 5,
         "t": 35
        },
        "template": {
         "data": {
          "bar": [
           {
            "error_x": {
             "color": "#2a3f5f"
            },
            "error_y": {
             "color": "#2a3f5f"
            },
            "marker": {
             "line": {
              "color": "#E5ECF6",
              "width": 0.5
             },
             "pattern": {
              "fillmode": "overlay",
              "size": 10,
              "solidity": 0.2
             }
            },
            "type": "bar"
           }
          ],
          "barpolar": [
           {
            "marker": {
             "line": {
              "color": "#E5ECF6",
              "width": 0.5
             },
             "pattern": {
              "fillmode": "overlay",
              "size": 10,
              "solidity": 0.2
             }
            },
            "type": "barpolar"
           }
          ],
          "carpet": [
           {
            "aaxis": {
             "endlinecolor": "#2a3f5f",
             "gridcolor": "white",
             "linecolor": "white",
             "minorgridcolor": "white",
             "startlinecolor": "#2a3f5f"
            },
            "baxis": {
             "endlinecolor": "#2a3f5f",
             "gridcolor": "white",
             "linecolor": "white",
             "minorgridcolor": "white",
             "startlinecolor": "#2a3f5f"
            },
            "type": "carpet"
           }
          ],
          "choropleth": [
           {
            "colorbar": {
             "outlinewidth": 0,
             "ticks": ""
            },
            "type": "choropleth"
           }
          ],
          "contour": [
           {
            "colorbar": {
             "outlinewidth": 0,
             "ticks": ""
            },
            "colorscale": [
             [
              0,
              "#0d0887"
             ],
             [
              0.1111111111111111,
              "#46039f"
             ],
             [
              0.2222222222222222,
              "#7201a8"
             ],
             [
              0.3333333333333333,
              "#9c179e"
             ],
             [
              0.4444444444444444,
              "#bd3786"
             ],
             [
              0.5555555555555556,
              "#d8576b"
             ],
             [
              0.6666666666666666,
              "#ed7953"
             ],
             [
              0.7777777777777778,
              "#fb9f3a"
             ],
             [
              0.8888888888888888,
              "#fdca26"
             ],
             [
              1,
              "#f0f921"
             ]
            ],
            "type": "contour"
           }
          ],
          "contourcarpet": [
           {
            "colorbar": {
             "outlinewidth": 0,
             "ticks": ""
            },
            "type": "contourcarpet"
           }
          ],
          "heatmap": [
           {
            "colorbar": {
             "outlinewidth": 0,
             "ticks": ""
            },
            "colorscale": [
             [
              0,
              "#0d0887"
             ],
             [
              0.1111111111111111,
              "#46039f"
             ],
             [
              0.2222222222222222,
              "#7201a8"
             ],
             [
              0.3333333333333333,
              "#9c179e"
             ],
             [
              0.4444444444444444,
              "#bd3786"
             ],
             [
              0.5555555555555556,
              "#d8576b"
             ],
             [
              0.6666666666666666,
              "#ed7953"
             ],
             [
              0.7777777777777778,
              "#fb9f3a"
             ],
             [
              0.8888888888888888,
              "#fdca26"
             ],
             [
              1,
              "#f0f921"
             ]
            ],
            "type": "heatmap"
           }
          ],
          "heatmapgl": [
           {
            "colorbar": {
             "outlinewidth": 0,
             "ticks": ""
            },
            "colorscale": [
             [
              0,
              "#0d0887"
             ],
             [
              0.1111111111111111,
              "#46039f"
             ],
             [
              0.2222222222222222,
              "#7201a8"
             ],
             [
              0.3333333333333333,
              "#9c179e"
             ],
             [
              0.4444444444444444,
              "#bd3786"
             ],
             [
              0.5555555555555556,
              "#d8576b"
             ],
             [
              0.6666666666666666,
              "#ed7953"
             ],
             [
              0.7777777777777778,
              "#fb9f3a"
             ],
             [
              0.8888888888888888,
              "#fdca26"
             ],
             [
              1,
              "#f0f921"
             ]
            ],
            "type": "heatmapgl"
           }
          ],
          "histogram": [
           {
            "marker": {
             "pattern": {
              "fillmode": "overlay",
              "size": 10,
              "solidity": 0.2
             }
            },
            "type": "histogram"
           }
          ],
          "histogram2d": [
           {
            "colorbar": {
             "outlinewidth": 0,
             "ticks": ""
            },
            "colorscale": [
             [
              0,
              "#0d0887"
             ],
             [
              0.1111111111111111,
              "#46039f"
             ],
             [
              0.2222222222222222,
              "#7201a8"
             ],
             [
              0.3333333333333333,
              "#9c179e"
             ],
             [
              0.4444444444444444,
              "#bd3786"
             ],
             [
              0.5555555555555556,
              "#d8576b"
             ],
             [
              0.6666666666666666,
              "#ed7953"
             ],
             [
              0.7777777777777778,
              "#fb9f3a"
             ],
             [
              0.8888888888888888,
              "#fdca26"
             ],
             [
              1,
              "#f0f921"
             ]
            ],
            "type": "histogram2d"
           }
          ],
          "histogram2dcontour": [
           {
            "colorbar": {
             "outlinewidth": 0,
             "ticks": ""
            },
            "colorscale": [
             [
              0,
              "#0d0887"
             ],
             [
              0.1111111111111111,
              "#46039f"
             ],
             [
              0.2222222222222222,
              "#7201a8"
             ],
             [
              0.3333333333333333,
              "#9c179e"
             ],
             [
              0.4444444444444444,
              "#bd3786"
             ],
             [
              0.5555555555555556,
              "#d8576b"
             ],
             [
              0.6666666666666666,
              "#ed7953"
             ],
             [
              0.7777777777777778,
              "#fb9f3a"
             ],
             [
              0.8888888888888888,
              "#fdca26"
             ],
             [
              1,
              "#f0f921"
             ]
            ],
            "type": "histogram2dcontour"
           }
          ],
          "mesh3d": [
           {
            "colorbar": {
             "outlinewidth": 0,
             "ticks": ""
            },
            "type": "mesh3d"
           }
          ],
          "parcoords": [
           {
            "line": {
             "colorbar": {
              "outlinewidth": 0,
              "ticks": ""
             }
            },
            "type": "parcoords"
           }
          ],
          "pie": [
           {
            "automargin": true,
            "type": "pie"
           }
          ],
          "scatter": [
           {
            "fillpattern": {
             "fillmode": "overlay",
             "size": 10,
             "solidity": 0.2
            },
            "type": "scatter"
           }
          ],
          "scatter3d": [
           {
            "line": {
             "colorbar": {
              "outlinewidth": 0,
              "ticks": ""
             }
            },
            "marker": {
             "colorbar": {
              "outlinewidth": 0,
              "ticks": ""
             }
            },
            "type": "scatter3d"
           }
          ],
          "scattercarpet": [
           {
            "marker": {
             "colorbar": {
              "outlinewidth": 0,
              "ticks": ""
             }
            },
            "type": "scattercarpet"
           }
          ],
          "scattergeo": [
           {
            "marker": {
             "colorbar": {
              "outlinewidth": 0,
              "ticks": ""
             }
            },
            "type": "scattergeo"
           }
          ],
          "scattergl": [
           {
            "marker": {
             "colorbar": {
              "outlinewidth": 0,
              "ticks": ""
             }
            },
            "type": "scattergl"
           }
          ],
          "scattermapbox": [
           {
            "marker": {
             "colorbar": {
              "outlinewidth": 0,
              "ticks": ""
             }
            },
            "type": "scattermapbox"
           }
          ],
          "scatterpolar": [
           {
            "marker": {
             "colorbar": {
              "outlinewidth": 0,
              "ticks": ""
             }
            },
            "type": "scatterpolar"
           }
          ],
          "scatterpolargl": [
           {
            "marker": {
             "colorbar": {
              "outlinewidth": 0,
              "ticks": ""
             }
            },
            "type": "scatterpolargl"
           }
          ],
          "scatterternary": [
           {
            "marker": {
             "colorbar": {
              "outlinewidth": 0,
              "ticks": ""
             }
            },
            "type": "scatterternary"
           }
          ],
          "surface": [
           {
            "colorbar": {
             "outlinewidth": 0,
             "ticks": ""
            },
            "colorscale": [
             [
              0,
              "#0d0887"
             ],
             [
              0.1111111111111111,
              "#46039f"
             ],
             [
              0.2222222222222222,
              "#7201a8"
             ],
             [
              0.3333333333333333,
              "#9c179e"
             ],
             [
              0.4444444444444444,
              "#bd3786"
             ],
             [
              0.5555555555555556,
              "#d8576b"
             ],
             [
              0.6666666666666666,
              "#ed7953"
             ],
             [
              0.7777777777777778,
              "#fb9f3a"
             ],
             [
              0.8888888888888888,
              "#fdca26"
             ],
             [
              1,
              "#f0f921"
             ]
            ],
            "type": "surface"
           }
          ],
          "table": [
           {
            "cells": {
             "fill": {
              "color": "#EBF0F8"
             },
             "line": {
              "color": "white"
             }
            },
            "header": {
             "fill": {
              "color": "#C8D4E3"
             },
             "line": {
              "color": "white"
             }
            },
            "type": "table"
           }
          ]
         },
         "layout": {
          "annotationdefaults": {
           "arrowcolor": "#2a3f5f",
           "arrowhead": 0,
           "arrowwidth": 1
          },
          "autotypenumbers": "strict",
          "coloraxis": {
           "colorbar": {
            "outlinewidth": 0,
            "ticks": ""
           }
          },
          "colorscale": {
           "diverging": [
            [
             0,
             "#8e0152"
            ],
            [
             0.1,
             "#c51b7d"
            ],
            [
             0.2,
             "#de77ae"
            ],
            [
             0.3,
             "#f1b6da"
            ],
            [
             0.4,
             "#fde0ef"
            ],
            [
             0.5,
             "#f7f7f7"
            ],
            [
             0.6,
             "#e6f5d0"
            ],
            [
             0.7,
             "#b8e186"
            ],
            [
             0.8,
             "#7fbc41"
            ],
            [
             0.9,
             "#4d9221"
            ],
            [
             1,
             "#276419"
            ]
           ],
           "sequential": [
            [
             0,
             "#0d0887"
            ],
            [
             0.1111111111111111,
             "#46039f"
            ],
            [
             0.2222222222222222,
             "#7201a8"
            ],
            [
             0.3333333333333333,
             "#9c179e"
            ],
            [
             0.4444444444444444,
             "#bd3786"
            ],
            [
             0.5555555555555556,
             "#d8576b"
            ],
            [
             0.6666666666666666,
             "#ed7953"
            ],
            [
             0.7777777777777778,
             "#fb9f3a"
            ],
            [
             0.8888888888888888,
             "#fdca26"
            ],
            [
             1,
             "#f0f921"
            ]
           ],
           "sequentialminus": [
            [
             0,
             "#0d0887"
            ],
            [
             0.1111111111111111,
             "#46039f"
            ],
            [
             0.2222222222222222,
             "#7201a8"
            ],
            [
             0.3333333333333333,
             "#9c179e"
            ],
            [
             0.4444444444444444,
             "#bd3786"
            ],
            [
             0.5555555555555556,
             "#d8576b"
            ],
            [
             0.6666666666666666,
             "#ed7953"
            ],
            [
             0.7777777777777778,
             "#fb9f3a"
            ],
            [
             0.8888888888888888,
             "#fdca26"
            ],
            [
             1,
             "#f0f921"
            ]
           ]
          },
          "colorway": [
           "#636efa",
           "#EF553B",
           "#00cc96",
           "#ab63fa",
           "#FFA15A",
           "#19d3f3",
           "#FF6692",
           "#B6E880",
           "#FF97FF",
           "#FECB52"
          ],
          "font": {
           "color": "#2a3f5f"
          },
          "geo": {
           "bgcolor": "white",
           "lakecolor": "white",
           "landcolor": "#E5ECF6",
           "showlakes": true,
           "showland": true,
           "subunitcolor": "white"
          },
          "hoverlabel": {
           "align": "left"
          },
          "hovermode": "closest",
          "mapbox": {
           "style": "light"
          },
          "paper_bgcolor": "white",
          "plot_bgcolor": "#E5ECF6",
          "polar": {
           "angularaxis": {
            "gridcolor": "white",
            "linecolor": "white",
            "ticks": ""
           },
           "bgcolor": "#E5ECF6",
           "radialaxis": {
            "gridcolor": "white",
            "linecolor": "white",
            "ticks": ""
           }
          },
          "scene": {
           "xaxis": {
            "backgroundcolor": "#E5ECF6",
            "gridcolor": "white",
            "gridwidth": 2,
            "linecolor": "white",
            "showbackground": true,
            "ticks": "",
            "zerolinecolor": "white"
           },
           "yaxis": {
            "backgroundcolor": "#E5ECF6",
            "gridcolor": "white",
            "gridwidth": 2,
            "linecolor": "white",
            "showbackground": true,
            "ticks": "",
            "zerolinecolor": "white"
           },
           "zaxis": {
            "backgroundcolor": "#E5ECF6",
            "gridcolor": "white",
            "gridwidth": 2,
            "linecolor": "white",
            "showbackground": true,
            "ticks": "",
            "zerolinecolor": "white"
           }
          },
          "shapedefaults": {
           "line": {
            "color": "#2a3f5f"
           }
          },
          "ternary": {
           "aaxis": {
            "gridcolor": "white",
            "linecolor": "white",
            "ticks": ""
           },
           "baxis": {
            "gridcolor": "white",
            "linecolor": "white",
            "ticks": ""
           },
           "bgcolor": "#E5ECF6",
           "caxis": {
            "gridcolor": "white",
            "linecolor": "white",
            "ticks": ""
           }
          },
          "title": {
           "x": 0.05
          },
          "xaxis": {
           "automargin": true,
           "gridcolor": "white",
           "linecolor": "white",
           "ticks": "",
           "title": {
            "standoff": 15
           },
           "zerolinecolor": "white",
           "zerolinewidth": 2
          },
          "yaxis": {
           "automargin": true,
           "gridcolor": "white",
           "linecolor": "white",
           "ticks": "",
           "title": {
            "standoff": 15
           },
           "zerolinecolor": "white",
           "zerolinewidth": 2
          }
         }
        },
        "title": {
         "text": "Disposable Income for Homeowners in Monroe County"
        },
        "width": 1200
       }
      }
     },
     "metadata": {},
     "output_type": "display_data"
    }
   ],
   "source": [
    "import plotly.express as px\n",
    "import plotly.graph_objects as go\n",
    "\n",
    "\n",
    "px.set_mapbox_access_token('pk.eyJ1IjoicGVldmVlNDQiLCJhIjoiY2xwb2pmaTVxMG84aTJxbmpuOTFseWg5NiJ9.l5pZpLYQce5cW7iZyPPX0g')\n",
    "\n",
    "fig = px.choropleth_mapbox(\n",
    "    monroe_df,\n",
    "    geojson=monroe_df.geometry,\n",
    "    locations=monroe_df.index,\n",
    "    color='disp_ave',\n",
    "    range_color=(0, 7000),\n",
    "    color_continuous_scale=\"Viridis\",\n",
    "    opacity=0.6,\n",
    "    labels={'ri_own': 'Disposable Income'},\n",
    "    title='Disposable Income for Homeowners in Monroe County',\n",
    "    mapbox_style=\"open-street-map\",\n",
    "    center={\"lat\": latitude, \"lon\": longitude},\n",
    "    zoom=10,\n",
    ")\n",
    "\n",
    "# Add a single color marker for the 'above_30_pct' subset\n",
    "trace = go.Scattermapbox(\n",
    "    lat=[geom.centroid.y if geom.type == 'Polygon' else geom.centroid.y for geom in above_30_pct.geometry],\n",
    "    lon=[geom.centroid.x if geom.type == 'Polygon' else geom.centroid.x for geom in above_30_pct.geometry],\n",
    "    mode='markers',\n",
    "    marker=dict(size=10, color='orange'),  # Choose your desired color\n",
    "    hoverinfo='text',\n",
    "    text=above_30_pct['GEOID'],\n",
    ")\n",
    "\n",
    "fig.add_trace(trace)\n",
    "\n",
    "fig.update_layout(margin={\"r\": 5, \"t\": 35, \"l\": 5, \"b\": 5},\n",
    "                  height=800,\n",
    "                  width=1200,\n",
    ")\n",
    "\n",
    "fig.update_layout(coloraxis_colorbar=dict(\n",
    "    thicknessmode=\"pixels\", thickness=10,\n",
    "    lenmode=\"pixels\", len=150,\n",
    "    yanchor=\"top\", y=0.8,\n",
    "    ticks=\"outside\",\n",
    "    dtick=1000\n",
    "))\n",
    "\n",
    "fig.show()"
   ]
  },
  {
   "cell_type": "markdown",
   "metadata": {},
   "source": [
    "We can see that much of the city of Bloomington is, on average, living below the 30% threshold, so overall this data tends to support the argument that affordable housing is needed. Focusing on the more central areas of Bloomington with housing relief efforts would seem to be the best target to provide relief to the largest number of residents at-risk. "
   ]
  },
  {
   "cell_type": "code",
   "execution_count": 37,
   "metadata": {},
   "outputs": [
    {
     "data": {
      "text/plain": [
       "Index(['GEOID', 'owner_occupied_hu', 'renter_occupied_hu',\n",
       "       'pct_renter_occupied_hu', 'median_smoc_mortgage', 'median_gross_rent',\n",
       "       'median_hh_income', 'area_median_hh_income', 'job_density_simple',\n",
       "       'job_gravity', 'SHAPE_Length', 'SHAPE_Area', 'geometry',\n",
       "       'med_inc_month', 'ri_own', 'ri_rent', 'disp_ave', 'NAME', 'C17002_001E',\n",
       "       'C17002_002E', 'C17002_003E', 'B01003_001E', 'state', 'county', 'tract',\n",
       "       'Poverty_Rate'],\n",
       "      dtype='object')"
      ]
     },
     "execution_count": 37,
     "metadata": {},
     "output_type": "execute_result"
    }
   ],
   "source": [
    "cols = mon_merge.columns\n",
    "cols"
   ]
  },
  {
   "cell_type": "code",
   "execution_count": 38,
   "metadata": {},
   "outputs": [
    {
     "data": {
      "text/html": [
       "<div>\n",
       "<style scoped>\n",
       "    .dataframe tbody tr th:only-of-type {\n",
       "        vertical-align: middle;\n",
       "    }\n",
       "\n",
       "    .dataframe tbody tr th {\n",
       "        vertical-align: top;\n",
       "    }\n",
       "\n",
       "    .dataframe thead th {\n",
       "        text-align: right;\n",
       "    }\n",
       "</style>\n",
       "<table border=\"1\" class=\"dataframe\">\n",
       "  <thead>\n",
       "    <tr style=\"text-align: right;\">\n",
       "      <th></th>\n",
       "      <th>GEOID</th>\n",
       "      <th>owner_occupied_hu</th>\n",
       "      <th>renter_occupied_hu</th>\n",
       "      <th>pct_renter_occupied_hu</th>\n",
       "      <th>median_smoc_mortgage</th>\n",
       "      <th>median_gross_rent</th>\n",
       "      <th>median_hh_income</th>\n",
       "      <th>area_median_hh_income</th>\n",
       "      <th>job_density_simple</th>\n",
       "      <th>job_gravity</th>\n",
       "      <th>...</th>\n",
       "      <th>disp_ave</th>\n",
       "      <th>NAME</th>\n",
       "      <th>C17002_001E</th>\n",
       "      <th>C17002_002E</th>\n",
       "      <th>C17002_003E</th>\n",
       "      <th>B01003_001E</th>\n",
       "      <th>state</th>\n",
       "      <th>county</th>\n",
       "      <th>tract</th>\n",
       "      <th>Poverty_Rate</th>\n",
       "    </tr>\n",
       "  </thead>\n",
       "  <tbody>\n",
       "    <tr>\n",
       "      <th>0</th>\n",
       "      <td>18105000602</td>\n",
       "      <td>314.0</td>\n",
       "      <td>1031.0</td>\n",
       "      <td>76.654275</td>\n",
       "      <td>855.0</td>\n",
       "      <td>769.0</td>\n",
       "      <td>19388.0</td>\n",
       "      <td>43828.0</td>\n",
       "      <td>2.042272</td>\n",
       "      <td>25377.459880</td>\n",
       "      <td>...</td>\n",
       "      <td>803.67</td>\n",
       "      <td>Census Tract 6.02, Monroe County, Indiana</td>\n",
       "      <td>3334.0</td>\n",
       "      <td>681.0</td>\n",
       "      <td>453.0</td>\n",
       "      <td>3336.0</td>\n",
       "      <td>18</td>\n",
       "      <td>105</td>\n",
       "      <td>000602</td>\n",
       "      <td>33.992806</td>\n",
       "    </tr>\n",
       "    <tr>\n",
       "      <th>1</th>\n",
       "      <td>18105000100</td>\n",
       "      <td>100.0</td>\n",
       "      <td>2137.0</td>\n",
       "      <td>95.529727</td>\n",
       "      <td>2420.0</td>\n",
       "      <td>1021.0</td>\n",
       "      <td>11351.0</td>\n",
       "      <td>43828.0</td>\n",
       "      <td>68.793004</td>\n",
       "      <td>37444.922870</td>\n",
       "      <td>...</td>\n",
       "      <td>0.00</td>\n",
       "      <td>Census Tract 1, Monroe County, Indiana</td>\n",
       "      <td>3476.0</td>\n",
       "      <td>1621.0</td>\n",
       "      <td>920.0</td>\n",
       "      <td>3773.0</td>\n",
       "      <td>18</td>\n",
       "      <td>105</td>\n",
       "      <td>000100</td>\n",
       "      <td>67.346939</td>\n",
       "    </tr>\n",
       "    <tr>\n",
       "      <th>2</th>\n",
       "      <td>18105000201</td>\n",
       "      <td>0.0</td>\n",
       "      <td>165.0</td>\n",
       "      <td>100.000000</td>\n",
       "      <td>NaN</td>\n",
       "      <td>684.0</td>\n",
       "      <td>17946.0</td>\n",
       "      <td>43828.0</td>\n",
       "      <td>1.349722</td>\n",
       "      <td>24383.906770</td>\n",
       "      <td>...</td>\n",
       "      <td>811.50</td>\n",
       "      <td>Census Tract 2.01, Monroe County, Indiana</td>\n",
       "      <td>99.0</td>\n",
       "      <td>20.0</td>\n",
       "      <td>10.0</td>\n",
       "      <td>4862.0</td>\n",
       "      <td>18</td>\n",
       "      <td>105</td>\n",
       "      <td>000201</td>\n",
       "      <td>0.617030</td>\n",
       "    </tr>\n",
       "    <tr>\n",
       "      <th>3</th>\n",
       "      <td>18105000901</td>\n",
       "      <td>444.0</td>\n",
       "      <td>663.0</td>\n",
       "      <td>59.891599</td>\n",
       "      <td>1327.0</td>\n",
       "      <td>946.0</td>\n",
       "      <td>40065.0</td>\n",
       "      <td>43828.0</td>\n",
       "      <td>1.693113</td>\n",
       "      <td>19795.311140</td>\n",
       "      <td>...</td>\n",
       "      <td>2202.25</td>\n",
       "      <td>Census Tract 9.01, Monroe County, Indiana</td>\n",
       "      <td>2786.0</td>\n",
       "      <td>1036.0</td>\n",
       "      <td>305.0</td>\n",
       "      <td>2787.0</td>\n",
       "      <td>18</td>\n",
       "      <td>105</td>\n",
       "      <td>000901</td>\n",
       "      <td>48.116254</td>\n",
       "    </tr>\n",
       "    <tr>\n",
       "      <th>4</th>\n",
       "      <td>18105000502</td>\n",
       "      <td>996.0</td>\n",
       "      <td>411.0</td>\n",
       "      <td>29.211087</td>\n",
       "      <td>866.0</td>\n",
       "      <td>762.0</td>\n",
       "      <td>44323.0</td>\n",
       "      <td>43828.0</td>\n",
       "      <td>0.130767</td>\n",
       "      <td>6860.450789</td>\n",
       "      <td>...</td>\n",
       "      <td>2879.58</td>\n",
       "      <td>Census Tract 5.02, Monroe County, Indiana</td>\n",
       "      <td>3338.0</td>\n",
       "      <td>64.0</td>\n",
       "      <td>204.0</td>\n",
       "      <td>3338.0</td>\n",
       "      <td>18</td>\n",
       "      <td>105</td>\n",
       "      <td>000502</td>\n",
       "      <td>8.028760</td>\n",
       "    </tr>\n",
       "  </tbody>\n",
       "</table>\n",
       "<p>5 rows × 26 columns</p>\n",
       "</div>"
      ],
      "text/plain": [
       "         GEOID  owner_occupied_hu  renter_occupied_hu  pct_renter_occupied_hu  \\\n",
       "0  18105000602              314.0              1031.0               76.654275   \n",
       "1  18105000100              100.0              2137.0               95.529727   \n",
       "2  18105000201                0.0               165.0              100.000000   \n",
       "3  18105000901              444.0               663.0               59.891599   \n",
       "4  18105000502              996.0               411.0               29.211087   \n",
       "\n",
       "   median_smoc_mortgage  median_gross_rent  median_hh_income  \\\n",
       "0                 855.0              769.0           19388.0   \n",
       "1                2420.0             1021.0           11351.0   \n",
       "2                   NaN              684.0           17946.0   \n",
       "3                1327.0              946.0           40065.0   \n",
       "4                 866.0              762.0           44323.0   \n",
       "\n",
       "   area_median_hh_income  job_density_simple   job_gravity  ...  disp_ave  \\\n",
       "0                43828.0            2.042272  25377.459880  ...    803.67   \n",
       "1                43828.0           68.793004  37444.922870  ...      0.00   \n",
       "2                43828.0            1.349722  24383.906770  ...    811.50   \n",
       "3                43828.0            1.693113  19795.311140  ...   2202.25   \n",
       "4                43828.0            0.130767   6860.450789  ...   2879.58   \n",
       "\n",
       "                                        NAME C17002_001E  C17002_002E  \\\n",
       "0  Census Tract 6.02, Monroe County, Indiana      3334.0        681.0   \n",
       "1     Census Tract 1, Monroe County, Indiana      3476.0       1621.0   \n",
       "2  Census Tract 2.01, Monroe County, Indiana        99.0         20.0   \n",
       "3  Census Tract 9.01, Monroe County, Indiana      2786.0       1036.0   \n",
       "4  Census Tract 5.02, Monroe County, Indiana      3338.0         64.0   \n",
       "\n",
       "   C17002_003E  B01003_001E  state county   tract  Poverty_Rate  \n",
       "0        453.0       3336.0     18    105  000602     33.992806  \n",
       "1        920.0       3773.0     18    105  000100     67.346939  \n",
       "2         10.0       4862.0     18    105  000201      0.617030  \n",
       "3        305.0       2787.0     18    105  000901     48.116254  \n",
       "4        204.0       3338.0     18    105  000502      8.028760  \n",
       "\n",
       "[5 rows x 26 columns]"
      ]
     },
     "execution_count": 38,
     "metadata": {},
     "output_type": "execute_result"
    }
   ],
   "source": [
    "mon_merge.head()"
   ]
  },
  {
   "cell_type": "markdown",
   "metadata": {},
   "source": [
    "The final step of the project, we will create a data dictionary for the compiled dataset."
   ]
  },
  {
   "cell_type": "code",
   "execution_count": 41,
   "metadata": {},
   "outputs": [
    {
     "data": {
      "text/plain": [
       "{'GEOID': {'Description': 'GEOID Geographic ID for the row, is a combination of FIPS code for the state, county and census tract',\n",
       "  'DataType': dtype('O')},\n",
       " 'owner_occupied_hu': {'Description': 'owner_occupied_hu Number of owner occupied housing units in the census tract',\n",
       "  'DataType': dtype('float64')},\n",
       " 'renter_occupied_hu': {'Description': 'renter_occupied_hu Number of renter occupied housing units in the census tract',\n",
       "  'DataType': dtype('float64')},\n",
       " 'pct_renter_occupied_hu': {'Description': 'pct_renter_occupied_hu Percent of housing units that are occupied by renters',\n",
       "  'DataType': dtype('float64')},\n",
       " 'median_smoc_mortgage': {'Description': 'median_smoc_mortgage Median cost of housing for homeowners with a mortgage',\n",
       "  'DataType': dtype('float64')},\n",
       " 'median_gross_rent': {'Description': 'median_gross_rent Median cost of housing for renters',\n",
       "  'DataType': dtype('float64')},\n",
       " 'median_hh_income': {'Description': 'median_hh_income Median household income',\n",
       "  'DataType': dtype('float64')},\n",
       " 'area_median_hh_income': {'Description': 'area_median_hh_income Median household income for the area (county)',\n",
       "  'DataType': dtype('float64')},\n",
       " 'job_density_simple': {'Description': 'job_density_simple Number of jobs divided by total land area',\n",
       "  'DataType': dtype('float64')},\n",
       " 'job_gravity': {'Description': 'job_gravity Job density that also considers the distance to workplaces',\n",
       "  'DataType': dtype('float64')},\n",
       " 'SHAPE_Length': {'Description': 'SHAPE_Length Length of the shape for the tract',\n",
       "  'DataType': dtype('float64')},\n",
       " 'SHAPE_Area': {'Description': 'SHAPE_Area Area of the shape for the tract',\n",
       "  'DataType': dtype('float64')},\n",
       " 'geometry': {'Description': 'geometry Geometry for the tract',\n",
       "  'DataType': <geopandas.array.GeometryDtype at 0x1866879e320>},\n",
       " 'med_inc_month': {'Description': 'med_inc_month Median household income divided by 12',\n",
       "  'DataType': dtype('float64')},\n",
       " 'ri_own': {'Description': 'ri_own Difference between monthly median income and median cost of housing for homeowners',\n",
       "  'DataType': dtype('float64')},\n",
       " 'ri_rent': {'Description': 'ri_rent Difference between monthly median income and median cost of housing for renters',\n",
       "  'DataType': dtype('float64')},\n",
       " 'disp_ave': {'Description': 'disp_ave Average of disposable income for renters and homeowners',\n",
       "  'DataType': dtype('float64')},\n",
       " 'NAME': {'Description': 'NAME Name of the census tract',\n",
       "  'DataType': dtype('O')},\n",
       " 'C17002_001E': {'Description': 'C17002_001E NUmber of individuals whose household income is under the poverty line total',\n",
       "  'DataType': dtype('float64')},\n",
       " 'C17002_002E': {'Description': 'C17002_002E Number of individuals whose household income is Under .50 of the poverty level',\n",
       "  'DataType': dtype('float64')},\n",
       " 'C17002_003E': {'Description': 'C17002_003E Number of individuals whose household income is between .50 and .99 of the poverty level',\n",
       "  'DataType': dtype('float64')},\n",
       " 'B01003_001E': {'Description': 'B01003_001E Total population for the census tract',\n",
       "  'DataType': dtype('float64')},\n",
       " 'state': {'Description': 'state state name', 'DataType': dtype('O')},\n",
       " 'county': {'Description': 'county county name', 'DataType': dtype('O')},\n",
       " 'tract': {'Description': 'tract census tract', 'DataType': dtype('O')},\n",
       " 'Poverty_Rate': {'Description': 'Poverty_Rate Poverty rate as calculated by the total number of individuals below the poverty line divided by total population',\n",
       "  'DataType': dtype('float64')}}"
      ]
     },
     "execution_count": 41,
     "metadata": {},
     "output_type": "execute_result"
    }
   ],
   "source": [
    "#data distionary template:\n",
    "\n",
    "# Customize for data in this project\n",
    "columns = mon_merge.columns\n",
    "data_types = mon_merge.dtypes\n",
    "descriptions = columns\n",
    "description_lst = [' Geographic ID for the row, is a combination of FIPS code for the state, county and census tract',\n",
    "                   ' Number of owner occupied housing units in the census tract',\n",
    "                   ' Number of renter occupied housing units in the census tract',\n",
    "                   ' Percent of housing units that are occupied by renters',\n",
    "                   ' Median cost of housing for homeowners with a mortgage',\n",
    "                   ' Median cost of housing for renters',\n",
    "                   ' Median household income',\n",
    "                   ' Median household income for the area (county)',\n",
    "                   ' Number of jobs divided by total land area',\n",
    "                   ' Job density that also considers the distance to workplaces',\n",
    "                   ' Length of the shape for the tract',\n",
    "                   ' Area of the shape for the tract',\n",
    "                   ' Geometry for the tract',\n",
    "                   ' Median household income divided by 12',\n",
    "                   ' Difference between monthly median income and median cost of housing for homeowners',\n",
    "                   ' Difference between monthly median income and median cost of housing for renters',\n",
    "                   ' Average of disposable income for renters and homeowners',\n",
    "                   ' Name of the census tract',\n",
    "                   ' NUmber of individuals whose household income is under the poverty line total',\n",
    "                   ' Number of individuals whose household income is Under .50 of the poverty level',\n",
    "                   ' Number of individuals whose household income is between .50 and .99 of the poverty level',\n",
    "                   ' Total population for the census tract',\n",
    "                   ' state name',\n",
    "                   ' county name',\n",
    "                   ' census tract',\n",
    "                   ' Poverty rate as calculated by the total number of individuals below the poverty line divided by total population']\n",
    "\n",
    "descriptions = list(map(str.__add__, descriptions, description_lst))\n",
    "\n",
    "def generate_data_dictionary(column_names, descriptions, data_types):\n",
    "    data_dictionary = {}\n",
    "\n",
    "    for column, desc, data_type in zip(column_names, descriptions, data_types):\n",
    "        data_dictionary[column] = {\n",
    "            'Description': desc,\n",
    "            'DataType': data_type,\n",
    "\n",
    "        }\n",
    "\n",
    "    return data_dictionary\n",
    "\n",
    "data_dictionary = generate_data_dictionary(columns, descriptions, data_types)\n",
    "monroe_housing_dd = data_dictionary\n",
    "monroe_housing_dd"
   ]
  },
  {
   "cell_type": "code",
   "execution_count": null,
   "metadata": {},
   "outputs": [],
   "source": [
    "#Export data files to CSV\n",
    "\n",
    "mon_merge.to_csv(r'./monroe_affordability.csv', index = False)\n",
    "\n",
    "mc_dd_df = pd.DataFrame.from_dict(monroe_housing_dd) \n",
    "mc_dd_df.to_csv(r'./monroe_data_dict.csv', index = False)"
   ]
  }
 ],
 "metadata": {
  "kernelspec": {
   "display_name": "Python 3",
   "language": "python",
   "name": "python3"
  },
  "language_info": {
   "codemirror_mode": {
    "name": "ipython",
    "version": 3
   },
   "file_extension": ".py",
   "mimetype": "text/x-python",
   "name": "python",
   "nbconvert_exporter": "python",
   "pygments_lexer": "ipython3",
   "version": "3.10.11"
  }
 },
 "nbformat": 4,
 "nbformat_minor": 2
}
